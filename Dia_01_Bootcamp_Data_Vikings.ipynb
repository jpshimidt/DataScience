{
  "nbformat": 4,
  "nbformat_minor": 0,
  "metadata": {
    "colab": {
      "name": "Dia 01 - Bootcamp Data Vikings.ipynb",
      "provenance": [],
      "authorship_tag": "ABX9TyN5miVGzv6VDK8eVI2vOJyQ",
      "include_colab_link": true
    },
    "kernelspec": {
      "name": "python3",
      "display_name": "Python 3"
    },
    "language_info": {
      "name": "python"
    }
  },
  "cells": [
    {
      "cell_type": "markdown",
      "metadata": {
        "id": "view-in-github",
        "colab_type": "text"
      },
      "source": [
        "<a href=\"https://colab.research.google.com/github/jpshimidt/DataScience/blob/main/Dia_01_Bootcamp_Data_Vikings.ipynb\" target=\"_parent\"><img src=\"https://colab.research.google.com/assets/colab-badge.svg\" alt=\"Open In Colab\"/></a>"
      ]
    },
    {
      "cell_type": "markdown",
      "source": [
        "#Notebook do primeiro dia do Bootcamp de Dados - DATA VIKINGS"
      ],
      "metadata": {
        "id": "rpXcNPOPfODs"
      }
    },
    {
      "cell_type": "markdown",
      "source": [
        "## Exemplo do que o Python pode realizar"
      ],
      "metadata": {
        "id": "vquctPKBfb_7"
      }
    },
    {
      "cell_type": "code",
      "execution_count": 64,
      "metadata": {
        "id": "grvgknVSclxY"
      },
      "outputs": [],
      "source": [
        "#Importando pacote de trabalho\n",
        "import pandas as pd"
      ]
    },
    {
      "cell_type": "code",
      "source": [
        "# Exemplo da lib Pandas capturando dados de sites\n",
        "Tabela_Filmes = pd.read_html('https://pt.wikipedia.org/wiki/Lista_de_filmes_de_maior_bilheteria')\n",
        "Tabela_Filmes[0].head()"
      ],
      "metadata": {
        "colab": {
          "base_uri": "https://localhost:8080/",
          "height": 206
        },
        "id": "8oGjKM0Keu80",
        "outputId": "6e5a8269-2d97-4c9c-e49d-4fe3afb211b3"
      },
      "execution_count": 65,
      "outputs": [
        {
          "output_type": "execute_result",
          "data": {
            "text/html": [
              "\n",
              "  <div id=\"df-7527786d-c6b7-497a-8366-2fc762db221d\">\n",
              "    <div class=\"colab-df-container\">\n",
              "      <div>\n",
              "<style scoped>\n",
              "    .dataframe tbody tr th:only-of-type {\n",
              "        vertical-align: middle;\n",
              "    }\n",
              "\n",
              "    .dataframe tbody tr th {\n",
              "        vertical-align: top;\n",
              "    }\n",
              "\n",
              "    .dataframe thead th {\n",
              "        text-align: right;\n",
              "    }\n",
              "</style>\n",
              "<table border=\"1\" class=\"dataframe\">\n",
              "  <thead>\n",
              "    <tr style=\"text-align: right;\">\n",
              "      <th></th>\n",
              "      <th>Ranking</th>\n",
              "      <th>Ano</th>\n",
              "      <th>Filme</th>\n",
              "      <th>Distribuidor</th>\n",
              "      <th>Bilheteria (US$)</th>\n",
              "      <th>Ref.</th>\n",
              "    </tr>\n",
              "  </thead>\n",
              "  <tbody>\n",
              "    <tr>\n",
              "      <th>0</th>\n",
              "      <td>1</td>\n",
              "      <td>2009</td>\n",
              "      <td>Avatar</td>\n",
              "      <td>20th Century Fox</td>\n",
              "      <td>2 847 246 203</td>\n",
              "      <td>[1]</td>\n",
              "    </tr>\n",
              "    <tr>\n",
              "      <th>1</th>\n",
              "      <td>2</td>\n",
              "      <td>2019</td>\n",
              "      <td>Avengers: Endgame</td>\n",
              "      <td>Walt Disney Studios Motion Pictures</td>\n",
              "      <td>2 797 501 328</td>\n",
              "      <td>[2]</td>\n",
              "    </tr>\n",
              "    <tr>\n",
              "      <th>2</th>\n",
              "      <td>3</td>\n",
              "      <td>1997</td>\n",
              "      <td>Titanic</td>\n",
              "      <td>Paramount Pictures / 20th Century Fox</td>\n",
              "      <td>2 201 647 264</td>\n",
              "      <td>[3]</td>\n",
              "    </tr>\n",
              "    <tr>\n",
              "      <th>3</th>\n",
              "      <td>4</td>\n",
              "      <td>2015</td>\n",
              "      <td>Star Wars: The Force Awakens</td>\n",
              "      <td>Walt Disney Studios Motion Pictures</td>\n",
              "      <td>2 068 223 624</td>\n",
              "      <td>[4]</td>\n",
              "    </tr>\n",
              "    <tr>\n",
              "      <th>4</th>\n",
              "      <td>5</td>\n",
              "      <td>2018</td>\n",
              "      <td>Avengers: Infinity War</td>\n",
              "      <td>Walt Disney Studios Motion Pictures</td>\n",
              "      <td>2 048 359 754</td>\n",
              "      <td>[5]</td>\n",
              "    </tr>\n",
              "  </tbody>\n",
              "</table>\n",
              "</div>\n",
              "      <button class=\"colab-df-convert\" onclick=\"convertToInteractive('df-7527786d-c6b7-497a-8366-2fc762db221d')\"\n",
              "              title=\"Convert this dataframe to an interactive table.\"\n",
              "              style=\"display:none;\">\n",
              "        \n",
              "  <svg xmlns=\"http://www.w3.org/2000/svg\" height=\"24px\"viewBox=\"0 0 24 24\"\n",
              "       width=\"24px\">\n",
              "    <path d=\"M0 0h24v24H0V0z\" fill=\"none\"/>\n",
              "    <path d=\"M18.56 5.44l.94 2.06.94-2.06 2.06-.94-2.06-.94-.94-2.06-.94 2.06-2.06.94zm-11 1L8.5 8.5l.94-2.06 2.06-.94-2.06-.94L8.5 2.5l-.94 2.06-2.06.94zm10 10l.94 2.06.94-2.06 2.06-.94-2.06-.94-.94-2.06-.94 2.06-2.06.94z\"/><path d=\"M17.41 7.96l-1.37-1.37c-.4-.4-.92-.59-1.43-.59-.52 0-1.04.2-1.43.59L10.3 9.45l-7.72 7.72c-.78.78-.78 2.05 0 2.83L4 21.41c.39.39.9.59 1.41.59.51 0 1.02-.2 1.41-.59l7.78-7.78 2.81-2.81c.8-.78.8-2.07 0-2.86zM5.41 20L4 18.59l7.72-7.72 1.47 1.35L5.41 20z\"/>\n",
              "  </svg>\n",
              "      </button>\n",
              "      \n",
              "  <style>\n",
              "    .colab-df-container {\n",
              "      display:flex;\n",
              "      flex-wrap:wrap;\n",
              "      gap: 12px;\n",
              "    }\n",
              "\n",
              "    .colab-df-convert {\n",
              "      background-color: #E8F0FE;\n",
              "      border: none;\n",
              "      border-radius: 50%;\n",
              "      cursor: pointer;\n",
              "      display: none;\n",
              "      fill: #1967D2;\n",
              "      height: 32px;\n",
              "      padding: 0 0 0 0;\n",
              "      width: 32px;\n",
              "    }\n",
              "\n",
              "    .colab-df-convert:hover {\n",
              "      background-color: #E2EBFA;\n",
              "      box-shadow: 0px 1px 2px rgba(60, 64, 67, 0.3), 0px 1px 3px 1px rgba(60, 64, 67, 0.15);\n",
              "      fill: #174EA6;\n",
              "    }\n",
              "\n",
              "    [theme=dark] .colab-df-convert {\n",
              "      background-color: #3B4455;\n",
              "      fill: #D2E3FC;\n",
              "    }\n",
              "\n",
              "    [theme=dark] .colab-df-convert:hover {\n",
              "      background-color: #434B5C;\n",
              "      box-shadow: 0px 1px 3px 1px rgba(0, 0, 0, 0.15);\n",
              "      filter: drop-shadow(0px 1px 2px rgba(0, 0, 0, 0.3));\n",
              "      fill: #FFFFFF;\n",
              "    }\n",
              "  </style>\n",
              "\n",
              "      <script>\n",
              "        const buttonEl =\n",
              "          document.querySelector('#df-7527786d-c6b7-497a-8366-2fc762db221d button.colab-df-convert');\n",
              "        buttonEl.style.display =\n",
              "          google.colab.kernel.accessAllowed ? 'block' : 'none';\n",
              "\n",
              "        async function convertToInteractive(key) {\n",
              "          const element = document.querySelector('#df-7527786d-c6b7-497a-8366-2fc762db221d');\n",
              "          const dataTable =\n",
              "            await google.colab.kernel.invokeFunction('convertToInteractive',\n",
              "                                                     [key], {});\n",
              "          if (!dataTable) return;\n",
              "\n",
              "          const docLinkHtml = 'Like what you see? Visit the ' +\n",
              "            '<a target=\"_blank\" href=https://colab.research.google.com/notebooks/data_table.ipynb>data table notebook</a>'\n",
              "            + ' to learn more about interactive tables.';\n",
              "          element.innerHTML = '';\n",
              "          dataTable['output_type'] = 'display_data';\n",
              "          await google.colab.output.renderOutput(dataTable, element);\n",
              "          const docLink = document.createElement('div');\n",
              "          docLink.innerHTML = docLinkHtml;\n",
              "          element.appendChild(docLink);\n",
              "        }\n",
              "      </script>\n",
              "    </div>\n",
              "  </div>\n",
              "  "
            ],
            "text/plain": [
              "   Ranking   Ano  ... Bilheteria (US$) Ref.\n",
              "0        1  2009  ...    2 847 246 203  [1]\n",
              "1        2  2019  ...    2 797 501 328  [2]\n",
              "2        3  1997  ...    2 201 647 264  [3]\n",
              "3        4  2015  ...    2 068 223 624  [4]\n",
              "4        5  2018  ...    2 048 359 754  [5]\n",
              "\n",
              "[5 rows x 6 columns]"
            ]
          },
          "metadata": {},
          "execution_count": 65
        }
      ]
    },
    {
      "cell_type": "code",
      "source": [
        "#import pacote Request (Exemplo com API's)\n",
        "import requests\n",
        "\n",
        "#Realizando a conexão\n",
        "Conexao = requests.get('https://api.adviceslip.com/advice')\n",
        "\n",
        "#Verificando a resposta\n",
        "Conexao.json()"
      ],
      "metadata": {
        "colab": {
          "base_uri": "https://localhost:8080/"
        },
        "id": "_z_r7mNrc0ZD",
        "outputId": "e23f925a-eddc-42b7-ac9f-634a8dde7624"
      },
      "execution_count": 66,
      "outputs": [
        {
          "output_type": "execute_result",
          "data": {
            "text/plain": [
              "{'slip': {'advice': \"Try to do the things that you're incapable of.\",\n",
              "  'id': 56}}"
            ]
          },
          "metadata": {},
          "execution_count": 66
        }
      ]
    },
    {
      "cell_type": "code",
      "source": [
        "#Identificando sites\n",
        "\n",
        "# Declarando a variável site\n",
        "site = 'https://www.facebook.com/'\n",
        "\n",
        "# Realizando a conexão\n",
        "Conexao = requests.get(site)\n",
        "\n",
        "#Verificando o cookies\n",
        "Conexao.cookies"
      ],
      "metadata": {
        "colab": {
          "base_uri": "https://localhost:8080/"
        },
        "id": "sVco4qEeeA7L",
        "outputId": "ce3b1e97-59c5-486b-ac6f-9bbe4b6175de"
      },
      "execution_count": 67,
      "outputs": [
        {
          "output_type": "execute_result",
          "data": {
            "text/plain": [
              "<RequestsCookieJar[Cookie(version=0, name='fr', value='0UGC4qaBvX43sj1ye..Bh-eBl.L6.AAA.0.0.Bh-eBl.AWU2kVFR7GQ', port=None, port_specified=False, domain='.facebook.com', domain_specified=True, domain_initial_dot=True, path='/', path_specified=True, secure=True, expires=1651541860, discard=False, comment=None, comment_url=None, rest={'httponly': None}, rfc2109=False), Cookie(version=0, name='sb', value='ZeD5YcyNEy5_isDpUbFXcM-y', port=None, port_specified=False, domain='.facebook.com', domain_specified=True, domain_initial_dot=True, path='/', path_specified=True, secure=True, expires=1706837861, discard=False, comment=None, comment_url=None, rest={'httponly': None}, rfc2109=False)]>"
            ]
          },
          "metadata": {},
          "execution_count": 67
        }
      ]
    },
    {
      "cell_type": "markdown",
      "source": [
        "## Básico de Python"
      ],
      "metadata": {
        "id": "4FUdmbXIfiCm"
      }
    },
    {
      "cell_type": "markdown",
      "source": [
        "####Comando print"
      ],
      "metadata": {
        "id": "QQuamthLETH9"
      }
    },
    {
      "cell_type": "code",
      "source": [
        "print ('Olá Mundo!')"
      ],
      "metadata": {
        "colab": {
          "base_uri": "https://localhost:8080/"
        },
        "id": "HZF1puyEflJm",
        "outputId": "6046586d-5097-46ec-d27f-a06452a6feca"
      },
      "execution_count": 68,
      "outputs": [
        {
          "output_type": "stream",
          "name": "stdout",
          "text": [
            "Olá Mundo!\n"
          ]
        }
      ]
    },
    {
      "cell_type": "markdown",
      "source": [
        "####Variáveis"
      ],
      "metadata": {
        "id": "N97gA0OgEexn"
      }
    },
    {
      "cell_type": "code",
      "source": [
        "# Tipos de variaveis\n",
        "Variavel = 'Olá Mundo!'\n",
        "print( Variavel )\n",
        "\n",
        "Variavel_02 = 10\n",
        "print( Variavel_02 )\n",
        "\n",
        "Var_Inteiro = int ( 450 )\n",
        "print( Var_Inteiro )\n",
        "\n",
        "Var_Flutuante = float ( 10.50 )\n",
        "Var_Flutuante_02 = 10.50\n",
        "print( Var_Flutuante )\n",
        "print( Var_Flutuante_02 )\n",
        "\n",
        "Var_String = 'Qualquer Palavra'\n",
        "Var_String_2 = str( 'Qualquer Palavra' )\n",
        "print( Var_String )\n",
        "print( Var_String_2 )\n",
        "\n",
        "Var_Boleano = True\n",
        "Var_Boleano_02 = False\n",
        "print( Var_Boleano )\n",
        "print( Var_Boleano_02 )\n",
        "\n",
        "# Tipos de Dados\n",
        "\n",
        "# Listas\n",
        "Lista_01 = [ 1, 2, 3, 4, 5 ]\n",
        "Lista_02 = [ 'Odemir', 'Bootcamp', 'Hoje', 4, 5]\n",
        "Lista_03 = [ 1, 2, 'Odemir', True, False ]\n",
        "print( Lista_01 )\n",
        "print( Lista_02 )\n",
        "print( Lista_03 )\n",
        "\n",
        "# Tuplas - Imutavel\n",
        "Tupla_01 = ( 2, 3, 4, 5 )\n",
        "Tupla_02 = ( 'Hoje', 'Noite', 4, True )\n",
        "print( Tupla_01 )\n",
        "print( Tupla_02 )\n",
        "\n",
        "# Dicionarios\n",
        "Dicionario = {\n",
        "    'Index':'Informação',\n",
        "    'Nome':'Odemir Depieri',\n",
        "    'Nascimento': '1992',\n",
        "    'Salario': 1200,\n",
        "    'Acesso_ao_Sistema': True,\n",
        "    'Lista' : [1,2,3,4,5,6] }\n",
        "print( Dicionario )"
      ],
      "metadata": {
        "colab": {
          "base_uri": "https://localhost:8080/"
        },
        "id": "OmKJC4rPCr6h",
        "outputId": "66a1e441-ed90-4438-d694-dcd186a22b58"
      },
      "execution_count": 69,
      "outputs": [
        {
          "output_type": "stream",
          "name": "stdout",
          "text": [
            "Olá Mundo!\n",
            "10\n",
            "450\n",
            "10.5\n",
            "10.5\n",
            "Qualquer Palavra\n",
            "Qualquer Palavra\n",
            "True\n",
            "False\n",
            "[1, 2, 3, 4, 5]\n",
            "['Odemir', 'Bootcamp', 'Hoje', 4, 5]\n",
            "[1, 2, 'Odemir', True, False]\n",
            "(2, 3, 4, 5)\n",
            "('Hoje', 'Noite', 4, True)\n",
            "{'Index': 'Informação', 'Nome': 'Odemir Depieri', 'Nascimento': '1992', 'Salario': 1200, 'Acesso_ao_Sistema': True, 'Lista': [1, 2, 3, 4, 5, 6]}\n"
          ]
        }
      ]
    },
    {
      "cell_type": "code",
      "source": [
        "# Verificar Tipos de Dados\n",
        "\n",
        "A = 1\n",
        "B = 2.99\n",
        "C = 'Ola!'\n",
        "D = [1, 2, 3]\n",
        "E = ( 1, 2, 3)\n",
        "F = {'CPF': 123}\n",
        "G = False\n",
        "\n",
        "print( type(A) )\n",
        "print( type(B) )\n",
        "print( type(C) )\n",
        "print( type(D) )\n",
        "print( type(E) )\n",
        "print( type(F) )\n",
        "print( type(G) )"
      ],
      "metadata": {
        "colab": {
          "base_uri": "https://localhost:8080/"
        },
        "id": "MOCcHn7qC4y9",
        "outputId": "7046c9ce-00c7-4144-e395-8f05f5fa516f"
      },
      "execution_count": 70,
      "outputs": [
        {
          "output_type": "stream",
          "name": "stdout",
          "text": [
            "<class 'int'>\n",
            "<class 'float'>\n",
            "<class 'str'>\n",
            "<class 'list'>\n",
            "<class 'tuple'>\n",
            "<class 'dict'>\n",
            "<class 'bool'>\n"
          ]
        }
      ]
    },
    {
      "cell_type": "code",
      "source": [
        "#Nomeação de variáveis\n",
        "##Exemplo 01\n",
        "Odemir, Lucas, Marcelo = 1, 2, 3\n",
        "print(Odemir, Lucas, Marcelo)\n",
        "\n",
        "##Exemplo 02 (Não usual)\n",
        "Odemir = Lucas = Marcelo = 1\n",
        "print(Odemir, Lucas, Marcelo)\n",
        "\n",
        "## Criando uma lista\n",
        "Carros = ['VW', 'GM', 'FORD']\n",
        "\n",
        "Marca_01, Marca_02, Marca_03 = Carros\n",
        "\n",
        "print(Marca_01, Marca_02, Marca_03)\n",
        "\n",
        "#Código Clean\n",
        "Nome_Completo = 'Fulando'\n",
        "Soma_Faturamento = float (1200.10)\n",
        "\n",
        "print(Nome_Completo,Soma_Faturamento)"
      ],
      "metadata": {
        "colab": {
          "base_uri": "https://localhost:8080/"
        },
        "id": "uoqCIUWUfp9E",
        "outputId": "6cc8111c-dec3-4ab0-d238-471140a3f94e"
      },
      "execution_count": 71,
      "outputs": [
        {
          "output_type": "stream",
          "name": "stdout",
          "text": [
            "1 2 3\n",
            "1 1 1\n",
            "VW GM FORD\n",
            "Fulando 1200.1\n"
          ]
        }
      ]
    },
    {
      "cell_type": "markdown",
      "source": [
        "####Concatenação"
      ],
      "metadata": {
        "id": "BJpZ5e5xElcK"
      }
    },
    {
      "cell_type": "code",
      "source": [
        "##Exemplo 01\n",
        "Nome = 'João'\n",
        "Sobrenome = 'Pedro'\n",
        "Nome_Completo = Nome + ' ' + Sobrenome\n",
        "\n",
        "print(Nome_Completo)\n",
        "\n",
        "#Exemplo 02\n",
        "Dolar = 5.23\n",
        "Imposto = 0.01\n",
        "Valor_Conversao = Dolar + (Dolar * Imposto)\n",
        "\n",
        "print(Valor_Conversao)"
      ],
      "metadata": {
        "colab": {
          "base_uri": "https://localhost:8080/"
        },
        "id": "7qSSRp4Pk3X5",
        "outputId": "5147c143-a4ec-44fb-c001-ee00c4f1c0a3"
      },
      "execution_count": 72,
      "outputs": [
        {
          "output_type": "stream",
          "name": "stdout",
          "text": [
            "João Pedro\n",
            "5.2823\n"
          ]
        }
      ]
    },
    {
      "cell_type": "markdown",
      "source": [
        "####Comando Round (Arredondar)"
      ],
      "metadata": {
        "id": "zDPizzNSEsS8"
      }
    },
    {
      "cell_type": "code",
      "source": [
        "Valor = 12.9163512635126\n",
        "\n",
        "print( round(Valor, 4))\n",
        "print( round(Valor, 2))\n",
        "print( round(Valor, 0))\n"
      ],
      "metadata": {
        "colab": {
          "base_uri": "https://localhost:8080/"
        },
        "id": "xlyQCuR1mlG3",
        "outputId": "1dfebc40-0810-458d-c534-0802000b0c25"
      },
      "execution_count": 73,
      "outputs": [
        {
          "output_type": "stream",
          "name": "stdout",
          "text": [
            "12.9164\n",
            "12.92\n",
            "13.0\n"
          ]
        }
      ]
    },
    {
      "cell_type": "markdown",
      "source": [
        "####Listas"
      ],
      "metadata": {
        "id": "O5DGj9vWEzhq"
      }
    },
    {
      "cell_type": "code",
      "source": [
        "# Manipulação de Lista\n",
        "Lista_Vazia = []\n",
        "print( Lista_Vazia )\n",
        "print( type(Lista_Vazia) )\n",
        "\n",
        "# Append\n",
        "Lista_Vazia.append( 1 )\n",
        "Lista_Vazia.append( 'Nome' )\n",
        "Lista_Vazia.append( True )\n",
        "print( Lista_Vazia )\n",
        "\n",
        "# Comando LEN\n",
        "print( len( Lista_Vazia ) )\n",
        "\n",
        "# Acessando posições\n",
        "print( Lista_Vazia[0] )\n",
        "print( Lista_Vazia[1] )\n",
        "print( Lista_Vazia[-1] )\n",
        "print( Lista_Vazia[0:2] )\n",
        "\n",
        "# Excluir\n",
        "del Lista_Vazia[-1]\n",
        "print( Lista_Vazia )\n",
        "\n",
        "# Limpando lista\n",
        "print( Lista_Vazia.clear() )"
      ],
      "metadata": {
        "colab": {
          "base_uri": "https://localhost:8080/"
        },
        "id": "m_wqKX6-DEkH",
        "outputId": "5b35eb9f-0e36-4620-beca-72469295d007"
      },
      "execution_count": 74,
      "outputs": [
        {
          "output_type": "stream",
          "name": "stdout",
          "text": [
            "[]\n",
            "<class 'list'>\n",
            "[1, 'Nome', True]\n",
            "3\n",
            "1\n",
            "Nome\n",
            "True\n",
            "[1, 'Nome']\n",
            "[1, 'Nome']\n",
            "None\n"
          ]
        }
      ]
    },
    {
      "cell_type": "markdown",
      "source": [
        "#####Comando input"
      ],
      "metadata": {
        "id": "dGVu_e7hE3cy"
      }
    },
    {
      "cell_type": "code",
      "source": [
        "Nome = input('Qual seu nome? ')\n",
        "print('Olá ' + Nome)"
      ],
      "metadata": {
        "colab": {
          "base_uri": "https://localhost:8080/"
        },
        "id": "SqBUlmaspE1s",
        "outputId": "05b3e9b5-da42-4aee-daa0-a51e3ad97de2"
      },
      "execution_count": 75,
      "outputs": [
        {
          "output_type": "stream",
          "name": "stdout",
          "text": [
            "Qual seu nome? João\n",
            "Olá João\n"
          ]
        }
      ]
    },
    {
      "cell_type": "markdown",
      "source": [
        "####Trabalhando com datas"
      ],
      "metadata": {
        "id": "OLt3LT9ZE9e4"
      }
    },
    {
      "cell_type": "code",
      "source": [
        "#Framework Datetime para datas\n",
        "from datetime import datetime\n",
        "\n",
        "Data = '01/02/22'\n",
        "Conversao = datetime.strptime(Data, '%d/%m/%y')\n",
        "\n",
        "print(Conversao)\n",
        "print(type(Conversao))"
      ],
      "metadata": {
        "colab": {
          "base_uri": "https://localhost:8080/"
        },
        "id": "550Y3JsopeHx",
        "outputId": "5076f32e-30bc-4a95-d451-4f966e1f253e"
      },
      "execution_count": 76,
      "outputs": [
        {
          "output_type": "stream",
          "name": "stdout",
          "text": [
            "2022-02-01 00:00:00\n",
            "<class 'datetime.datetime'>\n"
          ]
        }
      ]
    },
    {
      "cell_type": "markdown",
      "source": [
        "####Exercicios de fundamentos"
      ],
      "metadata": {
        "id": "p0n1wvi_FDU6"
      }
    },
    {
      "cell_type": "code",
      "source": [
        "##Calculo de IMC\n",
        "IMC = 126 / (1.71 * 1.71)\n",
        "\n",
        "print('Meu IMC é: ', (round(IMC,2)))\n",
        "print(f'Meu IMC é: {round(IMC,2)}')"
      ],
      "metadata": {
        "colab": {
          "base_uri": "https://localhost:8080/"
        },
        "id": "nscqW9dczkMA",
        "outputId": "14b65b64-c280-4171-d019-5afc61cd1836"
      },
      "execution_count": 77,
      "outputs": [
        {
          "output_type": "stream",
          "name": "stdout",
          "text": [
            "Meu IMC é:  43.09\n",
            "Meu IMC é: 43.09\n"
          ]
        }
      ]
    },
    {
      "cell_type": "code",
      "source": [
        "##Calcular Juros Simples\n",
        "Valor_01 = float( input('Qual a Taxa de Juros(%): ') )\n",
        "Valor_02 = float( input('Qual o investimennto: ') )\n",
        "\n",
        "Ganho = Valor_02 + ( Valor_02 * ( Valor_01 / 100 ) )\n",
        "\n",
        "print('Eu investi:', Valor_02 )\n",
        "print('Eu acumulei:', Ganho )"
      ],
      "metadata": {
        "colab": {
          "base_uri": "https://localhost:8080/"
        },
        "id": "m57G4D7O0igT",
        "outputId": "bc54ffc5-2489-4127-8310-4eb5fbf16bb3"
      },
      "execution_count": 79,
      "outputs": [
        {
          "output_type": "stream",
          "name": "stdout",
          "text": [
            "Qual a Taxa de Juros(%): 5\n",
            "Qual o investimennto: 1000\n",
            "Eu investi: 1000.0\n",
            "Eu acumulei: 1050.0\n"
          ]
        }
      ]
    },
    {
      "cell_type": "code",
      "source": [
        "# Ajuste de Data\n",
        "Dia = int( input('Qual o dia de hoje: ') )\n",
        "Mes = int( input('Qual o mes de hoje: ') )\n",
        "Ano = int( input('Qual o Ano de hoje: ') )\n",
        "\n",
        "# Consolidar\n",
        "Data = str(Dia) + '/' + str(Mes) + '/' + str(Ano)\n",
        "\n",
        "Conversao = datetime.strptime( Data, '%d/%m/%y' )\n",
        "\n",
        "print(f'Data foi consolidade { Conversao }')"
      ],
      "metadata": {
        "colab": {
          "base_uri": "https://localhost:8080/"
        },
        "id": "jg-z6zTaDLxB",
        "outputId": "fd120f24-b41e-41a9-afe2-bf874db442aa"
      },
      "execution_count": 80,
      "outputs": [
        {
          "output_type": "stream",
          "name": "stdout",
          "text": [
            "Qual o dia de hoje: 1\n",
            "Qual o mes de hoje: 2\n",
            "Qual o Ano de hoje: 22\n",
            "Data foi consolidade 2022-02-01 00:00:00\n"
          ]
        }
      ]
    },
    {
      "cell_type": "code",
      "source": [
        "# Calcular o metro quadrado\n",
        "\n",
        "Altura = float( input('Qual a altura: '))\n",
        "Largura = float( input('Qual a largura: '))\n",
        "\n",
        "Quadrado = Altura * Largura\n",
        "\n",
        "print('O metro quadrado é: ', round( Quadrado,2 ), 'm²' )"
      ],
      "metadata": {
        "colab": {
          "base_uri": "https://localhost:8080/"
        },
        "id": "FO0D4ieRDU0U",
        "outputId": "d09b8142-0a37-471b-ae89-db58eddd8911"
      },
      "execution_count": 81,
      "outputs": [
        {
          "output_type": "stream",
          "name": "stdout",
          "text": [
            "Qual a altura: 4\n",
            "Qual a largura: 6\n",
            "O metro quadrado é:  24.0 m²\n"
          ]
        }
      ]
    },
    {
      "cell_type": "code",
      "source": [
        "# Verificação\n",
        "\n",
        "Idade = int( input('Qual sua idade: ') )\n",
        "Verificacao = Idade >= 18\n",
        "\n",
        "print('Verificação: ', Verificacao )"
      ],
      "metadata": {
        "colab": {
          "base_uri": "https://localhost:8080/"
        },
        "id": "GThjgFH_Dexf",
        "outputId": "aa9d6166-f340-4330-e724-f2e1a58bc79c"
      },
      "execution_count": 82,
      "outputs": [
        {
          "output_type": "stream",
          "name": "stdout",
          "text": [
            "Qual sua idade: 24\n",
            "Verificação:  True\n"
          ]
        }
      ]
    },
    {
      "cell_type": "code",
      "source": [
        "# Valor da Hipotenusa\n",
        "\n",
        "# formula = a² + b² = c²\n",
        "Cateto_Oposto = float( input('Qual o valor do cateto oposto: '))\n",
        "Cateto_Adjacente = float( input('Qual o valor do cateto Adjacente: '))\n",
        "\n",
        "Hipotenusa = ( Cateto_Oposto ** 2 + Cateto_Adjacente ** 2) ** (1/2)\n",
        "\n",
        "print('Valor da Hipotenusa é:', round(Hipotenusa,2) )"
      ],
      "metadata": {
        "colab": {
          "base_uri": "https://localhost:8080/"
        },
        "id": "xNehmfowDpNH",
        "outputId": "d2db9f79-a859-471d-b42b-81fd17f10c25"
      },
      "execution_count": 83,
      "outputs": [
        {
          "output_type": "stream",
          "name": "stdout",
          "text": [
            "Qual o valor do cateto oposto: 3\n",
            "Qual o valor do cateto Adjacente: 4\n",
            "Valor da Hipotenusa é: 5.0\n"
          ]
        }
      ]
    },
    {
      "cell_type": "code",
      "source": [
        "# Sistema de RH\n",
        "# Folha de Pagamento\n",
        "\n",
        "Salario = float( input('Qual seu salário: '))\n",
        "\n",
        "# Variaveis de desconto\n",
        "INSS = 0.11\n",
        "Vale_Ref = 0.04\n",
        "Vale_Trans = 0.06\n",
        "IR = 0.08\n",
        "\n",
        "# Organizar esses descontos\n",
        "Dicionario = {\n",
        "    'INSS' : Salario * INSS,\n",
        "    'Vale Ref' : Salario * Vale_Ref,\n",
        "    'Vale Trans' : Salario * Vale_Trans,\n",
        "    'IR' : Salario * IR\n",
        "}\n",
        "\n",
        "# Calcular o Debito\n",
        "Debito = Dicionario['INSS'] + Dicionario['Vale Ref'] + Dicionario['Vale Trans'] + Dicionario['IR']\n",
        "\n",
        "# Calculdo do Liquido\n",
        "Liquido = Salario - Debito\n",
        "\n",
        "print('Meu salario é:', Salario, '\\n' )\n",
        "print('Seguintes debitos:', Dicionario, '\\n' )\n",
        "print('Foi debitado: ', Debito, '\\n' )\n",
        "print('Fique feliz com essa quantia: ', Liquido )"
      ],
      "metadata": {
        "colab": {
          "base_uri": "https://localhost:8080/"
        },
        "id": "UuurWsHoDsq9",
        "outputId": "4418fd56-802e-48d2-eb0a-661d5a48dc69"
      },
      "execution_count": 84,
      "outputs": [
        {
          "output_type": "stream",
          "name": "stdout",
          "text": [
            "Qual seu salário: 2000\n",
            "Meu salario é: 2000.0 \n",
            "\n",
            "Seguintes debitos: {'INSS': 220.0, 'Vale Ref': 80.0, 'Vale Trans': 120.0, 'IR': 160.0} \n",
            "\n",
            "Foi debitado:  580.0 \n",
            "\n",
            "Fique feliz com essa quantia:  1420.0\n"
          ]
        }
      ]
    },
    {
      "cell_type": "code",
      "source": [
        "# Criando novos dados no dicionario\n",
        "Dicionario['Valor Debitado'] = Debito\n",
        "Dicionario['Valor Liquido'] = Liquido\n",
        "Dicionario['Salario'] = Salario\n",
        "\n",
        "Dicionario"
      ],
      "metadata": {
        "colab": {
          "base_uri": "https://localhost:8080/"
        },
        "id": "a7v0tWXhD5o8",
        "outputId": "52adaa15-5f17-4d46-c28b-db1a3d41d074"
      },
      "execution_count": 85,
      "outputs": [
        {
          "output_type": "execute_result",
          "data": {
            "text/plain": [
              "{'INSS': 220.0,\n",
              " 'IR': 160.0,\n",
              " 'Salario': 2000.0,\n",
              " 'Vale Ref': 80.0,\n",
              " 'Vale Trans': 120.0,\n",
              " 'Valor Debitado': 580.0,\n",
              " 'Valor Liquido': 1420.0}"
            ]
          },
          "metadata": {},
          "execution_count": 85
        }
      ]
    },
    {
      "cell_type": "code",
      "source": [
        "# Função para criar um Data Frame\n",
        "from pandas import DataFrame\n",
        "\n",
        "# PAssando o DF em um dicionario\n",
        "Base_Dados = DataFrame( Dicionario, index=[0] )\n",
        "\n",
        "# Verificando\n",
        "Base_Dados"
      ],
      "metadata": {
        "colab": {
          "base_uri": "https://localhost:8080/",
          "height": 81
        },
        "id": "WQSRNXghEAGB",
        "outputId": "4d33b3c4-4033-4035-dbf3-1e110ea0e485"
      },
      "execution_count": 86,
      "outputs": [
        {
          "output_type": "execute_result",
          "data": {
            "text/html": [
              "\n",
              "  <div id=\"df-5d20279b-4c0a-4554-b775-9a46bc0e34f3\">\n",
              "    <div class=\"colab-df-container\">\n",
              "      <div>\n",
              "<style scoped>\n",
              "    .dataframe tbody tr th:only-of-type {\n",
              "        vertical-align: middle;\n",
              "    }\n",
              "\n",
              "    .dataframe tbody tr th {\n",
              "        vertical-align: top;\n",
              "    }\n",
              "\n",
              "    .dataframe thead th {\n",
              "        text-align: right;\n",
              "    }\n",
              "</style>\n",
              "<table border=\"1\" class=\"dataframe\">\n",
              "  <thead>\n",
              "    <tr style=\"text-align: right;\">\n",
              "      <th></th>\n",
              "      <th>INSS</th>\n",
              "      <th>Vale Ref</th>\n",
              "      <th>Vale Trans</th>\n",
              "      <th>IR</th>\n",
              "      <th>Valor Debitado</th>\n",
              "      <th>Valor Liquido</th>\n",
              "      <th>Salario</th>\n",
              "    </tr>\n",
              "  </thead>\n",
              "  <tbody>\n",
              "    <tr>\n",
              "      <th>0</th>\n",
              "      <td>220.0</td>\n",
              "      <td>80.0</td>\n",
              "      <td>120.0</td>\n",
              "      <td>160.0</td>\n",
              "      <td>580.0</td>\n",
              "      <td>1420.0</td>\n",
              "      <td>2000.0</td>\n",
              "    </tr>\n",
              "  </tbody>\n",
              "</table>\n",
              "</div>\n",
              "      <button class=\"colab-df-convert\" onclick=\"convertToInteractive('df-5d20279b-4c0a-4554-b775-9a46bc0e34f3')\"\n",
              "              title=\"Convert this dataframe to an interactive table.\"\n",
              "              style=\"display:none;\">\n",
              "        \n",
              "  <svg xmlns=\"http://www.w3.org/2000/svg\" height=\"24px\"viewBox=\"0 0 24 24\"\n",
              "       width=\"24px\">\n",
              "    <path d=\"M0 0h24v24H0V0z\" fill=\"none\"/>\n",
              "    <path d=\"M18.56 5.44l.94 2.06.94-2.06 2.06-.94-2.06-.94-.94-2.06-.94 2.06-2.06.94zm-11 1L8.5 8.5l.94-2.06 2.06-.94-2.06-.94L8.5 2.5l-.94 2.06-2.06.94zm10 10l.94 2.06.94-2.06 2.06-.94-2.06-.94-.94-2.06-.94 2.06-2.06.94z\"/><path d=\"M17.41 7.96l-1.37-1.37c-.4-.4-.92-.59-1.43-.59-.52 0-1.04.2-1.43.59L10.3 9.45l-7.72 7.72c-.78.78-.78 2.05 0 2.83L4 21.41c.39.39.9.59 1.41.59.51 0 1.02-.2 1.41-.59l7.78-7.78 2.81-2.81c.8-.78.8-2.07 0-2.86zM5.41 20L4 18.59l7.72-7.72 1.47 1.35L5.41 20z\"/>\n",
              "  </svg>\n",
              "      </button>\n",
              "      \n",
              "  <style>\n",
              "    .colab-df-container {\n",
              "      display:flex;\n",
              "      flex-wrap:wrap;\n",
              "      gap: 12px;\n",
              "    }\n",
              "\n",
              "    .colab-df-convert {\n",
              "      background-color: #E8F0FE;\n",
              "      border: none;\n",
              "      border-radius: 50%;\n",
              "      cursor: pointer;\n",
              "      display: none;\n",
              "      fill: #1967D2;\n",
              "      height: 32px;\n",
              "      padding: 0 0 0 0;\n",
              "      width: 32px;\n",
              "    }\n",
              "\n",
              "    .colab-df-convert:hover {\n",
              "      background-color: #E2EBFA;\n",
              "      box-shadow: 0px 1px 2px rgba(60, 64, 67, 0.3), 0px 1px 3px 1px rgba(60, 64, 67, 0.15);\n",
              "      fill: #174EA6;\n",
              "    }\n",
              "\n",
              "    [theme=dark] .colab-df-convert {\n",
              "      background-color: #3B4455;\n",
              "      fill: #D2E3FC;\n",
              "    }\n",
              "\n",
              "    [theme=dark] .colab-df-convert:hover {\n",
              "      background-color: #434B5C;\n",
              "      box-shadow: 0px 1px 3px 1px rgba(0, 0, 0, 0.15);\n",
              "      filter: drop-shadow(0px 1px 2px rgba(0, 0, 0, 0.3));\n",
              "      fill: #FFFFFF;\n",
              "    }\n",
              "  </style>\n",
              "\n",
              "      <script>\n",
              "        const buttonEl =\n",
              "          document.querySelector('#df-5d20279b-4c0a-4554-b775-9a46bc0e34f3 button.colab-df-convert');\n",
              "        buttonEl.style.display =\n",
              "          google.colab.kernel.accessAllowed ? 'block' : 'none';\n",
              "\n",
              "        async function convertToInteractive(key) {\n",
              "          const element = document.querySelector('#df-5d20279b-4c0a-4554-b775-9a46bc0e34f3');\n",
              "          const dataTable =\n",
              "            await google.colab.kernel.invokeFunction('convertToInteractive',\n",
              "                                                     [key], {});\n",
              "          if (!dataTable) return;\n",
              "\n",
              "          const docLinkHtml = 'Like what you see? Visit the ' +\n",
              "            '<a target=\"_blank\" href=https://colab.research.google.com/notebooks/data_table.ipynb>data table notebook</a>'\n",
              "            + ' to learn more about interactive tables.';\n",
              "          element.innerHTML = '';\n",
              "          dataTable['output_type'] = 'display_data';\n",
              "          await google.colab.output.renderOutput(dataTable, element);\n",
              "          const docLink = document.createElement('div');\n",
              "          docLink.innerHTML = docLinkHtml;\n",
              "          element.appendChild(docLink);\n",
              "        }\n",
              "      </script>\n",
              "    </div>\n",
              "  </div>\n",
              "  "
            ],
            "text/plain": [
              "    INSS  Vale Ref  Vale Trans     IR  Valor Debitado  Valor Liquido  Salario\n",
              "0  220.0      80.0       120.0  160.0           580.0         1420.0   2000.0"
            ]
          },
          "metadata": {},
          "execution_count": 86
        }
      ]
    },
    {
      "cell_type": "code",
      "source": [
        "# Exportando resultados para excel\n",
        "Base_Dados.to_excel('Teste.xlsx')"
      ],
      "metadata": {
        "id": "kJI0zt8_EEkh"
      },
      "execution_count": 87,
      "outputs": []
    }
  ]
}