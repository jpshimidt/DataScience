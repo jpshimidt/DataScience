{
  "cells": [
    {
      "cell_type": "markdown",
      "metadata": {
        "id": "view-in-github",
        "colab_type": "text"
      },
      "source": [
        "<a href=\"https://colab.research.google.com/github/jpshimidt/DataScience/blob/main/Dia4_Bootcamp_DataVikings.ipynb\" target=\"_parent\"><img src=\"https://colab.research.google.com/assets/colab-badge.svg\" alt=\"Open In Colab\"/></a>"
      ]
    },
    {
      "cell_type": "markdown",
      "metadata": {
        "id": "8fzYATdoOpli"
      },
      "source": [
        "## Análise de Dados com Pandas"
      ]
    },
    {
      "cell_type": "markdown",
      "metadata": {
        "id": "Rw0FS0yAOplj"
      },
      "source": [
        "##### **Agenda**\n",
        "* Aspectos introdutórios\n",
        "* Estrutura de Dados no Pandas\n",
        "* Sumarizando Dados,Estatística Descritiva e Transformações\n",
        "* Renomeando colunas\n",
        "* Selecionando dados\n",
        "* Ordenação\n",
        "* Inserção de colunas\n",
        "* Filtros\n",
        "* Drop de linhas e colunas\n",
        "* Funções úteis\n",
        "* Apply, apply map e map\n",
        "* IO\n",
        "* GroupBy"
      ]
    },
    {
      "cell_type": "code",
      "execution_count": null,
      "metadata": {
        "id": "yW89ZThaOplk"
      },
      "outputs": [],
      "source": [
        "# install packages\n",
        "#!pip install pandas numpy geobr seaborn geopandas plotly"
      ]
    },
    {
      "cell_type": "code",
      "execution_count": null,
      "metadata": {
        "id": "4_aehvDuOplk"
      },
      "outputs": [],
      "source": [
        "# imports\n",
        "# data manipulation\n",
        "import pandas as pd\n",
        "import numpy as np\n",
        "import geopandas as gpd\n",
        "\n",
        "# data visualization\n",
        "import geobr\n",
        "import seaborn as sns\n",
        "import matplotlib.pyplot as plt"
      ]
    },
    {
      "cell_type": "markdown",
      "metadata": {
        "id": "XVpC1v-NOpll"
      },
      "source": [
        "### Aspectos introdutórios\n",
        "#### O que é Data Science?\n",
        "\n",
        "Para além da programação e das demais ferramentas, Ciência de Dados é um campo interdisciplinar e desta forma envolve a aplicação de outras disciplinas como Matemática e Estatística, com ênfase na análise de dados para possíveis tomadas de decisão.\n",
        "Assim, o objetivo desta trilha é demonstrar os principais conceitos estatísticos a serem utilizados em Ciência de Dados. Não pretende ser um resumo exaustivo ou definitivo, visto a complexidade destas áreas.\n",
        "\n",
        "<img src = 'https://abracd.org/wp-content/uploads/2019/04/diagrama-data-science.png'/>"
      ]
    },
    {
      "cell_type": "markdown",
      "metadata": {
        "id": "bmD2mG8ZOpll"
      },
      "source": [
        "#### Ecossitema do Python\n",
        "\n",
        "##### Eixo base\n",
        "\n",
        "1. NumPy\n",
        "\n",
        "Biblioteca de manipulação de arrays multidimensionais de alta performance, possui diversas funções matemáticas e estatísticas.\n",
        "\n",
        "2. Pandas\n",
        "\n",
        "Principal biblioteca de manipulação e análise de dados. Possui diversos métodos para agrupar, filtrar, manipular, limpar e combinar dados de forma simples.\n",
        "\n",
        "3. StatsModels\n",
        "\n",
        "Módulo com diversas funções estatísticas.\n",
        "\n",
        "4. SciPy\n",
        "\n",
        "Biblioteca para computação científica, com funções de álgebra linear, cálculo, estatística, dentre outras.\n",
        "\n",
        "##### Data Visualization\n",
        "\n",
        "1. Matplotlib\n",
        "\n",
        "2. Seaborn\n",
        "\n",
        "3. Plotly\n",
        "\n",
        "4. Altair\n",
        "\n",
        "5. Bokeh\n",
        "\n",
        "6. Pydot\n",
        "\n",
        "7. Yellowbrick\n",
        "\n",
        "##### Machine Learning e Deep Learning\n",
        "\n",
        "1. Scikit-learn\n",
        "\n",
        "2. TensorFlow\n",
        "\n",
        "3. PyTorch\n",
        "\n",
        "4. Keras\n",
        "\n",
        "\n",
        "##### Scraping\n",
        "\n",
        "1. Scrapy\n",
        "\n",
        "2. Beautiful Soup\n",
        "\n",
        "##### Processamento de Linguagem Natural\n",
        "\n",
        "1. NLTK\n",
        "\n",
        "2. SpaCy\n",
        "\n",
        "3. Gensim\n",
        "\n",
        "Há diversas outras bibliotecas e módulos dentro do ecossitema Pythônico. "
      ]
    },
    {
      "cell_type": "markdown",
      "metadata": {
        "id": "6W5QYWPEOplm"
      },
      "source": [
        "### Estrutura de Dados no Pandas\n",
        "#### Series"
      ]
    },
    {
      "cell_type": "markdown",
      "metadata": {
        "id": "5MKbA1vxOplm"
      },
      "source": [
        "O que é uma Series?\n",
        "* array unidimensional (ou podemos entender essa estrutura como sendo uma coluna do Excel);\n",
        "* ponto de partida para entender as estruras de dados do Pandas.\n",
        "\n",
        "Usamos o construtor: `pandas.Series( data, index, dtype, copy)`.\n",
        "\n",
        "\n",
        "* `data`: aceita formas variadas de inputs, como arrays NumPy (ndarray), listas, tuplas, constantes e dicionários.\n",
        "* `index`: índice do ojbeto Series, deve ter o mesmo tamanho do array data, o valor default é np.arrange(n), caso nenhum array seja passado.\n",
        "* `dtype`: informa o dtype dos dados, pode ser inferido."
      ]
    },
    {
      "cell_type": "code",
      "execution_count": null,
      "metadata": {
        "id": "HsrA10KtOplm",
        "outputId": "2281d468-b9fb-45fe-9963-8c3fa94bab02"
      },
      "outputs": [
        {
          "data": {
            "text/plain": [
              "0     7\n",
              "1     8\n",
              "2     9\n",
              "3    10\n",
              "4    11\n",
              "dtype: int64"
            ]
          },
          "execution_count": 3,
          "metadata": {},
          "output_type": "execute_result"
        }
      ],
      "source": [
        "# exemplo 1 (lista e tupla)\n",
        "series = pd.Series([7, 8, 9, 10, 11])\n",
        "series\n",
        "# ou ainda: pd.Series((7, 8, 9, 10, 11))"
      ]
    },
    {
      "cell_type": "code",
      "execution_count": null,
      "metadata": {
        "id": "DTx3TuJHOpln",
        "outputId": "82b249c0-f8a5-479f-c03a-2b779e7d80a4"
      },
      "outputs": [
        {
          "data": {
            "text/plain": [
              "pandas.core.series.Series"
            ]
          },
          "execution_count": 4,
          "metadata": {},
          "output_type": "execute_result"
        }
      ],
      "source": [
        "type(series)"
      ]
    },
    {
      "cell_type": "markdown",
      "metadata": {
        "id": "rADiPzo5Opln"
      },
      "source": [
        "Vamos aprender a acessar elementos de uma Series."
      ]
    },
    {
      "cell_type": "code",
      "execution_count": null,
      "metadata": {
        "id": "lBKH414YOplo"
      },
      "outputs": [],
      "source": [
        "np.random.seed(7)\n",
        "data = np.random.randint(low = 1, high =  100, size =  8)\n",
        "index = ['a', 'b', 'c', 'd', 'e' , 'f', 'g', 'h']\n",
        "series = pd.Series(data, index = index)"
      ]
    },
    {
      "cell_type": "code",
      "execution_count": null,
      "metadata": {
        "id": "DTdrBxvqOplo",
        "outputId": "ec1978fd-9c26-4747-b907-7e65dc6f4047"
      },
      "outputs": [
        {
          "data": {
            "text/plain": [
              "a    48\n",
              "b    69\n",
              "c    26\n",
              "d    68\n",
              "e    84\n",
              "dtype: int64"
            ]
          },
          "execution_count": 6,
          "metadata": {},
          "output_type": "execute_result"
        }
      ],
      "source": [
        "# 5 primeiros elementos \n",
        "series.head()"
      ]
    },
    {
      "cell_type": "code",
      "execution_count": null,
      "metadata": {
        "id": "ayQQAED0Oplo",
        "outputId": "13595f28-6d6b-4e10-e8b4-5137fa98ea8e"
      },
      "outputs": [
        {
          "data": {
            "text/plain": [
              "d    68\n",
              "e    84\n",
              "f    24\n",
              "g    93\n",
              "h    58\n",
              "dtype: int64"
            ]
          },
          "execution_count": 7,
          "metadata": {},
          "output_type": "execute_result"
        }
      ],
      "source": [
        "# 5 últimos elementos \n",
        "series.tail()"
      ]
    },
    {
      "cell_type": "markdown",
      "metadata": {
        "id": "p4nb0phOOplo"
      },
      "source": [
        "Agora podemos verificar alguns atributos do nosso objeto."
      ]
    },
    {
      "cell_type": "code",
      "execution_count": null,
      "metadata": {
        "id": "nDZ1XwRcOplp",
        "outputId": "f890a2e3-c5d9-426d-8d0d-c05ee671c747"
      },
      "outputs": [
        {
          "data": {
            "text/plain": [
              "(8,)"
            ]
          },
          "execution_count": 8,
          "metadata": {},
          "output_type": "execute_result"
        }
      ],
      "source": [
        "# shape\n",
        "# temos 8 linhas\n",
        "series.shape"
      ]
    },
    {
      "cell_type": "code",
      "execution_count": null,
      "metadata": {
        "id": "6lMK8ftlOplp",
        "outputId": "002c63bf-4aa8-45f6-c83d-6e447e0d9410"
      },
      "outputs": [
        {
          "data": {
            "text/plain": [
              "Index(['a', 'b', 'c', 'd', 'e', 'f', 'g', 'h'], dtype='object')"
            ]
          },
          "execution_count": 9,
          "metadata": {},
          "output_type": "execute_result"
        }
      ],
      "source": [
        "# índice\n",
        "series.index"
      ]
    },
    {
      "cell_type": "code",
      "execution_count": null,
      "metadata": {
        "id": "BT6SbVE1Oplp",
        "outputId": "1a62e967-ba23-4355-a3fd-b89a326bb06c"
      },
      "outputs": [
        {
          "data": {
            "text/plain": [
              "array([48, 69, 26, 68, 84, 24, 93, 58])"
            ]
          },
          "execution_count": 10,
          "metadata": {},
          "output_type": "execute_result"
        }
      ],
      "source": [
        "# valores: retorna um objeto ndarray\n",
        "series.values"
      ]
    },
    {
      "cell_type": "markdown",
      "metadata": {
        "id": "MSUS74wkOplq"
      },
      "source": [
        "Visualização de Dados com Series"
      ]
    },
    {
      "cell_type": "code",
      "execution_count": null,
      "metadata": {
        "id": "_87B16qxOplq"
      },
      "outputs": [],
      "source": [
        "np.random.seed(9)\n",
        "series = pd.Series(np.random.normal(80, 1.5, size = 50))"
      ]
    },
    {
      "cell_type": "code",
      "execution_count": null,
      "metadata": {
        "id": "wowjb-b2Oplq",
        "outputId": "99693ae9-0ba1-4714-dd8a-8c90d1739ad6"
      },
      "outputs": [
        {
          "data": {
            "image/png": "[encoded data removed]",
            "text/plain": [
              "<Figure size 432x288 with 1 Axes>"
            ]
          },
          "metadata": {
            "needs_background": "light"
          },
          "output_type": "display_data"
        }
      ],
      "source": [
        "# gráfico de linhas\n",
        "series.plot();"
      ]
    },
    {
      "cell_type": "code",
      "execution_count": null,
      "metadata": {
        "id": "lzaGUeeeOplq",
        "outputId": "98eea637-7eb8-4323-a71c-0c19e6c8eb03"
      },
      "outputs": [
        {
          "data": {
            "image/png": "[encoded data removed]",
            "text/plain": [
              "<Figure size 432x288 with 1 Axes>"
            ]
          },
          "metadata": {
            "needs_background": "light"
          },
          "output_type": "display_data"
        }
      ],
      "source": [
        "# histograma\n",
        "series.plot(kind = 'hist');"
      ]
    },
    {
      "cell_type": "code",
      "execution_count": null,
      "metadata": {
        "id": "4V_jyiTrOplr",
        "outputId": "e9b374e9-a554-4c25-fe93-12564b82f610"
      },
      "outputs": [
        {
          "data": {
            "image/png": "[encoded data removed]",
            "text/plain": [
              "<Figure size 432x288 with 1 Axes>"
            ]
          },
          "metadata": {
            "needs_background": "light"
          },
          "output_type": "display_data"
        }
      ],
      "source": [
        "# boxplot\n",
        "series.plot(kind = 'box');"
      ]
    },
    {
      "cell_type": "markdown",
      "metadata": {
        "id": "FqojMvhFOplr"
      },
      "source": [
        "### DataFrame"
      ]
    },
    {
      "cell_type": "markdown",
      "metadata": {
        "id": "2zXAp7drOplr"
      },
      "source": [
        "##### Criando DataFrames: Exemplo 1"
      ]
    },
    {
      "cell_type": "code",
      "execution_count": null,
      "metadata": {
        "id": "1dALwvPaOplr",
        "outputId": "d8e6043e-19e3-499d-9b2f-2f225b1a27c6"
      },
      "outputs": [
        {
          "data": {
            "text/html": [
              "<div>\n",
              "<style scoped>\n",
              "    .dataframe tbody tr th:only-of-type {\n",
              "        vertical-align: middle;\n",
              "    }\n",
              "\n",
              "    .dataframe tbody tr th {\n",
              "        vertical-align: top;\n",
              "    }\n",
              "\n",
              "    .dataframe thead th {\n",
              "        text-align: right;\n",
              "    }\n",
              "</style>\n",
              "<table border=\"1\" class=\"dataframe\">\n",
              "  <thead>\n",
              "    <tr style=\"text-align: right;\">\n",
              "      <th></th>\n",
              "      <th>Nome</th>\n",
              "      <th>Matemática</th>\n",
              "      <th>Biologia</th>\n",
              "    </tr>\n",
              "  </thead>\n",
              "  <tbody>\n",
              "    <tr>\n",
              "      <th>0</th>\n",
              "      <td>Lucas</td>\n",
              "      <td>7</td>\n",
              "      <td>10</td>\n",
              "    </tr>\n",
              "    <tr>\n",
              "      <th>1</th>\n",
              "      <td>Gabriel</td>\n",
              "      <td>9</td>\n",
              "      <td>9</td>\n",
              "    </tr>\n",
              "    <tr>\n",
              "      <th>2</th>\n",
              "      <td>Laís</td>\n",
              "      <td>10</td>\n",
              "      <td>7</td>\n",
              "    </tr>\n",
              "    <tr>\n",
              "      <th>3</th>\n",
              "      <td>Neide</td>\n",
              "      <td>8</td>\n",
              "      <td>7</td>\n",
              "    </tr>\n",
              "    <tr>\n",
              "      <th>4</th>\n",
              "      <td>Tales</td>\n",
              "      <td>5</td>\n",
              "      <td>5</td>\n",
              "    </tr>\n",
              "    <tr>\n",
              "      <th>5</th>\n",
              "      <td>Rebeca</td>\n",
              "      <td>9</td>\n",
              "      <td>6</td>\n",
              "    </tr>\n",
              "  </tbody>\n",
              "</table>\n",
              "</div>"
            ],
            "text/plain": [
              "      Nome  Matemática  Biologia\n",
              "0    Lucas           7        10\n",
              "1  Gabriel           9         9\n",
              "2     Laís          10         7\n",
              "3    Neide           8         7\n",
              "4    Tales           5         5\n",
              "5   Rebeca           9         6"
            ]
          },
          "execution_count": 15,
          "metadata": {},
          "output_type": "execute_result"
        }
      ],
      "source": [
        "nomes = ['Lucas', 'Gabriel', 'Laís', 'Neide', 'Tales', 'Rebeca']\n",
        "notas_matematica = [7, 9, 10, 8, 5, 9]\n",
        "notas_biologia = [10, 9, 7, 7, 5, 6]\n",
        "data = {\n",
        "        'Nome': nomes ,\n",
        "        'Matemática': notas_matematica,\n",
        "        'Biologia': notas_biologia\n",
        "       }\n",
        "\n",
        "df = pd.DataFrame(data)\n",
        "df"
      ]
    },
    {
      "cell_type": "markdown",
      "metadata": {
        "id": "iB4qn-lzOplr"
      },
      "source": [
        "##### Criando DataFrames: Exemplo 2"
      ]
    },
    {
      "cell_type": "code",
      "execution_count": null,
      "metadata": {
        "id": "Vt4hFkTGOpls"
      },
      "outputs": [],
      "source": [
        "np.random.seed(10)\n",
        "# quantidade de observações\n",
        "n = 100\n",
        "\n",
        "escolaridade = ['Ensino Fundamental', 'Ensino Médio', 'Ensino Superior']\n",
        "\n",
        "cidades = ['São Paulo', 'Recife', 'Salvador', 'Salvador', 'Rio de Janeiro']\n",
        "\n",
        "sexo = ['Masculino', 'Feminino']\n",
        "\n",
        "# dicionário com dados\n",
        "data = {\n",
        "    'Id': np.arange(1, n+1),\n",
        "    'Idade': np.random.randint(18, 70, size = n),\n",
        "    'Renda': np.random.randint(1_500, 10_000, size = n),\n",
        "    'Sexo': np.random.choice(sexo, size = n),\n",
        "    'Escolaridade': np.random.choice(escolaridade, size = n),\n",
        "    'Cidade': np.random.choice(cidades, size = n)\n",
        "}\n",
        "\n",
        "df = pd.DataFrame(data)"
      ]
    },
    {
      "cell_type": "markdown",
      "metadata": {
        "id": "k5hdvhQaOpls"
      },
      "source": [
        "##### Inspeção de Dados"
      ]
    },
    {
      "cell_type": "code",
      "execution_count": null,
      "metadata": {
        "id": "Fs2PHvLjOpls",
        "outputId": "407579c8-de40-4e29-8541-d4ae85d5dcd2"
      },
      "outputs": [
        {
          "data": {
            "text/html": [
              "<div>\n",
              "<style scoped>\n",
              "    .dataframe tbody tr th:only-of-type {\n",
              "        vertical-align: middle;\n",
              "    }\n",
              "\n",
              "    .dataframe tbody tr th {\n",
              "        vertical-align: top;\n",
              "    }\n",
              "\n",
              "    .dataframe thead th {\n",
              "        text-align: right;\n",
              "    }\n",
              "</style>\n",
              "<table border=\"1\" class=\"dataframe\">\n",
              "  <thead>\n",
              "    <tr style=\"text-align: right;\">\n",
              "      <th></th>\n",
              "      <th>Id</th>\n",
              "      <th>Idade</th>\n",
              "      <th>Renda</th>\n",
              "      <th>Sexo</th>\n",
              "      <th>Escolaridade</th>\n",
              "      <th>Cidade</th>\n",
              "    </tr>\n",
              "  </thead>\n",
              "  <tbody>\n",
              "    <tr>\n",
              "      <th>0</th>\n",
              "      <td>1</td>\n",
              "      <td>27</td>\n",
              "      <td>4297</td>\n",
              "      <td>Masculino</td>\n",
              "      <td>Ensino Médio</td>\n",
              "      <td>São Paulo</td>\n",
              "    </tr>\n",
              "    <tr>\n",
              "      <th>1</th>\n",
              "      <td>2</td>\n",
              "      <td>54</td>\n",
              "      <td>7957</td>\n",
              "      <td>Feminino</td>\n",
              "      <td>Ensino Superior</td>\n",
              "      <td>Recife</td>\n",
              "    </tr>\n",
              "    <tr>\n",
              "      <th>2</th>\n",
              "      <td>3</td>\n",
              "      <td>33</td>\n",
              "      <td>6343</td>\n",
              "      <td>Feminino</td>\n",
              "      <td>Ensino Fundamental</td>\n",
              "      <td>Salvador</td>\n",
              "    </tr>\n",
              "    <tr>\n",
              "      <th>3</th>\n",
              "      <td>4</td>\n",
              "      <td>18</td>\n",
              "      <td>4366</td>\n",
              "      <td>Feminino</td>\n",
              "      <td>Ensino Fundamental</td>\n",
              "      <td>Salvador</td>\n",
              "    </tr>\n",
              "    <tr>\n",
              "      <th>4</th>\n",
              "      <td>5</td>\n",
              "      <td>67</td>\n",
              "      <td>4105</td>\n",
              "      <td>Feminino</td>\n",
              "      <td>Ensino Fundamental</td>\n",
              "      <td>Recife</td>\n",
              "    </tr>\n",
              "  </tbody>\n",
              "</table>\n",
              "</div>"
            ],
            "text/plain": [
              "   Id  Idade  Renda       Sexo        Escolaridade     Cidade\n",
              "0   1     27   4297  Masculino        Ensino Médio  São Paulo\n",
              "1   2     54   7957   Feminino     Ensino Superior     Recife\n",
              "2   3     33   6343   Feminino  Ensino Fundamental   Salvador\n",
              "3   4     18   4366   Feminino  Ensino Fundamental   Salvador\n",
              "4   5     67   4105   Feminino  Ensino Fundamental     Recife"
            ]
          },
          "execution_count": 17,
          "metadata": {},
          "output_type": "execute_result"
        }
      ],
      "source": [
        "# 5 primeiras linhas\n",
        "df.head()"
      ]
    },
    {
      "cell_type": "code",
      "execution_count": null,
      "metadata": {
        "id": "hpuJucCEOpls",
        "outputId": "3801fc1b-e91d-474f-cc6c-842ed2fe9782"
      },
      "outputs": [
        {
          "data": {
            "text/html": [
              "<div>\n",
              "<style scoped>\n",
              "    .dataframe tbody tr th:only-of-type {\n",
              "        vertical-align: middle;\n",
              "    }\n",
              "\n",
              "    .dataframe tbody tr th {\n",
              "        vertical-align: top;\n",
              "    }\n",
              "\n",
              "    .dataframe thead th {\n",
              "        text-align: right;\n",
              "    }\n",
              "</style>\n",
              "<table border=\"1\" class=\"dataframe\">\n",
              "  <thead>\n",
              "    <tr style=\"text-align: right;\">\n",
              "      <th></th>\n",
              "      <th>Id</th>\n",
              "      <th>Idade</th>\n",
              "      <th>Renda</th>\n",
              "      <th>Sexo</th>\n",
              "      <th>Escolaridade</th>\n",
              "      <th>Cidade</th>\n",
              "    </tr>\n",
              "  </thead>\n",
              "  <tbody>\n",
              "    <tr>\n",
              "      <th>95</th>\n",
              "      <td>96</td>\n",
              "      <td>67</td>\n",
              "      <td>2958</td>\n",
              "      <td>Masculino</td>\n",
              "      <td>Ensino Médio</td>\n",
              "      <td>Recife</td>\n",
              "    </tr>\n",
              "    <tr>\n",
              "      <th>96</th>\n",
              "      <td>97</td>\n",
              "      <td>33</td>\n",
              "      <td>5068</td>\n",
              "      <td>Masculino</td>\n",
              "      <td>Ensino Superior</td>\n",
              "      <td>Recife</td>\n",
              "    </tr>\n",
              "    <tr>\n",
              "      <th>97</th>\n",
              "      <td>98</td>\n",
              "      <td>62</td>\n",
              "      <td>7176</td>\n",
              "      <td>Masculino</td>\n",
              "      <td>Ensino Médio</td>\n",
              "      <td>Salvador</td>\n",
              "    </tr>\n",
              "    <tr>\n",
              "      <th>98</th>\n",
              "      <td>99</td>\n",
              "      <td>58</td>\n",
              "      <td>2375</td>\n",
              "      <td>Feminino</td>\n",
              "      <td>Ensino Superior</td>\n",
              "      <td>Rio de Janeiro</td>\n",
              "    </tr>\n",
              "    <tr>\n",
              "      <th>99</th>\n",
              "      <td>100</td>\n",
              "      <td>60</td>\n",
              "      <td>4265</td>\n",
              "      <td>Masculino</td>\n",
              "      <td>Ensino Fundamental</td>\n",
              "      <td>Salvador</td>\n",
              "    </tr>\n",
              "  </tbody>\n",
              "</table>\n",
              "</div>"
            ],
            "text/plain": [
              "     Id  Idade  Renda       Sexo        Escolaridade          Cidade\n",
              "95   96     67   2958  Masculino        Ensino Médio          Recife\n",
              "96   97     33   5068  Masculino     Ensino Superior          Recife\n",
              "97   98     62   7176  Masculino        Ensino Médio        Salvador\n",
              "98   99     58   2375   Feminino     Ensino Superior  Rio de Janeiro\n",
              "99  100     60   4265  Masculino  Ensino Fundamental        Salvador"
            ]
          },
          "execution_count": 18,
          "metadata": {},
          "output_type": "execute_result"
        }
      ],
      "source": [
        "# 5 últimas linhas\n",
        "df.tail()"
      ]
    },
    {
      "cell_type": "code",
      "execution_count": null,
      "metadata": {
        "id": "nDQQzoskOpls",
        "outputId": "000058d5-cc98-4bba-c608-6de9270c1dd5"
      },
      "outputs": [
        {
          "data": {
            "text/plain": [
              "(100, 6)"
            ]
          },
          "execution_count": 19,
          "metadata": {},
          "output_type": "execute_result"
        }
      ],
      "source": [
        "# quantidade de linhas e colunas\n",
        "df.shape"
      ]
    },
    {
      "cell_type": "code",
      "execution_count": null,
      "metadata": {
        "id": "DPQU95OVOplt",
        "outputId": "dd664642-52d0-41f7-8451-090063e84b3e"
      },
      "outputs": [
        {
          "data": {
            "text/plain": [
              "100"
            ]
          },
          "execution_count": 20,
          "metadata": {},
          "output_type": "execute_result"
        }
      ],
      "source": [
        "# quantidade de linhas\n",
        "len(df)"
      ]
    },
    {
      "cell_type": "code",
      "execution_count": null,
      "metadata": {
        "id": "BQ7eLR_2Oplt",
        "outputId": "ade64b48-e759-4ff5-fbe8-60f81cb9a280"
      },
      "outputs": [
        {
          "data": {
            "text/plain": [
              "tuple"
            ]
          },
          "execution_count": 21,
          "metadata": {},
          "output_type": "execute_result"
        }
      ],
      "source": [
        "# checa o tipo do objeto\n",
        "type(df.shape)"
      ]
    },
    {
      "cell_type": "code",
      "execution_count": null,
      "metadata": {
        "id": "PeHVe6x2Oplt",
        "outputId": "432b4ab1-1a19-40f4-b7b0-3681dd9b2ca2"
      },
      "outputs": [
        {
          "data": {
            "text/plain": [
              "pandas.core.frame.DataFrame"
            ]
          },
          "execution_count": 22,
          "metadata": {},
          "output_type": "execute_result"
        }
      ],
      "source": [
        "type(df)"
      ]
    },
    {
      "cell_type": "code",
      "execution_count": null,
      "metadata": {
        "id": "_db_NR8UOplt",
        "outputId": "012a748e-c8f7-43e0-f213-dbac676f29df"
      },
      "outputs": [
        {
          "data": {
            "text/plain": [
              "600"
            ]
          },
          "execution_count": 23,
          "metadata": {},
          "output_type": "execute_result"
        }
      ],
      "source": [
        "# linha x coluna\n",
        "df.size"
      ]
    },
    {
      "cell_type": "code",
      "execution_count": null,
      "metadata": {
        "id": "nTlfxqo4Oplt",
        "outputId": "df7b8289-af3b-4192-ad59-c6cd563ce5c1"
      },
      "outputs": [
        {
          "name": "stdout",
          "output_type": "stream",
          "text": [
            "<class 'pandas.core.frame.DataFrame'>\n",
            "RangeIndex: 100 entries, 0 to 99\n",
            "Data columns (total 6 columns):\n",
            " #   Column        Non-Null Count  Dtype \n",
            "---  ------        --------------  ----- \n",
            " 0   Id            100 non-null    int64 \n",
            " 1   Idade         100 non-null    int64 \n",
            " 2   Renda         100 non-null    int64 \n",
            " 3   Sexo          100 non-null    object\n",
            " 4   Escolaridade  100 non-null    object\n",
            " 5   Cidade        100 non-null    object\n",
            "dtypes: int64(3), object(3)\n",
            "memory usage: 4.8+ KB\n"
          ]
        }
      ],
      "source": [
        "# sumário do DataFrame\n",
        "df.info()"
      ]
    },
    {
      "cell_type": "code",
      "execution_count": null,
      "metadata": {
        "id": "k02aC5ldOplu",
        "outputId": "458d1b0c-92fb-44c2-9c03-b06954940062"
      },
      "outputs": [
        {
          "data": {
            "text/plain": [
              "RangeIndex(start=0, stop=100, step=1)"
            ]
          },
          "execution_count": 25,
          "metadata": {},
          "output_type": "execute_result"
        }
      ],
      "source": [
        "# índice do DataFrame\n",
        "df.index"
      ]
    },
    {
      "cell_type": "code",
      "execution_count": null,
      "metadata": {
        "id": "tXnjHUPTOplu",
        "outputId": "4723628f-1699-4c09-9778-6efc5d3a5041"
      },
      "outputs": [
        {
          "data": {
            "text/plain": [
              "Index(['Id', 'Idade', 'Renda', 'Sexo', 'Escolaridade', 'Cidade'], dtype='object')"
            ]
          },
          "execution_count": 26,
          "metadata": {},
          "output_type": "execute_result"
        }
      ],
      "source": [
        "# colunas do DataFrame\n",
        "df.columns"
      ]
    },
    {
      "cell_type": "code",
      "execution_count": null,
      "metadata": {
        "id": "tg_SXeXvOplu",
        "outputId": "ca1c2e1b-d254-4e69-fefd-680ea94d6b12"
      },
      "outputs": [
        {
          "data": {
            "text/plain": [
              "Id               int64\n",
              "Idade            int64\n",
              "Renda            int64\n",
              "Sexo            object\n",
              "Escolaridade    object\n",
              "Cidade          object\n",
              "dtype: object"
            ]
          },
          "execution_count": 27,
          "metadata": {},
          "output_type": "execute_result"
        }
      ],
      "source": [
        "# dtype de cada coluna\n",
        "df.dtypes"
      ]
    },
    {
      "cell_type": "code",
      "execution_count": null,
      "metadata": {
        "id": "bW2bj3L3Oplu",
        "outputId": "199e3d81-310b-4a29-a2bc-6bc102fce794"
      },
      "outputs": [
        {
          "data": {
            "text/plain": [
              "2"
            ]
          },
          "execution_count": 28,
          "metadata": {},
          "output_type": "execute_result"
        }
      ],
      "source": [
        "# número de dimensões\n",
        "df.ndim"
      ]
    },
    {
      "cell_type": "code",
      "execution_count": null,
      "metadata": {
        "id": "GT1SfLuIOplu",
        "outputId": "33a59d06-b724-4394-d444-f91598e3fe1c"
      },
      "outputs": [
        {
          "data": {
            "text/plain": [
              "pandas.core.series.Series"
            ]
          },
          "execution_count": 29,
          "metadata": {},
          "output_type": "execute_result"
        }
      ],
      "source": [
        "# Series: vetor unidimensional\n",
        "type(df.Idade)"
      ]
    },
    {
      "cell_type": "code",
      "execution_count": null,
      "metadata": {
        "id": "WrzZafHNOplu",
        "outputId": "ea16a285-8a87-44d3-a1a4-980b811b96b7"
      },
      "outputs": [
        {
          "data": {
            "text/html": [
              "<div>\n",
              "<style scoped>\n",
              "    .dataframe tbody tr th:only-of-type {\n",
              "        vertical-align: middle;\n",
              "    }\n",
              "\n",
              "    .dataframe tbody tr th {\n",
              "        vertical-align: top;\n",
              "    }\n",
              "\n",
              "    .dataframe thead th {\n",
              "        text-align: right;\n",
              "    }\n",
              "</style>\n",
              "<table border=\"1\" class=\"dataframe\">\n",
              "  <thead>\n",
              "    <tr style=\"text-align: right;\">\n",
              "      <th></th>\n",
              "      <th>Id</th>\n",
              "      <th>Idade</th>\n",
              "      <th>Renda</th>\n",
              "    </tr>\n",
              "  </thead>\n",
              "  <tbody>\n",
              "    <tr>\n",
              "      <th>count</th>\n",
              "      <td>100.000000</td>\n",
              "      <td>100.000000</td>\n",
              "      <td>100.000000</td>\n",
              "    </tr>\n",
              "    <tr>\n",
              "      <th>mean</th>\n",
              "      <td>50.500000</td>\n",
              "      <td>43.140000</td>\n",
              "      <td>5885.120000</td>\n",
              "    </tr>\n",
              "    <tr>\n",
              "      <th>std</th>\n",
              "      <td>29.011492</td>\n",
              "      <td>14.227602</td>\n",
              "      <td>2328.749998</td>\n",
              "    </tr>\n",
              "    <tr>\n",
              "      <th>min</th>\n",
              "      <td>1.000000</td>\n",
              "      <td>18.000000</td>\n",
              "      <td>1912.000000</td>\n",
              "    </tr>\n",
              "    <tr>\n",
              "      <th>25%</th>\n",
              "      <td>25.750000</td>\n",
              "      <td>31.000000</td>\n",
              "      <td>3858.500000</td>\n",
              "    </tr>\n",
              "    <tr>\n",
              "      <th>50%</th>\n",
              "      <td>50.500000</td>\n",
              "      <td>42.000000</td>\n",
              "      <td>5944.500000</td>\n",
              "    </tr>\n",
              "    <tr>\n",
              "      <th>75%</th>\n",
              "      <td>75.250000</td>\n",
              "      <td>54.000000</td>\n",
              "      <td>7961.250000</td>\n",
              "    </tr>\n",
              "    <tr>\n",
              "      <th>max</th>\n",
              "      <td>100.000000</td>\n",
              "      <td>69.000000</td>\n",
              "      <td>9978.000000</td>\n",
              "    </tr>\n",
              "  </tbody>\n",
              "</table>\n",
              "</div>"
            ],
            "text/plain": [
              "               Id       Idade        Renda\n",
              "count  100.000000  100.000000   100.000000\n",
              "mean    50.500000   43.140000  5885.120000\n",
              "std     29.011492   14.227602  2328.749998\n",
              "min      1.000000   18.000000  1912.000000\n",
              "25%     25.750000   31.000000  3858.500000\n",
              "50%     50.500000   42.000000  5944.500000\n",
              "75%     75.250000   54.000000  7961.250000\n",
              "max    100.000000   69.000000  9978.000000"
            ]
          },
          "execution_count": 30,
          "metadata": {},
          "output_type": "execute_result"
        }
      ],
      "source": [
        "# sumário estatístico dos dados\n",
        "df.describe()"
      ]
    },
    {
      "cell_type": "code",
      "execution_count": null,
      "metadata": {
        "id": "QmscKUt9Oplv",
        "outputId": "634fed93-0f20-4b0c-b8f8-7f313e700970"
      },
      "outputs": [
        {
          "data": {
            "text/html": [
              "<div>\n",
              "<style scoped>\n",
              "    .dataframe tbody tr th:only-of-type {\n",
              "        vertical-align: middle;\n",
              "    }\n",
              "\n",
              "    .dataframe tbody tr th {\n",
              "        vertical-align: top;\n",
              "    }\n",
              "\n",
              "    .dataframe thead th {\n",
              "        text-align: right;\n",
              "    }\n",
              "</style>\n",
              "<table border=\"1\" class=\"dataframe\">\n",
              "  <thead>\n",
              "    <tr style=\"text-align: right;\">\n",
              "      <th></th>\n",
              "      <th>count</th>\n",
              "      <th>mean</th>\n",
              "      <th>std</th>\n",
              "      <th>min</th>\n",
              "      <th>25%</th>\n",
              "      <th>50%</th>\n",
              "      <th>75%</th>\n",
              "      <th>max</th>\n",
              "    </tr>\n",
              "  </thead>\n",
              "  <tbody>\n",
              "    <tr>\n",
              "      <th>Id</th>\n",
              "      <td>100.0</td>\n",
              "      <td>50.50</td>\n",
              "      <td>29.011492</td>\n",
              "      <td>1.0</td>\n",
              "      <td>25.75</td>\n",
              "      <td>50.5</td>\n",
              "      <td>75.25</td>\n",
              "      <td>100.0</td>\n",
              "    </tr>\n",
              "    <tr>\n",
              "      <th>Idade</th>\n",
              "      <td>100.0</td>\n",
              "      <td>43.14</td>\n",
              "      <td>14.227602</td>\n",
              "      <td>18.0</td>\n",
              "      <td>31.00</td>\n",
              "      <td>42.0</td>\n",
              "      <td>54.00</td>\n",
              "      <td>69.0</td>\n",
              "    </tr>\n",
              "    <tr>\n",
              "      <th>Renda</th>\n",
              "      <td>100.0</td>\n",
              "      <td>5885.12</td>\n",
              "      <td>2328.749998</td>\n",
              "      <td>1912.0</td>\n",
              "      <td>3858.50</td>\n",
              "      <td>5944.5</td>\n",
              "      <td>7961.25</td>\n",
              "      <td>9978.0</td>\n",
              "    </tr>\n",
              "  </tbody>\n",
              "</table>\n",
              "</div>"
            ],
            "text/plain": [
              "       count     mean          std     min      25%     50%      75%     max\n",
              "Id     100.0    50.50    29.011492     1.0    25.75    50.5    75.25   100.0\n",
              "Idade  100.0    43.14    14.227602    18.0    31.00    42.0    54.00    69.0\n",
              "Renda  100.0  5885.12  2328.749998  1912.0  3858.50  5944.5  7961.25  9978.0"
            ]
          },
          "execution_count": 31,
          "metadata": {},
          "output_type": "execute_result"
        }
      ],
      "source": [
        "# transposição do resultado do sumário estatístico\n",
        "df.describe().T"
      ]
    },
    {
      "cell_type": "code",
      "execution_count": null,
      "metadata": {
        "id": "S4u0aGjrOplv",
        "outputId": "19b3ec5b-87d0-48a9-cb66-0f4959ab24f3"
      },
      "outputs": [
        {
          "data": {
            "text/html": [
              "<div>\n",
              "<style scoped>\n",
              "    .dataframe tbody tr th:only-of-type {\n",
              "        vertical-align: middle;\n",
              "    }\n",
              "\n",
              "    .dataframe tbody tr th {\n",
              "        vertical-align: top;\n",
              "    }\n",
              "\n",
              "    .dataframe thead th {\n",
              "        text-align: right;\n",
              "    }\n",
              "</style>\n",
              "<table border=\"1\" class=\"dataframe\">\n",
              "  <thead>\n",
              "    <tr style=\"text-align: right;\">\n",
              "      <th></th>\n",
              "      <th>Id</th>\n",
              "      <th>Idade</th>\n",
              "      <th>Renda</th>\n",
              "      <th>Sexo</th>\n",
              "      <th>Escolaridade</th>\n",
              "      <th>Cidade</th>\n",
              "    </tr>\n",
              "  </thead>\n",
              "  <tbody>\n",
              "    <tr>\n",
              "      <th>count</th>\n",
              "      <td>100.000000</td>\n",
              "      <td>100.000000</td>\n",
              "      <td>100.000000</td>\n",
              "      <td>100</td>\n",
              "      <td>100</td>\n",
              "      <td>100</td>\n",
              "    </tr>\n",
              "    <tr>\n",
              "      <th>unique</th>\n",
              "      <td>NaN</td>\n",
              "      <td>NaN</td>\n",
              "      <td>NaN</td>\n",
              "      <td>2</td>\n",
              "      <td>3</td>\n",
              "      <td>4</td>\n",
              "    </tr>\n",
              "    <tr>\n",
              "      <th>top</th>\n",
              "      <td>NaN</td>\n",
              "      <td>NaN</td>\n",
              "      <td>NaN</td>\n",
              "      <td>Masculino</td>\n",
              "      <td>Ensino Médio</td>\n",
              "      <td>Salvador</td>\n",
              "    </tr>\n",
              "    <tr>\n",
              "      <th>freq</th>\n",
              "      <td>NaN</td>\n",
              "      <td>NaN</td>\n",
              "      <td>NaN</td>\n",
              "      <td>51</td>\n",
              "      <td>36</td>\n",
              "      <td>46</td>\n",
              "    </tr>\n",
              "    <tr>\n",
              "      <th>mean</th>\n",
              "      <td>50.500000</td>\n",
              "      <td>43.140000</td>\n",
              "      <td>5885.120000</td>\n",
              "      <td>NaN</td>\n",
              "      <td>NaN</td>\n",
              "      <td>NaN</td>\n",
              "    </tr>\n",
              "    <tr>\n",
              "      <th>std</th>\n",
              "      <td>29.011492</td>\n",
              "      <td>14.227602</td>\n",
              "      <td>2328.749998</td>\n",
              "      <td>NaN</td>\n",
              "      <td>NaN</td>\n",
              "      <td>NaN</td>\n",
              "    </tr>\n",
              "    <tr>\n",
              "      <th>min</th>\n",
              "      <td>1.000000</td>\n",
              "      <td>18.000000</td>\n",
              "      <td>1912.000000</td>\n",
              "      <td>NaN</td>\n",
              "      <td>NaN</td>\n",
              "      <td>NaN</td>\n",
              "    </tr>\n",
              "    <tr>\n",
              "      <th>25%</th>\n",
              "      <td>25.750000</td>\n",
              "      <td>31.000000</td>\n",
              "      <td>3858.500000</td>\n",
              "      <td>NaN</td>\n",
              "      <td>NaN</td>\n",
              "      <td>NaN</td>\n",
              "    </tr>\n",
              "    <tr>\n",
              "      <th>50%</th>\n",
              "      <td>50.500000</td>\n",
              "      <td>42.000000</td>\n",
              "      <td>5944.500000</td>\n",
              "      <td>NaN</td>\n",
              "      <td>NaN</td>\n",
              "      <td>NaN</td>\n",
              "    </tr>\n",
              "    <tr>\n",
              "      <th>75%</th>\n",
              "      <td>75.250000</td>\n",
              "      <td>54.000000</td>\n",
              "      <td>7961.250000</td>\n",
              "      <td>NaN</td>\n",
              "      <td>NaN</td>\n",
              "      <td>NaN</td>\n",
              "    </tr>\n",
              "    <tr>\n",
              "      <th>max</th>\n",
              "      <td>100.000000</td>\n",
              "      <td>69.000000</td>\n",
              "      <td>9978.000000</td>\n",
              "      <td>NaN</td>\n",
              "      <td>NaN</td>\n",
              "      <td>NaN</td>\n",
              "    </tr>\n",
              "  </tbody>\n",
              "</table>\n",
              "</div>"
            ],
            "text/plain": [
              "                Id       Idade        Renda       Sexo  Escolaridade    Cidade\n",
              "count   100.000000  100.000000   100.000000        100           100       100\n",
              "unique         NaN         NaN          NaN          2             3         4\n",
              "top            NaN         NaN          NaN  Masculino  Ensino Médio  Salvador\n",
              "freq           NaN         NaN          NaN         51            36        46\n",
              "mean     50.500000   43.140000  5885.120000        NaN           NaN       NaN\n",
              "std      29.011492   14.227602  2328.749998        NaN           NaN       NaN\n",
              "min       1.000000   18.000000  1912.000000        NaN           NaN       NaN\n",
              "25%      25.750000   31.000000  3858.500000        NaN           NaN       NaN\n",
              "50%      50.500000   42.000000  5944.500000        NaN           NaN       NaN\n",
              "75%      75.250000   54.000000  7961.250000        NaN           NaN       NaN\n",
              "max     100.000000   69.000000  9978.000000        NaN           NaN       NaN"
            ]
          },
          "execution_count": 32,
          "metadata": {},
          "output_type": "execute_result"
        }
      ],
      "source": [
        "# 'all': permite gerar um sumário descritivo para as colunas categóricas\n",
        "df.describe(include = 'all')"
      ]
    },
    {
      "cell_type": "code",
      "execution_count": null,
      "metadata": {
        "id": "3MhnfqRCOplv",
        "outputId": "faf461be-8300-4714-fe86-7eff243c7588"
      },
      "outputs": [
        {
          "data": {
            "text/plain": [
              "Id              100\n",
              "Idade           100\n",
              "Renda           100\n",
              "Sexo            100\n",
              "Escolaridade    100\n",
              "Cidade          100\n",
              "dtype: int64"
            ]
          },
          "execution_count": 33,
          "metadata": {},
          "output_type": "execute_result"
        }
      ],
      "source": [
        "# quantidade de observações não nulas por coluna\n",
        "df.count()"
      ]
    },
    {
      "cell_type": "markdown",
      "metadata": {
        "id": "oQi8fTXJOplv"
      },
      "source": [
        "### Sumarizando Dados e Estatística Descritiva"
      ]
    },
    {
      "cell_type": "code",
      "execution_count": null,
      "metadata": {
        "id": "GlUUbfGiOplv"
      },
      "outputs": [],
      "source": [
        "# cria uma máscara a partir da qual iremos gerar algumas medidas estatísticas\n",
        "df_mask = df[['Idade', 'Renda']]"
      ]
    },
    {
      "cell_type": "code",
      "execution_count": null,
      "metadata": {
        "id": "76_c1smuOplv",
        "outputId": "8b4c2207-9e96-4da8-db1f-21108ccc532c"
      },
      "outputs": [
        {
          "data": {
            "text/plain": [
              "Id              100\n",
              "Idade           100\n",
              "Renda           100\n",
              "Sexo            100\n",
              "Escolaridade    100\n",
              "Cidade          100\n",
              "dtype: int64"
            ]
          },
          "execution_count": 35,
          "metadata": {},
          "output_type": "execute_result"
        }
      ],
      "source": [
        "# quantidade de dados não nulo em cada coluna\n",
        "df.count()"
      ]
    },
    {
      "cell_type": "code",
      "execution_count": null,
      "metadata": {
        "id": "mjWTBsNoOplw",
        "outputId": "9bcda63f-9533-42ca-9bfb-90db6748302d"
      },
      "outputs": [
        {
          "data": {
            "text/plain": [
              "Idade      18\n",
              "Renda    1912\n",
              "dtype: int64"
            ]
          },
          "execution_count": 36,
          "metadata": {},
          "output_type": "execute_result"
        }
      ],
      "source": [
        "# valor mínimo em cada coluna\n",
        "df_mask.min()"
      ]
    },
    {
      "cell_type": "code",
      "execution_count": null,
      "metadata": {
        "id": "Y-jje8TPOplw",
        "outputId": "c9ba26f9-f564-4cf7-a0c6-cb4dcc70d5f2"
      },
      "outputs": [
        {
          "data": {
            "text/plain": [
              "Idade     3\n",
              "Renda    51\n",
              "dtype: int64"
            ]
          },
          "execution_count": 37,
          "metadata": {},
          "output_type": "execute_result"
        }
      ],
      "source": [
        "# índice do valor mínimo em cada coluna\n",
        "df_mask.idxmin()"
      ]
    },
    {
      "cell_type": "code",
      "execution_count": null,
      "metadata": {
        "id": "lYubBMKtOplw",
        "outputId": "e5361d19-3f01-41c2-9b15-fde6b95a88ad"
      },
      "outputs": [
        {
          "data": {
            "text/plain": [
              "3"
            ]
          },
          "execution_count": 38,
          "metadata": {},
          "output_type": "execute_result"
        }
      ],
      "source": [
        "# índice do valor mínimo na coluna Idade\n",
        "df_mask.Idade.idxmin()"
      ]
    },
    {
      "cell_type": "code",
      "execution_count": null,
      "metadata": {
        "id": "UjnCefv3Oplw",
        "outputId": "9bfe623c-7cd6-418d-cdc0-342d1d281a12"
      },
      "outputs": [
        {
          "data": {
            "text/plain": [
              "Idade      69\n",
              "Renda    9978\n",
              "dtype: int64"
            ]
          },
          "execution_count": 39,
          "metadata": {},
          "output_type": "execute_result"
        }
      ],
      "source": [
        "# valor máximo em cada coluna\n",
        "df_mask.max()"
      ]
    },
    {
      "cell_type": "code",
      "execution_count": null,
      "metadata": {
        "id": "169hgTR3Oplw",
        "outputId": "6daf8600-6166-45f9-bb3f-3e52e12a8d24"
      },
      "outputs": [
        {
          "data": {
            "text/plain": [
              "Idade    17\n",
              "Renda    20\n",
              "dtype: int64"
            ]
          },
          "execution_count": 40,
          "metadata": {},
          "output_type": "execute_result"
        }
      ],
      "source": [
        "# índice do valor máximo em cada coluna\n",
        "df_mask.idxmax()"
      ]
    },
    {
      "cell_type": "code",
      "execution_count": null,
      "metadata": {
        "id": "ow45prIiOplw",
        "outputId": "01767bc3-7e0f-4c63-9405-65348e470a13"
      },
      "outputs": [
        {
          "data": {
            "text/plain": [
              "17"
            ]
          },
          "execution_count": 41,
          "metadata": {},
          "output_type": "execute_result"
        }
      ],
      "source": [
        "# índice do valor máximo na coluna Idade\n",
        "df_mask.Idade.idxmax()"
      ]
    },
    {
      "cell_type": "code",
      "execution_count": null,
      "metadata": {
        "id": "xrkCDD2sOplx",
        "outputId": "42571a20-0919-4e7a-cf43-f8b1263d7745"
      },
      "outputs": [
        {
          "data": {
            "text/plain": [
              "Idade      43.14\n",
              "Renda    5885.12\n",
              "dtype: float64"
            ]
          },
          "execution_count": 42,
          "metadata": {},
          "output_type": "execute_result"
        }
      ],
      "source": [
        "# média dos valores em cada coluna\n",
        "df_mask.mean()"
      ]
    },
    {
      "cell_type": "code",
      "execution_count": null,
      "metadata": {
        "id": "GdH--Oi-Oplx",
        "outputId": "8b94a99e-0fa7-4808-b087-fb334ff81154"
      },
      "outputs": [
        {
          "data": {
            "text/plain": [
              "Idade    2.024246e+02\n",
              "Renda    5.423077e+06\n",
              "dtype: float64"
            ]
          },
          "execution_count": 43,
          "metadata": {},
          "output_type": "execute_result"
        }
      ],
      "source": [
        "# variância dos valores em cada coluna\n",
        "df_mask.var()"
      ]
    },
    {
      "cell_type": "code",
      "execution_count": null,
      "metadata": {
        "id": "VpMPz8i9Oplx",
        "outputId": "d171233e-d0b2-4d19-e8b7-097fff4a8584"
      },
      "outputs": [
        {
          "data": {
            "text/plain": [
              "Idade      14.227602\n",
              "Renda    2328.749998\n",
              "dtype: float64"
            ]
          },
          "execution_count": 44,
          "metadata": {},
          "output_type": "execute_result"
        }
      ],
      "source": [
        "# desvio padrão dos valores em cada coluna\n",
        "df_mask.std()"
      ]
    },
    {
      "cell_type": "code",
      "execution_count": null,
      "metadata": {
        "id": "8bPJ6U4kOplx",
        "outputId": "bfd772fe-5f6c-4994-fc53-c7f4b295bf44"
      },
      "outputs": [
        {
          "data": {
            "text/plain": [
              "Idade      11.9340\n",
              "Renda    1979.6328\n",
              "dtype: float64"
            ]
          },
          "execution_count": 45,
          "metadata": {},
          "output_type": "execute_result"
        }
      ],
      "source": [
        "# desvio médio absoluto dos valores em cada coluna\n",
        "df_mask.mad()"
      ]
    },
    {
      "cell_type": "code",
      "execution_count": null,
      "metadata": {
        "id": "47z9EoB6Oplx",
        "outputId": "0d492c76-7859-4d0c-bd67-e94b7e50fb0f"
      },
      "outputs": [
        {
          "data": {
            "text/plain": [
              "Idade      42.0\n",
              "Renda    5944.5\n",
              "dtype: float64"
            ]
          },
          "execution_count": 46,
          "metadata": {},
          "output_type": "execute_result"
        }
      ],
      "source": [
        "# median dos valores em cada coluna\n",
        "df_mask.median()"
      ]
    },
    {
      "cell_type": "code",
      "execution_count": null,
      "metadata": {
        "id": "7affymUaOplx",
        "outputId": "95c576b8-a6b5-47d4-bde0-572c3ab105f7"
      },
      "outputs": [
        {
          "data": {
            "text/plain": [
              "0    Salvador\n",
              "dtype: object"
            ]
          },
          "execution_count": 47,
          "metadata": {},
          "output_type": "execute_result"
        }
      ],
      "source": [
        "# moda dos valores em cada coluna\n",
        "df.Cidade.mode()"
      ]
    },
    {
      "cell_type": "code",
      "execution_count": null,
      "metadata": {
        "id": "2Egrw2mAOply",
        "outputId": "1ede0a52-e877-4d72-e834-e8f498fc1fdb"
      },
      "outputs": [
        {
          "data": {
            "text/plain": [
              "588512"
            ]
          },
          "execution_count": 48,
          "metadata": {},
          "output_type": "execute_result"
        }
      ],
      "source": [
        "# soma da renda de todos os clientes\n",
        "df.Renda.sum()"
      ]
    },
    {
      "cell_type": "code",
      "execution_count": null,
      "metadata": {
        "id": "2eUcdm1ROply",
        "outputId": "9da367f2-ba80-4ef2-a9ae-aeaf7e0a4574"
      },
      "outputs": [
        {
          "data": {
            "text/plain": [
              "0       4297\n",
              "1      12254\n",
              "2      18597\n",
              "3      22963\n",
              "4      27068\n",
              "       ...  \n",
              "95    569628\n",
              "96    574696\n",
              "97    581872\n",
              "98    584247\n",
              "99    588512\n",
              "Name: Renda, Length: 100, dtype: int64"
            ]
          },
          "execution_count": 49,
          "metadata": {},
          "output_type": "execute_result"
        }
      ],
      "source": [
        "# soma cumulativa da renda\n",
        "df.Renda.cumsum()"
      ]
    },
    {
      "cell_type": "code",
      "execution_count": null,
      "metadata": {
        "id": "Dbj59HlKOply",
        "outputId": "ca683216-5e40-41a0-a1bf-e39fbaa08e1b"
      },
      "outputs": [
        {
          "data": {
            "text/plain": [
              "0.25    3858.50\n",
              "0.75    7961.25\n",
              "Name: Renda, dtype: float64"
            ]
          },
          "execution_count": 50,
          "metadata": {},
          "output_type": "execute_result"
        }
      ],
      "source": [
        "# quartis de renda (Q1 e Q3)\n",
        "df.Renda.quantile([0.25, 0.75])"
      ]
    },
    {
      "cell_type": "code",
      "execution_count": null,
      "metadata": {
        "id": "IA3HEuhdOply",
        "outputId": "dfdafb5d-1d4d-4104-e0ce-e1d0a2ad55a9"
      },
      "outputs": [
        {
          "data": {
            "text/html": [
              "<div>\n",
              "<style scoped>\n",
              "    .dataframe tbody tr th:only-of-type {\n",
              "        vertical-align: middle;\n",
              "    }\n",
              "\n",
              "    .dataframe tbody tr th {\n",
              "        vertical-align: top;\n",
              "    }\n",
              "\n",
              "    .dataframe thead th {\n",
              "        text-align: right;\n",
              "    }\n",
              "</style>\n",
              "<table border=\"1\" class=\"dataframe\">\n",
              "  <thead>\n",
              "    <tr style=\"text-align: right;\">\n",
              "      <th></th>\n",
              "      <th>Idade</th>\n",
              "      <th>Renda</th>\n",
              "    </tr>\n",
              "  </thead>\n",
              "  <tbody>\n",
              "    <tr>\n",
              "      <th>Idade</th>\n",
              "      <td>202.424646</td>\n",
              "      <td>-7.693806e+02</td>\n",
              "    </tr>\n",
              "    <tr>\n",
              "      <th>Renda</th>\n",
              "      <td>-769.380606</td>\n",
              "      <td>5.423077e+06</td>\n",
              "    </tr>\n",
              "  </tbody>\n",
              "</table>\n",
              "</div>"
            ],
            "text/plain": [
              "            Idade         Renda\n",
              "Idade  202.424646 -7.693806e+02\n",
              "Renda -769.380606  5.423077e+06"
            ]
          },
          "execution_count": 51,
          "metadata": {},
          "output_type": "execute_result"
        }
      ],
      "source": [
        "# covariância: associação entre variáveis quantitativas\n",
        "df_mask.cov()"
      ]
    },
    {
      "cell_type": "code",
      "execution_count": null,
      "metadata": {
        "id": "tfgialutOply",
        "outputId": "40b14d0a-93f8-4a4b-b6da-919393d88c46"
      },
      "outputs": [
        {
          "data": {
            "text/html": [
              "<div>\n",
              "<style scoped>\n",
              "    .dataframe tbody tr th:only-of-type {\n",
              "        vertical-align: middle;\n",
              "    }\n",
              "\n",
              "    .dataframe tbody tr th {\n",
              "        vertical-align: top;\n",
              "    }\n",
              "\n",
              "    .dataframe thead th {\n",
              "        text-align: right;\n",
              "    }\n",
              "</style>\n",
              "<table border=\"1\" class=\"dataframe\">\n",
              "  <thead>\n",
              "    <tr style=\"text-align: right;\">\n",
              "      <th></th>\n",
              "      <th>Idade</th>\n",
              "      <th>Renda</th>\n",
              "    </tr>\n",
              "  </thead>\n",
              "  <tbody>\n",
              "    <tr>\n",
              "      <th>Idade</th>\n",
              "      <td>1.000000</td>\n",
              "      <td>-0.023221</td>\n",
              "    </tr>\n",
              "    <tr>\n",
              "      <th>Renda</th>\n",
              "      <td>-0.023221</td>\n",
              "      <td>1.000000</td>\n",
              "    </tr>\n",
              "  </tbody>\n",
              "</table>\n",
              "</div>"
            ],
            "text/plain": [
              "          Idade     Renda\n",
              "Idade  1.000000 -0.023221\n",
              "Renda -0.023221  1.000000"
            ]
          },
          "execution_count": 52,
          "metadata": {},
          "output_type": "execute_result"
        }
      ],
      "source": [
        "# correlação: associação entre variáveis quantitativas\n",
        "# varia de -1 a 1\n",
        "# valores próximos de 1: correlação alta positiva\n",
        "# valores próximos de -1: correlação alta negativa\n",
        "# valores próximos de 0: ausência de correlação\n",
        "df_mask.corr()"
      ]
    },
    {
      "cell_type": "code",
      "execution_count": null,
      "metadata": {
        "id": "8bTe0Rv8Oply"
      },
      "outputs": [],
      "source": [
        "# url \n",
        "link = \"https://datascience.quantecon.org/assets/data/state_unemployment.csv\"\n",
        "# leitura do dado\n",
        "desemprego_data = pd.read_csv(link)"
      ]
    },
    {
      "cell_type": "code",
      "execution_count": null,
      "metadata": {
        "id": "6_REA5FJOplz"
      },
      "outputs": [],
      "source": [
        "# veremos melhor a função pivot_table mais adiante\n",
        "desemprego_total = desemprego_data.pivot_table(\n",
        "    index = 'Date',\n",
        "    columns = 'state',\n",
        "    values = 'UnemploymentRate'\n",
        ")"
      ]
    },
    {
      "cell_type": "code",
      "execution_count": null,
      "metadata": {
        "id": "l3DBBGruOplz",
        "outputId": "378b1383-af05-4558-a1a9-0d8836a0ff58"
      },
      "outputs": [
        {
          "data": {
            "text/html": [
              "<div>\n",
              "<style scoped>\n",
              "    .dataframe tbody tr th:only-of-type {\n",
              "        vertical-align: middle;\n",
              "    }\n",
              "\n",
              "    .dataframe tbody tr th {\n",
              "        vertical-align: top;\n",
              "    }\n",
              "\n",
              "    .dataframe thead th {\n",
              "        text-align: right;\n",
              "    }\n",
              "</style>\n",
              "<table border=\"1\" class=\"dataframe\">\n",
              "  <thead>\n",
              "    <tr style=\"text-align: right;\">\n",
              "      <th>state</th>\n",
              "      <th>Alabama</th>\n",
              "      <th>Alaska</th>\n",
              "      <th>Arizona</th>\n",
              "      <th>Arkansas</th>\n",
              "      <th>California</th>\n",
              "      <th>Colorado</th>\n",
              "      <th>Connecticut</th>\n",
              "      <th>Delaware</th>\n",
              "      <th>Florida</th>\n",
              "      <th>Georgia</th>\n",
              "      <th>...</th>\n",
              "      <th>South Dakota</th>\n",
              "      <th>Tennessee</th>\n",
              "      <th>Texas</th>\n",
              "      <th>Utah</th>\n",
              "      <th>Vermont</th>\n",
              "      <th>Virginia</th>\n",
              "      <th>Washington</th>\n",
              "      <th>West Virginia</th>\n",
              "      <th>Wisconsin</th>\n",
              "      <th>Wyoming</th>\n",
              "    </tr>\n",
              "    <tr>\n",
              "      <th>Date</th>\n",
              "      <th></th>\n",
              "      <th></th>\n",
              "      <th></th>\n",
              "      <th></th>\n",
              "      <th></th>\n",
              "      <th></th>\n",
              "      <th></th>\n",
              "      <th></th>\n",
              "      <th></th>\n",
              "      <th></th>\n",
              "      <th></th>\n",
              "      <th></th>\n",
              "      <th></th>\n",
              "      <th></th>\n",
              "      <th></th>\n",
              "      <th></th>\n",
              "      <th></th>\n",
              "      <th></th>\n",
              "      <th></th>\n",
              "      <th></th>\n",
              "      <th></th>\n",
              "    </tr>\n",
              "  </thead>\n",
              "  <tbody>\n",
              "    <tr>\n",
              "      <th>2000-01-01</th>\n",
              "      <td>4.7</td>\n",
              "      <td>6.3</td>\n",
              "      <td>4.1</td>\n",
              "      <td>4.4</td>\n",
              "      <td>5.0</td>\n",
              "      <td>2.8</td>\n",
              "      <td>2.8</td>\n",
              "      <td>3.5</td>\n",
              "      <td>3.7</td>\n",
              "      <td>3.7</td>\n",
              "      <td>...</td>\n",
              "      <td>2.4</td>\n",
              "      <td>3.7</td>\n",
              "      <td>4.6</td>\n",
              "      <td>3.1</td>\n",
              "      <td>2.7</td>\n",
              "      <td>2.6</td>\n",
              "      <td>4.9</td>\n",
              "      <td>5.8</td>\n",
              "      <td>3.2</td>\n",
              "      <td>4.1</td>\n",
              "    </tr>\n",
              "    <tr>\n",
              "      <th>2000-02-01</th>\n",
              "      <td>4.7</td>\n",
              "      <td>6.3</td>\n",
              "      <td>4.1</td>\n",
              "      <td>4.3</td>\n",
              "      <td>5.0</td>\n",
              "      <td>2.8</td>\n",
              "      <td>2.7</td>\n",
              "      <td>3.6</td>\n",
              "      <td>3.7</td>\n",
              "      <td>3.6</td>\n",
              "      <td>...</td>\n",
              "      <td>2.4</td>\n",
              "      <td>3.7</td>\n",
              "      <td>4.6</td>\n",
              "      <td>3.1</td>\n",
              "      <td>2.6</td>\n",
              "      <td>2.5</td>\n",
              "      <td>4.9</td>\n",
              "      <td>5.6</td>\n",
              "      <td>3.2</td>\n",
              "      <td>3.9</td>\n",
              "    </tr>\n",
              "    <tr>\n",
              "      <th>2000-03-01</th>\n",
              "      <td>4.6</td>\n",
              "      <td>6.3</td>\n",
              "      <td>4.0</td>\n",
              "      <td>4.3</td>\n",
              "      <td>5.0</td>\n",
              "      <td>2.7</td>\n",
              "      <td>2.6</td>\n",
              "      <td>3.6</td>\n",
              "      <td>3.7</td>\n",
              "      <td>3.6</td>\n",
              "      <td>...</td>\n",
              "      <td>2.4</td>\n",
              "      <td>3.8</td>\n",
              "      <td>4.5</td>\n",
              "      <td>3.1</td>\n",
              "      <td>2.6</td>\n",
              "      <td>2.4</td>\n",
              "      <td>5.0</td>\n",
              "      <td>5.5</td>\n",
              "      <td>3.3</td>\n",
              "      <td>3.9</td>\n",
              "    </tr>\n",
              "    <tr>\n",
              "      <th>2000-04-01</th>\n",
              "      <td>4.6</td>\n",
              "      <td>6.3</td>\n",
              "      <td>4.0</td>\n",
              "      <td>4.3</td>\n",
              "      <td>5.1</td>\n",
              "      <td>2.7</td>\n",
              "      <td>2.5</td>\n",
              "      <td>3.7</td>\n",
              "      <td>3.7</td>\n",
              "      <td>3.7</td>\n",
              "      <td>...</td>\n",
              "      <td>2.4</td>\n",
              "      <td>3.8</td>\n",
              "      <td>4.4</td>\n",
              "      <td>3.1</td>\n",
              "      <td>2.7</td>\n",
              "      <td>2.4</td>\n",
              "      <td>5.0</td>\n",
              "      <td>5.4</td>\n",
              "      <td>3.4</td>\n",
              "      <td>3.8</td>\n",
              "    </tr>\n",
              "    <tr>\n",
              "      <th>2000-05-01</th>\n",
              "      <td>4.5</td>\n",
              "      <td>6.3</td>\n",
              "      <td>4.0</td>\n",
              "      <td>4.2</td>\n",
              "      <td>5.1</td>\n",
              "      <td>2.7</td>\n",
              "      <td>2.4</td>\n",
              "      <td>3.7</td>\n",
              "      <td>3.7</td>\n",
              "      <td>3.7</td>\n",
              "      <td>...</td>\n",
              "      <td>2.4</td>\n",
              "      <td>3.9</td>\n",
              "      <td>4.3</td>\n",
              "      <td>3.2</td>\n",
              "      <td>2.7</td>\n",
              "      <td>2.3</td>\n",
              "      <td>5.1</td>\n",
              "      <td>5.4</td>\n",
              "      <td>3.5</td>\n",
              "      <td>3.8</td>\n",
              "    </tr>\n",
              "  </tbody>\n",
              "</table>\n",
              "<p>5 rows × 50 columns</p>\n",
              "</div>"
            ],
            "text/plain": [
              "state       Alabama  Alaska  Arizona  Arkansas  California  Colorado  \\\n",
              "Date                                                                   \n",
              "2000-01-01      4.7     6.3      4.1       4.4         5.0       2.8   \n",
              "2000-02-01      4.7     6.3      4.1       4.3         5.0       2.8   \n",
              "2000-03-01      4.6     6.3      4.0       4.3         5.0       2.7   \n",
              "2000-04-01      4.6     6.3      4.0       4.3         5.1       2.7   \n",
              "2000-05-01      4.5     6.3      4.0       4.2         5.1       2.7   \n",
              "\n",
              "state       Connecticut  Delaware  Florida  Georgia  ...  South Dakota  \\\n",
              "Date                                                 ...                 \n",
              "2000-01-01          2.8       3.5      3.7      3.7  ...           2.4   \n",
              "2000-02-01          2.7       3.6      3.7      3.6  ...           2.4   \n",
              "2000-03-01          2.6       3.6      3.7      3.6  ...           2.4   \n",
              "2000-04-01          2.5       3.7      3.7      3.7  ...           2.4   \n",
              "2000-05-01          2.4       3.7      3.7      3.7  ...           2.4   \n",
              "\n",
              "state       Tennessee  Texas  Utah  Vermont  Virginia  Washington  \\\n",
              "Date                                                                \n",
              "2000-01-01        3.7    4.6   3.1      2.7       2.6         4.9   \n",
              "2000-02-01        3.7    4.6   3.1      2.6       2.5         4.9   \n",
              "2000-03-01        3.8    4.5   3.1      2.6       2.4         5.0   \n",
              "2000-04-01        3.8    4.4   3.1      2.7       2.4         5.0   \n",
              "2000-05-01        3.9    4.3   3.2      2.7       2.3         5.1   \n",
              "\n",
              "state       West Virginia  Wisconsin  Wyoming  \n",
              "Date                                           \n",
              "2000-01-01            5.8        3.2      4.1  \n",
              "2000-02-01            5.6        3.2      3.9  \n",
              "2000-03-01            5.5        3.3      3.9  \n",
              "2000-04-01            5.4        3.4      3.8  \n",
              "2000-05-01            5.4        3.5      3.8  \n",
              "\n",
              "[5 rows x 50 columns]"
            ]
          },
          "execution_count": 55,
          "metadata": {},
          "output_type": "execute_result"
        }
      ],
      "source": [
        "desemprego_total.head()"
      ]
    },
    {
      "cell_type": "code",
      "execution_count": null,
      "metadata": {
        "id": "SYtpOSUYOplz"
      },
      "outputs": [],
      "source": [
        "# filtra os dados para estados selecionados\n",
        "states = [\n",
        "    \"Arizona\", \"California\", \"Florida\", \"Illinois\",\n",
        "    \"Michigan\", \"New York\", \"Texas\"\n",
        "]\n",
        "desemprego = desemprego_total[states]"
      ]
    },
    {
      "cell_type": "code",
      "execution_count": null,
      "metadata": {
        "id": "M9pSWE2mOplz",
        "outputId": "2ae7905a-11fe-4edc-8728-7a8e303be547"
      },
      "outputs": [
        {
          "data": {
            "text/plain": [
              "<matplotlib.axes._subplots.AxesSubplot at 0x7fd5472a0fa0>"
            ]
          },
          "execution_count": 57,
          "metadata": {},
          "output_type": "execute_result"
        },
        {
          "data": {
            "image/png": "[encoded data removed]",
            "text/plain": [
              "<Figure size 576x432 with 1 Axes>"
            ]
          },
          "metadata": {
            "needs_background": "light"
          },
          "output_type": "display_data"
        }
      ],
      "source": [
        "desemprego.plot(figsize = (8, 6))"
      ]
    },
    {
      "cell_type": "code",
      "execution_count": null,
      "metadata": {
        "id": "uDcKhfNxOplz",
        "outputId": "b9928a13-77d3-41b8-c432-14a19ed55481"
      },
      "outputs": [
        {
          "data": {
            "text/plain": [
              "Index(['2000-01-01', '2000-02-01', '2000-03-01', '2000-04-01', '2000-05-01',\n",
              "       '2000-06-01', '2000-07-01', '2000-08-01', '2000-09-01', '2000-10-01',\n",
              "       ...\n",
              "       '2017-03-01', '2017-04-01', '2017-05-01', '2017-06-01', '2017-07-01',\n",
              "       '2017-08-01', '2017-09-01', '2017-10-01', '2017-11-01', '2017-12-01'],\n",
              "      dtype='object', name='Date', length=216)"
            ]
          },
          "execution_count": 58,
          "metadata": {},
          "output_type": "execute_result"
        }
      ],
      "source": [
        "desemprego.index"
      ]
    },
    {
      "cell_type": "code",
      "execution_count": null,
      "metadata": {
        "id": "pJS5E3QfOplz",
        "outputId": "67d65f57-099a-4ba8-f60e-e28c04b9b971"
      },
      "outputs": [
        {
          "data": {
            "text/html": [
              "<div>\n",
              "<style scoped>\n",
              "    .dataframe tbody tr th:only-of-type {\n",
              "        vertical-align: middle;\n",
              "    }\n",
              "\n",
              "    .dataframe tbody tr th {\n",
              "        vertical-align: top;\n",
              "    }\n",
              "\n",
              "    .dataframe thead th {\n",
              "        text-align: right;\n",
              "    }\n",
              "</style>\n",
              "<table border=\"1\" class=\"dataframe\">\n",
              "  <thead>\n",
              "    <tr style=\"text-align: right;\">\n",
              "      <th>state</th>\n",
              "      <th>Arizona</th>\n",
              "      <th>California</th>\n",
              "      <th>Florida</th>\n",
              "      <th>Illinois</th>\n",
              "      <th>Michigan</th>\n",
              "      <th>New York</th>\n",
              "      <th>Texas</th>\n",
              "    </tr>\n",
              "    <tr>\n",
              "      <th>Date</th>\n",
              "      <th></th>\n",
              "      <th></th>\n",
              "      <th></th>\n",
              "      <th></th>\n",
              "      <th></th>\n",
              "      <th></th>\n",
              "      <th></th>\n",
              "    </tr>\n",
              "  </thead>\n",
              "  <tbody>\n",
              "    <tr>\n",
              "      <th>2010-10-01</th>\n",
              "      <td>10.1</td>\n",
              "      <td>12.3</td>\n",
              "      <td>11.0</td>\n",
              "      <td>9.8</td>\n",
              "      <td>11.8</td>\n",
              "      <td>8.5</td>\n",
              "      <td>8.1</td>\n",
              "    </tr>\n",
              "    <tr>\n",
              "      <th>2010-11-01</th>\n",
              "      <td>10.0</td>\n",
              "      <td>12.3</td>\n",
              "      <td>11.0</td>\n",
              "      <td>9.7</td>\n",
              "      <td>11.6</td>\n",
              "      <td>8.4</td>\n",
              "      <td>8.1</td>\n",
              "    </tr>\n",
              "    <tr>\n",
              "      <th>2010-12-01</th>\n",
              "      <td>9.9</td>\n",
              "      <td>12.2</td>\n",
              "      <td>10.8</td>\n",
              "      <td>9.5</td>\n",
              "      <td>11.3</td>\n",
              "      <td>8.4</td>\n",
              "      <td>8.1</td>\n",
              "    </tr>\n",
              "    <tr>\n",
              "      <th>2011-01-01</th>\n",
              "      <td>9.8</td>\n",
              "      <td>12.1</td>\n",
              "      <td>10.7</td>\n",
              "      <td>9.4</td>\n",
              "      <td>11.0</td>\n",
              "      <td>8.3</td>\n",
              "      <td>8.0</td>\n",
              "    </tr>\n",
              "    <tr>\n",
              "      <th>2011-02-01</th>\n",
              "      <td>9.7</td>\n",
              "      <td>12.0</td>\n",
              "      <td>10.5</td>\n",
              "      <td>9.4</td>\n",
              "      <td>10.8</td>\n",
              "      <td>8.2</td>\n",
              "      <td>7.9</td>\n",
              "    </tr>\n",
              "    <tr>\n",
              "      <th>...</th>\n",
              "      <td>...</td>\n",
              "      <td>...</td>\n",
              "      <td>...</td>\n",
              "      <td>...</td>\n",
              "      <td>...</td>\n",
              "      <td>...</td>\n",
              "      <td>...</td>\n",
              "    </tr>\n",
              "    <tr>\n",
              "      <th>2017-08-01</th>\n",
              "      <td>4.7</td>\n",
              "      <td>4.6</td>\n",
              "      <td>4.0</td>\n",
              "      <td>5.0</td>\n",
              "      <td>4.6</td>\n",
              "      <td>4.7</td>\n",
              "      <td>4.0</td>\n",
              "    </tr>\n",
              "    <tr>\n",
              "      <th>2017-09-01</th>\n",
              "      <td>4.7</td>\n",
              "      <td>4.5</td>\n",
              "      <td>3.9</td>\n",
              "      <td>5.0</td>\n",
              "      <td>4.7</td>\n",
              "      <td>4.7</td>\n",
              "      <td>4.0</td>\n",
              "    </tr>\n",
              "    <tr>\n",
              "      <th>2017-10-01</th>\n",
              "      <td>4.7</td>\n",
              "      <td>4.5</td>\n",
              "      <td>3.9</td>\n",
              "      <td>4.9</td>\n",
              "      <td>4.7</td>\n",
              "      <td>4.7</td>\n",
              "      <td>3.9</td>\n",
              "    </tr>\n",
              "    <tr>\n",
              "      <th>2017-11-01</th>\n",
              "      <td>4.7</td>\n",
              "      <td>4.5</td>\n",
              "      <td>3.9</td>\n",
              "      <td>4.9</td>\n",
              "      <td>4.7</td>\n",
              "      <td>4.7</td>\n",
              "      <td>3.9</td>\n",
              "    </tr>\n",
              "    <tr>\n",
              "      <th>2017-12-01</th>\n",
              "      <td>4.7</td>\n",
              "      <td>4.5</td>\n",
              "      <td>3.9</td>\n",
              "      <td>4.9</td>\n",
              "      <td>4.7</td>\n",
              "      <td>4.7</td>\n",
              "      <td>4.0</td>\n",
              "    </tr>\n",
              "  </tbody>\n",
              "</table>\n",
              "<p>87 rows × 7 columns</p>\n",
              "</div>"
            ],
            "text/plain": [
              "state       Arizona  California  Florida  Illinois  Michigan  New York  Texas\n",
              "Date                                                                         \n",
              "2010-10-01     10.1        12.3     11.0       9.8      11.8       8.5    8.1\n",
              "2010-11-01     10.0        12.3     11.0       9.7      11.6       8.4    8.1\n",
              "2010-12-01      9.9        12.2     10.8       9.5      11.3       8.4    8.1\n",
              "2011-01-01      9.8        12.1     10.7       9.4      11.0       8.3    8.0\n",
              "2011-02-01      9.7        12.0     10.5       9.4      10.8       8.2    7.9\n",
              "...             ...         ...      ...       ...       ...       ...    ...\n",
              "2017-08-01      4.7         4.6      4.0       5.0       4.6       4.7    4.0\n",
              "2017-09-01      4.7         4.5      3.9       5.0       4.7       4.7    4.0\n",
              "2017-10-01      4.7         4.5      3.9       4.9       4.7       4.7    3.9\n",
              "2017-11-01      4.7         4.5      3.9       4.9       4.7       4.7    3.9\n",
              "2017-12-01      4.7         4.5      3.9       4.9       4.7       4.7    4.0\n",
              "\n",
              "[87 rows x 7 columns]"
            ]
          },
          "execution_count": 59,
          "metadata": {},
          "output_type": "execute_result"
        }
      ],
      "source": [
        "# dados a partir de 2010\n",
        "desemprego.loc['2010-1-1':]"
      ]
    },
    {
      "cell_type": "code",
      "execution_count": null,
      "metadata": {
        "id": "MMk85pgXOpl0",
        "outputId": "25a75d38-2a14-405b-8b40-a8c73126a5bb"
      },
      "outputs": [
        {
          "data": {
            "text/plain": [
              "state\n",
              "Arizona       6.301389\n",
              "California    7.299074\n",
              "Florida       6.048611\n",
              "Illinois      6.822685\n",
              "Michigan      7.492593\n",
              "New York      6.102315\n",
              "Texas         5.695370\n",
              "dtype: float64"
            ]
          },
          "execution_count": 60,
          "metadata": {},
          "output_type": "execute_result"
        }
      ],
      "source": [
        "# taxa de desemprego média para cada estado\n",
        "desemprego.mean()"
      ]
    },
    {
      "cell_type": "code",
      "execution_count": null,
      "metadata": {
        "id": "mA2XW6UMOpl0",
        "outputId": "7c31cbeb-9703-4724-a7c2-01442f86ea0c"
      },
      "outputs": [
        {
          "data": {
            "text/plain": [
              "Date\n",
              "2000-01-01    4.228571\n",
              "2000-02-01    4.214286\n",
              "2000-03-01    4.185714\n",
              "2000-04-01    4.200000\n",
              "2000-05-01    4.214286\n",
              "dtype: float64"
            ]
          },
          "execution_count": 61,
          "metadata": {},
          "output_type": "execute_result"
        }
      ],
      "source": [
        "# podemos alterar o axis\n",
        "# então estaríamos calculando a média mensal entre os estados selecionados\n",
        "desemprego.mean(axis = 1).head()"
      ]
    },
    {
      "cell_type": "markdown",
      "metadata": {
        "id": "Zn4K-a9DOpl0"
      },
      "source": [
        "Vamos escrever nossa própria métrica de agregação."
      ]
    },
    {
      "cell_type": "code",
      "execution_count": null,
      "metadata": {
        "id": "zqykg7MHOpl0"
      },
      "outputs": [],
      "source": [
        "def high_or_low(data):\n",
        "    \n",
        "    if data.mean() < 6.5:\n",
        "        return 'Low'\n",
        "    return 'High'"
      ]
    },
    {
      "cell_type": "code",
      "execution_count": null,
      "metadata": {
        "id": "KXn8HpT8Opl0",
        "outputId": "da48cfb3-a133-4634-aa9b-fbb80f983007"
      },
      "outputs": [
        {
          "data": {
            "text/plain": [
              "state\n",
              "Arizona        Low\n",
              "California    High\n",
              "Florida        Low\n",
              "Illinois      High\n",
              "Michigan      High\n",
              "New York       Low\n",
              "Texas          Low\n",
              "dtype: object"
            ]
          },
          "execution_count": 63,
          "metadata": {},
          "output_type": "execute_result"
        }
      ],
      "source": [
        "desemprego.agg(high_or_low)"
      ]
    },
    {
      "cell_type": "markdown",
      "metadata": {
        "id": "5axd0PjlOpl0"
      },
      "source": [
        "Podemos escrever a função de agregação de outro modo:"
      ]
    },
    {
      "cell_type": "code",
      "execution_count": null,
      "metadata": {
        "id": "ko7I64A_Opl0"
      },
      "outputs": [],
      "source": [
        "def high_or_low(data):\n",
        "    \n",
        "    if data.mean() < 6.5:\n",
        "        result = 'Low'\n",
        "        return result\n",
        "    else:\n",
        "        result = 'High'\n",
        "        return result"
      ]
    },
    {
      "cell_type": "code",
      "execution_count": null,
      "metadata": {
        "id": "gKB18cszOpl1",
        "outputId": "53206747-795f-48ab-afc9-d16435bfad8a"
      },
      "outputs": [
        {
          "data": {
            "text/plain": [
              "Date\n",
              "2000-01-01    Low\n",
              "2000-02-01    Low\n",
              "2000-03-01    Low\n",
              "2000-04-01    Low\n",
              "2000-05-01    Low\n",
              "dtype: object"
            ]
          },
          "execution_count": 65,
          "metadata": {},
          "output_type": "execute_result"
        }
      ],
      "source": [
        "desemprego.agg(high_or_low, axis = 1).head()"
      ]
    },
    {
      "cell_type": "markdown",
      "metadata": {
        "id": "eF86GBOUOpl1"
      },
      "source": [
        "Podemos aplicar mais de uma métrica de agregação por vez:"
      ]
    },
    {
      "cell_type": "code",
      "execution_count": null,
      "metadata": {
        "id": "W8qSjBDtOpl1",
        "outputId": "5183a94f-3b6f-4fdf-afa3-304c9c0a599e"
      },
      "outputs": [
        {
          "data": {
            "text/html": [
              "<div>\n",
              "<style scoped>\n",
              "    .dataframe tbody tr th:only-of-type {\n",
              "        vertical-align: middle;\n",
              "    }\n",
              "\n",
              "    .dataframe tbody tr th {\n",
              "        vertical-align: top;\n",
              "    }\n",
              "\n",
              "    .dataframe thead th {\n",
              "        text-align: right;\n",
              "    }\n",
              "</style>\n",
              "<table border=\"1\" class=\"dataframe\">\n",
              "  <thead>\n",
              "    <tr style=\"text-align: right;\">\n",
              "      <th></th>\n",
              "      <th>Arizona</th>\n",
              "      <th>California</th>\n",
              "      <th>Florida</th>\n",
              "      <th>Illinois</th>\n",
              "      <th>Michigan</th>\n",
              "      <th>New York</th>\n",
              "      <th>Texas</th>\n",
              "    </tr>\n",
              "  </thead>\n",
              "  <tbody>\n",
              "    <tr>\n",
              "      <th>min</th>\n",
              "      <td>3.6</td>\n",
              "      <td>4.5</td>\n",
              "      <td>3.1</td>\n",
              "      <td>4.2</td>\n",
              "      <td>3.2</td>\n",
              "      <td>4.2</td>\n",
              "      <td>3.9</td>\n",
              "    </tr>\n",
              "    <tr>\n",
              "      <th>high_or_low</th>\n",
              "      <td>Low</td>\n",
              "      <td>High</td>\n",
              "      <td>Low</td>\n",
              "      <td>High</td>\n",
              "      <td>High</td>\n",
              "      <td>Low</td>\n",
              "      <td>Low</td>\n",
              "    </tr>\n",
              "    <tr>\n",
              "      <th>max</th>\n",
              "      <td>10.9</td>\n",
              "      <td>12.3</td>\n",
              "      <td>11.3</td>\n",
              "      <td>11.3</td>\n",
              "      <td>14.6</td>\n",
              "      <td>8.9</td>\n",
              "      <td>8.3</td>\n",
              "    </tr>\n",
              "  </tbody>\n",
              "</table>\n",
              "</div>"
            ],
            "text/plain": [
              "            Arizona California Florida Illinois Michigan New York Texas\n",
              "min             3.6        4.5     3.1      4.2      3.2      4.2   3.9\n",
              "high_or_low     Low       High     Low     High     High      Low   Low\n",
              "max            10.9       12.3    11.3     11.3     14.6      8.9   8.3"
            ]
          },
          "execution_count": 66,
          "metadata": {},
          "output_type": "execute_result"
        }
      ],
      "source": [
        "desemprego.agg([min, high_or_low,max])"
      ]
    },
    {
      "cell_type": "code",
      "execution_count": null,
      "metadata": {
        "id": "wFi_azosOpl1",
        "outputId": "083b8593-add0-489a-d9f2-7483748d6294"
      },
      "outputs": [
        {
          "data": {
            "text/html": [
              "<div>\n",
              "<style scoped>\n",
              "    .dataframe tbody tr th:only-of-type {\n",
              "        vertical-align: middle;\n",
              "    }\n",
              "\n",
              "    .dataframe tbody tr th {\n",
              "        vertical-align: top;\n",
              "    }\n",
              "\n",
              "    .dataframe thead th {\n",
              "        text-align: right;\n",
              "    }\n",
              "</style>\n",
              "<table border=\"1\" class=\"dataframe\">\n",
              "  <thead>\n",
              "    <tr style=\"text-align: right;\">\n",
              "      <th></th>\n",
              "      <th>min</th>\n",
              "      <th>high_or_low</th>\n",
              "      <th>max</th>\n",
              "    </tr>\n",
              "  </thead>\n",
              "  <tbody>\n",
              "    <tr>\n",
              "      <th>2000-01-01</th>\n",
              "      <td>3.3</td>\n",
              "      <td>Low</td>\n",
              "      <td>5</td>\n",
              "    </tr>\n",
              "    <tr>\n",
              "      <th>2000-02-01</th>\n",
              "      <td>3.2</td>\n",
              "      <td>Low</td>\n",
              "      <td>5</td>\n",
              "    </tr>\n",
              "    <tr>\n",
              "      <th>2000-03-01</th>\n",
              "      <td>3.2</td>\n",
              "      <td>Low</td>\n",
              "      <td>5</td>\n",
              "    </tr>\n",
              "    <tr>\n",
              "      <th>2000-04-01</th>\n",
              "      <td>3.3</td>\n",
              "      <td>Low</td>\n",
              "      <td>5.1</td>\n",
              "    </tr>\n",
              "    <tr>\n",
              "      <th>2000-05-01</th>\n",
              "      <td>3.5</td>\n",
              "      <td>Low</td>\n",
              "      <td>5.1</td>\n",
              "    </tr>\n",
              "  </tbody>\n",
              "</table>\n",
              "</div>"
            ],
            "text/plain": [
              "            min high_or_low  max\n",
              "2000-01-01  3.3         Low    5\n",
              "2000-02-01  3.2         Low    5\n",
              "2000-03-01  3.2         Low    5\n",
              "2000-04-01  3.3         Low  5.1\n",
              "2000-05-01  3.5         Low  5.1"
            ]
          },
          "execution_count": 67,
          "metadata": {},
          "output_type": "execute_result"
        }
      ],
      "source": [
        "# podemos alterar o axis\n",
        "# neste caso obtemos informações sobre a taxa de desemprego mensal dos estados selecionados\n",
        "desemprego.agg([min,high_or_low,max],axis = 1).head()"
      ]
    },
    {
      "cell_type": "code",
      "execution_count": null,
      "metadata": {
        "id": "0UlKobl9Opl1",
        "outputId": "0f53217a-f06c-4723-e169-256fa2971dc9"
      },
      "outputs": [
        {
          "data": {
            "text/html": [
              "<div>\n",
              "<style scoped>\n",
              "    .dataframe tbody tr th:only-of-type {\n",
              "        vertical-align: middle;\n",
              "    }\n",
              "\n",
              "    .dataframe tbody tr th {\n",
              "        vertical-align: top;\n",
              "    }\n",
              "\n",
              "    .dataframe thead th {\n",
              "        text-align: right;\n",
              "    }\n",
              "</style>\n",
              "<table border=\"1\" class=\"dataframe\">\n",
              "  <thead>\n",
              "    <tr style=\"text-align: right;\">\n",
              "      <th>state</th>\n",
              "      <th>Arizona</th>\n",
              "      <th>California</th>\n",
              "      <th>Florida</th>\n",
              "      <th>Illinois</th>\n",
              "      <th>Michigan</th>\n",
              "      <th>New York</th>\n",
              "      <th>Texas</th>\n",
              "    </tr>\n",
              "    <tr>\n",
              "      <th>Date</th>\n",
              "      <th></th>\n",
              "      <th></th>\n",
              "      <th></th>\n",
              "      <th></th>\n",
              "      <th></th>\n",
              "      <th></th>\n",
              "      <th></th>\n",
              "    </tr>\n",
              "  </thead>\n",
              "  <tbody>\n",
              "    <tr>\n",
              "      <th>2000-01-01</th>\n",
              "      <td>-</td>\n",
              "      <td>-</td>\n",
              "      <td>-</td>\n",
              "      <td>-</td>\n",
              "      <td>-</td>\n",
              "      <td>-</td>\n",
              "      <td>-</td>\n",
              "    </tr>\n",
              "    <tr>\n",
              "      <th>2000-02-01</th>\n",
              "      <td>0</td>\n",
              "      <td>0</td>\n",
              "      <td>0</td>\n",
              "      <td>0</td>\n",
              "      <td>-0.030303</td>\n",
              "      <td>0</td>\n",
              "      <td>0</td>\n",
              "    </tr>\n",
              "    <tr>\n",
              "      <th>2000-03-01</th>\n",
              "      <td>-0.0243902</td>\n",
              "      <td>0</td>\n",
              "      <td>0</td>\n",
              "      <td>0.0238095</td>\n",
              "      <td>0</td>\n",
              "      <td>-0.0212766</td>\n",
              "      <td>-0.0217391</td>\n",
              "    </tr>\n",
              "    <tr>\n",
              "      <th>2000-04-01</th>\n",
              "      <td>0</td>\n",
              "      <td>0.02</td>\n",
              "      <td>0</td>\n",
              "      <td>0</td>\n",
              "      <td>0.03125</td>\n",
              "      <td>0</td>\n",
              "      <td>-0.0222222</td>\n",
              "    </tr>\n",
              "    <tr>\n",
              "      <th>2000-05-01</th>\n",
              "      <td>0</td>\n",
              "      <td>0</td>\n",
              "      <td>0</td>\n",
              "      <td>0</td>\n",
              "      <td>0.0606061</td>\n",
              "      <td>0</td>\n",
              "      <td>-0.0227273</td>\n",
              "    </tr>\n",
              "    <tr>\n",
              "      <th>...</th>\n",
              "      <td>...</td>\n",
              "      <td>...</td>\n",
              "      <td>...</td>\n",
              "      <td>...</td>\n",
              "      <td>...</td>\n",
              "      <td>...</td>\n",
              "      <td>...</td>\n",
              "    </tr>\n",
              "    <tr>\n",
              "      <th>2017-08-01</th>\n",
              "      <td>0</td>\n",
              "      <td>-0.0212766</td>\n",
              "      <td>-0.0243902</td>\n",
              "      <td>0</td>\n",
              "      <td>0.0222222</td>\n",
              "      <td>0</td>\n",
              "      <td>-0.0243902</td>\n",
              "    </tr>\n",
              "    <tr>\n",
              "      <th>2017-09-01</th>\n",
              "      <td>0</td>\n",
              "      <td>-0.0217391</td>\n",
              "      <td>-0.025</td>\n",
              "      <td>0</td>\n",
              "      <td>0.0217391</td>\n",
              "      <td>0</td>\n",
              "      <td>0</td>\n",
              "    </tr>\n",
              "    <tr>\n",
              "      <th>2017-10-01</th>\n",
              "      <td>0</td>\n",
              "      <td>0</td>\n",
              "      <td>0</td>\n",
              "      <td>-0.02</td>\n",
              "      <td>0</td>\n",
              "      <td>0</td>\n",
              "      <td>-0.025</td>\n",
              "    </tr>\n",
              "    <tr>\n",
              "      <th>2017-11-01</th>\n",
              "      <td>0</td>\n",
              "      <td>0</td>\n",
              "      <td>0</td>\n",
              "      <td>0</td>\n",
              "      <td>0</td>\n",
              "      <td>0</td>\n",
              "      <td>0</td>\n",
              "    </tr>\n",
              "    <tr>\n",
              "      <th>2017-12-01</th>\n",
              "      <td>0</td>\n",
              "      <td>0</td>\n",
              "      <td>0</td>\n",
              "      <td>0</td>\n",
              "      <td>0</td>\n",
              "      <td>0</td>\n",
              "      <td>0.025641</td>\n",
              "    </tr>\n",
              "  </tbody>\n",
              "</table>\n",
              "<p>216 rows × 7 columns</p>\n",
              "</div>"
            ],
            "text/plain": [
              "state         Arizona California    Florida   Illinois   Michigan   New York  \\\n",
              "Date                                                                           \n",
              "2000-01-01          -          -          -          -          -          -   \n",
              "2000-02-01          0          0          0          0  -0.030303          0   \n",
              "2000-03-01 -0.0243902          0          0  0.0238095          0 -0.0212766   \n",
              "2000-04-01          0       0.02          0          0    0.03125          0   \n",
              "2000-05-01          0          0          0          0  0.0606061          0   \n",
              "...               ...        ...        ...        ...        ...        ...   \n",
              "2017-08-01          0 -0.0212766 -0.0243902          0  0.0222222          0   \n",
              "2017-09-01          0 -0.0217391     -0.025          0  0.0217391          0   \n",
              "2017-10-01          0          0          0      -0.02          0          0   \n",
              "2017-11-01          0          0          0          0          0          0   \n",
              "2017-12-01          0          0          0          0          0          0   \n",
              "\n",
              "state           Texas  \n",
              "Date                   \n",
              "2000-01-01          -  \n",
              "2000-02-01          0  \n",
              "2000-03-01 -0.0217391  \n",
              "2000-04-01 -0.0222222  \n",
              "2000-05-01 -0.0227273  \n",
              "...               ...  \n",
              "2017-08-01 -0.0243902  \n",
              "2017-09-01          0  \n",
              "2017-10-01     -0.025  \n",
              "2017-11-01          0  \n",
              "2017-12-01   0.025641  \n",
              "\n",
              "[216 rows x 7 columns]"
            ]
          },
          "execution_count": 68,
          "metadata": {},
          "output_type": "execute_result"
        }
      ],
      "source": [
        "desemprego.pct_change().fillna('-')"
      ]
    },
    {
      "cell_type": "markdown",
      "metadata": {
        "id": "HFPgri4YOpl1"
      },
      "source": [
        "### Renomeando colunas"
      ]
    },
    {
      "cell_type": "code",
      "execution_count": null,
      "metadata": {
        "id": "OaEEIzebOpl1",
        "outputId": "5ee618f0-6267-40d3-c099-605a88c176f1"
      },
      "outputs": [
        {
          "data": {
            "text/html": [
              "<div>\n",
              "<style scoped>\n",
              "    .dataframe tbody tr th:only-of-type {\n",
              "        vertical-align: middle;\n",
              "    }\n",
              "\n",
              "    .dataframe tbody tr th {\n",
              "        vertical-align: top;\n",
              "    }\n",
              "\n",
              "    .dataframe thead th {\n",
              "        text-align: right;\n",
              "    }\n",
              "</style>\n",
              "<table border=\"1\" class=\"dataframe\">\n",
              "  <thead>\n",
              "    <tr style=\"text-align: right;\">\n",
              "      <th></th>\n",
              "      <th>Id</th>\n",
              "      <th>Idade</th>\n",
              "      <th>Renda</th>\n",
              "      <th>Sexo</th>\n",
              "      <th>Escolaridade</th>\n",
              "      <th>Cidade</th>\n",
              "    </tr>\n",
              "  </thead>\n",
              "  <tbody>\n",
              "    <tr>\n",
              "      <th>0</th>\n",
              "      <td>1</td>\n",
              "      <td>27</td>\n",
              "      <td>4297</td>\n",
              "      <td>Masculino</td>\n",
              "      <td>Ensino Médio</td>\n",
              "      <td>São Paulo</td>\n",
              "    </tr>\n",
              "    <tr>\n",
              "      <th>1</th>\n",
              "      <td>2</td>\n",
              "      <td>54</td>\n",
              "      <td>7957</td>\n",
              "      <td>Feminino</td>\n",
              "      <td>Ensino Superior</td>\n",
              "      <td>Recife</td>\n",
              "    </tr>\n",
              "    <tr>\n",
              "      <th>2</th>\n",
              "      <td>3</td>\n",
              "      <td>33</td>\n",
              "      <td>6343</td>\n",
              "      <td>Feminino</td>\n",
              "      <td>Ensino Fundamental</td>\n",
              "      <td>Salvador</td>\n",
              "    </tr>\n",
              "    <tr>\n",
              "      <th>3</th>\n",
              "      <td>4</td>\n",
              "      <td>18</td>\n",
              "      <td>4366</td>\n",
              "      <td>Feminino</td>\n",
              "      <td>Ensino Fundamental</td>\n",
              "      <td>Salvador</td>\n",
              "    </tr>\n",
              "    <tr>\n",
              "      <th>4</th>\n",
              "      <td>5</td>\n",
              "      <td>67</td>\n",
              "      <td>4105</td>\n",
              "      <td>Feminino</td>\n",
              "      <td>Ensino Fundamental</td>\n",
              "      <td>Recife</td>\n",
              "    </tr>\n",
              "  </tbody>\n",
              "</table>\n",
              "</div>"
            ],
            "text/plain": [
              "   Id  Idade  Renda       Sexo        Escolaridade     Cidade\n",
              "0   1     27   4297  Masculino        Ensino Médio  São Paulo\n",
              "1   2     54   7957   Feminino     Ensino Superior     Recife\n",
              "2   3     33   6343   Feminino  Ensino Fundamental   Salvador\n",
              "3   4     18   4366   Feminino  Ensino Fundamental   Salvador\n",
              "4   5     67   4105   Feminino  Ensino Fundamental     Recife"
            ]
          },
          "execution_count": 69,
          "metadata": {},
          "output_type": "execute_result"
        }
      ],
      "source": [
        "df.head()"
      ]
    },
    {
      "cell_type": "code",
      "execution_count": null,
      "metadata": {
        "id": "vS2ZhZHaOpl2",
        "outputId": "071951b1-845d-4fc2-dd49-b1c55df1576d"
      },
      "outputs": [
        {
          "data": {
            "text/plain": [
              "Index(['Id', 'Idade', 'Renda', 'Sexo', 'Escolaridade', 'Cidade'], dtype='object')"
            ]
          },
          "execution_count": 70,
          "metadata": {},
          "output_type": "execute_result"
        }
      ],
      "source": [
        "# coluna do data frame\n",
        "df.columns"
      ]
    },
    {
      "cell_type": "code",
      "execution_count": null,
      "metadata": {
        "id": "ucRZmYFzOpl2"
      },
      "outputs": [],
      "source": [
        "# cria uma cópia dos dados\n",
        "data = df.copy()"
      ]
    },
    {
      "cell_type": "code",
      "execution_count": null,
      "metadata": {
        "id": "zYjN1OgbOpl2",
        "outputId": "c2170093-f4ac-492d-918e-bfba6cd3c4af"
      },
      "outputs": [
        {
          "data": {
            "text/html": [
              "<div>\n",
              "<style scoped>\n",
              "    .dataframe tbody tr th:only-of-type {\n",
              "        vertical-align: middle;\n",
              "    }\n",
              "\n",
              "    .dataframe tbody tr th {\n",
              "        vertical-align: top;\n",
              "    }\n",
              "\n",
              "    .dataframe thead th {\n",
              "        text-align: right;\n",
              "    }\n",
              "</style>\n",
              "<table border=\"1\" class=\"dataframe\">\n",
              "  <thead>\n",
              "    <tr style=\"text-align: right;\">\n",
              "      <th></th>\n",
              "      <th>id</th>\n",
              "      <th>Idade</th>\n",
              "      <th>Renda</th>\n",
              "      <th>Sexo</th>\n",
              "      <th>Escolaridade</th>\n",
              "      <th>Cidade</th>\n",
              "    </tr>\n",
              "  </thead>\n",
              "  <tbody>\n",
              "    <tr>\n",
              "      <th>0</th>\n",
              "      <td>1</td>\n",
              "      <td>27</td>\n",
              "      <td>4297</td>\n",
              "      <td>Masculino</td>\n",
              "      <td>Ensino Médio</td>\n",
              "      <td>São Paulo</td>\n",
              "    </tr>\n",
              "    <tr>\n",
              "      <th>1</th>\n",
              "      <td>2</td>\n",
              "      <td>54</td>\n",
              "      <td>7957</td>\n",
              "      <td>Feminino</td>\n",
              "      <td>Ensino Superior</td>\n",
              "      <td>Recife</td>\n",
              "    </tr>\n",
              "    <tr>\n",
              "      <th>2</th>\n",
              "      <td>3</td>\n",
              "      <td>33</td>\n",
              "      <td>6343</td>\n",
              "      <td>Feminino</td>\n",
              "      <td>Ensino Fundamental</td>\n",
              "      <td>Salvador</td>\n",
              "    </tr>\n",
              "    <tr>\n",
              "      <th>3</th>\n",
              "      <td>4</td>\n",
              "      <td>18</td>\n",
              "      <td>4366</td>\n",
              "      <td>Feminino</td>\n",
              "      <td>Ensino Fundamental</td>\n",
              "      <td>Salvador</td>\n",
              "    </tr>\n",
              "    <tr>\n",
              "      <th>4</th>\n",
              "      <td>5</td>\n",
              "      <td>67</td>\n",
              "      <td>4105</td>\n",
              "      <td>Feminino</td>\n",
              "      <td>Ensino Fundamental</td>\n",
              "      <td>Recife</td>\n",
              "    </tr>\n",
              "  </tbody>\n",
              "</table>\n",
              "</div>"
            ],
            "text/plain": [
              "   id  Idade  Renda       Sexo        Escolaridade     Cidade\n",
              "0   1     27   4297  Masculino        Ensino Médio  São Paulo\n",
              "1   2     54   7957   Feminino     Ensino Superior     Recife\n",
              "2   3     33   6343   Feminino  Ensino Fundamental   Salvador\n",
              "3   4     18   4366   Feminino  Ensino Fundamental   Salvador\n",
              "4   5     67   4105   Feminino  Ensino Fundamental     Recife"
            ]
          },
          "execution_count": 72,
          "metadata": {},
          "output_type": "execute_result"
        }
      ],
      "source": [
        "# renomeia a coluna 'Id' para 'id'\n",
        "data.rename(columns = {'Id': 'id'}).head()"
      ]
    },
    {
      "cell_type": "code",
      "execution_count": null,
      "metadata": {
        "id": "meFu7mw6Opl2",
        "outputId": "b23ad44d-c041-48d1-b9da-55ccb7f36673"
      },
      "outputs": [
        {
          "data": {
            "text/html": [
              "<div>\n",
              "<style scoped>\n",
              "    .dataframe tbody tr th:only-of-type {\n",
              "        vertical-align: middle;\n",
              "    }\n",
              "\n",
              "    .dataframe tbody tr th {\n",
              "        vertical-align: top;\n",
              "    }\n",
              "\n",
              "    .dataframe thead th {\n",
              "        text-align: right;\n",
              "    }\n",
              "</style>\n",
              "<table border=\"1\" class=\"dataframe\">\n",
              "  <thead>\n",
              "    <tr style=\"text-align: right;\">\n",
              "      <th></th>\n",
              "      <th>id</th>\n",
              "      <th>Idade</th>\n",
              "      <th>renda_cliente</th>\n",
              "      <th>Sexo</th>\n",
              "      <th>grau_escolaridade</th>\n",
              "      <th>Cidade</th>\n",
              "    </tr>\n",
              "  </thead>\n",
              "  <tbody>\n",
              "    <tr>\n",
              "      <th>0</th>\n",
              "      <td>1</td>\n",
              "      <td>27</td>\n",
              "      <td>4297</td>\n",
              "      <td>Masculino</td>\n",
              "      <td>Ensino Médio</td>\n",
              "      <td>São Paulo</td>\n",
              "    </tr>\n",
              "    <tr>\n",
              "      <th>1</th>\n",
              "      <td>2</td>\n",
              "      <td>54</td>\n",
              "      <td>7957</td>\n",
              "      <td>Feminino</td>\n",
              "      <td>Ensino Superior</td>\n",
              "      <td>Recife</td>\n",
              "    </tr>\n",
              "    <tr>\n",
              "      <th>2</th>\n",
              "      <td>3</td>\n",
              "      <td>33</td>\n",
              "      <td>6343</td>\n",
              "      <td>Feminino</td>\n",
              "      <td>Ensino Fundamental</td>\n",
              "      <td>Salvador</td>\n",
              "    </tr>\n",
              "    <tr>\n",
              "      <th>3</th>\n",
              "      <td>4</td>\n",
              "      <td>18</td>\n",
              "      <td>4366</td>\n",
              "      <td>Feminino</td>\n",
              "      <td>Ensino Fundamental</td>\n",
              "      <td>Salvador</td>\n",
              "    </tr>\n",
              "    <tr>\n",
              "      <th>4</th>\n",
              "      <td>5</td>\n",
              "      <td>67</td>\n",
              "      <td>4105</td>\n",
              "      <td>Feminino</td>\n",
              "      <td>Ensino Fundamental</td>\n",
              "      <td>Recife</td>\n",
              "    </tr>\n",
              "    <tr>\n",
              "      <th>...</th>\n",
              "      <td>...</td>\n",
              "      <td>...</td>\n",
              "      <td>...</td>\n",
              "      <td>...</td>\n",
              "      <td>...</td>\n",
              "      <td>...</td>\n",
              "    </tr>\n",
              "    <tr>\n",
              "      <th>95</th>\n",
              "      <td>96</td>\n",
              "      <td>67</td>\n",
              "      <td>2958</td>\n",
              "      <td>Masculino</td>\n",
              "      <td>Ensino Médio</td>\n",
              "      <td>Recife</td>\n",
              "    </tr>\n",
              "    <tr>\n",
              "      <th>96</th>\n",
              "      <td>97</td>\n",
              "      <td>33</td>\n",
              "      <td>5068</td>\n",
              "      <td>Masculino</td>\n",
              "      <td>Ensino Superior</td>\n",
              "      <td>Recife</td>\n",
              "    </tr>\n",
              "    <tr>\n",
              "      <th>97</th>\n",
              "      <td>98</td>\n",
              "      <td>62</td>\n",
              "      <td>7176</td>\n",
              "      <td>Masculino</td>\n",
              "      <td>Ensino Médio</td>\n",
              "      <td>Salvador</td>\n",
              "    </tr>\n",
              "    <tr>\n",
              "      <th>98</th>\n",
              "      <td>99</td>\n",
              "      <td>58</td>\n",
              "      <td>2375</td>\n",
              "      <td>Feminino</td>\n",
              "      <td>Ensino Superior</td>\n",
              "      <td>Rio de Janeiro</td>\n",
              "    </tr>\n",
              "    <tr>\n",
              "      <th>99</th>\n",
              "      <td>100</td>\n",
              "      <td>60</td>\n",
              "      <td>4265</td>\n",
              "      <td>Masculino</td>\n",
              "      <td>Ensino Fundamental</td>\n",
              "      <td>Salvador</td>\n",
              "    </tr>\n",
              "  </tbody>\n",
              "</table>\n",
              "<p>100 rows × 6 columns</p>\n",
              "</div>"
            ],
            "text/plain": [
              "     id  Idade  renda_cliente       Sexo   grau_escolaridade          Cidade\n",
              "0     1     27           4297  Masculino        Ensino Médio       São Paulo\n",
              "1     2     54           7957   Feminino     Ensino Superior          Recife\n",
              "2     3     33           6343   Feminino  Ensino Fundamental        Salvador\n",
              "3     4     18           4366   Feminino  Ensino Fundamental        Salvador\n",
              "4     5     67           4105   Feminino  Ensino Fundamental          Recife\n",
              "..  ...    ...            ...        ...                 ...             ...\n",
              "95   96     67           2958  Masculino        Ensino Médio          Recife\n",
              "96   97     33           5068  Masculino     Ensino Superior          Recife\n",
              "97   98     62           7176  Masculino        Ensino Médio        Salvador\n",
              "98   99     58           2375   Feminino     Ensino Superior  Rio de Janeiro\n",
              "99  100     60           4265  Masculino  Ensino Fundamental        Salvador\n",
              "\n",
              "[100 rows x 6 columns]"
            ]
          },
          "execution_count": 73,
          "metadata": {},
          "output_type": "execute_result"
        }
      ],
      "source": [
        "# renomeia outras colunas\n",
        "new_cols = {'Id': 'id',\n",
        "            'Renda': 'renda_cliente',\n",
        "            'Escolaridade': 'grau_escolaridade'}\n",
        "\n",
        "data.rename(columns = new_cols)"
      ]
    },
    {
      "cell_type": "code",
      "execution_count": null,
      "metadata": {
        "id": "bEn1sE5oOpl2",
        "outputId": "fdecdd89-6b03-4b64-f5e6-91416b6a2172"
      },
      "outputs": [
        {
          "data": {
            "text/html": [
              "<div>\n",
              "<style scoped>\n",
              "    .dataframe tbody tr th:only-of-type {\n",
              "        vertical-align: middle;\n",
              "    }\n",
              "\n",
              "    .dataframe tbody tr th {\n",
              "        vertical-align: top;\n",
              "    }\n",
              "\n",
              "    .dataframe thead th {\n",
              "        text-align: right;\n",
              "    }\n",
              "</style>\n",
              "<table border=\"1\" class=\"dataframe\">\n",
              "  <thead>\n",
              "    <tr style=\"text-align: right;\">\n",
              "      <th></th>\n",
              "      <th>Id</th>\n",
              "      <th>Idade</th>\n",
              "      <th>Renda</th>\n",
              "      <th>Sexo</th>\n",
              "      <th>Escolaridade</th>\n",
              "      <th>Cidade</th>\n",
              "    </tr>\n",
              "  </thead>\n",
              "  <tbody>\n",
              "    <tr>\n",
              "      <th>0</th>\n",
              "      <td>1</td>\n",
              "      <td>27</td>\n",
              "      <td>4297</td>\n",
              "      <td>Masculino</td>\n",
              "      <td>Ensino Médio</td>\n",
              "      <td>São Paulo</td>\n",
              "    </tr>\n",
              "    <tr>\n",
              "      <th>1</th>\n",
              "      <td>2</td>\n",
              "      <td>54</td>\n",
              "      <td>7957</td>\n",
              "      <td>Feminino</td>\n",
              "      <td>Ensino Superior</td>\n",
              "      <td>Recife</td>\n",
              "    </tr>\n",
              "    <tr>\n",
              "      <th>2</th>\n",
              "      <td>3</td>\n",
              "      <td>33</td>\n",
              "      <td>6343</td>\n",
              "      <td>Feminino</td>\n",
              "      <td>Ensino Fundamental</td>\n",
              "      <td>Salvador</td>\n",
              "    </tr>\n",
              "    <tr>\n",
              "      <th>3</th>\n",
              "      <td>4</td>\n",
              "      <td>18</td>\n",
              "      <td>4366</td>\n",
              "      <td>Feminino</td>\n",
              "      <td>Ensino Fundamental</td>\n",
              "      <td>Salvador</td>\n",
              "    </tr>\n",
              "    <tr>\n",
              "      <th>4</th>\n",
              "      <td>5</td>\n",
              "      <td>67</td>\n",
              "      <td>4105</td>\n",
              "      <td>Feminino</td>\n",
              "      <td>Ensino Fundamental</td>\n",
              "      <td>Recife</td>\n",
              "    </tr>\n",
              "  </tbody>\n",
              "</table>\n",
              "</div>"
            ],
            "text/plain": [
              "   Id  Idade  Renda       Sexo        Escolaridade     Cidade\n",
              "0   1     27   4297  Masculino        Ensino Médio  São Paulo\n",
              "1   2     54   7957   Feminino     Ensino Superior     Recife\n",
              "2   3     33   6343   Feminino  Ensino Fundamental   Salvador\n",
              "3   4     18   4366   Feminino  Ensino Fundamental   Salvador\n",
              "4   5     67   4105   Feminino  Ensino Fundamental     Recife"
            ]
          },
          "execution_count": 74,
          "metadata": {},
          "output_type": "execute_result"
        }
      ],
      "source": [
        "# note que criamos apenas uma view\n",
        "data.head()"
      ]
    },
    {
      "cell_type": "code",
      "execution_count": null,
      "metadata": {
        "id": "U31761BwOpl2"
      },
      "outputs": [],
      "source": [
        "data_ = data.rename(columns = new_cols)"
      ]
    },
    {
      "cell_type": "code",
      "execution_count": null,
      "metadata": {
        "id": "20BZSZUKOpl2",
        "outputId": "4834b6ea-4273-4b86-d763-005794bd184b"
      },
      "outputs": [
        {
          "data": {
            "text/html": [
              "<div>\n",
              "<style scoped>\n",
              "    .dataframe tbody tr th:only-of-type {\n",
              "        vertical-align: middle;\n",
              "    }\n",
              "\n",
              "    .dataframe tbody tr th {\n",
              "        vertical-align: top;\n",
              "    }\n",
              "\n",
              "    .dataframe thead th {\n",
              "        text-align: right;\n",
              "    }\n",
              "</style>\n",
              "<table border=\"1\" class=\"dataframe\">\n",
              "  <thead>\n",
              "    <tr style=\"text-align: right;\">\n",
              "      <th></th>\n",
              "      <th>id</th>\n",
              "      <th>Idade</th>\n",
              "      <th>renda_cliente</th>\n",
              "      <th>Sexo</th>\n",
              "      <th>grau_escolaridade</th>\n",
              "      <th>Cidade</th>\n",
              "    </tr>\n",
              "  </thead>\n",
              "  <tbody>\n",
              "    <tr>\n",
              "      <th>0</th>\n",
              "      <td>1</td>\n",
              "      <td>27</td>\n",
              "      <td>4297</td>\n",
              "      <td>Masculino</td>\n",
              "      <td>Ensino Médio</td>\n",
              "      <td>São Paulo</td>\n",
              "    </tr>\n",
              "    <tr>\n",
              "      <th>1</th>\n",
              "      <td>2</td>\n",
              "      <td>54</td>\n",
              "      <td>7957</td>\n",
              "      <td>Feminino</td>\n",
              "      <td>Ensino Superior</td>\n",
              "      <td>Recife</td>\n",
              "    </tr>\n",
              "    <tr>\n",
              "      <th>2</th>\n",
              "      <td>3</td>\n",
              "      <td>33</td>\n",
              "      <td>6343</td>\n",
              "      <td>Feminino</td>\n",
              "      <td>Ensino Fundamental</td>\n",
              "      <td>Salvador</td>\n",
              "    </tr>\n",
              "    <tr>\n",
              "      <th>3</th>\n",
              "      <td>4</td>\n",
              "      <td>18</td>\n",
              "      <td>4366</td>\n",
              "      <td>Feminino</td>\n",
              "      <td>Ensino Fundamental</td>\n",
              "      <td>Salvador</td>\n",
              "    </tr>\n",
              "    <tr>\n",
              "      <th>4</th>\n",
              "      <td>5</td>\n",
              "      <td>67</td>\n",
              "      <td>4105</td>\n",
              "      <td>Feminino</td>\n",
              "      <td>Ensino Fundamental</td>\n",
              "      <td>Recife</td>\n",
              "    </tr>\n",
              "  </tbody>\n",
              "</table>\n",
              "</div>"
            ],
            "text/plain": [
              "   id  Idade  renda_cliente       Sexo   grau_escolaridade     Cidade\n",
              "0   1     27           4297  Masculino        Ensino Médio  São Paulo\n",
              "1   2     54           7957   Feminino     Ensino Superior     Recife\n",
              "2   3     33           6343   Feminino  Ensino Fundamental   Salvador\n",
              "3   4     18           4366   Feminino  Ensino Fundamental   Salvador\n",
              "4   5     67           4105   Feminino  Ensino Fundamental     Recife"
            ]
          },
          "execution_count": 76,
          "metadata": {},
          "output_type": "execute_result"
        }
      ],
      "source": [
        "data_.head()"
      ]
    },
    {
      "cell_type": "code",
      "execution_count": null,
      "metadata": {
        "id": "NKSR4T4uOpl3"
      },
      "outputs": [],
      "source": [
        "data.rename(columns = new_cols, inplace = True)"
      ]
    },
    {
      "cell_type": "code",
      "execution_count": null,
      "metadata": {
        "id": "blvO4zICOpl3",
        "outputId": "0dc29e96-0662-4d02-acf5-b2f173769dca"
      },
      "outputs": [
        {
          "data": {
            "text/html": [
              "<div>\n",
              "<style scoped>\n",
              "    .dataframe tbody tr th:only-of-type {\n",
              "        vertical-align: middle;\n",
              "    }\n",
              "\n",
              "    .dataframe tbody tr th {\n",
              "        vertical-align: top;\n",
              "    }\n",
              "\n",
              "    .dataframe thead th {\n",
              "        text-align: right;\n",
              "    }\n",
              "</style>\n",
              "<table border=\"1\" class=\"dataframe\">\n",
              "  <thead>\n",
              "    <tr style=\"text-align: right;\">\n",
              "      <th></th>\n",
              "      <th>id</th>\n",
              "      <th>Idade</th>\n",
              "      <th>renda_cliente</th>\n",
              "      <th>Sexo</th>\n",
              "      <th>grau_escolaridade</th>\n",
              "      <th>Cidade</th>\n",
              "    </tr>\n",
              "  </thead>\n",
              "  <tbody>\n",
              "    <tr>\n",
              "      <th>0</th>\n",
              "      <td>1</td>\n",
              "      <td>27</td>\n",
              "      <td>4297</td>\n",
              "      <td>Masculino</td>\n",
              "      <td>Ensino Médio</td>\n",
              "      <td>São Paulo</td>\n",
              "    </tr>\n",
              "    <tr>\n",
              "      <th>1</th>\n",
              "      <td>2</td>\n",
              "      <td>54</td>\n",
              "      <td>7957</td>\n",
              "      <td>Feminino</td>\n",
              "      <td>Ensino Superior</td>\n",
              "      <td>Recife</td>\n",
              "    </tr>\n",
              "    <tr>\n",
              "      <th>2</th>\n",
              "      <td>3</td>\n",
              "      <td>33</td>\n",
              "      <td>6343</td>\n",
              "      <td>Feminino</td>\n",
              "      <td>Ensino Fundamental</td>\n",
              "      <td>Salvador</td>\n",
              "    </tr>\n",
              "    <tr>\n",
              "      <th>3</th>\n",
              "      <td>4</td>\n",
              "      <td>18</td>\n",
              "      <td>4366</td>\n",
              "      <td>Feminino</td>\n",
              "      <td>Ensino Fundamental</td>\n",
              "      <td>Salvador</td>\n",
              "    </tr>\n",
              "    <tr>\n",
              "      <th>4</th>\n",
              "      <td>5</td>\n",
              "      <td>67</td>\n",
              "      <td>4105</td>\n",
              "      <td>Feminino</td>\n",
              "      <td>Ensino Fundamental</td>\n",
              "      <td>Recife</td>\n",
              "    </tr>\n",
              "  </tbody>\n",
              "</table>\n",
              "</div>"
            ],
            "text/plain": [
              "   id  Idade  renda_cliente       Sexo   grau_escolaridade     Cidade\n",
              "0   1     27           4297  Masculino        Ensino Médio  São Paulo\n",
              "1   2     54           7957   Feminino     Ensino Superior     Recife\n",
              "2   3     33           6343   Feminino  Ensino Fundamental   Salvador\n",
              "3   4     18           4366   Feminino  Ensino Fundamental   Salvador\n",
              "4   5     67           4105   Feminino  Ensino Fundamental     Recife"
            ]
          },
          "execution_count": 78,
          "metadata": {},
          "output_type": "execute_result"
        }
      ],
      "source": [
        "data.head()"
      ]
    },
    {
      "cell_type": "code",
      "execution_count": null,
      "metadata": {
        "id": "KUwkyEeUOpl3",
        "outputId": "8735f0f4-78bc-467d-dbd5-5077ab4b300c"
      },
      "outputs": [
        {
          "data": {
            "text/html": [
              "<div>\n",
              "<style scoped>\n",
              "    .dataframe tbody tr th:only-of-type {\n",
              "        vertical-align: middle;\n",
              "    }\n",
              "\n",
              "    .dataframe tbody tr th {\n",
              "        vertical-align: top;\n",
              "    }\n",
              "\n",
              "    .dataframe thead th {\n",
              "        text-align: right;\n",
              "    }\n",
              "</style>\n",
              "<table border=\"1\" class=\"dataframe\">\n",
              "  <thead>\n",
              "    <tr style=\"text-align: right;\">\n",
              "      <th></th>\n",
              "      <th>id</th>\n",
              "      <th>idade</th>\n",
              "      <th>renda_cliente</th>\n",
              "      <th>sexo</th>\n",
              "      <th>grau_escolaridade</th>\n",
              "      <th>cidade</th>\n",
              "    </tr>\n",
              "  </thead>\n",
              "  <tbody>\n",
              "    <tr>\n",
              "      <th>0</th>\n",
              "      <td>1</td>\n",
              "      <td>27</td>\n",
              "      <td>4297</td>\n",
              "      <td>Masculino</td>\n",
              "      <td>Ensino Médio</td>\n",
              "      <td>São Paulo</td>\n",
              "    </tr>\n",
              "    <tr>\n",
              "      <th>1</th>\n",
              "      <td>2</td>\n",
              "      <td>54</td>\n",
              "      <td>7957</td>\n",
              "      <td>Feminino</td>\n",
              "      <td>Ensino Superior</td>\n",
              "      <td>Recife</td>\n",
              "    </tr>\n",
              "    <tr>\n",
              "      <th>2</th>\n",
              "      <td>3</td>\n",
              "      <td>33</td>\n",
              "      <td>6343</td>\n",
              "      <td>Feminino</td>\n",
              "      <td>Ensino Fundamental</td>\n",
              "      <td>Salvador</td>\n",
              "    </tr>\n",
              "    <tr>\n",
              "      <th>3</th>\n",
              "      <td>4</td>\n",
              "      <td>18</td>\n",
              "      <td>4366</td>\n",
              "      <td>Feminino</td>\n",
              "      <td>Ensino Fundamental</td>\n",
              "      <td>Salvador</td>\n",
              "    </tr>\n",
              "    <tr>\n",
              "      <th>4</th>\n",
              "      <td>5</td>\n",
              "      <td>67</td>\n",
              "      <td>4105</td>\n",
              "      <td>Feminino</td>\n",
              "      <td>Ensino Fundamental</td>\n",
              "      <td>Recife</td>\n",
              "    </tr>\n",
              "    <tr>\n",
              "      <th>...</th>\n",
              "      <td>...</td>\n",
              "      <td>...</td>\n",
              "      <td>...</td>\n",
              "      <td>...</td>\n",
              "      <td>...</td>\n",
              "      <td>...</td>\n",
              "    </tr>\n",
              "    <tr>\n",
              "      <th>95</th>\n",
              "      <td>96</td>\n",
              "      <td>67</td>\n",
              "      <td>2958</td>\n",
              "      <td>Masculino</td>\n",
              "      <td>Ensino Médio</td>\n",
              "      <td>Recife</td>\n",
              "    </tr>\n",
              "    <tr>\n",
              "      <th>96</th>\n",
              "      <td>97</td>\n",
              "      <td>33</td>\n",
              "      <td>5068</td>\n",
              "      <td>Masculino</td>\n",
              "      <td>Ensino Superior</td>\n",
              "      <td>Recife</td>\n",
              "    </tr>\n",
              "    <tr>\n",
              "      <th>97</th>\n",
              "      <td>98</td>\n",
              "      <td>62</td>\n",
              "      <td>7176</td>\n",
              "      <td>Masculino</td>\n",
              "      <td>Ensino Médio</td>\n",
              "      <td>Salvador</td>\n",
              "    </tr>\n",
              "    <tr>\n",
              "      <th>98</th>\n",
              "      <td>99</td>\n",
              "      <td>58</td>\n",
              "      <td>2375</td>\n",
              "      <td>Feminino</td>\n",
              "      <td>Ensino Superior</td>\n",
              "      <td>Rio de Janeiro</td>\n",
              "    </tr>\n",
              "    <tr>\n",
              "      <th>99</th>\n",
              "      <td>100</td>\n",
              "      <td>60</td>\n",
              "      <td>4265</td>\n",
              "      <td>Masculino</td>\n",
              "      <td>Ensino Fundamental</td>\n",
              "      <td>Salvador</td>\n",
              "    </tr>\n",
              "  </tbody>\n",
              "</table>\n",
              "<p>100 rows × 6 columns</p>\n",
              "</div>"
            ],
            "text/plain": [
              "     id  idade  renda_cliente       sexo   grau_escolaridade          cidade\n",
              "0     1     27           4297  Masculino        Ensino Médio       São Paulo\n",
              "1     2     54           7957   Feminino     Ensino Superior          Recife\n",
              "2     3     33           6343   Feminino  Ensino Fundamental        Salvador\n",
              "3     4     18           4366   Feminino  Ensino Fundamental        Salvador\n",
              "4     5     67           4105   Feminino  Ensino Fundamental          Recife\n",
              "..  ...    ...            ...        ...                 ...             ...\n",
              "95   96     67           2958  Masculino        Ensino Médio          Recife\n",
              "96   97     33           5068  Masculino     Ensino Superior          Recife\n",
              "97   98     62           7176  Masculino        Ensino Médio        Salvador\n",
              "98   99     58           2375   Feminino     Ensino Superior  Rio de Janeiro\n",
              "99  100     60           4265  Masculino  Ensino Fundamental        Salvador\n",
              "\n",
              "[100 rows x 6 columns]"
            ]
          },
          "execution_count": 79,
          "metadata": {},
          "output_type": "execute_result"
        }
      ],
      "source": [
        "# aplica o método .lower() em cada coluna do DataFrame via função lambda\n",
        "data.rename(columns = lambda column:column.lower())"
      ]
    },
    {
      "cell_type": "code",
      "execution_count": null,
      "metadata": {
        "id": "OLl_4mCdOpl3",
        "outputId": "340f60a4-036a-43da-8985-4414aa0a7294"
      },
      "outputs": [
        {
          "data": {
            "text/html": [
              "<div>\n",
              "<style scoped>\n",
              "    .dataframe tbody tr th:only-of-type {\n",
              "        vertical-align: middle;\n",
              "    }\n",
              "\n",
              "    .dataframe tbody tr th {\n",
              "        vertical-align: top;\n",
              "    }\n",
              "\n",
              "    .dataframe thead th {\n",
              "        text-align: right;\n",
              "    }\n",
              "</style>\n",
              "<table border=\"1\" class=\"dataframe\">\n",
              "  <thead>\n",
              "    <tr style=\"text-align: right;\">\n",
              "      <th></th>\n",
              "      <th>ID</th>\n",
              "      <th>IDADE</th>\n",
              "      <th>RENDA_CLIENTE</th>\n",
              "      <th>SEXO</th>\n",
              "      <th>GRAU_ESCOLARIDADE</th>\n",
              "      <th>CIDADE</th>\n",
              "    </tr>\n",
              "  </thead>\n",
              "  <tbody>\n",
              "    <tr>\n",
              "      <th>0</th>\n",
              "      <td>1</td>\n",
              "      <td>27</td>\n",
              "      <td>4297</td>\n",
              "      <td>Masculino</td>\n",
              "      <td>Ensino Médio</td>\n",
              "      <td>São Paulo</td>\n",
              "    </tr>\n",
              "    <tr>\n",
              "      <th>1</th>\n",
              "      <td>2</td>\n",
              "      <td>54</td>\n",
              "      <td>7957</td>\n",
              "      <td>Feminino</td>\n",
              "      <td>Ensino Superior</td>\n",
              "      <td>Recife</td>\n",
              "    </tr>\n",
              "    <tr>\n",
              "      <th>2</th>\n",
              "      <td>3</td>\n",
              "      <td>33</td>\n",
              "      <td>6343</td>\n",
              "      <td>Feminino</td>\n",
              "      <td>Ensino Fundamental</td>\n",
              "      <td>Salvador</td>\n",
              "    </tr>\n",
              "    <tr>\n",
              "      <th>3</th>\n",
              "      <td>4</td>\n",
              "      <td>18</td>\n",
              "      <td>4366</td>\n",
              "      <td>Feminino</td>\n",
              "      <td>Ensino Fundamental</td>\n",
              "      <td>Salvador</td>\n",
              "    </tr>\n",
              "    <tr>\n",
              "      <th>4</th>\n",
              "      <td>5</td>\n",
              "      <td>67</td>\n",
              "      <td>4105</td>\n",
              "      <td>Feminino</td>\n",
              "      <td>Ensino Fundamental</td>\n",
              "      <td>Recife</td>\n",
              "    </tr>\n",
              "    <tr>\n",
              "      <th>...</th>\n",
              "      <td>...</td>\n",
              "      <td>...</td>\n",
              "      <td>...</td>\n",
              "      <td>...</td>\n",
              "      <td>...</td>\n",
              "      <td>...</td>\n",
              "    </tr>\n",
              "    <tr>\n",
              "      <th>95</th>\n",
              "      <td>96</td>\n",
              "      <td>67</td>\n",
              "      <td>2958</td>\n",
              "      <td>Masculino</td>\n",
              "      <td>Ensino Médio</td>\n",
              "      <td>Recife</td>\n",
              "    </tr>\n",
              "    <tr>\n",
              "      <th>96</th>\n",
              "      <td>97</td>\n",
              "      <td>33</td>\n",
              "      <td>5068</td>\n",
              "      <td>Masculino</td>\n",
              "      <td>Ensino Superior</td>\n",
              "      <td>Recife</td>\n",
              "    </tr>\n",
              "    <tr>\n",
              "      <th>97</th>\n",
              "      <td>98</td>\n",
              "      <td>62</td>\n",
              "      <td>7176</td>\n",
              "      <td>Masculino</td>\n",
              "      <td>Ensino Médio</td>\n",
              "      <td>Salvador</td>\n",
              "    </tr>\n",
              "    <tr>\n",
              "      <th>98</th>\n",
              "      <td>99</td>\n",
              "      <td>58</td>\n",
              "      <td>2375</td>\n",
              "      <td>Feminino</td>\n",
              "      <td>Ensino Superior</td>\n",
              "      <td>Rio de Janeiro</td>\n",
              "    </tr>\n",
              "    <tr>\n",
              "      <th>99</th>\n",
              "      <td>100</td>\n",
              "      <td>60</td>\n",
              "      <td>4265</td>\n",
              "      <td>Masculino</td>\n",
              "      <td>Ensino Fundamental</td>\n",
              "      <td>Salvador</td>\n",
              "    </tr>\n",
              "  </tbody>\n",
              "</table>\n",
              "<p>100 rows × 6 columns</p>\n",
              "</div>"
            ],
            "text/plain": [
              "     ID  IDADE  RENDA_CLIENTE       SEXO   GRAU_ESCOLARIDADE          CIDADE\n",
              "0     1     27           4297  Masculino        Ensino Médio       São Paulo\n",
              "1     2     54           7957   Feminino     Ensino Superior          Recife\n",
              "2     3     33           6343   Feminino  Ensino Fundamental        Salvador\n",
              "3     4     18           4366   Feminino  Ensino Fundamental        Salvador\n",
              "4     5     67           4105   Feminino  Ensino Fundamental          Recife\n",
              "..  ...    ...            ...        ...                 ...             ...\n",
              "95   96     67           2958  Masculino        Ensino Médio          Recife\n",
              "96   97     33           5068  Masculino     Ensino Superior          Recife\n",
              "97   98     62           7176  Masculino        Ensino Médio        Salvador\n",
              "98   99     58           2375   Feminino     Ensino Superior  Rio de Janeiro\n",
              "99  100     60           4265  Masculino  Ensino Fundamental        Salvador\n",
              "\n",
              "[100 rows x 6 columns]"
            ]
          },
          "execution_count": 80,
          "metadata": {},
          "output_type": "execute_result"
        }
      ],
      "source": [
        "# aplica o método .upper() em cada coluna do DataFrame via função lambda\n",
        "data.rename(columns = lambda column:column.upper())"
      ]
    },
    {
      "cell_type": "markdown",
      "metadata": {
        "id": "Sk5aSkYIOpl3"
      },
      "source": [
        "### Selecionando dados"
      ]
    },
    {
      "cell_type": "code",
      "execution_count": null,
      "metadata": {
        "id": "7b-BcEZvOpl3"
      },
      "outputs": [],
      "source": [
        "np.random.seed(7)\n",
        "sample = pd.DataFrame({'A': np.random.randint(1, 100, 5),\n",
        "                       'B': np.random.randint(1, 1_000, 5),\n",
        "                       'C': np.random.randint(500, 2_000, 5)\n",
        "                      },\n",
        "                     index = ['a', 'b', 'c', 'd', 'e'])"
      ]
    },
    {
      "cell_type": "code",
      "execution_count": null,
      "metadata": {
        "id": "FbAhVm-XOpl4",
        "outputId": "789d68e3-451d-49d9-9c1a-6cc33426819b"
      },
      "outputs": [
        {
          "data": {
            "text/html": [
              "<div>\n",
              "<style scoped>\n",
              "    .dataframe tbody tr th:only-of-type {\n",
              "        vertical-align: middle;\n",
              "    }\n",
              "\n",
              "    .dataframe tbody tr th {\n",
              "        vertical-align: top;\n",
              "    }\n",
              "\n",
              "    .dataframe thead th {\n",
              "        text-align: right;\n",
              "    }\n",
              "</style>\n",
              "<table border=\"1\" class=\"dataframe\">\n",
              "  <thead>\n",
              "    <tr style=\"text-align: right;\">\n",
              "      <th></th>\n",
              "      <th>A</th>\n",
              "      <th>B</th>\n",
              "      <th>C</th>\n",
              "    </tr>\n",
              "  </thead>\n",
              "  <tbody>\n",
              "    <tr>\n",
              "      <th>a</th>\n",
              "      <td>48</td>\n",
              "      <td>920</td>\n",
              "      <td>1035</td>\n",
              "    </tr>\n",
              "    <tr>\n",
              "      <th>b</th>\n",
              "      <td>69</td>\n",
              "      <td>616</td>\n",
              "      <td>845</td>\n",
              "    </tr>\n",
              "    <tr>\n",
              "      <th>c</th>\n",
              "      <td>26</td>\n",
              "      <td>349</td>\n",
              "      <td>866</td>\n",
              "    </tr>\n",
              "    <tr>\n",
              "      <th>d</th>\n",
              "      <td>68</td>\n",
              "      <td>186</td>\n",
              "      <td>1054</td>\n",
              "    </tr>\n",
              "    <tr>\n",
              "      <th>e</th>\n",
              "      <td>84</td>\n",
              "      <td>399</td>\n",
              "      <td>1230</td>\n",
              "    </tr>\n",
              "  </tbody>\n",
              "</table>\n",
              "</div>"
            ],
            "text/plain": [
              "    A    B     C\n",
              "a  48  920  1035\n",
              "b  69  616   845\n",
              "c  26  349   866\n",
              "d  68  186  1054\n",
              "e  84  399  1230"
            ]
          },
          "execution_count": 82,
          "metadata": {},
          "output_type": "execute_result"
        }
      ],
      "source": [
        "sample"
      ]
    },
    {
      "cell_type": "markdown",
      "metadata": {
        "id": "bVrPPIslOpl4"
      },
      "source": [
        ".iloc[]: seleciona valores pelo índice.\n",
        "\n",
        "Sintaxe: `data_frame.iloc[linha, coluna]`"
      ]
    },
    {
      "cell_type": "code",
      "execution_count": null,
      "metadata": {
        "id": "wBsTaSf-Opl4",
        "outputId": "c2056eff-f8a5-46b3-a6d7-58afca0b9ab9"
      },
      "outputs": [
        {
          "data": {
            "text/plain": [
              "a    48\n",
              "b    69\n",
              "c    26\n",
              "d    68\n",
              "e    84\n",
              "Name: A, dtype: int64"
            ]
          },
          "execution_count": 83,
          "metadata": {},
          "output_type": "execute_result"
        }
      ],
      "source": [
        "# todas as linhas da coluna de posição 0\n",
        "sample.iloc[:, 0]"
      ]
    },
    {
      "cell_type": "code",
      "execution_count": null,
      "metadata": {
        "id": "ok-Nj_u-Opl4",
        "outputId": "a3c82887-c914-4f2b-f377-f885724bd1ae"
      },
      "outputs": [
        {
          "data": {
            "text/html": [
              "<div>\n",
              "<style scoped>\n",
              "    .dataframe tbody tr th:only-of-type {\n",
              "        vertical-align: middle;\n",
              "    }\n",
              "\n",
              "    .dataframe tbody tr th {\n",
              "        vertical-align: top;\n",
              "    }\n",
              "\n",
              "    .dataframe thead th {\n",
              "        text-align: right;\n",
              "    }\n",
              "</style>\n",
              "<table border=\"1\" class=\"dataframe\">\n",
              "  <thead>\n",
              "    <tr style=\"text-align: right;\">\n",
              "      <th></th>\n",
              "      <th>A</th>\n",
              "      <th>B</th>\n",
              "      <th>C</th>\n",
              "    </tr>\n",
              "  </thead>\n",
              "  <tbody>\n",
              "    <tr>\n",
              "      <th>a</th>\n",
              "      <td>48</td>\n",
              "      <td>920</td>\n",
              "      <td>1035</td>\n",
              "    </tr>\n",
              "    <tr>\n",
              "      <th>b</th>\n",
              "      <td>69</td>\n",
              "      <td>616</td>\n",
              "      <td>845</td>\n",
              "    </tr>\n",
              "    <tr>\n",
              "      <th>c</th>\n",
              "      <td>26</td>\n",
              "      <td>349</td>\n",
              "      <td>866</td>\n",
              "    </tr>\n",
              "    <tr>\n",
              "      <th>d</th>\n",
              "      <td>68</td>\n",
              "      <td>186</td>\n",
              "      <td>1054</td>\n",
              "    </tr>\n",
              "  </tbody>\n",
              "</table>\n",
              "</div>"
            ],
            "text/plain": [
              "    A    B     C\n",
              "a  48  920  1035\n",
              "b  69  616   845\n",
              "c  26  349   866\n",
              "d  68  186  1054"
            ]
          },
          "execution_count": 84,
          "metadata": {},
          "output_type": "execute_result"
        }
      ],
      "source": [
        "# valores entre 'a' e 'd'\n",
        "sample.iloc[:4]"
      ]
    },
    {
      "cell_type": "code",
      "execution_count": null,
      "metadata": {
        "id": "r5TIdud3Opl4",
        "outputId": "b46893a3-55e8-416e-d44a-ff65b7334d60"
      },
      "outputs": [
        {
          "data": {
            "text/plain": [
              "a    48\n",
              "b    69\n",
              "c    26\n",
              "Name: A, dtype: int64"
            ]
          },
          "execution_count": 85,
          "metadata": {},
          "output_type": "execute_result"
        }
      ],
      "source": [
        "# valores das linhas 'a' até 'c', para a coluna de posição 0\n",
        "sample.iloc[:3, 0]"
      ]
    },
    {
      "cell_type": "code",
      "execution_count": null,
      "metadata": {
        "id": "K6pt90D5Opl4",
        "outputId": "ab1f191a-bfd0-4530-8755-95b01c4d417b"
      },
      "outputs": [
        {
          "data": {
            "text/html": [
              "<div>\n",
              "<style scoped>\n",
              "    .dataframe tbody tr th:only-of-type {\n",
              "        vertical-align: middle;\n",
              "    }\n",
              "\n",
              "    .dataframe tbody tr th {\n",
              "        vertical-align: top;\n",
              "    }\n",
              "\n",
              "    .dataframe thead th {\n",
              "        text-align: right;\n",
              "    }\n",
              "</style>\n",
              "<table border=\"1\" class=\"dataframe\">\n",
              "  <thead>\n",
              "    <tr style=\"text-align: right;\">\n",
              "      <th></th>\n",
              "      <th>A</th>\n",
              "      <th>B</th>\n",
              "    </tr>\n",
              "  </thead>\n",
              "  <tbody>\n",
              "    <tr>\n",
              "      <th>b</th>\n",
              "      <td>69</td>\n",
              "      <td>616</td>\n",
              "    </tr>\n",
              "    <tr>\n",
              "      <th>c</th>\n",
              "      <td>26</td>\n",
              "      <td>349</td>\n",
              "    </tr>\n",
              "    <tr>\n",
              "      <th>d</th>\n",
              "      <td>68</td>\n",
              "      <td>186</td>\n",
              "    </tr>\n",
              "  </tbody>\n",
              "</table>\n",
              "</div>"
            ],
            "text/plain": [
              "    A    B\n",
              "b  69  616\n",
              "c  26  349\n",
              "d  68  186"
            ]
          },
          "execution_count": 86,
          "metadata": {},
          "output_type": "execute_result"
        }
      ],
      "source": [
        "# valores das linhas 'b' até 'd', para a colunas de posição 0 e 1\n",
        "sample.iloc[1:4, [0, 1]]"
      ]
    },
    {
      "cell_type": "code",
      "execution_count": null,
      "metadata": {
        "id": "zFpkPYikOpl5",
        "outputId": "7482e5d4-b146-442e-c02c-764de584a675"
      },
      "outputs": [
        {
          "data": {
            "text/html": [
              "<div>\n",
              "<style scoped>\n",
              "    .dataframe tbody tr th:only-of-type {\n",
              "        vertical-align: middle;\n",
              "    }\n",
              "\n",
              "    .dataframe tbody tr th {\n",
              "        vertical-align: top;\n",
              "    }\n",
              "\n",
              "    .dataframe thead th {\n",
              "        text-align: right;\n",
              "    }\n",
              "</style>\n",
              "<table border=\"1\" class=\"dataframe\">\n",
              "  <thead>\n",
              "    <tr style=\"text-align: right;\">\n",
              "      <th></th>\n",
              "      <th>A</th>\n",
              "      <th>C</th>\n",
              "    </tr>\n",
              "  </thead>\n",
              "  <tbody>\n",
              "    <tr>\n",
              "      <th>c</th>\n",
              "      <td>26</td>\n",
              "      <td>866</td>\n",
              "    </tr>\n",
              "    <tr>\n",
              "      <th>d</th>\n",
              "      <td>68</td>\n",
              "      <td>1054</td>\n",
              "    </tr>\n",
              "    <tr>\n",
              "      <th>e</th>\n",
              "      <td>84</td>\n",
              "      <td>1230</td>\n",
              "    </tr>\n",
              "  </tbody>\n",
              "</table>\n",
              "</div>"
            ],
            "text/plain": [
              "    A     C\n",
              "c  26   866\n",
              "d  68  1054\n",
              "e  84  1230"
            ]
          },
          "execution_count": 87,
          "metadata": {},
          "output_type": "execute_result"
        }
      ],
      "source": [
        "# valores a partir da coluna 'c', colunas de posição [0 e 2]\n",
        "sample.iloc[2:, [0, 2]]"
      ]
    },
    {
      "cell_type": "markdown",
      "metadata": {
        "id": "TNZ5hArJOpl5"
      },
      "source": [
        ".loc[]: seleciona valores pelo label.\n",
        "\n",
        "Sintaxe: `data_frame.loc[linha, coluna]`"
      ]
    },
    {
      "cell_type": "code",
      "execution_count": null,
      "metadata": {
        "id": "A6sP-aSCOpl5",
        "outputId": "720da8c4-42c9-4818-df0c-31ba30895442"
      },
      "outputs": [
        {
          "data": {
            "text/plain": [
              "a    48\n",
              "b    69\n",
              "c    26\n",
              "d    68\n",
              "e    84\n",
              "Name: A, dtype: int64"
            ]
          },
          "execution_count": 88,
          "metadata": {},
          "output_type": "execute_result"
        }
      ],
      "source": [
        "# todas as linhas da coluna A\n",
        "sample.loc[:,'A']"
      ]
    },
    {
      "cell_type": "code",
      "execution_count": null,
      "metadata": {
        "id": "77ElG_tnOpl5",
        "outputId": "5fed5960-f90c-4c74-9bd4-7cde393b2550"
      },
      "outputs": [
        {
          "data": {
            "text/html": [
              "<div>\n",
              "<style scoped>\n",
              "    .dataframe tbody tr th:only-of-type {\n",
              "        vertical-align: middle;\n",
              "    }\n",
              "\n",
              "    .dataframe tbody tr th {\n",
              "        vertical-align: top;\n",
              "    }\n",
              "\n",
              "    .dataframe thead th {\n",
              "        text-align: right;\n",
              "    }\n",
              "</style>\n",
              "<table border=\"1\" class=\"dataframe\">\n",
              "  <thead>\n",
              "    <tr style=\"text-align: right;\">\n",
              "      <th></th>\n",
              "      <th>A</th>\n",
              "      <th>B</th>\n",
              "      <th>C</th>\n",
              "    </tr>\n",
              "  </thead>\n",
              "  <tbody>\n",
              "    <tr>\n",
              "      <th>a</th>\n",
              "      <td>48</td>\n",
              "      <td>920</td>\n",
              "      <td>1035</td>\n",
              "    </tr>\n",
              "    <tr>\n",
              "      <th>b</th>\n",
              "      <td>69</td>\n",
              "      <td>616</td>\n",
              "      <td>845</td>\n",
              "    </tr>\n",
              "    <tr>\n",
              "      <th>c</th>\n",
              "      <td>26</td>\n",
              "      <td>349</td>\n",
              "      <td>866</td>\n",
              "    </tr>\n",
              "    <tr>\n",
              "      <th>d</th>\n",
              "      <td>68</td>\n",
              "      <td>186</td>\n",
              "      <td>1054</td>\n",
              "    </tr>\n",
              "  </tbody>\n",
              "</table>\n",
              "</div>"
            ],
            "text/plain": [
              "    A    B     C\n",
              "a  48  920  1035\n",
              "b  69  616   845\n",
              "c  26  349   866\n",
              "d  68  186  1054"
            ]
          },
          "execution_count": 89,
          "metadata": {},
          "output_type": "execute_result"
        }
      ],
      "source": [
        "# valores entre 'a' e 'd'\n",
        "sample.loc['a':'d', :]"
      ]
    },
    {
      "cell_type": "code",
      "execution_count": null,
      "metadata": {
        "id": "8fCoNigiOpl5",
        "outputId": "526ba5db-7c69-46a9-c92b-360511b5de63"
      },
      "outputs": [
        {
          "data": {
            "text/plain": [
              "a    48\n",
              "b    69\n",
              "c    26\n",
              "Name: A, dtype: int64"
            ]
          },
          "execution_count": 90,
          "metadata": {},
          "output_type": "execute_result"
        }
      ],
      "source": [
        "# valores das linhas 'a' até 'c', para a coluna A\n",
        "sample.loc['a':'c', 'A']"
      ]
    },
    {
      "cell_type": "code",
      "execution_count": null,
      "metadata": {
        "id": "2Dob6GuUOpl5",
        "outputId": "5b71afd9-5909-4fdc-a689-f1b3f0998951"
      },
      "outputs": [
        {
          "data": {
            "text/html": [
              "<div>\n",
              "<style scoped>\n",
              "    .dataframe tbody tr th:only-of-type {\n",
              "        vertical-align: middle;\n",
              "    }\n",
              "\n",
              "    .dataframe tbody tr th {\n",
              "        vertical-align: top;\n",
              "    }\n",
              "\n",
              "    .dataframe thead th {\n",
              "        text-align: right;\n",
              "    }\n",
              "</style>\n",
              "<table border=\"1\" class=\"dataframe\">\n",
              "  <thead>\n",
              "    <tr style=\"text-align: right;\">\n",
              "      <th></th>\n",
              "      <th>A</th>\n",
              "      <th>B</th>\n",
              "    </tr>\n",
              "  </thead>\n",
              "  <tbody>\n",
              "    <tr>\n",
              "      <th>b</th>\n",
              "      <td>69</td>\n",
              "      <td>616</td>\n",
              "    </tr>\n",
              "    <tr>\n",
              "      <th>c</th>\n",
              "      <td>26</td>\n",
              "      <td>349</td>\n",
              "    </tr>\n",
              "    <tr>\n",
              "      <th>d</th>\n",
              "      <td>68</td>\n",
              "      <td>186</td>\n",
              "    </tr>\n",
              "  </tbody>\n",
              "</table>\n",
              "</div>"
            ],
            "text/plain": [
              "    A    B\n",
              "b  69  616\n",
              "c  26  349\n",
              "d  68  186"
            ]
          },
          "execution_count": 91,
          "metadata": {},
          "output_type": "execute_result"
        }
      ],
      "source": [
        "# valores das linhas 'b' até 'd', para a colunas A e B\n",
        "sample.loc['b':'d', ['A', 'B']]"
      ]
    },
    {
      "cell_type": "code",
      "execution_count": null,
      "metadata": {
        "id": "tenGgpjYOpl6",
        "outputId": "17418b7f-c3b1-45d7-94f5-86743dfd9a22"
      },
      "outputs": [
        {
          "data": {
            "text/html": [
              "<div>\n",
              "<style scoped>\n",
              "    .dataframe tbody tr th:only-of-type {\n",
              "        vertical-align: middle;\n",
              "    }\n",
              "\n",
              "    .dataframe tbody tr th {\n",
              "        vertical-align: top;\n",
              "    }\n",
              "\n",
              "    .dataframe thead th {\n",
              "        text-align: right;\n",
              "    }\n",
              "</style>\n",
              "<table border=\"1\" class=\"dataframe\">\n",
              "  <thead>\n",
              "    <tr style=\"text-align: right;\">\n",
              "      <th></th>\n",
              "      <th>A</th>\n",
              "      <th>C</th>\n",
              "    </tr>\n",
              "  </thead>\n",
              "  <tbody>\n",
              "    <tr>\n",
              "      <th>c</th>\n",
              "      <td>26</td>\n",
              "      <td>866</td>\n",
              "    </tr>\n",
              "    <tr>\n",
              "      <th>d</th>\n",
              "      <td>68</td>\n",
              "      <td>1054</td>\n",
              "    </tr>\n",
              "    <tr>\n",
              "      <th>e</th>\n",
              "      <td>84</td>\n",
              "      <td>1230</td>\n",
              "    </tr>\n",
              "  </tbody>\n",
              "</table>\n",
              "</div>"
            ],
            "text/plain": [
              "    A     C\n",
              "c  26   866\n",
              "d  68  1054\n",
              "e  84  1230"
            ]
          },
          "execution_count": 92,
          "metadata": {},
          "output_type": "execute_result"
        }
      ],
      "source": [
        "# valores a partir da coluna 'c', colunas de posição [0 e 2]\n",
        "sample.loc['c':, ['A', 'C']]"
      ]
    },
    {
      "cell_type": "code",
      "execution_count": null,
      "metadata": {
        "id": "KvGWPC2UOpl6",
        "outputId": "07b485ca-4e59-4feb-cb13-845a0469691b"
      },
      "outputs": [
        {
          "data": {
            "text/html": [
              "<div>\n",
              "<style scoped>\n",
              "    .dataframe tbody tr th:only-of-type {\n",
              "        vertical-align: middle;\n",
              "    }\n",
              "\n",
              "    .dataframe tbody tr th {\n",
              "        vertical-align: top;\n",
              "    }\n",
              "\n",
              "    .dataframe thead th {\n",
              "        text-align: right;\n",
              "    }\n",
              "</style>\n",
              "<table border=\"1\" class=\"dataframe\">\n",
              "  <thead>\n",
              "    <tr style=\"text-align: right;\">\n",
              "      <th></th>\n",
              "      <th>A</th>\n",
              "      <th>B</th>\n",
              "      <th>C</th>\n",
              "    </tr>\n",
              "  </thead>\n",
              "  <tbody>\n",
              "    <tr>\n",
              "      <th>e</th>\n",
              "      <td>84</td>\n",
              "      <td>399</td>\n",
              "      <td>1230</td>\n",
              "    </tr>\n",
              "  </tbody>\n",
              "</table>\n",
              "</div>"
            ],
            "text/plain": [
              "    A    B     C\n",
              "e  84  399  1230"
            ]
          },
          "execution_count": 93,
          "metadata": {},
          "output_type": "execute_result"
        }
      ],
      "source": [
        "# seleciona todas as colunas da última linha\n",
        "sample.iloc[-1:, ]"
      ]
    },
    {
      "cell_type": "code",
      "execution_count": null,
      "metadata": {
        "id": "C8MSRiqpOpl6",
        "outputId": "51923982-96f0-496d-c92a-25b5275b6d7d"
      },
      "outputs": [
        {
          "data": {
            "text/html": [
              "<div>\n",
              "<style scoped>\n",
              "    .dataframe tbody tr th:only-of-type {\n",
              "        vertical-align: middle;\n",
              "    }\n",
              "\n",
              "    .dataframe tbody tr th {\n",
              "        vertical-align: top;\n",
              "    }\n",
              "\n",
              "    .dataframe thead th {\n",
              "        text-align: right;\n",
              "    }\n",
              "</style>\n",
              "<table border=\"1\" class=\"dataframe\">\n",
              "  <thead>\n",
              "    <tr style=\"text-align: right;\">\n",
              "      <th></th>\n",
              "      <th>A</th>\n",
              "      <th>B</th>\n",
              "      <th>C</th>\n",
              "    </tr>\n",
              "  </thead>\n",
              "  <tbody>\n",
              "    <tr>\n",
              "      <th>d</th>\n",
              "      <td>68</td>\n",
              "      <td>186</td>\n",
              "      <td>1054</td>\n",
              "    </tr>\n",
              "    <tr>\n",
              "      <th>e</th>\n",
              "      <td>84</td>\n",
              "      <td>399</td>\n",
              "      <td>1230</td>\n",
              "    </tr>\n",
              "  </tbody>\n",
              "</table>\n",
              "</div>"
            ],
            "text/plain": [
              "    A    B     C\n",
              "d  68  186  1054\n",
              "e  84  399  1230"
            ]
          },
          "execution_count": 94,
          "metadata": {},
          "output_type": "execute_result"
        }
      ],
      "source": [
        "# seleciona todas as colunas das duas últimas linhas\n",
        "sample.iloc[-2:, ]"
      ]
    },
    {
      "cell_type": "code",
      "execution_count": null,
      "metadata": {
        "id": "FoXdu5GlOpl6",
        "outputId": "ff98f78a-b207-4949-b34f-47a554e51732"
      },
      "outputs": [
        {
          "data": {
            "text/plain": [
              "a    1035\n",
              "b     845\n",
              "c     866\n",
              "d    1054\n",
              "e    1230\n",
              "Name: C, dtype: int64"
            ]
          },
          "execution_count": 95,
          "metadata": {},
          "output_type": "execute_result"
        }
      ],
      "source": [
        "# todos os valores da última coluna\n",
        "sample.iloc[:, -1]"
      ]
    },
    {
      "cell_type": "markdown",
      "metadata": {
        "id": "4rFndVEhOpl6"
      },
      "source": [
        "Selecionando apenas um valor:"
      ]
    },
    {
      "cell_type": "code",
      "execution_count": null,
      "metadata": {
        "id": "3JY5mEvwOpl6",
        "outputId": "b9c67cbb-27af-43f6-ec5b-37d6fc8ddc69"
      },
      "outputs": [
        {
          "data": {
            "text/plain": [
              "48"
            ]
          },
          "execution_count": 96,
          "metadata": {},
          "output_type": "execute_result"
        }
      ],
      "source": [
        "sample.at['a', 'A']"
      ]
    },
    {
      "cell_type": "code",
      "execution_count": null,
      "metadata": {
        "id": "u3F8HnESOpl6"
      },
      "outputs": [],
      "source": [
        "# altera o valor\n",
        "sample.at['a', 'A'] = 50"
      ]
    },
    {
      "cell_type": "code",
      "execution_count": null,
      "metadata": {
        "id": "J94pJlM9Opl7",
        "outputId": "e1099cf3-6163-4c01-9228-8c406ed6b3c4"
      },
      "outputs": [
        {
          "data": {
            "text/html": [
              "<div>\n",
              "<style scoped>\n",
              "    .dataframe tbody tr th:only-of-type {\n",
              "        vertical-align: middle;\n",
              "    }\n",
              "\n",
              "    .dataframe tbody tr th {\n",
              "        vertical-align: top;\n",
              "    }\n",
              "\n",
              "    .dataframe thead th {\n",
              "        text-align: right;\n",
              "    }\n",
              "</style>\n",
              "<table border=\"1\" class=\"dataframe\">\n",
              "  <thead>\n",
              "    <tr style=\"text-align: right;\">\n",
              "      <th></th>\n",
              "      <th>A</th>\n",
              "      <th>B</th>\n",
              "      <th>C</th>\n",
              "    </tr>\n",
              "  </thead>\n",
              "  <tbody>\n",
              "    <tr>\n",
              "      <th>a</th>\n",
              "      <td>50</td>\n",
              "      <td>920</td>\n",
              "      <td>1035</td>\n",
              "    </tr>\n",
              "    <tr>\n",
              "      <th>b</th>\n",
              "      <td>69</td>\n",
              "      <td>616</td>\n",
              "      <td>845</td>\n",
              "    </tr>\n",
              "    <tr>\n",
              "      <th>c</th>\n",
              "      <td>26</td>\n",
              "      <td>349</td>\n",
              "      <td>866</td>\n",
              "    </tr>\n",
              "    <tr>\n",
              "      <th>d</th>\n",
              "      <td>68</td>\n",
              "      <td>186</td>\n",
              "      <td>1054</td>\n",
              "    </tr>\n",
              "    <tr>\n",
              "      <th>e</th>\n",
              "      <td>84</td>\n",
              "      <td>399</td>\n",
              "      <td>1230</td>\n",
              "    </tr>\n",
              "  </tbody>\n",
              "</table>\n",
              "</div>"
            ],
            "text/plain": [
              "    A    B     C\n",
              "a  50  920  1035\n",
              "b  69  616   845\n",
              "c  26  349   866\n",
              "d  68  186  1054\n",
              "e  84  399  1230"
            ]
          },
          "execution_count": 98,
          "metadata": {},
          "output_type": "execute_result"
        }
      ],
      "source": [
        "sample"
      ]
    },
    {
      "cell_type": "code",
      "execution_count": null,
      "metadata": {
        "id": "5xN_q2lpOpl7",
        "outputId": "25379f68-4ee8-46e5-e16c-ac6addbd21bc"
      },
      "outputs": [
        {
          "data": {
            "text/plain": [
              "50"
            ]
          },
          "execution_count": 99,
          "metadata": {},
          "output_type": "execute_result"
        }
      ],
      "source": [
        "sample.iat[0, 0]"
      ]
    },
    {
      "cell_type": "code",
      "execution_count": null,
      "metadata": {
        "id": "3uaduDlyOpl7",
        "outputId": "45d0f2dd-43c0-47d0-c11e-fbf1ad3b4675"
      },
      "outputs": [
        {
          "data": {
            "text/plain": [
              "186"
            ]
          },
          "execution_count": 100,
          "metadata": {},
          "output_type": "execute_result"
        }
      ],
      "source": [
        "sample.iat[3, 1]"
      ]
    },
    {
      "cell_type": "markdown",
      "metadata": {
        "id": "8HLy_JpJOpl7"
      },
      "source": [
        "### Ordenação"
      ]
    },
    {
      "cell_type": "code",
      "execution_count": null,
      "metadata": {
        "id": "ChYr4NqIOpl7"
      },
      "outputs": [],
      "source": [
        "np.random.seed(10)\n",
        "n = 50_000\n",
        "\n",
        "escolaridade = ['Ensino Fundamental', 'Ensino Médio', 'Ensino Superior']\n",
        "\n",
        "data = {\n",
        "    'Id': np.arange(1, n+1),\n",
        "    'Idade': np.random.randint(18, 70, size = n),\n",
        "    'Renda': np.random.randint(1_500, 10_000, size = n),\n",
        "    'Sexo': np.random.choice(['Masculino', 'Feminino'], size = n),\n",
        "    'Escolaridade': np.random.choice(escolaridade, size = n)\n",
        "}\n",
        "\n",
        "df = pd.DataFrame(data)"
      ]
    },
    {
      "cell_type": "code",
      "execution_count": null,
      "metadata": {
        "id": "BbtIP58gOpl7",
        "outputId": "d1c64697-dbd9-4b78-bdad-8b20e43fb615"
      },
      "outputs": [
        {
          "data": {
            "text/html": [
              "<div>\n",
              "<style scoped>\n",
              "    .dataframe tbody tr th:only-of-type {\n",
              "        vertical-align: middle;\n",
              "    }\n",
              "\n",
              "    .dataframe tbody tr th {\n",
              "        vertical-align: top;\n",
              "    }\n",
              "\n",
              "    .dataframe thead th {\n",
              "        text-align: right;\n",
              "    }\n",
              "</style>\n",
              "<table border=\"1\" class=\"dataframe\">\n",
              "  <thead>\n",
              "    <tr style=\"text-align: right;\">\n",
              "      <th></th>\n",
              "      <th>Id</th>\n",
              "      <th>Idade</th>\n",
              "      <th>Renda</th>\n",
              "      <th>Sexo</th>\n",
              "      <th>Escolaridade</th>\n",
              "    </tr>\n",
              "  </thead>\n",
              "  <tbody>\n",
              "    <tr>\n",
              "      <th>20624</th>\n",
              "      <td>20625</td>\n",
              "      <td>32</td>\n",
              "      <td>1500</td>\n",
              "      <td>Masculino</td>\n",
              "      <td>Ensino Superior</td>\n",
              "    </tr>\n",
              "    <tr>\n",
              "      <th>33316</th>\n",
              "      <td>33317</td>\n",
              "      <td>46</td>\n",
              "      <td>1500</td>\n",
              "      <td>Feminino</td>\n",
              "      <td>Ensino Médio</td>\n",
              "    </tr>\n",
              "    <tr>\n",
              "      <th>8074</th>\n",
              "      <td>8075</td>\n",
              "      <td>39</td>\n",
              "      <td>1500</td>\n",
              "      <td>Masculino</td>\n",
              "      <td>Ensino Superior</td>\n",
              "    </tr>\n",
              "    <tr>\n",
              "      <th>23165</th>\n",
              "      <td>23166</td>\n",
              "      <td>36</td>\n",
              "      <td>1500</td>\n",
              "      <td>Masculino</td>\n",
              "      <td>Ensino Médio</td>\n",
              "    </tr>\n",
              "    <tr>\n",
              "      <th>30444</th>\n",
              "      <td>30445</td>\n",
              "      <td>32</td>\n",
              "      <td>1500</td>\n",
              "      <td>Feminino</td>\n",
              "      <td>Ensino Fundamental</td>\n",
              "    </tr>\n",
              "    <tr>\n",
              "      <th>...</th>\n",
              "      <td>...</td>\n",
              "      <td>...</td>\n",
              "      <td>...</td>\n",
              "      <td>...</td>\n",
              "      <td>...</td>\n",
              "    </tr>\n",
              "    <tr>\n",
              "      <th>21093</th>\n",
              "      <td>21094</td>\n",
              "      <td>65</td>\n",
              "      <td>9999</td>\n",
              "      <td>Masculino</td>\n",
              "      <td>Ensino Superior</td>\n",
              "    </tr>\n",
              "    <tr>\n",
              "      <th>8381</th>\n",
              "      <td>8382</td>\n",
              "      <td>68</td>\n",
              "      <td>9999</td>\n",
              "      <td>Feminino</td>\n",
              "      <td>Ensino Médio</td>\n",
              "    </tr>\n",
              "    <tr>\n",
              "      <th>38187</th>\n",
              "      <td>38188</td>\n",
              "      <td>23</td>\n",
              "      <td>9999</td>\n",
              "      <td>Masculino</td>\n",
              "      <td>Ensino Superior</td>\n",
              "    </tr>\n",
              "    <tr>\n",
              "      <th>41288</th>\n",
              "      <td>41289</td>\n",
              "      <td>61</td>\n",
              "      <td>9999</td>\n",
              "      <td>Masculino</td>\n",
              "      <td>Ensino Fundamental</td>\n",
              "    </tr>\n",
              "    <tr>\n",
              "      <th>1481</th>\n",
              "      <td>1482</td>\n",
              "      <td>68</td>\n",
              "      <td>9999</td>\n",
              "      <td>Masculino</td>\n",
              "      <td>Ensino Médio</td>\n",
              "    </tr>\n",
              "  </tbody>\n",
              "</table>\n",
              "<p>50000 rows × 5 columns</p>\n",
              "</div>"
            ],
            "text/plain": [
              "          Id  Idade  Renda       Sexo        Escolaridade\n",
              "20624  20625     32   1500  Masculino     Ensino Superior\n",
              "33316  33317     46   1500   Feminino        Ensino Médio\n",
              "8074    8075     39   1500  Masculino     Ensino Superior\n",
              "23165  23166     36   1500  Masculino        Ensino Médio\n",
              "30444  30445     32   1500   Feminino  Ensino Fundamental\n",
              "...      ...    ...    ...        ...                 ...\n",
              "21093  21094     65   9999  Masculino     Ensino Superior\n",
              "8381    8382     68   9999   Feminino        Ensino Médio\n",
              "38187  38188     23   9999  Masculino     Ensino Superior\n",
              "41288  41289     61   9999  Masculino  Ensino Fundamental\n",
              "1481    1482     68   9999  Masculino        Ensino Médio\n",
              "\n",
              "[50000 rows x 5 columns]"
            ]
          },
          "execution_count": 102,
          "metadata": {},
          "output_type": "execute_result"
        }
      ],
      "source": [
        "# ordena o data frame pelo nível de renda\n",
        "df.sort_values(by = 'Renda')"
      ]
    },
    {
      "cell_type": "code",
      "execution_count": null,
      "metadata": {
        "id": "TAnaz46oOpl8",
        "outputId": "4c32dfc4-18fc-4d9b-e06b-8494c8c3800f"
      },
      "outputs": [
        {
          "data": {
            "text/html": [
              "<div>\n",
              "<style scoped>\n",
              "    .dataframe tbody tr th:only-of-type {\n",
              "        vertical-align: middle;\n",
              "    }\n",
              "\n",
              "    .dataframe tbody tr th {\n",
              "        vertical-align: top;\n",
              "    }\n",
              "\n",
              "    .dataframe thead th {\n",
              "        text-align: right;\n",
              "    }\n",
              "</style>\n",
              "<table border=\"1\" class=\"dataframe\">\n",
              "  <thead>\n",
              "    <tr style=\"text-align: right;\">\n",
              "      <th></th>\n",
              "      <th>Id</th>\n",
              "      <th>Idade</th>\n",
              "      <th>Renda</th>\n",
              "      <th>Sexo</th>\n",
              "      <th>Escolaridade</th>\n",
              "    </tr>\n",
              "  </thead>\n",
              "  <tbody>\n",
              "    <tr>\n",
              "      <th>36064</th>\n",
              "      <td>36065</td>\n",
              "      <td>22</td>\n",
              "      <td>1500</td>\n",
              "      <td>Feminino</td>\n",
              "      <td>Ensino Médio</td>\n",
              "    </tr>\n",
              "    <tr>\n",
              "      <th>20624</th>\n",
              "      <td>20625</td>\n",
              "      <td>32</td>\n",
              "      <td>1500</td>\n",
              "      <td>Masculino</td>\n",
              "      <td>Ensino Superior</td>\n",
              "    </tr>\n",
              "    <tr>\n",
              "      <th>30444</th>\n",
              "      <td>30445</td>\n",
              "      <td>32</td>\n",
              "      <td>1500</td>\n",
              "      <td>Feminino</td>\n",
              "      <td>Ensino Fundamental</td>\n",
              "    </tr>\n",
              "    <tr>\n",
              "      <th>23165</th>\n",
              "      <td>23166</td>\n",
              "      <td>36</td>\n",
              "      <td>1500</td>\n",
              "      <td>Masculino</td>\n",
              "      <td>Ensino Médio</td>\n",
              "    </tr>\n",
              "    <tr>\n",
              "      <th>20935</th>\n",
              "      <td>20936</td>\n",
              "      <td>38</td>\n",
              "      <td>1500</td>\n",
              "      <td>Masculino</td>\n",
              "      <td>Ensino Fundamental</td>\n",
              "    </tr>\n",
              "    <tr>\n",
              "      <th>...</th>\n",
              "      <td>...</td>\n",
              "      <td>...</td>\n",
              "      <td>...</td>\n",
              "      <td>...</td>\n",
              "      <td>...</td>\n",
              "    </tr>\n",
              "    <tr>\n",
              "      <th>38187</th>\n",
              "      <td>38188</td>\n",
              "      <td>23</td>\n",
              "      <td>9999</td>\n",
              "      <td>Masculino</td>\n",
              "      <td>Ensino Superior</td>\n",
              "    </tr>\n",
              "    <tr>\n",
              "      <th>41288</th>\n",
              "      <td>41289</td>\n",
              "      <td>61</td>\n",
              "      <td>9999</td>\n",
              "      <td>Masculino</td>\n",
              "      <td>Ensino Fundamental</td>\n",
              "    </tr>\n",
              "    <tr>\n",
              "      <th>21093</th>\n",
              "      <td>21094</td>\n",
              "      <td>65</td>\n",
              "      <td>9999</td>\n",
              "      <td>Masculino</td>\n",
              "      <td>Ensino Superior</td>\n",
              "    </tr>\n",
              "    <tr>\n",
              "      <th>1481</th>\n",
              "      <td>1482</td>\n",
              "      <td>68</td>\n",
              "      <td>9999</td>\n",
              "      <td>Masculino</td>\n",
              "      <td>Ensino Médio</td>\n",
              "    </tr>\n",
              "    <tr>\n",
              "      <th>8381</th>\n",
              "      <td>8382</td>\n",
              "      <td>68</td>\n",
              "      <td>9999</td>\n",
              "      <td>Feminino</td>\n",
              "      <td>Ensino Médio</td>\n",
              "    </tr>\n",
              "  </tbody>\n",
              "</table>\n",
              "<p>50000 rows × 5 columns</p>\n",
              "</div>"
            ],
            "text/plain": [
              "          Id  Idade  Renda       Sexo        Escolaridade\n",
              "36064  36065     22   1500   Feminino        Ensino Médio\n",
              "20624  20625     32   1500  Masculino     Ensino Superior\n",
              "30444  30445     32   1500   Feminino  Ensino Fundamental\n",
              "23165  23166     36   1500  Masculino        Ensino Médio\n",
              "20935  20936     38   1500  Masculino  Ensino Fundamental\n",
              "...      ...    ...    ...        ...                 ...\n",
              "38187  38188     23   9999  Masculino     Ensino Superior\n",
              "41288  41289     61   9999  Masculino  Ensino Fundamental\n",
              "21093  21094     65   9999  Masculino     Ensino Superior\n",
              "1481    1482     68   9999  Masculino        Ensino Médio\n",
              "8381    8382     68   9999   Feminino        Ensino Médio\n",
              "\n",
              "[50000 rows x 5 columns]"
            ]
          },
          "execution_count": 103,
          "metadata": {},
          "output_type": "execute_result"
        }
      ],
      "source": [
        "# ordena pelo nível de renda e idade\n",
        "df.sort_values(by = ['Renda', 'Idade'])"
      ]
    },
    {
      "cell_type": "code",
      "execution_count": null,
      "metadata": {
        "id": "_73dCui3Opl8",
        "outputId": "3f85dec5-ab0a-49dd-8d11-6297bd0f6a68"
      },
      "outputs": [
        {
          "data": {
            "text/html": [
              "<div>\n",
              "<style scoped>\n",
              "    .dataframe tbody tr th:only-of-type {\n",
              "        vertical-align: middle;\n",
              "    }\n",
              "\n",
              "    .dataframe tbody tr th {\n",
              "        vertical-align: top;\n",
              "    }\n",
              "\n",
              "    .dataframe thead th {\n",
              "        text-align: right;\n",
              "    }\n",
              "</style>\n",
              "<table border=\"1\" class=\"dataframe\">\n",
              "  <thead>\n",
              "    <tr style=\"text-align: right;\">\n",
              "      <th></th>\n",
              "      <th>Id</th>\n",
              "      <th>Idade</th>\n",
              "      <th>Renda</th>\n",
              "      <th>Sexo</th>\n",
              "      <th>Escolaridade</th>\n",
              "    </tr>\n",
              "  </thead>\n",
              "  <tbody>\n",
              "    <tr>\n",
              "      <th>0</th>\n",
              "      <td>1</td>\n",
              "      <td>27</td>\n",
              "      <td>2554</td>\n",
              "      <td>Feminino</td>\n",
              "      <td>Ensino Fundamental</td>\n",
              "    </tr>\n",
              "    <tr>\n",
              "      <th>11</th>\n",
              "      <td>12</td>\n",
              "      <td>26</td>\n",
              "      <td>4193</td>\n",
              "      <td>Feminino</td>\n",
              "      <td>Ensino Fundamental</td>\n",
              "    </tr>\n",
              "    <tr>\n",
              "      <th>22</th>\n",
              "      <td>23</td>\n",
              "      <td>42</td>\n",
              "      <td>7966</td>\n",
              "      <td>Feminino</td>\n",
              "      <td>Ensino Fundamental</td>\n",
              "    </tr>\n",
              "    <tr>\n",
              "      <th>24</th>\n",
              "      <td>25</td>\n",
              "      <td>51</td>\n",
              "      <td>8772</td>\n",
              "      <td>Feminino</td>\n",
              "      <td>Ensino Fundamental</td>\n",
              "    </tr>\n",
              "    <tr>\n",
              "      <th>26</th>\n",
              "      <td>27</td>\n",
              "      <td>54</td>\n",
              "      <td>1599</td>\n",
              "      <td>Feminino</td>\n",
              "      <td>Ensino Fundamental</td>\n",
              "    </tr>\n",
              "    <tr>\n",
              "      <th>...</th>\n",
              "      <td>...</td>\n",
              "      <td>...</td>\n",
              "      <td>...</td>\n",
              "      <td>...</td>\n",
              "      <td>...</td>\n",
              "    </tr>\n",
              "    <tr>\n",
              "      <th>49974</th>\n",
              "      <td>49975</td>\n",
              "      <td>43</td>\n",
              "      <td>8550</td>\n",
              "      <td>Masculino</td>\n",
              "      <td>Ensino Superior</td>\n",
              "    </tr>\n",
              "    <tr>\n",
              "      <th>49979</th>\n",
              "      <td>49980</td>\n",
              "      <td>59</td>\n",
              "      <td>9848</td>\n",
              "      <td>Masculino</td>\n",
              "      <td>Ensino Superior</td>\n",
              "    </tr>\n",
              "    <tr>\n",
              "      <th>49981</th>\n",
              "      <td>49982</td>\n",
              "      <td>38</td>\n",
              "      <td>7913</td>\n",
              "      <td>Masculino</td>\n",
              "      <td>Ensino Superior</td>\n",
              "    </tr>\n",
              "    <tr>\n",
              "      <th>49989</th>\n",
              "      <td>49990</td>\n",
              "      <td>69</td>\n",
              "      <td>5049</td>\n",
              "      <td>Masculino</td>\n",
              "      <td>Ensino Superior</td>\n",
              "    </tr>\n",
              "    <tr>\n",
              "      <th>49997</th>\n",
              "      <td>49998</td>\n",
              "      <td>41</td>\n",
              "      <td>2543</td>\n",
              "      <td>Masculino</td>\n",
              "      <td>Ensino Superior</td>\n",
              "    </tr>\n",
              "  </tbody>\n",
              "</table>\n",
              "<p>50000 rows × 5 columns</p>\n",
              "</div>"
            ],
            "text/plain": [
              "          Id  Idade  Renda       Sexo        Escolaridade\n",
              "0          1     27   2554   Feminino  Ensino Fundamental\n",
              "11        12     26   4193   Feminino  Ensino Fundamental\n",
              "22        23     42   7966   Feminino  Ensino Fundamental\n",
              "24        25     51   8772   Feminino  Ensino Fundamental\n",
              "26        27     54   1599   Feminino  Ensino Fundamental\n",
              "...      ...    ...    ...        ...                 ...\n",
              "49974  49975     43   8550  Masculino     Ensino Superior\n",
              "49979  49980     59   9848  Masculino     Ensino Superior\n",
              "49981  49982     38   7913  Masculino     Ensino Superior\n",
              "49989  49990     69   5049  Masculino     Ensino Superior\n",
              "49997  49998     41   2543  Masculino     Ensino Superior\n",
              "\n",
              "[50000 rows x 5 columns]"
            ]
          },
          "execution_count": 104,
          "metadata": {},
          "output_type": "execute_result"
        }
      ],
      "source": [
        "# ordena os dados pelo nível de escolaridade e sexo\n",
        "df.sort_values(by = ['Escolaridade', 'Sexo'])"
      ]
    },
    {
      "cell_type": "code",
      "execution_count": null,
      "metadata": {
        "id": "s5VduI1ROpl8",
        "outputId": "bd52692f-3aba-4077-ddb9-0b9c567fa013"
      },
      "outputs": [
        {
          "data": {
            "text/plain": [
              "array(['Ensino Fundamental', 'Ensino Superior', 'Ensino Médio'],\n",
              "      dtype=object)"
            ]
          },
          "execution_count": 105,
          "metadata": {},
          "output_type": "execute_result"
        }
      ],
      "source": [
        "# valores únicos da coluna Escolaridade\n",
        "df.Escolaridade.unique()"
      ]
    },
    {
      "cell_type": "code",
      "execution_count": null,
      "metadata": {
        "id": "HN8o8XH8Opl8"
      },
      "outputs": [],
      "source": [
        "# mapeamento dos valores da coluna escolaridade\n",
        "rank_escolaridade = {\n",
        "    'Ensino Fundamental': 'A',\n",
        "    'Ensino Médio': 'B',\n",
        "    'Ensino Superior': 'C'\n",
        "}"
      ]
    },
    {
      "cell_type": "code",
      "execution_count": null,
      "metadata": {
        "id": "q4UUHzNMOpl8",
        "outputId": "d14a21de-394a-4d32-dcf5-354eaa2e3a1c"
      },
      "outputs": [
        {
          "data": {
            "text/plain": [
              "0        A\n",
              "14924    A\n",
              "35084    A\n",
              "14921    A\n",
              "14920    A\n",
              "        ..\n",
              "12161    C\n",
              "12163    C\n",
              "37862    C\n",
              "12158    C\n",
              "49999    C\n",
              "Name: Escolaridade, Length: 50000, dtype: object"
            ]
          },
          "execution_count": 107,
          "metadata": {},
          "output_type": "execute_result"
        }
      ],
      "source": [
        "# mapeamento dos valores da coluna de Escolaridade ordenados em ordem alfabética\n",
        "df.Escolaridade.map(rank_escolaridade).sort_values()"
      ]
    },
    {
      "cell_type": "code",
      "execution_count": null,
      "metadata": {
        "id": "2qxT49pBOpl8"
      },
      "outputs": [],
      "source": [
        "rank_escolaridade_num = {\n",
        "    'Ensino Fundamental': 1,\n",
        "    'Ensino Médio': 2,\n",
        "    'Ensino Superior': 3\n",
        "}"
      ]
    },
    {
      "cell_type": "code",
      "execution_count": null,
      "metadata": {
        "id": "Qp9YPMgROpl8",
        "outputId": "3700a86b-8188-4df7-8085-6106b207b0b9"
      },
      "outputs": [
        {
          "data": {
            "text/plain": [
              "0        1\n",
              "14924    1\n",
              "35084    1\n",
              "14921    1\n",
              "14920    1\n",
              "        ..\n",
              "12161    3\n",
              "12163    3\n",
              "37862    3\n",
              "12158    3\n",
              "49999    3\n",
              "Name: Escolaridade, Length: 50000, dtype: int64"
            ]
          },
          "execution_count": 109,
          "metadata": {},
          "output_type": "execute_result"
        }
      ],
      "source": [
        "# mapeamento dos valores da coluna de Escolaridade ordenados\n",
        "df.Escolaridade.map(rank_escolaridade_num).sort_values()"
      ]
    },
    {
      "cell_type": "code",
      "execution_count": null,
      "metadata": {
        "id": "6cBmyTO5Opl9",
        "outputId": "e3e17102-95cc-4084-b68d-652d36c80ca3"
      },
      "outputs": [
        {
          "data": {
            "text/html": [
              "<div>\n",
              "<style scoped>\n",
              "    .dataframe tbody tr th:only-of-type {\n",
              "        vertical-align: middle;\n",
              "    }\n",
              "\n",
              "    .dataframe tbody tr th {\n",
              "        vertical-align: top;\n",
              "    }\n",
              "\n",
              "    .dataframe thead th {\n",
              "        text-align: right;\n",
              "    }\n",
              "</style>\n",
              "<table border=\"1\" class=\"dataframe\">\n",
              "  <thead>\n",
              "    <tr style=\"text-align: right;\">\n",
              "      <th></th>\n",
              "      <th>index</th>\n",
              "      <th>Id</th>\n",
              "      <th>Idade</th>\n",
              "      <th>Renda</th>\n",
              "      <th>Sexo</th>\n",
              "      <th>Escolaridade</th>\n",
              "    </tr>\n",
              "  </thead>\n",
              "  <tbody>\n",
              "    <tr>\n",
              "      <th>0</th>\n",
              "      <td>20935</td>\n",
              "      <td>20936</td>\n",
              "      <td>38</td>\n",
              "      <td>1500</td>\n",
              "      <td>Masculino</td>\n",
              "      <td>Ensino Fundamental</td>\n",
              "    </tr>\n",
              "    <tr>\n",
              "      <th>1</th>\n",
              "      <td>30444</td>\n",
              "      <td>30445</td>\n",
              "      <td>32</td>\n",
              "      <td>1500</td>\n",
              "      <td>Feminino</td>\n",
              "      <td>Ensino Fundamental</td>\n",
              "    </tr>\n",
              "    <tr>\n",
              "      <th>2</th>\n",
              "      <td>23165</td>\n",
              "      <td>23166</td>\n",
              "      <td>36</td>\n",
              "      <td>1500</td>\n",
              "      <td>Masculino</td>\n",
              "      <td>Ensino Médio</td>\n",
              "    </tr>\n",
              "    <tr>\n",
              "      <th>3</th>\n",
              "      <td>33316</td>\n",
              "      <td>33317</td>\n",
              "      <td>46</td>\n",
              "      <td>1500</td>\n",
              "      <td>Feminino</td>\n",
              "      <td>Ensino Médio</td>\n",
              "    </tr>\n",
              "    <tr>\n",
              "      <th>4</th>\n",
              "      <td>36064</td>\n",
              "      <td>36065</td>\n",
              "      <td>22</td>\n",
              "      <td>1500</td>\n",
              "      <td>Feminino</td>\n",
              "      <td>Ensino Médio</td>\n",
              "    </tr>\n",
              "    <tr>\n",
              "      <th>...</th>\n",
              "      <td>...</td>\n",
              "      <td>...</td>\n",
              "      <td>...</td>\n",
              "      <td>...</td>\n",
              "      <td>...</td>\n",
              "      <td>...</td>\n",
              "    </tr>\n",
              "    <tr>\n",
              "      <th>49995</th>\n",
              "      <td>41288</td>\n",
              "      <td>41289</td>\n",
              "      <td>61</td>\n",
              "      <td>9999</td>\n",
              "      <td>Masculino</td>\n",
              "      <td>Ensino Fundamental</td>\n",
              "    </tr>\n",
              "    <tr>\n",
              "      <th>49996</th>\n",
              "      <td>1481</td>\n",
              "      <td>1482</td>\n",
              "      <td>68</td>\n",
              "      <td>9999</td>\n",
              "      <td>Masculino</td>\n",
              "      <td>Ensino Médio</td>\n",
              "    </tr>\n",
              "    <tr>\n",
              "      <th>49997</th>\n",
              "      <td>8381</td>\n",
              "      <td>8382</td>\n",
              "      <td>68</td>\n",
              "      <td>9999</td>\n",
              "      <td>Feminino</td>\n",
              "      <td>Ensino Médio</td>\n",
              "    </tr>\n",
              "    <tr>\n",
              "      <th>49998</th>\n",
              "      <td>21093</td>\n",
              "      <td>21094</td>\n",
              "      <td>65</td>\n",
              "      <td>9999</td>\n",
              "      <td>Masculino</td>\n",
              "      <td>Ensino Superior</td>\n",
              "    </tr>\n",
              "    <tr>\n",
              "      <th>49999</th>\n",
              "      <td>38187</td>\n",
              "      <td>38188</td>\n",
              "      <td>23</td>\n",
              "      <td>9999</td>\n",
              "      <td>Masculino</td>\n",
              "      <td>Ensino Superior</td>\n",
              "    </tr>\n",
              "  </tbody>\n",
              "</table>\n",
              "<p>50000 rows × 6 columns</p>\n",
              "</div>"
            ],
            "text/plain": [
              "       index     Id  Idade  Renda       Sexo        Escolaridade\n",
              "0      20935  20936     38   1500  Masculino  Ensino Fundamental\n",
              "1      30444  30445     32   1500   Feminino  Ensino Fundamental\n",
              "2      23165  23166     36   1500  Masculino        Ensino Médio\n",
              "3      33316  33317     46   1500   Feminino        Ensino Médio\n",
              "4      36064  36065     22   1500   Feminino        Ensino Médio\n",
              "...      ...    ...    ...    ...        ...                 ...\n",
              "49995  41288  41289     61   9999  Masculino  Ensino Fundamental\n",
              "49996   1481   1482     68   9999  Masculino        Ensino Médio\n",
              "49997   8381   8382     68   9999   Feminino        Ensino Médio\n",
              "49998  21093  21094     65   9999  Masculino     Ensino Superior\n",
              "49999  38187  38188     23   9999  Masculino     Ensino Superior\n",
              "\n",
              "[50000 rows x 6 columns]"
            ]
          },
          "execution_count": 110,
          "metadata": {},
          "output_type": "execute_result"
        }
      ],
      "source": [
        "# ordena os dados a partir das colunas Renda e Escolaridade\n",
        "df.sort_values(by = ['Renda', 'Escolaridade']).reset_index()"
      ]
    },
    {
      "cell_type": "code",
      "execution_count": null,
      "metadata": {
        "id": "wCgHfUPxOpl9",
        "outputId": "8980c26d-b98e-4e77-9faa-c2d21f711526"
      },
      "outputs": [
        {
          "data": {
            "text/html": [
              "<div>\n",
              "<style scoped>\n",
              "    .dataframe tbody tr th:only-of-type {\n",
              "        vertical-align: middle;\n",
              "    }\n",
              "\n",
              "    .dataframe tbody tr th {\n",
              "        vertical-align: top;\n",
              "    }\n",
              "\n",
              "    .dataframe thead th {\n",
              "        text-align: right;\n",
              "    }\n",
              "</style>\n",
              "<table border=\"1\" class=\"dataframe\">\n",
              "  <thead>\n",
              "    <tr style=\"text-align: right;\">\n",
              "      <th></th>\n",
              "      <th>Id</th>\n",
              "      <th>Idade</th>\n",
              "      <th>Renda</th>\n",
              "      <th>Sexo</th>\n",
              "      <th>Escolaridade</th>\n",
              "    </tr>\n",
              "  </thead>\n",
              "  <tbody>\n",
              "    <tr>\n",
              "      <th>0</th>\n",
              "      <td>20936</td>\n",
              "      <td>38</td>\n",
              "      <td>1500</td>\n",
              "      <td>Masculino</td>\n",
              "      <td>Ensino Fundamental</td>\n",
              "    </tr>\n",
              "    <tr>\n",
              "      <th>1</th>\n",
              "      <td>30445</td>\n",
              "      <td>32</td>\n",
              "      <td>1500</td>\n",
              "      <td>Feminino</td>\n",
              "      <td>Ensino Fundamental</td>\n",
              "    </tr>\n",
              "    <tr>\n",
              "      <th>2</th>\n",
              "      <td>23166</td>\n",
              "      <td>36</td>\n",
              "      <td>1500</td>\n",
              "      <td>Masculino</td>\n",
              "      <td>Ensino Médio</td>\n",
              "    </tr>\n",
              "    <tr>\n",
              "      <th>3</th>\n",
              "      <td>33317</td>\n",
              "      <td>46</td>\n",
              "      <td>1500</td>\n",
              "      <td>Feminino</td>\n",
              "      <td>Ensino Médio</td>\n",
              "    </tr>\n",
              "    <tr>\n",
              "      <th>4</th>\n",
              "      <td>36065</td>\n",
              "      <td>22</td>\n",
              "      <td>1500</td>\n",
              "      <td>Feminino</td>\n",
              "      <td>Ensino Médio</td>\n",
              "    </tr>\n",
              "    <tr>\n",
              "      <th>...</th>\n",
              "      <td>...</td>\n",
              "      <td>...</td>\n",
              "      <td>...</td>\n",
              "      <td>...</td>\n",
              "      <td>...</td>\n",
              "    </tr>\n",
              "    <tr>\n",
              "      <th>49995</th>\n",
              "      <td>41289</td>\n",
              "      <td>61</td>\n",
              "      <td>9999</td>\n",
              "      <td>Masculino</td>\n",
              "      <td>Ensino Fundamental</td>\n",
              "    </tr>\n",
              "    <tr>\n",
              "      <th>49996</th>\n",
              "      <td>1482</td>\n",
              "      <td>68</td>\n",
              "      <td>9999</td>\n",
              "      <td>Masculino</td>\n",
              "      <td>Ensino Médio</td>\n",
              "    </tr>\n",
              "    <tr>\n",
              "      <th>49997</th>\n",
              "      <td>8382</td>\n",
              "      <td>68</td>\n",
              "      <td>9999</td>\n",
              "      <td>Feminino</td>\n",
              "      <td>Ensino Médio</td>\n",
              "    </tr>\n",
              "    <tr>\n",
              "      <th>49998</th>\n",
              "      <td>21094</td>\n",
              "      <td>65</td>\n",
              "      <td>9999</td>\n",
              "      <td>Masculino</td>\n",
              "      <td>Ensino Superior</td>\n",
              "    </tr>\n",
              "    <tr>\n",
              "      <th>49999</th>\n",
              "      <td>38188</td>\n",
              "      <td>23</td>\n",
              "      <td>9999</td>\n",
              "      <td>Masculino</td>\n",
              "      <td>Ensino Superior</td>\n",
              "    </tr>\n",
              "  </tbody>\n",
              "</table>\n",
              "<p>50000 rows × 5 columns</p>\n",
              "</div>"
            ],
            "text/plain": [
              "          Id  Idade  Renda       Sexo        Escolaridade\n",
              "0      20936     38   1500  Masculino  Ensino Fundamental\n",
              "1      30445     32   1500   Feminino  Ensino Fundamental\n",
              "2      23166     36   1500  Masculino        Ensino Médio\n",
              "3      33317     46   1500   Feminino        Ensino Médio\n",
              "4      36065     22   1500   Feminino        Ensino Médio\n",
              "...      ...    ...    ...        ...                 ...\n",
              "49995  41289     61   9999  Masculino  Ensino Fundamental\n",
              "49996   1482     68   9999  Masculino        Ensino Médio\n",
              "49997   8382     68   9999   Feminino        Ensino Médio\n",
              "49998  21094     65   9999  Masculino     Ensino Superior\n",
              "49999  38188     23   9999  Masculino     Ensino Superior\n",
              "\n",
              "[50000 rows x 5 columns]"
            ]
          },
          "execution_count": 111,
          "metadata": {},
          "output_type": "execute_result"
        }
      ],
      "source": [
        "# ordena os dados a partir das colunas Renda e Escolaridade\n",
        "df.sort_values(by = ['Renda', 'Escolaridade']).reset_index(drop = True)"
      ]
    },
    {
      "cell_type": "code",
      "execution_count": null,
      "metadata": {
        "id": "Yb6eOgRQOpl9",
        "outputId": "99a26a11-45ca-4860-b215-a36a4fdb75fa"
      },
      "outputs": [
        {
          "data": {
            "text/html": [
              "<div>\n",
              "<style scoped>\n",
              "    .dataframe tbody tr th:only-of-type {\n",
              "        vertical-align: middle;\n",
              "    }\n",
              "\n",
              "    .dataframe tbody tr th {\n",
              "        vertical-align: top;\n",
              "    }\n",
              "\n",
              "    .dataframe thead th {\n",
              "        text-align: right;\n",
              "    }\n",
              "</style>\n",
              "<table border=\"1\" class=\"dataframe\">\n",
              "  <thead>\n",
              "    <tr style=\"text-align: right;\">\n",
              "      <th></th>\n",
              "      <th>Id</th>\n",
              "      <th>Idade</th>\n",
              "      <th>Renda</th>\n",
              "      <th>Sexo</th>\n",
              "      <th>Escolaridade</th>\n",
              "    </tr>\n",
              "  </thead>\n",
              "  <tbody>\n",
              "    <tr>\n",
              "      <th>0</th>\n",
              "      <td>20936</td>\n",
              "      <td>38</td>\n",
              "      <td>1500</td>\n",
              "      <td>Masculino</td>\n",
              "      <td>Ensino Fundamental</td>\n",
              "    </tr>\n",
              "    <tr>\n",
              "      <th>1</th>\n",
              "      <td>30445</td>\n",
              "      <td>32</td>\n",
              "      <td>1500</td>\n",
              "      <td>Feminino</td>\n",
              "      <td>Ensino Fundamental</td>\n",
              "    </tr>\n",
              "    <tr>\n",
              "      <th>2</th>\n",
              "      <td>23166</td>\n",
              "      <td>36</td>\n",
              "      <td>1500</td>\n",
              "      <td>Masculino</td>\n",
              "      <td>Ensino Médio</td>\n",
              "    </tr>\n",
              "    <tr>\n",
              "      <th>3</th>\n",
              "      <td>33317</td>\n",
              "      <td>46</td>\n",
              "      <td>1500</td>\n",
              "      <td>Feminino</td>\n",
              "      <td>Ensino Médio</td>\n",
              "    </tr>\n",
              "    <tr>\n",
              "      <th>4</th>\n",
              "      <td>36065</td>\n",
              "      <td>22</td>\n",
              "      <td>1500</td>\n",
              "      <td>Feminino</td>\n",
              "      <td>Ensino Médio</td>\n",
              "    </tr>\n",
              "    <tr>\n",
              "      <th>...</th>\n",
              "      <td>...</td>\n",
              "      <td>...</td>\n",
              "      <td>...</td>\n",
              "      <td>...</td>\n",
              "      <td>...</td>\n",
              "    </tr>\n",
              "    <tr>\n",
              "      <th>49995</th>\n",
              "      <td>41289</td>\n",
              "      <td>61</td>\n",
              "      <td>9999</td>\n",
              "      <td>Masculino</td>\n",
              "      <td>Ensino Fundamental</td>\n",
              "    </tr>\n",
              "    <tr>\n",
              "      <th>49996</th>\n",
              "      <td>1482</td>\n",
              "      <td>68</td>\n",
              "      <td>9999</td>\n",
              "      <td>Masculino</td>\n",
              "      <td>Ensino Médio</td>\n",
              "    </tr>\n",
              "    <tr>\n",
              "      <th>49997</th>\n",
              "      <td>8382</td>\n",
              "      <td>68</td>\n",
              "      <td>9999</td>\n",
              "      <td>Feminino</td>\n",
              "      <td>Ensino Médio</td>\n",
              "    </tr>\n",
              "    <tr>\n",
              "      <th>49998</th>\n",
              "      <td>21094</td>\n",
              "      <td>65</td>\n",
              "      <td>9999</td>\n",
              "      <td>Masculino</td>\n",
              "      <td>Ensino Superior</td>\n",
              "    </tr>\n",
              "    <tr>\n",
              "      <th>49999</th>\n",
              "      <td>38188</td>\n",
              "      <td>23</td>\n",
              "      <td>9999</td>\n",
              "      <td>Masculino</td>\n",
              "      <td>Ensino Superior</td>\n",
              "    </tr>\n",
              "  </tbody>\n",
              "</table>\n",
              "<p>50000 rows × 5 columns</p>\n",
              "</div>"
            ],
            "text/plain": [
              "          Id  Idade  Renda       Sexo        Escolaridade\n",
              "0      20936     38   1500  Masculino  Ensino Fundamental\n",
              "1      30445     32   1500   Feminino  Ensino Fundamental\n",
              "2      23166     36   1500  Masculino        Ensino Médio\n",
              "3      33317     46   1500   Feminino        Ensino Médio\n",
              "4      36065     22   1500   Feminino        Ensino Médio\n",
              "...      ...    ...    ...        ...                 ...\n",
              "49995  41289     61   9999  Masculino  Ensino Fundamental\n",
              "49996   1482     68   9999  Masculino        Ensino Médio\n",
              "49997   8382     68   9999   Feminino        Ensino Médio\n",
              "49998  21094     65   9999  Masculino     Ensino Superior\n",
              "49999  38188     23   9999  Masculino     Ensino Superior\n",
              "\n",
              "[50000 rows x 5 columns]"
            ]
          },
          "execution_count": 112,
          "metadata": {},
          "output_type": "execute_result"
        }
      ],
      "source": [
        "# ordena os dados a partir das colunas Renda e Escolaridade\n",
        "df.sort_values(by = ['Renda', 'Escolaridade']).reset_index().drop(columns = ['index'])"
      ]
    },
    {
      "cell_type": "code",
      "execution_count": null,
      "metadata": {
        "id": "qjADEtLVOpl9"
      },
      "outputs": [],
      "source": [
        "# ordena os dados a partir das colunas Renda, Escolaridade e Sexo\n",
        "# note que setamos inplace = True\n",
        "df.sort_values(by = ['Renda', 'Escolaridade', 'Sexo'], inplace = True)"
      ]
    },
    {
      "cell_type": "code",
      "execution_count": null,
      "metadata": {
        "id": "mwsa35jLOpl9",
        "outputId": "8916d448-8457-4d72-b080-1f4811dbd0fc"
      },
      "outputs": [
        {
          "data": {
            "text/html": [
              "<div>\n",
              "<style scoped>\n",
              "    .dataframe tbody tr th:only-of-type {\n",
              "        vertical-align: middle;\n",
              "    }\n",
              "\n",
              "    .dataframe tbody tr th {\n",
              "        vertical-align: top;\n",
              "    }\n",
              "\n",
              "    .dataframe thead th {\n",
              "        text-align: right;\n",
              "    }\n",
              "</style>\n",
              "<table border=\"1\" class=\"dataframe\">\n",
              "  <thead>\n",
              "    <tr style=\"text-align: right;\">\n",
              "      <th></th>\n",
              "      <th>Id</th>\n",
              "      <th>Idade</th>\n",
              "      <th>Renda</th>\n",
              "      <th>Sexo</th>\n",
              "      <th>Escolaridade</th>\n",
              "    </tr>\n",
              "  </thead>\n",
              "  <tbody>\n",
              "    <tr>\n",
              "      <th>30444</th>\n",
              "      <td>30445</td>\n",
              "      <td>32</td>\n",
              "      <td>1500</td>\n",
              "      <td>Feminino</td>\n",
              "      <td>Ensino Fundamental</td>\n",
              "    </tr>\n",
              "    <tr>\n",
              "      <th>20935</th>\n",
              "      <td>20936</td>\n",
              "      <td>38</td>\n",
              "      <td>1500</td>\n",
              "      <td>Masculino</td>\n",
              "      <td>Ensino Fundamental</td>\n",
              "    </tr>\n",
              "    <tr>\n",
              "      <th>33316</th>\n",
              "      <td>33317</td>\n",
              "      <td>46</td>\n",
              "      <td>1500</td>\n",
              "      <td>Feminino</td>\n",
              "      <td>Ensino Médio</td>\n",
              "    </tr>\n",
              "    <tr>\n",
              "      <th>36064</th>\n",
              "      <td>36065</td>\n",
              "      <td>22</td>\n",
              "      <td>1500</td>\n",
              "      <td>Feminino</td>\n",
              "      <td>Ensino Médio</td>\n",
              "    </tr>\n",
              "    <tr>\n",
              "      <th>23165</th>\n",
              "      <td>23166</td>\n",
              "      <td>36</td>\n",
              "      <td>1500</td>\n",
              "      <td>Masculino</td>\n",
              "      <td>Ensino Médio</td>\n",
              "    </tr>\n",
              "  </tbody>\n",
              "</table>\n",
              "</div>"
            ],
            "text/plain": [
              "          Id  Idade  Renda       Sexo        Escolaridade\n",
              "30444  30445     32   1500   Feminino  Ensino Fundamental\n",
              "20935  20936     38   1500  Masculino  Ensino Fundamental\n",
              "33316  33317     46   1500   Feminino        Ensino Médio\n",
              "36064  36065     22   1500   Feminino        Ensino Médio\n",
              "23165  23166     36   1500  Masculino        Ensino Médio"
            ]
          },
          "execution_count": 114,
          "metadata": {},
          "output_type": "execute_result"
        }
      ],
      "source": [
        "df.head()"
      ]
    },
    {
      "cell_type": "code",
      "execution_count": null,
      "metadata": {
        "id": "VrSsAIb6Opl9"
      },
      "outputs": [],
      "source": [
        "# reset do índice\n",
        "df.reset_index(drop = True, inplace = True)"
      ]
    },
    {
      "cell_type": "markdown",
      "metadata": {
        "id": "1XliYnk1Opl-"
      },
      "source": [
        "### Inserção de colunas"
      ]
    },
    {
      "cell_type": "code",
      "execution_count": null,
      "metadata": {
        "id": "MVJpNdSDOpl-"
      },
      "outputs": [],
      "source": [
        "np.random.seed(7)\n",
        "ativos = pd.Series(np.random.normal(3_000, 1000, size = n)).round(2)"
      ]
    },
    {
      "cell_type": "code",
      "execution_count": null,
      "metadata": {
        "id": "MxmcFPSYOpl-"
      },
      "outputs": [],
      "source": [
        "# cria coluna de ativos\n",
        "df['ativo'] = ativos"
      ]
    },
    {
      "cell_type": "code",
      "execution_count": null,
      "metadata": {
        "id": "I6vyMclFOpl-"
      },
      "outputs": [],
      "source": [
        "# cria coluna de renda total\n",
        "df['renda_total'] = df['Renda']+df['ativo']"
      ]
    },
    {
      "cell_type": "code",
      "execution_count": null,
      "metadata": {
        "id": "0AwUcN5YOpl-",
        "outputId": "d3526115-72c2-41ff-eb50-b253fc07d398"
      },
      "outputs": [
        {
          "data": {
            "text/plain": [
              "Renda    5746.135880\n",
              "ativo    2995.777078\n",
              "dtype: float64"
            ]
          },
          "execution_count": 119,
          "metadata": {},
          "output_type": "execute_result"
        }
      ],
      "source": [
        "# renda média total dos indivíduos\n",
        "df.loc[:, ['Renda', 'ativo']].mean()"
      ]
    },
    {
      "cell_type": "code",
      "execution_count": null,
      "metadata": {
        "id": "g3mQEWQuOpl-",
        "outputId": "a87b4ab9-733c-47c6-c455-ac90c833829e"
      },
      "outputs": [
        {
          "data": {
            "text/plain": [
              "0        3095.265\n",
              "1        2017.030\n",
              "2        2266.410\n",
              "3        2453.760\n",
              "4        1855.540\n",
              "           ...   \n",
              "49995    5680.580\n",
              "49996    6675.700\n",
              "49997    6622.955\n",
              "49998    6646.110\n",
              "49999    6517.720\n",
              "Length: 50000, dtype: float64"
            ]
          },
          "execution_count": 120,
          "metadata": {},
          "output_type": "execute_result"
        }
      ],
      "source": [
        "# renda média dos indivíduos\n",
        "df.loc[:, ['Renda', 'ativo']].mean(axis = 1)"
      ]
    },
    {
      "cell_type": "code",
      "execution_count": null,
      "metadata": {
        "id": "GmfqoduCOpl-",
        "outputId": "69be7b5e-cfb3-49c3-959c-aa1452cfd4d3"
      },
      "outputs": [
        {
          "data": {
            "text/plain": [
              "0        3095.265\n",
              "1        2017.030\n",
              "2        2266.410\n",
              "3        2453.760\n",
              "4        1855.540\n",
              "           ...   \n",
              "49995    5680.580\n",
              "49996    6675.700\n",
              "49997    6622.955\n",
              "49998    6646.110\n",
              "49999    6517.720\n",
              "Length: 50000, dtype: float64"
            ]
          },
          "execution_count": 121,
          "metadata": {},
          "output_type": "execute_result"
        }
      ],
      "source": [
        "# outra forma de calcular a renda média dos indivíduos\n",
        "((df['Renda']+df['ativo'])/2)"
      ]
    },
    {
      "cell_type": "code",
      "execution_count": null,
      "metadata": {
        "id": "pk8URCOoOpl_"
      },
      "outputs": [],
      "source": [
        "# renda média (ativos e renda)\n",
        "renda_media = df.loc[:, ['Renda', 'ativo']].mean(axis = 1)"
      ]
    },
    {
      "cell_type": "code",
      "execution_count": null,
      "metadata": {
        "id": "LwA_v-HOOpl_",
        "outputId": "7f83cce5-9d80-4e80-c0a2-029ccc291f53"
      },
      "outputs": [
        {
          "data": {
            "text/plain": [
              "0        3095.265\n",
              "1        2017.030\n",
              "2        2266.410\n",
              "3        2453.760\n",
              "4        1855.540\n",
              "           ...   \n",
              "49995    5680.580\n",
              "49996    6675.700\n",
              "49997    6622.955\n",
              "49998    6646.110\n",
              "49999    6517.720\n",
              "Length: 50000, dtype: float64"
            ]
          },
          "execution_count": 123,
          "metadata": {},
          "output_type": "execute_result"
        }
      ],
      "source": [
        "renda_media"
      ]
    },
    {
      "cell_type": "code",
      "execution_count": null,
      "metadata": {
        "id": "bRC-uxiIOpl_",
        "outputId": "a161d015-9cb3-48bc-ee90-d1c0eb804294"
      },
      "outputs": [
        {
          "data": {
            "text/html": [
              "<div>\n",
              "<style scoped>\n",
              "    .dataframe tbody tr th:only-of-type {\n",
              "        vertical-align: middle;\n",
              "    }\n",
              "\n",
              "    .dataframe tbody tr th {\n",
              "        vertical-align: top;\n",
              "    }\n",
              "\n",
              "    .dataframe thead th {\n",
              "        text-align: right;\n",
              "    }\n",
              "</style>\n",
              "<table border=\"1\" class=\"dataframe\">\n",
              "  <thead>\n",
              "    <tr style=\"text-align: right;\">\n",
              "      <th></th>\n",
              "      <th>Id</th>\n",
              "      <th>Idade</th>\n",
              "      <th>Renda</th>\n",
              "      <th>Sexo</th>\n",
              "      <th>Escolaridade</th>\n",
              "      <th>ativo</th>\n",
              "      <th>renda_total</th>\n",
              "    </tr>\n",
              "  </thead>\n",
              "  <tbody>\n",
              "    <tr>\n",
              "      <th>0</th>\n",
              "      <td>30445</td>\n",
              "      <td>32</td>\n",
              "      <td>1500</td>\n",
              "      <td>Feminino</td>\n",
              "      <td>Ensino Fundamental</td>\n",
              "      <td>4690.53</td>\n",
              "      <td>6190.53</td>\n",
              "    </tr>\n",
              "    <tr>\n",
              "      <th>1</th>\n",
              "      <td>20936</td>\n",
              "      <td>38</td>\n",
              "      <td>1500</td>\n",
              "      <td>Masculino</td>\n",
              "      <td>Ensino Fundamental</td>\n",
              "      <td>2534.06</td>\n",
              "      <td>4034.06</td>\n",
              "    </tr>\n",
              "    <tr>\n",
              "      <th>2</th>\n",
              "      <td>33317</td>\n",
              "      <td>46</td>\n",
              "      <td>1500</td>\n",
              "      <td>Feminino</td>\n",
              "      <td>Ensino Médio</td>\n",
              "      <td>3032.82</td>\n",
              "      <td>4532.82</td>\n",
              "    </tr>\n",
              "    <tr>\n",
              "      <th>3</th>\n",
              "      <td>36065</td>\n",
              "      <td>22</td>\n",
              "      <td>1500</td>\n",
              "      <td>Feminino</td>\n",
              "      <td>Ensino Médio</td>\n",
              "      <td>3407.52</td>\n",
              "      <td>4907.52</td>\n",
              "    </tr>\n",
              "    <tr>\n",
              "      <th>4</th>\n",
              "      <td>23166</td>\n",
              "      <td>36</td>\n",
              "      <td>1500</td>\n",
              "      <td>Masculino</td>\n",
              "      <td>Ensino Médio</td>\n",
              "      <td>2211.08</td>\n",
              "      <td>3711.08</td>\n",
              "    </tr>\n",
              "  </tbody>\n",
              "</table>\n",
              "</div>"
            ],
            "text/plain": [
              "      Id  Idade  Renda       Sexo        Escolaridade    ativo  renda_total\n",
              "0  30445     32   1500   Feminino  Ensino Fundamental  4690.53      6190.53\n",
              "1  20936     38   1500  Masculino  Ensino Fundamental  2534.06      4034.06\n",
              "2  33317     46   1500   Feminino        Ensino Médio  3032.82      4532.82\n",
              "3  36065     22   1500   Feminino        Ensino Médio  3407.52      4907.52\n",
              "4  23166     36   1500  Masculino        Ensino Médio  2211.08      3711.08"
            ]
          },
          "execution_count": 124,
          "metadata": {},
          "output_type": "execute_result"
        }
      ],
      "source": [
        "df.head()"
      ]
    },
    {
      "cell_type": "code",
      "execution_count": null,
      "metadata": {
        "id": "mEXsCrSmOpl_"
      },
      "outputs": [],
      "source": [
        "# posição da coluna 'ativo'\n",
        "posicao = df.columns.to_list().index('ativo')"
      ]
    },
    {
      "cell_type": "code",
      "execution_count": null,
      "metadata": {
        "id": "QUZoMS-eOpl_"
      },
      "outputs": [],
      "source": [
        "# insere a coluna renda_media na posição da coluna 'ativo'\n",
        "df.insert(posicao, 'renda_média', renda_media )"
      ]
    },
    {
      "cell_type": "code",
      "execution_count": null,
      "metadata": {
        "id": "ayPXItT4OpmA",
        "outputId": "c608e16b-67a0-454c-c561-ff5fd6146729"
      },
      "outputs": [
        {
          "data": {
            "text/html": [
              "<div>\n",
              "<style scoped>\n",
              "    .dataframe tbody tr th:only-of-type {\n",
              "        vertical-align: middle;\n",
              "    }\n",
              "\n",
              "    .dataframe tbody tr th {\n",
              "        vertical-align: top;\n",
              "    }\n",
              "\n",
              "    .dataframe thead th {\n",
              "        text-align: right;\n",
              "    }\n",
              "</style>\n",
              "<table border=\"1\" class=\"dataframe\">\n",
              "  <thead>\n",
              "    <tr style=\"text-align: right;\">\n",
              "      <th></th>\n",
              "      <th>Id</th>\n",
              "      <th>Idade</th>\n",
              "      <th>Renda</th>\n",
              "      <th>Sexo</th>\n",
              "      <th>Escolaridade</th>\n",
              "      <th>renda_média</th>\n",
              "      <th>ativo</th>\n",
              "      <th>renda_total</th>\n",
              "    </tr>\n",
              "  </thead>\n",
              "  <tbody>\n",
              "    <tr>\n",
              "      <th>0</th>\n",
              "      <td>30445</td>\n",
              "      <td>32</td>\n",
              "      <td>1500</td>\n",
              "      <td>Feminino</td>\n",
              "      <td>Ensino Fundamental</td>\n",
              "      <td>3095.265</td>\n",
              "      <td>4690.53</td>\n",
              "      <td>6190.53</td>\n",
              "    </tr>\n",
              "    <tr>\n",
              "      <th>1</th>\n",
              "      <td>20936</td>\n",
              "      <td>38</td>\n",
              "      <td>1500</td>\n",
              "      <td>Masculino</td>\n",
              "      <td>Ensino Fundamental</td>\n",
              "      <td>2017.030</td>\n",
              "      <td>2534.06</td>\n",
              "      <td>4034.06</td>\n",
              "    </tr>\n",
              "    <tr>\n",
              "      <th>2</th>\n",
              "      <td>33317</td>\n",
              "      <td>46</td>\n",
              "      <td>1500</td>\n",
              "      <td>Feminino</td>\n",
              "      <td>Ensino Médio</td>\n",
              "      <td>2266.410</td>\n",
              "      <td>3032.82</td>\n",
              "      <td>4532.82</td>\n",
              "    </tr>\n",
              "    <tr>\n",
              "      <th>3</th>\n",
              "      <td>36065</td>\n",
              "      <td>22</td>\n",
              "      <td>1500</td>\n",
              "      <td>Feminino</td>\n",
              "      <td>Ensino Médio</td>\n",
              "      <td>2453.760</td>\n",
              "      <td>3407.52</td>\n",
              "      <td>4907.52</td>\n",
              "    </tr>\n",
              "    <tr>\n",
              "      <th>4</th>\n",
              "      <td>23166</td>\n",
              "      <td>36</td>\n",
              "      <td>1500</td>\n",
              "      <td>Masculino</td>\n",
              "      <td>Ensino Médio</td>\n",
              "      <td>1855.540</td>\n",
              "      <td>2211.08</td>\n",
              "      <td>3711.08</td>\n",
              "    </tr>\n",
              "  </tbody>\n",
              "</table>\n",
              "</div>"
            ],
            "text/plain": [
              "      Id  Idade  Renda       Sexo        Escolaridade  renda_média    ativo  \\\n",
              "0  30445     32   1500   Feminino  Ensino Fundamental     3095.265  4690.53   \n",
              "1  20936     38   1500  Masculino  Ensino Fundamental     2017.030  2534.06   \n",
              "2  33317     46   1500   Feminino        Ensino Médio     2266.410  3032.82   \n",
              "3  36065     22   1500   Feminino        Ensino Médio     2453.760  3407.52   \n",
              "4  23166     36   1500  Masculino        Ensino Médio     1855.540  2211.08   \n",
              "\n",
              "   renda_total  \n",
              "0      6190.53  \n",
              "1      4034.06  \n",
              "2      4532.82  \n",
              "3      4907.52  \n",
              "4      3711.08  "
            ]
          },
          "execution_count": 127,
          "metadata": {},
          "output_type": "execute_result"
        }
      ],
      "source": [
        "df.head()"
      ]
    },
    {
      "cell_type": "markdown",
      "metadata": {
        "id": "TWtmZ7ZnOpmA"
      },
      "source": [
        "### Filtros"
      ]
    },
    {
      "cell_type": "markdown",
      "metadata": {
        "id": "JDhN4zBrOpmA"
      },
      "source": [
        "Nesta seção aprenderemos a fazer filtro com os dados. Por exemplo, como filtrar os dados a partir de uma determianda categorica ou de um conjunto de condições?"
      ]
    },
    {
      "cell_type": "code",
      "execution_count": null,
      "metadata": {
        "id": "GOpkdDyZOpmA",
        "outputId": "9ef6b585-ccdf-4804-bb6c-12f9773d3566"
      },
      "outputs": [
        {
          "data": {
            "text/html": [
              "<div>\n",
              "<style scoped>\n",
              "    .dataframe tbody tr th:only-of-type {\n",
              "        vertical-align: middle;\n",
              "    }\n",
              "\n",
              "    .dataframe tbody tr th {\n",
              "        vertical-align: top;\n",
              "    }\n",
              "\n",
              "    .dataframe thead th {\n",
              "        text-align: right;\n",
              "    }\n",
              "</style>\n",
              "<table border=\"1\" class=\"dataframe\">\n",
              "  <thead>\n",
              "    <tr style=\"text-align: right;\">\n",
              "      <th></th>\n",
              "      <th>Id</th>\n",
              "      <th>Idade</th>\n",
              "      <th>Renda</th>\n",
              "      <th>Sexo</th>\n",
              "      <th>Escolaridade</th>\n",
              "      <th>renda_média</th>\n",
              "      <th>ativo</th>\n",
              "      <th>renda_total</th>\n",
              "    </tr>\n",
              "  </thead>\n",
              "  <tbody>\n",
              "    <tr>\n",
              "      <th>0</th>\n",
              "      <td>30445</td>\n",
              "      <td>32</td>\n",
              "      <td>1500</td>\n",
              "      <td>Feminino</td>\n",
              "      <td>Ensino Fundamental</td>\n",
              "      <td>3095.265</td>\n",
              "      <td>4690.53</td>\n",
              "      <td>6190.53</td>\n",
              "    </tr>\n",
              "    <tr>\n",
              "      <th>1</th>\n",
              "      <td>20936</td>\n",
              "      <td>38</td>\n",
              "      <td>1500</td>\n",
              "      <td>Masculino</td>\n",
              "      <td>Ensino Fundamental</td>\n",
              "      <td>2017.030</td>\n",
              "      <td>2534.06</td>\n",
              "      <td>4034.06</td>\n",
              "    </tr>\n",
              "    <tr>\n",
              "      <th>2</th>\n",
              "      <td>33317</td>\n",
              "      <td>46</td>\n",
              "      <td>1500</td>\n",
              "      <td>Feminino</td>\n",
              "      <td>Ensino Médio</td>\n",
              "      <td>2266.410</td>\n",
              "      <td>3032.82</td>\n",
              "      <td>4532.82</td>\n",
              "    </tr>\n",
              "    <tr>\n",
              "      <th>3</th>\n",
              "      <td>36065</td>\n",
              "      <td>22</td>\n",
              "      <td>1500</td>\n",
              "      <td>Feminino</td>\n",
              "      <td>Ensino Médio</td>\n",
              "      <td>2453.760</td>\n",
              "      <td>3407.52</td>\n",
              "      <td>4907.52</td>\n",
              "    </tr>\n",
              "    <tr>\n",
              "      <th>4</th>\n",
              "      <td>23166</td>\n",
              "      <td>36</td>\n",
              "      <td>1500</td>\n",
              "      <td>Masculino</td>\n",
              "      <td>Ensino Médio</td>\n",
              "      <td>1855.540</td>\n",
              "      <td>2211.08</td>\n",
              "      <td>3711.08</td>\n",
              "    </tr>\n",
              "  </tbody>\n",
              "</table>\n",
              "</div>"
            ],
            "text/plain": [
              "      Id  Idade  Renda       Sexo        Escolaridade  renda_média    ativo  \\\n",
              "0  30445     32   1500   Feminino  Ensino Fundamental     3095.265  4690.53   \n",
              "1  20936     38   1500  Masculino  Ensino Fundamental     2017.030  2534.06   \n",
              "2  33317     46   1500   Feminino        Ensino Médio     2266.410  3032.82   \n",
              "3  36065     22   1500   Feminino        Ensino Médio     2453.760  3407.52   \n",
              "4  23166     36   1500  Masculino        Ensino Médio     1855.540  2211.08   \n",
              "\n",
              "   renda_total  \n",
              "0      6190.53  \n",
              "1      4034.06  \n",
              "2      4532.82  \n",
              "3      4907.52  \n",
              "4      3711.08  "
            ]
          },
          "execution_count": 128,
          "metadata": {},
          "output_type": "execute_result"
        }
      ],
      "source": [
        "df.head()"
      ]
    },
    {
      "cell_type": "code",
      "execution_count": null,
      "metadata": {
        "id": "ZJpX5dL0OpmA",
        "outputId": "f3e58586-0987-4bb1-d374-9f567d526feb"
      },
      "outputs": [
        {
          "data": {
            "text/html": [
              "<div>\n",
              "<style scoped>\n",
              "    .dataframe tbody tr th:only-of-type {\n",
              "        vertical-align: middle;\n",
              "    }\n",
              "\n",
              "    .dataframe tbody tr th {\n",
              "        vertical-align: top;\n",
              "    }\n",
              "\n",
              "    .dataframe thead th {\n",
              "        text-align: right;\n",
              "    }\n",
              "</style>\n",
              "<table border=\"1\" class=\"dataframe\">\n",
              "  <thead>\n",
              "    <tr style=\"text-align: right;\">\n",
              "      <th></th>\n",
              "      <th>Id</th>\n",
              "      <th>Idade</th>\n",
              "      <th>Renda</th>\n",
              "      <th>Sexo</th>\n",
              "      <th>Escolaridade</th>\n",
              "      <th>renda_média</th>\n",
              "      <th>ativo</th>\n",
              "      <th>renda_total</th>\n",
              "    </tr>\n",
              "  </thead>\n",
              "  <tbody>\n",
              "    <tr>\n",
              "      <th>0</th>\n",
              "      <td>30445</td>\n",
              "      <td>32</td>\n",
              "      <td>1500</td>\n",
              "      <td>Feminino</td>\n",
              "      <td>Ensino Fundamental</td>\n",
              "      <td>3095.265</td>\n",
              "      <td>4690.53</td>\n",
              "      <td>6190.53</td>\n",
              "    </tr>\n",
              "    <tr>\n",
              "      <th>2</th>\n",
              "      <td>33317</td>\n",
              "      <td>46</td>\n",
              "      <td>1500</td>\n",
              "      <td>Feminino</td>\n",
              "      <td>Ensino Médio</td>\n",
              "      <td>2266.410</td>\n",
              "      <td>3032.82</td>\n",
              "      <td>4532.82</td>\n",
              "    </tr>\n",
              "    <tr>\n",
              "      <th>3</th>\n",
              "      <td>36065</td>\n",
              "      <td>22</td>\n",
              "      <td>1500</td>\n",
              "      <td>Feminino</td>\n",
              "      <td>Ensino Médio</td>\n",
              "      <td>2453.760</td>\n",
              "      <td>3407.52</td>\n",
              "      <td>4907.52</td>\n",
              "    </tr>\n",
              "    <tr>\n",
              "      <th>7</th>\n",
              "      <td>34019</td>\n",
              "      <td>18</td>\n",
              "      <td>1501</td>\n",
              "      <td>Feminino</td>\n",
              "      <td>Ensino Fundamental</td>\n",
              "      <td>1373.140</td>\n",
              "      <td>1245.28</td>\n",
              "      <td>2746.28</td>\n",
              "    </tr>\n",
              "    <tr>\n",
              "      <th>11</th>\n",
              "      <td>31782</td>\n",
              "      <td>32</td>\n",
              "      <td>1502</td>\n",
              "      <td>Feminino</td>\n",
              "      <td>Ensino Fundamental</td>\n",
              "      <td>2165.225</td>\n",
              "      <td>2828.45</td>\n",
              "      <td>4330.45</td>\n",
              "    </tr>\n",
              "    <tr>\n",
              "      <th>...</th>\n",
              "      <td>...</td>\n",
              "      <td>...</td>\n",
              "      <td>...</td>\n",
              "      <td>...</td>\n",
              "      <td>...</td>\n",
              "      <td>...</td>\n",
              "      <td>...</td>\n",
              "      <td>...</td>\n",
              "    </tr>\n",
              "    <tr>\n",
              "      <th>49984</th>\n",
              "      <td>32072</td>\n",
              "      <td>62</td>\n",
              "      <td>9997</td>\n",
              "      <td>Feminino</td>\n",
              "      <td>Ensino Médio</td>\n",
              "      <td>5753.355</td>\n",
              "      <td>1509.71</td>\n",
              "      <td>11506.71</td>\n",
              "    </tr>\n",
              "    <tr>\n",
              "      <th>49987</th>\n",
              "      <td>49520</td>\n",
              "      <td>28</td>\n",
              "      <td>9997</td>\n",
              "      <td>Feminino</td>\n",
              "      <td>Ensino Superior</td>\n",
              "      <td>7333.765</td>\n",
              "      <td>4670.53</td>\n",
              "      <td>14667.53</td>\n",
              "    </tr>\n",
              "    <tr>\n",
              "      <th>49988</th>\n",
              "      <td>43974</td>\n",
              "      <td>66</td>\n",
              "      <td>9998</td>\n",
              "      <td>Feminino</td>\n",
              "      <td>Ensino Fundamental</td>\n",
              "      <td>6788.305</td>\n",
              "      <td>3578.61</td>\n",
              "      <td>13576.61</td>\n",
              "    </tr>\n",
              "    <tr>\n",
              "      <th>49991</th>\n",
              "      <td>27833</td>\n",
              "      <td>49</td>\n",
              "      <td>9998</td>\n",
              "      <td>Feminino</td>\n",
              "      <td>Ensino Médio</td>\n",
              "      <td>6316.275</td>\n",
              "      <td>2634.55</td>\n",
              "      <td>12632.55</td>\n",
              "    </tr>\n",
              "    <tr>\n",
              "      <th>49996</th>\n",
              "      <td>8382</td>\n",
              "      <td>68</td>\n",
              "      <td>9999</td>\n",
              "      <td>Feminino</td>\n",
              "      <td>Ensino Médio</td>\n",
              "      <td>6675.700</td>\n",
              "      <td>3352.40</td>\n",
              "      <td>13351.40</td>\n",
              "    </tr>\n",
              "  </tbody>\n",
              "</table>\n",
              "<p>24980 rows × 8 columns</p>\n",
              "</div>"
            ],
            "text/plain": [
              "          Id  Idade  Renda      Sexo        Escolaridade  renda_média  \\\n",
              "0      30445     32   1500  Feminino  Ensino Fundamental     3095.265   \n",
              "2      33317     46   1500  Feminino        Ensino Médio     2266.410   \n",
              "3      36065     22   1500  Feminino        Ensino Médio     2453.760   \n",
              "7      34019     18   1501  Feminino  Ensino Fundamental     1373.140   \n",
              "11     31782     32   1502  Feminino  Ensino Fundamental     2165.225   \n",
              "...      ...    ...    ...       ...                 ...          ...   \n",
              "49984  32072     62   9997  Feminino        Ensino Médio     5753.355   \n",
              "49987  49520     28   9997  Feminino     Ensino Superior     7333.765   \n",
              "49988  43974     66   9998  Feminino  Ensino Fundamental     6788.305   \n",
              "49991  27833     49   9998  Feminino        Ensino Médio     6316.275   \n",
              "49996   8382     68   9999  Feminino        Ensino Médio     6675.700   \n",
              "\n",
              "         ativo  renda_total  \n",
              "0      4690.53      6190.53  \n",
              "2      3032.82      4532.82  \n",
              "3      3407.52      4907.52  \n",
              "7      1245.28      2746.28  \n",
              "11     2828.45      4330.45  \n",
              "...        ...          ...  \n",
              "49984  1509.71     11506.71  \n",
              "49987  4670.53     14667.53  \n",
              "49988  3578.61     13576.61  \n",
              "49991  2634.55     12632.55  \n",
              "49996  3352.40     13351.40  \n",
              "\n",
              "[24980 rows x 8 columns]"
            ]
          },
          "execution_count": 129,
          "metadata": {},
          "output_type": "execute_result"
        }
      ],
      "source": [
        "# condição simples: filtra os dados a partir do sexo Feminino\n",
        "df[df.Sexo == 'Feminino']"
      ]
    },
    {
      "cell_type": "code",
      "execution_count": null,
      "metadata": {
        "id": "Fls3KdSyOpmA",
        "outputId": "d8c05596-efab-460f-a853-a045a6bf3cdc"
      },
      "outputs": [
        {
          "data": {
            "text/plain": [
              "24980"
            ]
          },
          "execution_count": 130,
          "metadata": {},
          "output_type": "execute_result"
        }
      ],
      "source": [
        "# shape do filtro\n",
        "df[df.Sexo == 'Feminino'].shape[0]"
      ]
    },
    {
      "cell_type": "code",
      "execution_count": null,
      "metadata": {
        "id": "aK65O7WmOpmB",
        "outputId": "4a877548-3118-43c1-9b71-4e9bd0e0299d"
      },
      "outputs": [
        {
          "data": {
            "text/html": [
              "<div>\n",
              "<style scoped>\n",
              "    .dataframe tbody tr th:only-of-type {\n",
              "        vertical-align: middle;\n",
              "    }\n",
              "\n",
              "    .dataframe tbody tr th {\n",
              "        vertical-align: top;\n",
              "    }\n",
              "\n",
              "    .dataframe thead th {\n",
              "        text-align: right;\n",
              "    }\n",
              "</style>\n",
              "<table border=\"1\" class=\"dataframe\">\n",
              "  <thead>\n",
              "    <tr style=\"text-align: right;\">\n",
              "      <th></th>\n",
              "      <th>Id</th>\n",
              "      <th>Idade</th>\n",
              "      <th>Renda</th>\n",
              "      <th>Sexo</th>\n",
              "      <th>Escolaridade</th>\n",
              "      <th>renda_média</th>\n",
              "      <th>ativo</th>\n",
              "      <th>renda_total</th>\n",
              "    </tr>\n",
              "  </thead>\n",
              "  <tbody>\n",
              "    <tr>\n",
              "      <th>0</th>\n",
              "      <td>30445</td>\n",
              "      <td>32</td>\n",
              "      <td>1500</td>\n",
              "      <td>Feminino</td>\n",
              "      <td>Ensino Fundamental</td>\n",
              "      <td>3095.265</td>\n",
              "      <td>4690.53</td>\n",
              "      <td>6190.53</td>\n",
              "    </tr>\n",
              "    <tr>\n",
              "      <th>2</th>\n",
              "      <td>33317</td>\n",
              "      <td>46</td>\n",
              "      <td>1500</td>\n",
              "      <td>Feminino</td>\n",
              "      <td>Ensino Médio</td>\n",
              "      <td>2266.410</td>\n",
              "      <td>3032.82</td>\n",
              "      <td>4532.82</td>\n",
              "    </tr>\n",
              "    <tr>\n",
              "      <th>3</th>\n",
              "      <td>36065</td>\n",
              "      <td>22</td>\n",
              "      <td>1500</td>\n",
              "      <td>Feminino</td>\n",
              "      <td>Ensino Médio</td>\n",
              "      <td>2453.760</td>\n",
              "      <td>3407.52</td>\n",
              "      <td>4907.52</td>\n",
              "    </tr>\n",
              "    <tr>\n",
              "      <th>7</th>\n",
              "      <td>34019</td>\n",
              "      <td>18</td>\n",
              "      <td>1501</td>\n",
              "      <td>Feminino</td>\n",
              "      <td>Ensino Fundamental</td>\n",
              "      <td>1373.140</td>\n",
              "      <td>1245.28</td>\n",
              "      <td>2746.28</td>\n",
              "    </tr>\n",
              "    <tr>\n",
              "      <th>11</th>\n",
              "      <td>31782</td>\n",
              "      <td>32</td>\n",
              "      <td>1502</td>\n",
              "      <td>Feminino</td>\n",
              "      <td>Ensino Fundamental</td>\n",
              "      <td>2165.225</td>\n",
              "      <td>2828.45</td>\n",
              "      <td>4330.45</td>\n",
              "    </tr>\n",
              "    <tr>\n",
              "      <th>...</th>\n",
              "      <td>...</td>\n",
              "      <td>...</td>\n",
              "      <td>...</td>\n",
              "      <td>...</td>\n",
              "      <td>...</td>\n",
              "      <td>...</td>\n",
              "      <td>...</td>\n",
              "      <td>...</td>\n",
              "    </tr>\n",
              "    <tr>\n",
              "      <th>49984</th>\n",
              "      <td>32072</td>\n",
              "      <td>62</td>\n",
              "      <td>9997</td>\n",
              "      <td>Feminino</td>\n",
              "      <td>Ensino Médio</td>\n",
              "      <td>5753.355</td>\n",
              "      <td>1509.71</td>\n",
              "      <td>11506.71</td>\n",
              "    </tr>\n",
              "    <tr>\n",
              "      <th>49987</th>\n",
              "      <td>49520</td>\n",
              "      <td>28</td>\n",
              "      <td>9997</td>\n",
              "      <td>Feminino</td>\n",
              "      <td>Ensino Superior</td>\n",
              "      <td>7333.765</td>\n",
              "      <td>4670.53</td>\n",
              "      <td>14667.53</td>\n",
              "    </tr>\n",
              "    <tr>\n",
              "      <th>49988</th>\n",
              "      <td>43974</td>\n",
              "      <td>66</td>\n",
              "      <td>9998</td>\n",
              "      <td>Feminino</td>\n",
              "      <td>Ensino Fundamental</td>\n",
              "      <td>6788.305</td>\n",
              "      <td>3578.61</td>\n",
              "      <td>13576.61</td>\n",
              "    </tr>\n",
              "    <tr>\n",
              "      <th>49991</th>\n",
              "      <td>27833</td>\n",
              "      <td>49</td>\n",
              "      <td>9998</td>\n",
              "      <td>Feminino</td>\n",
              "      <td>Ensino Médio</td>\n",
              "      <td>6316.275</td>\n",
              "      <td>2634.55</td>\n",
              "      <td>12632.55</td>\n",
              "    </tr>\n",
              "    <tr>\n",
              "      <th>49996</th>\n",
              "      <td>8382</td>\n",
              "      <td>68</td>\n",
              "      <td>9999</td>\n",
              "      <td>Feminino</td>\n",
              "      <td>Ensino Médio</td>\n",
              "      <td>6675.700</td>\n",
              "      <td>3352.40</td>\n",
              "      <td>13351.40</td>\n",
              "    </tr>\n",
              "  </tbody>\n",
              "</table>\n",
              "<p>24980 rows × 8 columns</p>\n",
              "</div>"
            ],
            "text/plain": [
              "          Id  Idade  Renda      Sexo        Escolaridade  renda_média  \\\n",
              "0      30445     32   1500  Feminino  Ensino Fundamental     3095.265   \n",
              "2      33317     46   1500  Feminino        Ensino Médio     2266.410   \n",
              "3      36065     22   1500  Feminino        Ensino Médio     2453.760   \n",
              "7      34019     18   1501  Feminino  Ensino Fundamental     1373.140   \n",
              "11     31782     32   1502  Feminino  Ensino Fundamental     2165.225   \n",
              "...      ...    ...    ...       ...                 ...          ...   \n",
              "49984  32072     62   9997  Feminino        Ensino Médio     5753.355   \n",
              "49987  49520     28   9997  Feminino     Ensino Superior     7333.765   \n",
              "49988  43974     66   9998  Feminino  Ensino Fundamental     6788.305   \n",
              "49991  27833     49   9998  Feminino        Ensino Médio     6316.275   \n",
              "49996   8382     68   9999  Feminino        Ensino Médio     6675.700   \n",
              "\n",
              "         ativo  renda_total  \n",
              "0      4690.53      6190.53  \n",
              "2      3032.82      4532.82  \n",
              "3      3407.52      4907.52  \n",
              "7      1245.28      2746.28  \n",
              "11     2828.45      4330.45  \n",
              "...        ...          ...  \n",
              "49984  1509.71     11506.71  \n",
              "49987  4670.53     14667.53  \n",
              "49988  3578.61     13576.61  \n",
              "49991  2634.55     12632.55  \n",
              "49996  3352.40     13351.40  \n",
              "\n",
              "[24980 rows x 8 columns]"
            ]
          },
          "execution_count": 131,
          "metadata": {},
          "output_type": "execute_result"
        }
      ],
      "source": [
        "# condição simples: filtra os dados a partir do sexo Feminino\n",
        "df.query('Sexo == \"Feminino\"')"
      ]
    },
    {
      "cell_type": "code",
      "execution_count": null,
      "metadata": {
        "id": "7hKH2H8ZOpmB",
        "outputId": "80c6791a-9025-4d8c-cef7-b7812e4caef3"
      },
      "outputs": [
        {
          "data": {
            "text/plain": [
              "24980"
            ]
          },
          "execution_count": 132,
          "metadata": {},
          "output_type": "execute_result"
        }
      ],
      "source": [
        "df.query(\"Sexo == 'Feminino'\").shape[0]"
      ]
    },
    {
      "cell_type": "code",
      "execution_count": null,
      "metadata": {
        "id": "mUZc8ZFsOpmB"
      },
      "outputs": [],
      "source": [
        "#SyntaxError: invalid syntax: df.query(\"Sexo == \"Feminino\"\")"
      ]
    },
    {
      "cell_type": "code",
      "execution_count": null,
      "metadata": {
        "id": "J7fisF7ROpmB",
        "outputId": "146d710b-b765-4d87-cdef-6a6a72776c7d"
      },
      "outputs": [
        {
          "data": {
            "text/plain": [
              "24980"
            ]
          },
          "execution_count": 134,
          "metadata": {},
          "output_type": "execute_result"
        }
      ],
      "source": [
        "# condição simples: filtra os dados a partir do sexo Feminino\n",
        "df.loc[df.Sexo == 'Feminino'].shape[0]"
      ]
    },
    {
      "cell_type": "code",
      "execution_count": null,
      "metadata": {
        "id": "9W29NSFPOpmB",
        "outputId": "7a32ff58-7b28-4b03-d04c-1d3cddb04c95"
      },
      "outputs": [
        {
          "data": {
            "text/html": [
              "<div>\n",
              "<style scoped>\n",
              "    .dataframe tbody tr th:only-of-type {\n",
              "        vertical-align: middle;\n",
              "    }\n",
              "\n",
              "    .dataframe tbody tr th {\n",
              "        vertical-align: top;\n",
              "    }\n",
              "\n",
              "    .dataframe thead th {\n",
              "        text-align: right;\n",
              "    }\n",
              "</style>\n",
              "<table border=\"1\" class=\"dataframe\">\n",
              "  <thead>\n",
              "    <tr style=\"text-align: right;\">\n",
              "      <th></th>\n",
              "      <th>Id</th>\n",
              "      <th>Idade</th>\n",
              "      <th>Renda</th>\n",
              "      <th>Sexo</th>\n",
              "      <th>Escolaridade</th>\n",
              "      <th>renda_média</th>\n",
              "      <th>ativo</th>\n",
              "      <th>renda_total</th>\n",
              "    </tr>\n",
              "  </thead>\n",
              "  <tbody>\n",
              "    <tr>\n",
              "      <th>25</th>\n",
              "      <td>13589</td>\n",
              "      <td>55</td>\n",
              "      <td>1503</td>\n",
              "      <td>Feminino</td>\n",
              "      <td>Ensino Superior</td>\n",
              "      <td>1526.160</td>\n",
              "      <td>1549.32</td>\n",
              "      <td>3052.32</td>\n",
              "    </tr>\n",
              "    <tr>\n",
              "      <th>43</th>\n",
              "      <td>17597</td>\n",
              "      <td>23</td>\n",
              "      <td>1506</td>\n",
              "      <td>Feminino</td>\n",
              "      <td>Ensino Superior</td>\n",
              "      <td>1876.580</td>\n",
              "      <td>2247.16</td>\n",
              "      <td>3753.16</td>\n",
              "    </tr>\n",
              "    <tr>\n",
              "      <th>47</th>\n",
              "      <td>23108</td>\n",
              "      <td>60</td>\n",
              "      <td>1507</td>\n",
              "      <td>Feminino</td>\n",
              "      <td>Ensino Superior</td>\n",
              "      <td>3377.300</td>\n",
              "      <td>5247.60</td>\n",
              "      <td>6754.60</td>\n",
              "    </tr>\n",
              "    <tr>\n",
              "      <th>48</th>\n",
              "      <td>26873</td>\n",
              "      <td>56</td>\n",
              "      <td>1507</td>\n",
              "      <td>Feminino</td>\n",
              "      <td>Ensino Superior</td>\n",
              "      <td>2388.205</td>\n",
              "      <td>3269.41</td>\n",
              "      <td>4776.41</td>\n",
              "    </tr>\n",
              "    <tr>\n",
              "      <th>49</th>\n",
              "      <td>32228</td>\n",
              "      <td>59</td>\n",
              "      <td>1507</td>\n",
              "      <td>Feminino</td>\n",
              "      <td>Ensino Superior</td>\n",
              "      <td>1991.200</td>\n",
              "      <td>2475.40</td>\n",
              "      <td>3982.40</td>\n",
              "    </tr>\n",
              "    <tr>\n",
              "      <th>...</th>\n",
              "      <td>...</td>\n",
              "      <td>...</td>\n",
              "      <td>...</td>\n",
              "      <td>...</td>\n",
              "      <td>...</td>\n",
              "      <td>...</td>\n",
              "      <td>...</td>\n",
              "      <td>...</td>\n",
              "    </tr>\n",
              "    <tr>\n",
              "      <th>49966</th>\n",
              "      <td>1319</td>\n",
              "      <td>63</td>\n",
              "      <td>9994</td>\n",
              "      <td>Feminino</td>\n",
              "      <td>Ensino Superior</td>\n",
              "      <td>6413.235</td>\n",
              "      <td>2832.47</td>\n",
              "      <td>12826.47</td>\n",
              "    </tr>\n",
              "    <tr>\n",
              "      <th>49967</th>\n",
              "      <td>20501</td>\n",
              "      <td>56</td>\n",
              "      <td>9994</td>\n",
              "      <td>Feminino</td>\n",
              "      <td>Ensino Superior</td>\n",
              "      <td>6234.720</td>\n",
              "      <td>2475.44</td>\n",
              "      <td>12469.44</td>\n",
              "    </tr>\n",
              "    <tr>\n",
              "      <th>49968</th>\n",
              "      <td>25285</td>\n",
              "      <td>62</td>\n",
              "      <td>9994</td>\n",
              "      <td>Feminino</td>\n",
              "      <td>Ensino Superior</td>\n",
              "      <td>5919.225</td>\n",
              "      <td>1844.45</td>\n",
              "      <td>11838.45</td>\n",
              "    </tr>\n",
              "    <tr>\n",
              "      <th>49978</th>\n",
              "      <td>19654</td>\n",
              "      <td>43</td>\n",
              "      <td>9996</td>\n",
              "      <td>Feminino</td>\n",
              "      <td>Ensino Superior</td>\n",
              "      <td>6707.150</td>\n",
              "      <td>3418.30</td>\n",
              "      <td>13414.30</td>\n",
              "    </tr>\n",
              "    <tr>\n",
              "      <th>49987</th>\n",
              "      <td>49520</td>\n",
              "      <td>28</td>\n",
              "      <td>9997</td>\n",
              "      <td>Feminino</td>\n",
              "      <td>Ensino Superior</td>\n",
              "      <td>7333.765</td>\n",
              "      <td>4670.53</td>\n",
              "      <td>14667.53</td>\n",
              "    </tr>\n",
              "  </tbody>\n",
              "</table>\n",
              "<p>8358 rows × 8 columns</p>\n",
              "</div>"
            ],
            "text/plain": [
              "          Id  Idade  Renda      Sexo     Escolaridade  renda_média    ativo  \\\n",
              "25     13589     55   1503  Feminino  Ensino Superior     1526.160  1549.32   \n",
              "43     17597     23   1506  Feminino  Ensino Superior     1876.580  2247.16   \n",
              "47     23108     60   1507  Feminino  Ensino Superior     3377.300  5247.60   \n",
              "48     26873     56   1507  Feminino  Ensino Superior     2388.205  3269.41   \n",
              "49     32228     59   1507  Feminino  Ensino Superior     1991.200  2475.40   \n",
              "...      ...    ...    ...       ...              ...          ...      ...   \n",
              "49966   1319     63   9994  Feminino  Ensino Superior     6413.235  2832.47   \n",
              "49967  20501     56   9994  Feminino  Ensino Superior     6234.720  2475.44   \n",
              "49968  25285     62   9994  Feminino  Ensino Superior     5919.225  1844.45   \n",
              "49978  19654     43   9996  Feminino  Ensino Superior     6707.150  3418.30   \n",
              "49987  49520     28   9997  Feminino  Ensino Superior     7333.765  4670.53   \n",
              "\n",
              "       renda_total  \n",
              "25         3052.32  \n",
              "43         3753.16  \n",
              "47         6754.60  \n",
              "48         4776.41  \n",
              "49         3982.40  \n",
              "...            ...  \n",
              "49966     12826.47  \n",
              "49967     12469.44  \n",
              "49968     11838.45  \n",
              "49978     13414.30  \n",
              "49987     14667.53  \n",
              "\n",
              "[8358 rows x 8 columns]"
            ]
          },
          "execution_count": 135,
          "metadata": {},
          "output_type": "execute_result"
        }
      ],
      "source": [
        "# condição 1: sexo feminino\n",
        "# condição 2: escolaridade ensino superior\n",
        "# AND: &\n",
        "df[(df.Sexo == 'Feminino') & (df.Escolaridade == 'Ensino Superior')]"
      ]
    },
    {
      "cell_type": "code",
      "execution_count": null,
      "metadata": {
        "id": "qTdDoqR-OpmB",
        "outputId": "dcd5a069-0fd1-4836-ff5f-0968d7a5e0e8"
      },
      "outputs": [
        {
          "data": {
            "text/plain": [
              "(8358, 8)"
            ]
          },
          "execution_count": 136,
          "metadata": {},
          "output_type": "execute_result"
        }
      ],
      "source": [
        "df[(df.Sexo == 'Feminino') & (df.Escolaridade == 'Ensino Superior')].shape"
      ]
    },
    {
      "cell_type": "code",
      "execution_count": null,
      "metadata": {
        "id": "0LstZMNvOpmB",
        "outputId": "3f0a13e9-f552-42be-82d0-62389e1e2be1"
      },
      "outputs": [
        {
          "data": {
            "text/html": [
              "<div>\n",
              "<style scoped>\n",
              "    .dataframe tbody tr th:only-of-type {\n",
              "        vertical-align: middle;\n",
              "    }\n",
              "\n",
              "    .dataframe tbody tr th {\n",
              "        vertical-align: top;\n",
              "    }\n",
              "\n",
              "    .dataframe thead th {\n",
              "        text-align: right;\n",
              "    }\n",
              "</style>\n",
              "<table border=\"1\" class=\"dataframe\">\n",
              "  <thead>\n",
              "    <tr style=\"text-align: right;\">\n",
              "      <th></th>\n",
              "      <th>Id</th>\n",
              "      <th>Idade</th>\n",
              "      <th>Renda</th>\n",
              "      <th>Sexo</th>\n",
              "      <th>Escolaridade</th>\n",
              "      <th>renda_média</th>\n",
              "      <th>ativo</th>\n",
              "      <th>renda_total</th>\n",
              "    </tr>\n",
              "  </thead>\n",
              "  <tbody>\n",
              "    <tr>\n",
              "      <th>25</th>\n",
              "      <td>13589</td>\n",
              "      <td>55</td>\n",
              "      <td>1503</td>\n",
              "      <td>Feminino</td>\n",
              "      <td>Ensino Superior</td>\n",
              "      <td>1526.160</td>\n",
              "      <td>1549.32</td>\n",
              "      <td>3052.32</td>\n",
              "    </tr>\n",
              "    <tr>\n",
              "      <th>43</th>\n",
              "      <td>17597</td>\n",
              "      <td>23</td>\n",
              "      <td>1506</td>\n",
              "      <td>Feminino</td>\n",
              "      <td>Ensino Superior</td>\n",
              "      <td>1876.580</td>\n",
              "      <td>2247.16</td>\n",
              "      <td>3753.16</td>\n",
              "    </tr>\n",
              "    <tr>\n",
              "      <th>47</th>\n",
              "      <td>23108</td>\n",
              "      <td>60</td>\n",
              "      <td>1507</td>\n",
              "      <td>Feminino</td>\n",
              "      <td>Ensino Superior</td>\n",
              "      <td>3377.300</td>\n",
              "      <td>5247.60</td>\n",
              "      <td>6754.60</td>\n",
              "    </tr>\n",
              "    <tr>\n",
              "      <th>48</th>\n",
              "      <td>26873</td>\n",
              "      <td>56</td>\n",
              "      <td>1507</td>\n",
              "      <td>Feminino</td>\n",
              "      <td>Ensino Superior</td>\n",
              "      <td>2388.205</td>\n",
              "      <td>3269.41</td>\n",
              "      <td>4776.41</td>\n",
              "    </tr>\n",
              "    <tr>\n",
              "      <th>49</th>\n",
              "      <td>32228</td>\n",
              "      <td>59</td>\n",
              "      <td>1507</td>\n",
              "      <td>Feminino</td>\n",
              "      <td>Ensino Superior</td>\n",
              "      <td>1991.200</td>\n",
              "      <td>2475.40</td>\n",
              "      <td>3982.40</td>\n",
              "    </tr>\n",
              "    <tr>\n",
              "      <th>...</th>\n",
              "      <td>...</td>\n",
              "      <td>...</td>\n",
              "      <td>...</td>\n",
              "      <td>...</td>\n",
              "      <td>...</td>\n",
              "      <td>...</td>\n",
              "      <td>...</td>\n",
              "      <td>...</td>\n",
              "    </tr>\n",
              "    <tr>\n",
              "      <th>49966</th>\n",
              "      <td>1319</td>\n",
              "      <td>63</td>\n",
              "      <td>9994</td>\n",
              "      <td>Feminino</td>\n",
              "      <td>Ensino Superior</td>\n",
              "      <td>6413.235</td>\n",
              "      <td>2832.47</td>\n",
              "      <td>12826.47</td>\n",
              "    </tr>\n",
              "    <tr>\n",
              "      <th>49967</th>\n",
              "      <td>20501</td>\n",
              "      <td>56</td>\n",
              "      <td>9994</td>\n",
              "      <td>Feminino</td>\n",
              "      <td>Ensino Superior</td>\n",
              "      <td>6234.720</td>\n",
              "      <td>2475.44</td>\n",
              "      <td>12469.44</td>\n",
              "    </tr>\n",
              "    <tr>\n",
              "      <th>49968</th>\n",
              "      <td>25285</td>\n",
              "      <td>62</td>\n",
              "      <td>9994</td>\n",
              "      <td>Feminino</td>\n",
              "      <td>Ensino Superior</td>\n",
              "      <td>5919.225</td>\n",
              "      <td>1844.45</td>\n",
              "      <td>11838.45</td>\n",
              "    </tr>\n",
              "    <tr>\n",
              "      <th>49978</th>\n",
              "      <td>19654</td>\n",
              "      <td>43</td>\n",
              "      <td>9996</td>\n",
              "      <td>Feminino</td>\n",
              "      <td>Ensino Superior</td>\n",
              "      <td>6707.150</td>\n",
              "      <td>3418.30</td>\n",
              "      <td>13414.30</td>\n",
              "    </tr>\n",
              "    <tr>\n",
              "      <th>49987</th>\n",
              "      <td>49520</td>\n",
              "      <td>28</td>\n",
              "      <td>9997</td>\n",
              "      <td>Feminino</td>\n",
              "      <td>Ensino Superior</td>\n",
              "      <td>7333.765</td>\n",
              "      <td>4670.53</td>\n",
              "      <td>14667.53</td>\n",
              "    </tr>\n",
              "  </tbody>\n",
              "</table>\n",
              "<p>8358 rows × 8 columns</p>\n",
              "</div>"
            ],
            "text/plain": [
              "          Id  Idade  Renda      Sexo     Escolaridade  renda_média    ativo  \\\n",
              "25     13589     55   1503  Feminino  Ensino Superior     1526.160  1549.32   \n",
              "43     17597     23   1506  Feminino  Ensino Superior     1876.580  2247.16   \n",
              "47     23108     60   1507  Feminino  Ensino Superior     3377.300  5247.60   \n",
              "48     26873     56   1507  Feminino  Ensino Superior     2388.205  3269.41   \n",
              "49     32228     59   1507  Feminino  Ensino Superior     1991.200  2475.40   \n",
              "...      ...    ...    ...       ...              ...          ...      ...   \n",
              "49966   1319     63   9994  Feminino  Ensino Superior     6413.235  2832.47   \n",
              "49967  20501     56   9994  Feminino  Ensino Superior     6234.720  2475.44   \n",
              "49968  25285     62   9994  Feminino  Ensino Superior     5919.225  1844.45   \n",
              "49978  19654     43   9996  Feminino  Ensino Superior     6707.150  3418.30   \n",
              "49987  49520     28   9997  Feminino  Ensino Superior     7333.765  4670.53   \n",
              "\n",
              "       renda_total  \n",
              "25         3052.32  \n",
              "43         3753.16  \n",
              "47         6754.60  \n",
              "48         4776.41  \n",
              "49         3982.40  \n",
              "...            ...  \n",
              "49966     12826.47  \n",
              "49967     12469.44  \n",
              "49968     11838.45  \n",
              "49978     13414.30  \n",
              "49987     14667.53  \n",
              "\n",
              "[8358 rows x 8 columns]"
            ]
          },
          "execution_count": 137,
          "metadata": {},
          "output_type": "execute_result"
        }
      ],
      "source": [
        "df.query(\"(Sexo == 'Feminino') & (Escolaridade == 'Ensino Superior')\")"
      ]
    },
    {
      "cell_type": "code",
      "execution_count": null,
      "metadata": {
        "id": "geL6gYRPOpmC",
        "outputId": "3f6c9098-d105-4f36-be6a-4709c9e4e53a"
      },
      "outputs": [
        {
          "data": {
            "text/plain": [
              "(8358, 8)"
            ]
          },
          "execution_count": 138,
          "metadata": {},
          "output_type": "execute_result"
        }
      ],
      "source": [
        "df.query(\"(Sexo == 'Feminino') & (Escolaridade == 'Ensino Superior')\").shape"
      ]
    },
    {
      "cell_type": "code",
      "execution_count": null,
      "metadata": {
        "id": "Psbl3OX8OpmC",
        "outputId": "72850932-f6b0-4d50-ba83-c1aa2415e4fc"
      },
      "outputs": [
        {
          "data": {
            "text/plain": [
              "(8358, 8)"
            ]
          },
          "execution_count": 139,
          "metadata": {},
          "output_type": "execute_result"
        }
      ],
      "source": [
        "df.loc[(df.Sexo == 'Feminino') & (df.Escolaridade == 'Ensino Superior')].shape"
      ]
    },
    {
      "cell_type": "code",
      "execution_count": null,
      "metadata": {
        "id": "qrX_0w16OpmC"
      },
      "outputs": [],
      "source": [
        "# condição 1: sexo masculino\n",
        "# condição 2: renda>= 7_500"
      ]
    },
    {
      "cell_type": "code",
      "execution_count": null,
      "metadata": {
        "id": "WAbejBkzOpmC",
        "outputId": "204e7ead-3f49-4487-a979-269866d2f413"
      },
      "outputs": [
        {
          "data": {
            "text/html": [
              "<div>\n",
              "<style scoped>\n",
              "    .dataframe tbody tr th:only-of-type {\n",
              "        vertical-align: middle;\n",
              "    }\n",
              "\n",
              "    .dataframe tbody tr th {\n",
              "        vertical-align: top;\n",
              "    }\n",
              "\n",
              "    .dataframe thead th {\n",
              "        text-align: right;\n",
              "    }\n",
              "</style>\n",
              "<table border=\"1\" class=\"dataframe\">\n",
              "  <thead>\n",
              "    <tr style=\"text-align: right;\">\n",
              "      <th></th>\n",
              "      <th>Id</th>\n",
              "      <th>Idade</th>\n",
              "      <th>Renda</th>\n",
              "      <th>Sexo</th>\n",
              "      <th>Escolaridade</th>\n",
              "      <th>renda_média</th>\n",
              "      <th>ativo</th>\n",
              "      <th>renda_total</th>\n",
              "    </tr>\n",
              "  </thead>\n",
              "  <tbody>\n",
              "    <tr>\n",
              "      <th>35411</th>\n",
              "      <td>20009</td>\n",
              "      <td>56</td>\n",
              "      <td>7500</td>\n",
              "      <td>Masculino</td>\n",
              "      <td>Ensino Fundamental</td>\n",
              "      <td>5340.385</td>\n",
              "      <td>3180.77</td>\n",
              "      <td>10680.77</td>\n",
              "    </tr>\n",
              "    <tr>\n",
              "      <th>35412</th>\n",
              "      <td>23973</td>\n",
              "      <td>54</td>\n",
              "      <td>7500</td>\n",
              "      <td>Masculino</td>\n",
              "      <td>Ensino Fundamental</td>\n",
              "      <td>5717.215</td>\n",
              "      <td>3934.43</td>\n",
              "      <td>11434.43</td>\n",
              "    </tr>\n",
              "    <tr>\n",
              "      <th>35413</th>\n",
              "      <td>41461</td>\n",
              "      <td>68</td>\n",
              "      <td>7500</td>\n",
              "      <td>Masculino</td>\n",
              "      <td>Ensino Fundamental</td>\n",
              "      <td>6166.995</td>\n",
              "      <td>4833.99</td>\n",
              "      <td>12333.99</td>\n",
              "    </tr>\n",
              "    <tr>\n",
              "      <th>35419</th>\n",
              "      <td>19716</td>\n",
              "      <td>54</td>\n",
              "      <td>7501</td>\n",
              "      <td>Masculino</td>\n",
              "      <td>Ensino Fundamental</td>\n",
              "      <td>4961.875</td>\n",
              "      <td>2422.75</td>\n",
              "      <td>9923.75</td>\n",
              "    </tr>\n",
              "    <tr>\n",
              "      <th>35421</th>\n",
              "      <td>11360</td>\n",
              "      <td>23</td>\n",
              "      <td>7502</td>\n",
              "      <td>Masculino</td>\n",
              "      <td>Ensino Médio</td>\n",
              "      <td>4920.425</td>\n",
              "      <td>2338.85</td>\n",
              "      <td>9840.85</td>\n",
              "    </tr>\n",
              "    <tr>\n",
              "      <th>...</th>\n",
              "      <td>...</td>\n",
              "      <td>...</td>\n",
              "      <td>...</td>\n",
              "      <td>...</td>\n",
              "      <td>...</td>\n",
              "      <td>...</td>\n",
              "      <td>...</td>\n",
              "      <td>...</td>\n",
              "    </tr>\n",
              "    <tr>\n",
              "      <th>49994</th>\n",
              "      <td>23061</td>\n",
              "      <td>39</td>\n",
              "      <td>9998</td>\n",
              "      <td>Masculino</td>\n",
              "      <td>Ensino Superior</td>\n",
              "      <td>6531.400</td>\n",
              "      <td>3064.80</td>\n",
              "      <td>13062.80</td>\n",
              "    </tr>\n",
              "    <tr>\n",
              "      <th>49995</th>\n",
              "      <td>41289</td>\n",
              "      <td>61</td>\n",
              "      <td>9999</td>\n",
              "      <td>Masculino</td>\n",
              "      <td>Ensino Fundamental</td>\n",
              "      <td>5680.580</td>\n",
              "      <td>1362.16</td>\n",
              "      <td>11361.16</td>\n",
              "    </tr>\n",
              "    <tr>\n",
              "      <th>49997</th>\n",
              "      <td>1482</td>\n",
              "      <td>68</td>\n",
              "      <td>9999</td>\n",
              "      <td>Masculino</td>\n",
              "      <td>Ensino Médio</td>\n",
              "      <td>6622.955</td>\n",
              "      <td>3246.91</td>\n",
              "      <td>13245.91</td>\n",
              "    </tr>\n",
              "    <tr>\n",
              "      <th>49998</th>\n",
              "      <td>21094</td>\n",
              "      <td>65</td>\n",
              "      <td>9999</td>\n",
              "      <td>Masculino</td>\n",
              "      <td>Ensino Superior</td>\n",
              "      <td>6646.110</td>\n",
              "      <td>3293.22</td>\n",
              "      <td>13292.22</td>\n",
              "    </tr>\n",
              "    <tr>\n",
              "      <th>49999</th>\n",
              "      <td>38188</td>\n",
              "      <td>23</td>\n",
              "      <td>9999</td>\n",
              "      <td>Masculino</td>\n",
              "      <td>Ensino Superior</td>\n",
              "      <td>6517.720</td>\n",
              "      <td>3036.44</td>\n",
              "      <td>13035.44</td>\n",
              "    </tr>\n",
              "  </tbody>\n",
              "</table>\n",
              "<p>7241 rows × 8 columns</p>\n",
              "</div>"
            ],
            "text/plain": [
              "          Id  Idade  Renda       Sexo        Escolaridade  renda_média  \\\n",
              "35411  20009     56   7500  Masculino  Ensino Fundamental     5340.385   \n",
              "35412  23973     54   7500  Masculino  Ensino Fundamental     5717.215   \n",
              "35413  41461     68   7500  Masculino  Ensino Fundamental     6166.995   \n",
              "35419  19716     54   7501  Masculino  Ensino Fundamental     4961.875   \n",
              "35421  11360     23   7502  Masculino        Ensino Médio     4920.425   \n",
              "...      ...    ...    ...        ...                 ...          ...   \n",
              "49994  23061     39   9998  Masculino     Ensino Superior     6531.400   \n",
              "49995  41289     61   9999  Masculino  Ensino Fundamental     5680.580   \n",
              "49997   1482     68   9999  Masculino        Ensino Médio     6622.955   \n",
              "49998  21094     65   9999  Masculino     Ensino Superior     6646.110   \n",
              "49999  38188     23   9999  Masculino     Ensino Superior     6517.720   \n",
              "\n",
              "         ativo  renda_total  \n",
              "35411  3180.77     10680.77  \n",
              "35412  3934.43     11434.43  \n",
              "35413  4833.99     12333.99  \n",
              "35419  2422.75      9923.75  \n",
              "35421  2338.85      9840.85  \n",
              "...        ...          ...  \n",
              "49994  3064.80     13062.80  \n",
              "49995  1362.16     11361.16  \n",
              "49997  3246.91     13245.91  \n",
              "49998  3293.22     13292.22  \n",
              "49999  3036.44     13035.44  \n",
              "\n",
              "[7241 rows x 8 columns]"
            ]
          },
          "execution_count": 141,
          "metadata": {},
          "output_type": "execute_result"
        }
      ],
      "source": [
        "df[(df.Sexo == 'Masculino') & (df.Renda >= 7_500)]"
      ]
    },
    {
      "cell_type": "code",
      "execution_count": null,
      "metadata": {
        "id": "qktrQ0bzOpmC",
        "outputId": "aca06ee1-d389-4bd3-cb84-1af340824b14"
      },
      "outputs": [
        {
          "data": {
            "text/plain": [
              "(7241, 8)"
            ]
          },
          "execution_count": 142,
          "metadata": {},
          "output_type": "execute_result"
        }
      ],
      "source": [
        "df[(df.Sexo == 'Masculino') & (df.Renda >= 7_500)].shape"
      ]
    },
    {
      "cell_type": "code",
      "execution_count": null,
      "metadata": {
        "id": "9s2VFEdqOpmC",
        "outputId": "9ecbe447-c3ff-4a12-c4ab-aa700cc1ba3e"
      },
      "outputs": [
        {
          "data": {
            "text/plain": [
              "(7241, 8)"
            ]
          },
          "execution_count": 143,
          "metadata": {},
          "output_type": "execute_result"
        }
      ],
      "source": [
        "df.query('(Sexo == \"Masculino\") & (Renda >= 7_500)').shape"
      ]
    },
    {
      "cell_type": "code",
      "execution_count": null,
      "metadata": {
        "id": "A-IMw93yOpmD",
        "outputId": "967eccb2-7229-425c-9015-7a06002eb7fd"
      },
      "outputs": [
        {
          "data": {
            "text/plain": [
              "(7241, 8)"
            ]
          },
          "execution_count": 144,
          "metadata": {},
          "output_type": "execute_result"
        }
      ],
      "source": [
        "df.loc[(df.Sexo == 'Masculino') & (df.Renda >= 7_500)].shape"
      ]
    },
    {
      "cell_type": "code",
      "execution_count": null,
      "metadata": {
        "id": "_iGqPYxPOpmD",
        "outputId": "513236f8-56ff-40fa-d45a-284837bc47b0"
      },
      "outputs": [
        {
          "data": {
            "text/html": [
              "<div>\n",
              "<style scoped>\n",
              "    .dataframe tbody tr th:only-of-type {\n",
              "        vertical-align: middle;\n",
              "    }\n",
              "\n",
              "    .dataframe tbody tr th {\n",
              "        vertical-align: top;\n",
              "    }\n",
              "\n",
              "    .dataframe thead th {\n",
              "        text-align: right;\n",
              "    }\n",
              "</style>\n",
              "<table border=\"1\" class=\"dataframe\">\n",
              "  <thead>\n",
              "    <tr style=\"text-align: right;\">\n",
              "      <th></th>\n",
              "      <th>Id</th>\n",
              "      <th>Idade</th>\n",
              "      <th>Renda</th>\n",
              "      <th>Sexo</th>\n",
              "      <th>Escolaridade</th>\n",
              "      <th>renda_média</th>\n",
              "      <th>ativo</th>\n",
              "      <th>renda_total</th>\n",
              "    </tr>\n",
              "  </thead>\n",
              "  <tbody>\n",
              "    <tr>\n",
              "      <th>0</th>\n",
              "      <td>30445</td>\n",
              "      <td>32</td>\n",
              "      <td>1500</td>\n",
              "      <td>Feminino</td>\n",
              "      <td>Ensino Fundamental</td>\n",
              "      <td>3095.265</td>\n",
              "      <td>4690.53</td>\n",
              "      <td>6190.53</td>\n",
              "    </tr>\n",
              "    <tr>\n",
              "      <th>1</th>\n",
              "      <td>20936</td>\n",
              "      <td>38</td>\n",
              "      <td>1500</td>\n",
              "      <td>Masculino</td>\n",
              "      <td>Ensino Fundamental</td>\n",
              "      <td>2017.030</td>\n",
              "      <td>2534.06</td>\n",
              "      <td>4034.06</td>\n",
              "    </tr>\n",
              "    <tr>\n",
              "      <th>2</th>\n",
              "      <td>33317</td>\n",
              "      <td>46</td>\n",
              "      <td>1500</td>\n",
              "      <td>Feminino</td>\n",
              "      <td>Ensino Médio</td>\n",
              "      <td>2266.410</td>\n",
              "      <td>3032.82</td>\n",
              "      <td>4532.82</td>\n",
              "    </tr>\n",
              "    <tr>\n",
              "      <th>3</th>\n",
              "      <td>36065</td>\n",
              "      <td>22</td>\n",
              "      <td>1500</td>\n",
              "      <td>Feminino</td>\n",
              "      <td>Ensino Médio</td>\n",
              "      <td>2453.760</td>\n",
              "      <td>3407.52</td>\n",
              "      <td>4907.52</td>\n",
              "    </tr>\n",
              "    <tr>\n",
              "      <th>4</th>\n",
              "      <td>23166</td>\n",
              "      <td>36</td>\n",
              "      <td>1500</td>\n",
              "      <td>Masculino</td>\n",
              "      <td>Ensino Médio</td>\n",
              "      <td>1855.540</td>\n",
              "      <td>2211.08</td>\n",
              "      <td>3711.08</td>\n",
              "    </tr>\n",
              "    <tr>\n",
              "      <th>...</th>\n",
              "      <td>...</td>\n",
              "      <td>...</td>\n",
              "      <td>...</td>\n",
              "      <td>...</td>\n",
              "      <td>...</td>\n",
              "      <td>...</td>\n",
              "      <td>...</td>\n",
              "      <td>...</td>\n",
              "    </tr>\n",
              "    <tr>\n",
              "      <th>49991</th>\n",
              "      <td>27833</td>\n",
              "      <td>49</td>\n",
              "      <td>9998</td>\n",
              "      <td>Feminino</td>\n",
              "      <td>Ensino Médio</td>\n",
              "      <td>6316.275</td>\n",
              "      <td>2634.55</td>\n",
              "      <td>12632.55</td>\n",
              "    </tr>\n",
              "    <tr>\n",
              "      <th>49992</th>\n",
              "      <td>45330</td>\n",
              "      <td>60</td>\n",
              "      <td>9998</td>\n",
              "      <td>Masculino</td>\n",
              "      <td>Ensino Médio</td>\n",
              "      <td>6367.150</td>\n",
              "      <td>2736.30</td>\n",
              "      <td>12734.30</td>\n",
              "    </tr>\n",
              "    <tr>\n",
              "      <th>49995</th>\n",
              "      <td>41289</td>\n",
              "      <td>61</td>\n",
              "      <td>9999</td>\n",
              "      <td>Masculino</td>\n",
              "      <td>Ensino Fundamental</td>\n",
              "      <td>5680.580</td>\n",
              "      <td>1362.16</td>\n",
              "      <td>11361.16</td>\n",
              "    </tr>\n",
              "    <tr>\n",
              "      <th>49996</th>\n",
              "      <td>8382</td>\n",
              "      <td>68</td>\n",
              "      <td>9999</td>\n",
              "      <td>Feminino</td>\n",
              "      <td>Ensino Médio</td>\n",
              "      <td>6675.700</td>\n",
              "      <td>3352.40</td>\n",
              "      <td>13351.40</td>\n",
              "    </tr>\n",
              "    <tr>\n",
              "      <th>49997</th>\n",
              "      <td>1482</td>\n",
              "      <td>68</td>\n",
              "      <td>9999</td>\n",
              "      <td>Masculino</td>\n",
              "      <td>Ensino Médio</td>\n",
              "      <td>6622.955</td>\n",
              "      <td>3246.91</td>\n",
              "      <td>13245.91</td>\n",
              "    </tr>\n",
              "  </tbody>\n",
              "</table>\n",
              "<p>33322 rows × 8 columns</p>\n",
              "</div>"
            ],
            "text/plain": [
              "          Id  Idade  Renda       Sexo        Escolaridade  renda_média  \\\n",
              "0      30445     32   1500   Feminino  Ensino Fundamental     3095.265   \n",
              "1      20936     38   1500  Masculino  Ensino Fundamental     2017.030   \n",
              "2      33317     46   1500   Feminino        Ensino Médio     2266.410   \n",
              "3      36065     22   1500   Feminino        Ensino Médio     2453.760   \n",
              "4      23166     36   1500  Masculino        Ensino Médio     1855.540   \n",
              "...      ...    ...    ...        ...                 ...          ...   \n",
              "49991  27833     49   9998   Feminino        Ensino Médio     6316.275   \n",
              "49992  45330     60   9998  Masculino        Ensino Médio     6367.150   \n",
              "49995  41289     61   9999  Masculino  Ensino Fundamental     5680.580   \n",
              "49996   8382     68   9999   Feminino        Ensino Médio     6675.700   \n",
              "49997   1482     68   9999  Masculino        Ensino Médio     6622.955   \n",
              "\n",
              "         ativo  renda_total  \n",
              "0      4690.53      6190.53  \n",
              "1      2534.06      4034.06  \n",
              "2      3032.82      4532.82  \n",
              "3      3407.52      4907.52  \n",
              "4      2211.08      3711.08  \n",
              "...        ...          ...  \n",
              "49991  2634.55     12632.55  \n",
              "49992  2736.30     12734.30  \n",
              "49995  1362.16     11361.16  \n",
              "49996  3352.40     13351.40  \n",
              "49997  3246.91     13245.91  \n",
              "\n",
              "[33322 rows x 8 columns]"
            ]
          },
          "execution_count": 145,
          "metadata": {},
          "output_type": "execute_result"
        }
      ],
      "source": [
        "# condição 1: escolaridade Ensino Fundamental\n",
        "# condição 2: escolaridade Ensino Médio\n",
        "# OR: |\n",
        "df[(df.Escolaridade == 'Ensino Fundamental') | (df.Escolaridade == 'Ensino Médio')]"
      ]
    },
    {
      "cell_type": "code",
      "execution_count": null,
      "metadata": {
        "id": "8yCjctfwOpmD",
        "outputId": "adb299e6-7b37-46bc-8111-100dad47e2ff"
      },
      "outputs": [
        {
          "data": {
            "text/plain": [
              "(33322, 8)"
            ]
          },
          "execution_count": 146,
          "metadata": {},
          "output_type": "execute_result"
        }
      ],
      "source": [
        "df[(df.Escolaridade == 'Ensino Fundamental') | (df.Escolaridade == 'Ensino Médio')].shape"
      ]
    },
    {
      "cell_type": "code",
      "execution_count": null,
      "metadata": {
        "id": "M3QTcPcAOpmD",
        "outputId": "6aab1915-aa98-4a5d-d842-0a923fe0d8ad"
      },
      "outputs": [
        {
          "data": {
            "text/plain": [
              "(33322, 8)"
            ]
          },
          "execution_count": 147,
          "metadata": {},
          "output_type": "execute_result"
        }
      ],
      "source": [
        "df.query('(Escolaridade == \"Ensino Fundamental\") | (Escolaridade == \"Ensino Médio\")').shape"
      ]
    },
    {
      "cell_type": "code",
      "execution_count": null,
      "metadata": {
        "id": "7wM__pcGOpmD",
        "outputId": "14591b72-f7a1-4bf1-ff4d-379136875f4d"
      },
      "outputs": [
        {
          "data": {
            "text/plain": [
              "(33322, 8)"
            ]
          },
          "execution_count": 148,
          "metadata": {},
          "output_type": "execute_result"
        }
      ],
      "source": [
        "df.loc[(df.Escolaridade == 'Ensino Fundamental') | (df.Escolaridade == 'Ensino Médio')].shape"
      ]
    },
    {
      "cell_type": "code",
      "execution_count": null,
      "metadata": {
        "id": "zXl437D3OpmG",
        "outputId": "e8671b79-b35c-41d1-a21a-196185870a90"
      },
      "outputs": [
        {
          "data": {
            "text/plain": [
              "array(['Ensino Fundamental', 'Ensino Médio'], dtype=object)"
            ]
          },
          "execution_count": 149,
          "metadata": {},
          "output_type": "execute_result"
        }
      ],
      "source": [
        "df[(df.Escolaridade == 'Ensino Fundamental') | (df.Escolaridade == 'Ensino Médio')]['Escolaridade'].unique()"
      ]
    },
    {
      "cell_type": "code",
      "execution_count": null,
      "metadata": {
        "id": "dHn9MEe2OpmG",
        "outputId": "21c58c0d-57e7-4802-fb57-16aef57ce223"
      },
      "outputs": [
        {
          "data": {
            "text/html": [
              "<div>\n",
              "<style scoped>\n",
              "    .dataframe tbody tr th:only-of-type {\n",
              "        vertical-align: middle;\n",
              "    }\n",
              "\n",
              "    .dataframe tbody tr th {\n",
              "        vertical-align: top;\n",
              "    }\n",
              "\n",
              "    .dataframe thead th {\n",
              "        text-align: right;\n",
              "    }\n",
              "</style>\n",
              "<table border=\"1\" class=\"dataframe\">\n",
              "  <thead>\n",
              "    <tr style=\"text-align: right;\">\n",
              "      <th></th>\n",
              "      <th>Renda</th>\n",
              "      <th>Idade</th>\n",
              "    </tr>\n",
              "  </thead>\n",
              "  <tbody>\n",
              "    <tr>\n",
              "      <th>1121</th>\n",
              "      <td>8014</td>\n",
              "      <td>60</td>\n",
              "    </tr>\n",
              "    <tr>\n",
              "      <th>1122</th>\n",
              "      <td>8020</td>\n",
              "      <td>60</td>\n",
              "    </tr>\n",
              "    <tr>\n",
              "      <th>1123</th>\n",
              "      <td>8042</td>\n",
              "      <td>60</td>\n",
              "    </tr>\n",
              "    <tr>\n",
              "      <th>1124</th>\n",
              "      <td>8092</td>\n",
              "      <td>60</td>\n",
              "    </tr>\n",
              "    <tr>\n",
              "      <th>1125</th>\n",
              "      <td>8133</td>\n",
              "      <td>60</td>\n",
              "    </tr>\n",
              "    <tr>\n",
              "      <th>...</th>\n",
              "      <td>...</td>\n",
              "      <td>...</td>\n",
              "    </tr>\n",
              "    <tr>\n",
              "      <th>2245</th>\n",
              "      <td>9845</td>\n",
              "      <td>69</td>\n",
              "    </tr>\n",
              "    <tr>\n",
              "      <th>2246</th>\n",
              "      <td>9933</td>\n",
              "      <td>69</td>\n",
              "    </tr>\n",
              "    <tr>\n",
              "      <th>2247</th>\n",
              "      <td>9961</td>\n",
              "      <td>69</td>\n",
              "    </tr>\n",
              "    <tr>\n",
              "      <th>2248</th>\n",
              "      <td>9970</td>\n",
              "      <td>69</td>\n",
              "    </tr>\n",
              "    <tr>\n",
              "      <th>2249</th>\n",
              "      <td>9975</td>\n",
              "      <td>69</td>\n",
              "    </tr>\n",
              "  </tbody>\n",
              "</table>\n",
              "<p>1129 rows × 2 columns</p>\n",
              "</div>"
            ],
            "text/plain": [
              "      Renda  Idade\n",
              "1121   8014     60\n",
              "1122   8020     60\n",
              "1123   8042     60\n",
              "1124   8092     60\n",
              "1125   8133     60\n",
              "...     ...    ...\n",
              "2245   9845     69\n",
              "2246   9933     69\n",
              "2247   9961     69\n",
              "2248   9970     69\n",
              "2249   9975     69\n",
              "\n",
              "[1129 rows x 2 columns]"
            ]
          },
          "execution_count": 150,
          "metadata": {},
          "output_type": "execute_result"
        }
      ],
      "source": [
        "# condição 1: renda>=8_000\n",
        "# condição 2: idade>=50\n",
        "# condição 3: feminino\n",
        "\n",
        "df[(df.Renda>=8_000) & (df.Idade>=50) & (df.Sexo == 'Feminino')]\\\n",
        ".sort_values(by = ['Idade', 'Renda'])\\\n",
        ".reset_index(drop = True)\\\n",
        ".drop(columns = ['Id'])[['Renda', 'Idade']]\\\n",
        ".query('Idade >= 60')"
      ]
    },
    {
      "cell_type": "code",
      "execution_count": null,
      "metadata": {
        "id": "vvFKKCxtOpmG",
        "outputId": "e5fd97ec-e4bb-4bf1-f8a6-a199691eb07d"
      },
      "outputs": [
        {
          "data": {
            "text/plain": [
              "(2250, 8)"
            ]
          },
          "execution_count": 151,
          "metadata": {},
          "output_type": "execute_result"
        }
      ],
      "source": [
        "df[(df.Renda>=8_000) & (df.Idade>=50) & (df.Sexo == 'Feminino')].shape"
      ]
    },
    {
      "cell_type": "code",
      "execution_count": null,
      "metadata": {
        "id": "sUrgWkAfOpmG",
        "outputId": "9b34990a-ea90-4a85-a789-f89bf241cc29"
      },
      "outputs": [
        {
          "data": {
            "text/plain": [
              "(2250, 8)"
            ]
          },
          "execution_count": 152,
          "metadata": {},
          "output_type": "execute_result"
        }
      ],
      "source": [
        "df.query('(Renda >= 8_000) & (Idade >= 50) & (Sexo == \"Feminino\")').shape"
      ]
    },
    {
      "cell_type": "code",
      "execution_count": null,
      "metadata": {
        "id": "c81ZRujSOpmH",
        "outputId": "bd103885-6308-4b58-d943-6b726c68bd3c"
      },
      "outputs": [
        {
          "data": {
            "text/plain": [
              "(2250, 8)"
            ]
          },
          "execution_count": 153,
          "metadata": {},
          "output_type": "execute_result"
        }
      ],
      "source": [
        "df.loc[(df.Renda>=8_000) & (df.Idade>=50) & (df.Sexo == 'Feminino')].shape"
      ]
    },
    {
      "cell_type": "code",
      "execution_count": null,
      "metadata": {
        "id": "LEllGqQ4OpmH"
      },
      "outputs": [],
      "source": [
        "df.rename(columns = {'renda_média': 'renda média'}, inplace = True)"
      ]
    },
    {
      "cell_type": "code",
      "execution_count": null,
      "metadata": {
        "id": "BEhXWVmaOpmH"
      },
      "outputs": [],
      "source": [
        "df.rename(columns = {'renda_total': 'renda total'}, inplace = True)"
      ]
    },
    {
      "cell_type": "code",
      "execution_count": null,
      "metadata": {
        "id": "exbDWJ_jOpmH",
        "outputId": "33185203-d82a-4934-8a22-2fbf90ecffea"
      },
      "outputs": [
        {
          "data": {
            "text/html": [
              "<div>\n",
              "<style scoped>\n",
              "    .dataframe tbody tr th:only-of-type {\n",
              "        vertical-align: middle;\n",
              "    }\n",
              "\n",
              "    .dataframe tbody tr th {\n",
              "        vertical-align: top;\n",
              "    }\n",
              "\n",
              "    .dataframe thead th {\n",
              "        text-align: right;\n",
              "    }\n",
              "</style>\n",
              "<table border=\"1\" class=\"dataframe\">\n",
              "  <thead>\n",
              "    <tr style=\"text-align: right;\">\n",
              "      <th></th>\n",
              "      <th>Id</th>\n",
              "      <th>Idade</th>\n",
              "      <th>Renda</th>\n",
              "      <th>Sexo</th>\n",
              "      <th>Escolaridade</th>\n",
              "      <th>renda média</th>\n",
              "      <th>ativo</th>\n",
              "      <th>renda total</th>\n",
              "    </tr>\n",
              "  </thead>\n",
              "  <tbody>\n",
              "    <tr>\n",
              "      <th>37924</th>\n",
              "      <td>48574</td>\n",
              "      <td>62</td>\n",
              "      <td>7928</td>\n",
              "      <td>Masculino</td>\n",
              "      <td>Ensino Superior</td>\n",
              "      <td>7020.680</td>\n",
              "      <td>6113.36</td>\n",
              "      <td>14041.36</td>\n",
              "    </tr>\n",
              "    <tr>\n",
              "      <th>38249</th>\n",
              "      <td>14292</td>\n",
              "      <td>19</td>\n",
              "      <td>7979</td>\n",
              "      <td>Masculino</td>\n",
              "      <td>Ensino Médio</td>\n",
              "      <td>7353.345</td>\n",
              "      <td>6727.69</td>\n",
              "      <td>14706.69</td>\n",
              "    </tr>\n",
              "    <tr>\n",
              "      <th>38554</th>\n",
              "      <td>28234</td>\n",
              "      <td>52</td>\n",
              "      <td>8031</td>\n",
              "      <td>Feminino</td>\n",
              "      <td>Ensino Superior</td>\n",
              "      <td>7042.605</td>\n",
              "      <td>6054.21</td>\n",
              "      <td>14085.21</td>\n",
              "    </tr>\n",
              "    <tr>\n",
              "      <th>38918</th>\n",
              "      <td>30427</td>\n",
              "      <td>19</td>\n",
              "      <td>8092</td>\n",
              "      <td>Masculino</td>\n",
              "      <td>Ensino Fundamental</td>\n",
              "      <td>7159.225</td>\n",
              "      <td>6226.45</td>\n",
              "      <td>14318.45</td>\n",
              "    </tr>\n",
              "    <tr>\n",
              "      <th>40270</th>\n",
              "      <td>45692</td>\n",
              "      <td>22</td>\n",
              "      <td>8322</td>\n",
              "      <td>Feminino</td>\n",
              "      <td>Ensino Fundamental</td>\n",
              "      <td>7045.245</td>\n",
              "      <td>5768.49</td>\n",
              "      <td>14090.49</td>\n",
              "    </tr>\n",
              "    <tr>\n",
              "      <th>...</th>\n",
              "      <td>...</td>\n",
              "      <td>...</td>\n",
              "      <td>...</td>\n",
              "      <td>...</td>\n",
              "      <td>...</td>\n",
              "      <td>...</td>\n",
              "      <td>...</td>\n",
              "      <td>...</td>\n",
              "    </tr>\n",
              "    <tr>\n",
              "      <th>49961</th>\n",
              "      <td>38978</td>\n",
              "      <td>23</td>\n",
              "      <td>9993</td>\n",
              "      <td>Feminino</td>\n",
              "      <td>Ensino Médio</td>\n",
              "      <td>7109.740</td>\n",
              "      <td>4226.48</td>\n",
              "      <td>14219.48</td>\n",
              "    </tr>\n",
              "    <tr>\n",
              "      <th>49969</th>\n",
              "      <td>24580</td>\n",
              "      <td>68</td>\n",
              "      <td>9994</td>\n",
              "      <td>Masculino</td>\n",
              "      <td>Ensino Superior</td>\n",
              "      <td>7486.550</td>\n",
              "      <td>4979.10</td>\n",
              "      <td>14973.10</td>\n",
              "    </tr>\n",
              "    <tr>\n",
              "      <th>49971</th>\n",
              "      <td>43924</td>\n",
              "      <td>36</td>\n",
              "      <td>9995</td>\n",
              "      <td>Feminino</td>\n",
              "      <td>Ensino Fundamental</td>\n",
              "      <td>7197.120</td>\n",
              "      <td>4399.24</td>\n",
              "      <td>14394.24</td>\n",
              "    </tr>\n",
              "    <tr>\n",
              "      <th>49981</th>\n",
              "      <td>1130</td>\n",
              "      <td>65</td>\n",
              "      <td>9997</td>\n",
              "      <td>Feminino</td>\n",
              "      <td>Ensino Fundamental</td>\n",
              "      <td>7227.480</td>\n",
              "      <td>4457.96</td>\n",
              "      <td>14454.96</td>\n",
              "    </tr>\n",
              "    <tr>\n",
              "      <th>49987</th>\n",
              "      <td>49520</td>\n",
              "      <td>28</td>\n",
              "      <td>9997</td>\n",
              "      <td>Feminino</td>\n",
              "      <td>Ensino Superior</td>\n",
              "      <td>7333.765</td>\n",
              "      <td>4670.53</td>\n",
              "      <td>14667.53</td>\n",
              "    </tr>\n",
              "  </tbody>\n",
              "</table>\n",
              "<p>439 rows × 8 columns</p>\n",
              "</div>"
            ],
            "text/plain": [
              "          Id  Idade  Renda       Sexo        Escolaridade  renda média  \\\n",
              "37924  48574     62   7928  Masculino     Ensino Superior     7020.680   \n",
              "38249  14292     19   7979  Masculino        Ensino Médio     7353.345   \n",
              "38554  28234     52   8031   Feminino     Ensino Superior     7042.605   \n",
              "38918  30427     19   8092  Masculino  Ensino Fundamental     7159.225   \n",
              "40270  45692     22   8322   Feminino  Ensino Fundamental     7045.245   \n",
              "...      ...    ...    ...        ...                 ...          ...   \n",
              "49961  38978     23   9993   Feminino        Ensino Médio     7109.740   \n",
              "49969  24580     68   9994  Masculino     Ensino Superior     7486.550   \n",
              "49971  43924     36   9995   Feminino  Ensino Fundamental     7197.120   \n",
              "49981   1130     65   9997   Feminino  Ensino Fundamental     7227.480   \n",
              "49987  49520     28   9997   Feminino     Ensino Superior     7333.765   \n",
              "\n",
              "         ativo  renda total  \n",
              "37924  6113.36     14041.36  \n",
              "38249  6727.69     14706.69  \n",
              "38554  6054.21     14085.21  \n",
              "38918  6226.45     14318.45  \n",
              "40270  5768.49     14090.49  \n",
              "...        ...          ...  \n",
              "49961  4226.48     14219.48  \n",
              "49969  4979.10     14973.10  \n",
              "49971  4399.24     14394.24  \n",
              "49981  4457.96     14454.96  \n",
              "49987  4670.53     14667.53  \n",
              "\n",
              "[439 rows x 8 columns]"
            ]
          },
          "execution_count": 156,
          "metadata": {},
          "output_type": "execute_result"
        }
      ],
      "source": [
        "df.query('`renda média` >= 7_000')"
      ]
    },
    {
      "cell_type": "code",
      "execution_count": null,
      "metadata": {
        "id": "ufrqrtzdOpmH",
        "outputId": "4e0e6048-6367-4ca4-ee39-ec624b211d6d"
      },
      "outputs": [
        {
          "data": {
            "text/html": [
              "<div>\n",
              "<style scoped>\n",
              "    .dataframe tbody tr th:only-of-type {\n",
              "        vertical-align: middle;\n",
              "    }\n",
              "\n",
              "    .dataframe tbody tr th {\n",
              "        vertical-align: top;\n",
              "    }\n",
              "\n",
              "    .dataframe thead th {\n",
              "        text-align: right;\n",
              "    }\n",
              "</style>\n",
              "<table border=\"1\" class=\"dataframe\">\n",
              "  <thead>\n",
              "    <tr style=\"text-align: right;\">\n",
              "      <th></th>\n",
              "      <th>Id</th>\n",
              "      <th>Idade</th>\n",
              "      <th>Renda</th>\n",
              "      <th>Sexo</th>\n",
              "      <th>Escolaridade</th>\n",
              "      <th>renda média</th>\n",
              "      <th>ativo</th>\n",
              "      <th>renda total</th>\n",
              "    </tr>\n",
              "  </thead>\n",
              "  <tbody>\n",
              "    <tr>\n",
              "      <th>16106</th>\n",
              "      <td>29956</td>\n",
              "      <td>35</td>\n",
              "      <td>4235</td>\n",
              "      <td>Masculino</td>\n",
              "      <td>Ensino Superior</td>\n",
              "      <td>5060.745</td>\n",
              "      <td>5886.49</td>\n",
              "      <td>10121.49</td>\n",
              "    </tr>\n",
              "    <tr>\n",
              "      <th>16279</th>\n",
              "      <td>49344</td>\n",
              "      <td>50</td>\n",
              "      <td>4266</td>\n",
              "      <td>Masculino</td>\n",
              "      <td>Ensino Superior</td>\n",
              "      <td>5558.875</td>\n",
              "      <td>6851.75</td>\n",
              "      <td>11117.75</td>\n",
              "    </tr>\n",
              "    <tr>\n",
              "      <th>16953</th>\n",
              "      <td>27792</td>\n",
              "      <td>35</td>\n",
              "      <td>4383</td>\n",
              "      <td>Masculino</td>\n",
              "      <td>Ensino Fundamental</td>\n",
              "      <td>5078.015</td>\n",
              "      <td>5773.03</td>\n",
              "      <td>10156.03</td>\n",
              "    </tr>\n",
              "    <tr>\n",
              "      <th>17073</th>\n",
              "      <td>6005</td>\n",
              "      <td>39</td>\n",
              "      <td>4403</td>\n",
              "      <td>Masculino</td>\n",
              "      <td>Ensino Fundamental</td>\n",
              "      <td>5179.070</td>\n",
              "      <td>5955.14</td>\n",
              "      <td>10358.14</td>\n",
              "    </tr>\n",
              "    <tr>\n",
              "      <th>17278</th>\n",
              "      <td>27007</td>\n",
              "      <td>21</td>\n",
              "      <td>4438</td>\n",
              "      <td>Masculino</td>\n",
              "      <td>Ensino Fundamental</td>\n",
              "      <td>5355.765</td>\n",
              "      <td>6273.53</td>\n",
              "      <td>10711.53</td>\n",
              "    </tr>\n",
              "    <tr>\n",
              "      <th>...</th>\n",
              "      <td>...</td>\n",
              "      <td>...</td>\n",
              "      <td>...</td>\n",
              "      <td>...</td>\n",
              "      <td>...</td>\n",
              "      <td>...</td>\n",
              "      <td>...</td>\n",
              "      <td>...</td>\n",
              "    </tr>\n",
              "    <tr>\n",
              "      <th>49995</th>\n",
              "      <td>41289</td>\n",
              "      <td>61</td>\n",
              "      <td>9999</td>\n",
              "      <td>Masculino</td>\n",
              "      <td>Ensino Fundamental</td>\n",
              "      <td>5680.580</td>\n",
              "      <td>1362.16</td>\n",
              "      <td>11361.16</td>\n",
              "    </tr>\n",
              "    <tr>\n",
              "      <th>49996</th>\n",
              "      <td>8382</td>\n",
              "      <td>68</td>\n",
              "      <td>9999</td>\n",
              "      <td>Feminino</td>\n",
              "      <td>Ensino Médio</td>\n",
              "      <td>6675.700</td>\n",
              "      <td>3352.40</td>\n",
              "      <td>13351.40</td>\n",
              "    </tr>\n",
              "    <tr>\n",
              "      <th>49997</th>\n",
              "      <td>1482</td>\n",
              "      <td>68</td>\n",
              "      <td>9999</td>\n",
              "      <td>Masculino</td>\n",
              "      <td>Ensino Médio</td>\n",
              "      <td>6622.955</td>\n",
              "      <td>3246.91</td>\n",
              "      <td>13245.91</td>\n",
              "    </tr>\n",
              "    <tr>\n",
              "      <th>49998</th>\n",
              "      <td>21094</td>\n",
              "      <td>65</td>\n",
              "      <td>9999</td>\n",
              "      <td>Masculino</td>\n",
              "      <td>Ensino Superior</td>\n",
              "      <td>6646.110</td>\n",
              "      <td>3293.22</td>\n",
              "      <td>13292.22</td>\n",
              "    </tr>\n",
              "    <tr>\n",
              "      <th>49999</th>\n",
              "      <td>38188</td>\n",
              "      <td>23</td>\n",
              "      <td>9999</td>\n",
              "      <td>Masculino</td>\n",
              "      <td>Ensino Superior</td>\n",
              "      <td>6517.720</td>\n",
              "      <td>3036.44</td>\n",
              "      <td>13035.44</td>\n",
              "    </tr>\n",
              "  </tbody>\n",
              "</table>\n",
              "<p>17691 rows × 8 columns</p>\n",
              "</div>"
            ],
            "text/plain": [
              "          Id  Idade  Renda       Sexo        Escolaridade  renda média  \\\n",
              "16106  29956     35   4235  Masculino     Ensino Superior     5060.745   \n",
              "16279  49344     50   4266  Masculino     Ensino Superior     5558.875   \n",
              "16953  27792     35   4383  Masculino  Ensino Fundamental     5078.015   \n",
              "17073   6005     39   4403  Masculino  Ensino Fundamental     5179.070   \n",
              "17278  27007     21   4438  Masculino  Ensino Fundamental     5355.765   \n",
              "...      ...    ...    ...        ...                 ...          ...   \n",
              "49995  41289     61   9999  Masculino  Ensino Fundamental     5680.580   \n",
              "49996   8382     68   9999   Feminino        Ensino Médio     6675.700   \n",
              "49997   1482     68   9999  Masculino        Ensino Médio     6622.955   \n",
              "49998  21094     65   9999  Masculino     Ensino Superior     6646.110   \n",
              "49999  38188     23   9999  Masculino     Ensino Superior     6517.720   \n",
              "\n",
              "         ativo  renda total  \n",
              "16106  5886.49     10121.49  \n",
              "16279  6851.75     11117.75  \n",
              "16953  5773.03     10156.03  \n",
              "17073  5955.14     10358.14  \n",
              "17278  6273.53     10711.53  \n",
              "...        ...          ...  \n",
              "49995  1362.16     11361.16  \n",
              "49996  3352.40     13351.40  \n",
              "49997  3246.91     13245.91  \n",
              "49998  3293.22     13292.22  \n",
              "49999  3036.44     13035.44  \n",
              "\n",
              "[17691 rows x 8 columns]"
            ]
          },
          "execution_count": 157,
          "metadata": {},
          "output_type": "execute_result"
        }
      ],
      "source": [
        "df.query('(`renda média` >= 5_000) & (`renda total` >= 8_000)')"
      ]
    },
    {
      "cell_type": "code",
      "execution_count": null,
      "metadata": {
        "id": "5twpIpvmOpmH",
        "outputId": "0d2faa1b-b2d6-48a2-f2b0-3c79f916c4aa"
      },
      "outputs": [
        {
          "data": {
            "text/plain": [
              "0        False\n",
              "1         True\n",
              "2        False\n",
              "3        False\n",
              "4         True\n",
              "         ...  \n",
              "49995     True\n",
              "49996    False\n",
              "49997     True\n",
              "49998     True\n",
              "49999     True\n",
              "Name: Sexo, Length: 50000, dtype: bool"
            ]
          },
          "execution_count": 158,
          "metadata": {},
          "output_type": "execute_result"
        }
      ],
      "source": [
        "# nega a proposição\n",
        "~(df.Sexo == 'Feminino')"
      ]
    },
    {
      "cell_type": "code",
      "execution_count": null,
      "metadata": {
        "id": "9RI--ZuBOpmH",
        "outputId": "b816d139-7544-4fd7-d762-77c13e2571b1"
      },
      "outputs": [
        {
          "data": {
            "text/html": [
              "<div>\n",
              "<style scoped>\n",
              "    .dataframe tbody tr th:only-of-type {\n",
              "        vertical-align: middle;\n",
              "    }\n",
              "\n",
              "    .dataframe tbody tr th {\n",
              "        vertical-align: top;\n",
              "    }\n",
              "\n",
              "    .dataframe thead th {\n",
              "        text-align: right;\n",
              "    }\n",
              "</style>\n",
              "<table border=\"1\" class=\"dataframe\">\n",
              "  <thead>\n",
              "    <tr style=\"text-align: right;\">\n",
              "      <th></th>\n",
              "      <th>Id</th>\n",
              "      <th>Idade</th>\n",
              "      <th>Renda</th>\n",
              "      <th>Sexo</th>\n",
              "      <th>Escolaridade</th>\n",
              "      <th>renda média</th>\n",
              "      <th>ativo</th>\n",
              "      <th>renda total</th>\n",
              "    </tr>\n",
              "  </thead>\n",
              "  <tbody>\n",
              "    <tr>\n",
              "      <th>1</th>\n",
              "      <td>20936</td>\n",
              "      <td>38</td>\n",
              "      <td>1500</td>\n",
              "      <td>Masculino</td>\n",
              "      <td>Ensino Fundamental</td>\n",
              "      <td>2017.030</td>\n",
              "      <td>2534.06</td>\n",
              "      <td>4034.06</td>\n",
              "    </tr>\n",
              "    <tr>\n",
              "      <th>4</th>\n",
              "      <td>23166</td>\n",
              "      <td>36</td>\n",
              "      <td>1500</td>\n",
              "      <td>Masculino</td>\n",
              "      <td>Ensino Médio</td>\n",
              "      <td>1855.540</td>\n",
              "      <td>2211.08</td>\n",
              "      <td>3711.08</td>\n",
              "    </tr>\n",
              "    <tr>\n",
              "      <th>5</th>\n",
              "      <td>8075</td>\n",
              "      <td>39</td>\n",
              "      <td>1500</td>\n",
              "      <td>Masculino</td>\n",
              "      <td>Ensino Superior</td>\n",
              "      <td>2251.035</td>\n",
              "      <td>3002.07</td>\n",
              "      <td>4502.07</td>\n",
              "    </tr>\n",
              "    <tr>\n",
              "      <th>6</th>\n",
              "      <td>20625</td>\n",
              "      <td>32</td>\n",
              "      <td>1500</td>\n",
              "      <td>Masculino</td>\n",
              "      <td>Ensino Superior</td>\n",
              "      <td>2249.555</td>\n",
              "      <td>2999.11</td>\n",
              "      <td>4499.11</td>\n",
              "    </tr>\n",
              "    <tr>\n",
              "      <th>8</th>\n",
              "      <td>2903</td>\n",
              "      <td>18</td>\n",
              "      <td>1501</td>\n",
              "      <td>Masculino</td>\n",
              "      <td>Ensino Médio</td>\n",
              "      <td>2759.330</td>\n",
              "      <td>4017.66</td>\n",
              "      <td>5518.66</td>\n",
              "    </tr>\n",
              "    <tr>\n",
              "      <th>...</th>\n",
              "      <td>...</td>\n",
              "      <td>...</td>\n",
              "      <td>...</td>\n",
              "      <td>...</td>\n",
              "      <td>...</td>\n",
              "      <td>...</td>\n",
              "      <td>...</td>\n",
              "      <td>...</td>\n",
              "    </tr>\n",
              "    <tr>\n",
              "      <th>49994</th>\n",
              "      <td>23061</td>\n",
              "      <td>39</td>\n",
              "      <td>9998</td>\n",
              "      <td>Masculino</td>\n",
              "      <td>Ensino Superior</td>\n",
              "      <td>6531.400</td>\n",
              "      <td>3064.80</td>\n",
              "      <td>13062.80</td>\n",
              "    </tr>\n",
              "    <tr>\n",
              "      <th>49995</th>\n",
              "      <td>41289</td>\n",
              "      <td>61</td>\n",
              "      <td>9999</td>\n",
              "      <td>Masculino</td>\n",
              "      <td>Ensino Fundamental</td>\n",
              "      <td>5680.580</td>\n",
              "      <td>1362.16</td>\n",
              "      <td>11361.16</td>\n",
              "    </tr>\n",
              "    <tr>\n",
              "      <th>49997</th>\n",
              "      <td>1482</td>\n",
              "      <td>68</td>\n",
              "      <td>9999</td>\n",
              "      <td>Masculino</td>\n",
              "      <td>Ensino Médio</td>\n",
              "      <td>6622.955</td>\n",
              "      <td>3246.91</td>\n",
              "      <td>13245.91</td>\n",
              "    </tr>\n",
              "    <tr>\n",
              "      <th>49998</th>\n",
              "      <td>21094</td>\n",
              "      <td>65</td>\n",
              "      <td>9999</td>\n",
              "      <td>Masculino</td>\n",
              "      <td>Ensino Superior</td>\n",
              "      <td>6646.110</td>\n",
              "      <td>3293.22</td>\n",
              "      <td>13292.22</td>\n",
              "    </tr>\n",
              "    <tr>\n",
              "      <th>49999</th>\n",
              "      <td>38188</td>\n",
              "      <td>23</td>\n",
              "      <td>9999</td>\n",
              "      <td>Masculino</td>\n",
              "      <td>Ensino Superior</td>\n",
              "      <td>6517.720</td>\n",
              "      <td>3036.44</td>\n",
              "      <td>13035.44</td>\n",
              "    </tr>\n",
              "  </tbody>\n",
              "</table>\n",
              "<p>25020 rows × 8 columns</p>\n",
              "</div>"
            ],
            "text/plain": [
              "          Id  Idade  Renda       Sexo        Escolaridade  renda média  \\\n",
              "1      20936     38   1500  Masculino  Ensino Fundamental     2017.030   \n",
              "4      23166     36   1500  Masculino        Ensino Médio     1855.540   \n",
              "5       8075     39   1500  Masculino     Ensino Superior     2251.035   \n",
              "6      20625     32   1500  Masculino     Ensino Superior     2249.555   \n",
              "8       2903     18   1501  Masculino        Ensino Médio     2759.330   \n",
              "...      ...    ...    ...        ...                 ...          ...   \n",
              "49994  23061     39   9998  Masculino     Ensino Superior     6531.400   \n",
              "49995  41289     61   9999  Masculino  Ensino Fundamental     5680.580   \n",
              "49997   1482     68   9999  Masculino        Ensino Médio     6622.955   \n",
              "49998  21094     65   9999  Masculino     Ensino Superior     6646.110   \n",
              "49999  38188     23   9999  Masculino     Ensino Superior     6517.720   \n",
              "\n",
              "         ativo  renda total  \n",
              "1      2534.06      4034.06  \n",
              "4      2211.08      3711.08  \n",
              "5      3002.07      4502.07  \n",
              "6      2999.11      4499.11  \n",
              "8      4017.66      5518.66  \n",
              "...        ...          ...  \n",
              "49994  3064.80     13062.80  \n",
              "49995  1362.16     11361.16  \n",
              "49997  3246.91     13245.91  \n",
              "49998  3293.22     13292.22  \n",
              "49999  3036.44     13035.44  \n",
              "\n",
              "[25020 rows x 8 columns]"
            ]
          },
          "execution_count": 159,
          "metadata": {},
          "output_type": "execute_result"
        }
      ],
      "source": [
        "# nega a proposição, pega informações apenas para clientes do gênero masculino\n",
        "df.loc[~(df.Sexo == 'Feminino')]"
      ]
    },
    {
      "cell_type": "code",
      "execution_count": null,
      "metadata": {
        "id": "PX5whuIEOpmI",
        "outputId": "4fdd5115-3b2a-4c72-9c3a-1583b3c59add"
      },
      "outputs": [
        {
          "data": {
            "text/html": [
              "<div>\n",
              "<style scoped>\n",
              "    .dataframe tbody tr th:only-of-type {\n",
              "        vertical-align: middle;\n",
              "    }\n",
              "\n",
              "    .dataframe tbody tr th {\n",
              "        vertical-align: top;\n",
              "    }\n",
              "\n",
              "    .dataframe thead th {\n",
              "        text-align: right;\n",
              "    }\n",
              "</style>\n",
              "<table border=\"1\" class=\"dataframe\">\n",
              "  <thead>\n",
              "    <tr style=\"text-align: right;\">\n",
              "      <th></th>\n",
              "      <th>Id</th>\n",
              "      <th>Idade</th>\n",
              "      <th>Renda</th>\n",
              "      <th>Sexo</th>\n",
              "      <th>Escolaridade</th>\n",
              "      <th>renda média</th>\n",
              "      <th>ativo</th>\n",
              "      <th>renda total</th>\n",
              "    </tr>\n",
              "  </thead>\n",
              "  <tbody>\n",
              "    <tr>\n",
              "      <th>0</th>\n",
              "      <td>30445</td>\n",
              "      <td>32</td>\n",
              "      <td>1500</td>\n",
              "      <td>Feminino</td>\n",
              "      <td>Ensino Fundamental</td>\n",
              "      <td>3095.265</td>\n",
              "      <td>4690.53</td>\n",
              "      <td>6190.53</td>\n",
              "    </tr>\n",
              "    <tr>\n",
              "      <th>1</th>\n",
              "      <td>20936</td>\n",
              "      <td>38</td>\n",
              "      <td>1500</td>\n",
              "      <td>Masculino</td>\n",
              "      <td>Ensino Fundamental</td>\n",
              "      <td>2017.030</td>\n",
              "      <td>2534.06</td>\n",
              "      <td>4034.06</td>\n",
              "    </tr>\n",
              "    <tr>\n",
              "      <th>2</th>\n",
              "      <td>33317</td>\n",
              "      <td>46</td>\n",
              "      <td>1500</td>\n",
              "      <td>Feminino</td>\n",
              "      <td>Ensino Médio</td>\n",
              "      <td>2266.410</td>\n",
              "      <td>3032.82</td>\n",
              "      <td>4532.82</td>\n",
              "    </tr>\n",
              "    <tr>\n",
              "      <th>3</th>\n",
              "      <td>36065</td>\n",
              "      <td>22</td>\n",
              "      <td>1500</td>\n",
              "      <td>Feminino</td>\n",
              "      <td>Ensino Médio</td>\n",
              "      <td>2453.760</td>\n",
              "      <td>3407.52</td>\n",
              "      <td>4907.52</td>\n",
              "    </tr>\n",
              "    <tr>\n",
              "      <th>4</th>\n",
              "      <td>23166</td>\n",
              "      <td>36</td>\n",
              "      <td>1500</td>\n",
              "      <td>Masculino</td>\n",
              "      <td>Ensino Médio</td>\n",
              "      <td>1855.540</td>\n",
              "      <td>2211.08</td>\n",
              "      <td>3711.08</td>\n",
              "    </tr>\n",
              "    <tr>\n",
              "      <th>...</th>\n",
              "      <td>...</td>\n",
              "      <td>...</td>\n",
              "      <td>...</td>\n",
              "      <td>...</td>\n",
              "      <td>...</td>\n",
              "      <td>...</td>\n",
              "      <td>...</td>\n",
              "      <td>...</td>\n",
              "    </tr>\n",
              "    <tr>\n",
              "      <th>49991</th>\n",
              "      <td>27833</td>\n",
              "      <td>49</td>\n",
              "      <td>9998</td>\n",
              "      <td>Feminino</td>\n",
              "      <td>Ensino Médio</td>\n",
              "      <td>6316.275</td>\n",
              "      <td>2634.55</td>\n",
              "      <td>12632.55</td>\n",
              "    </tr>\n",
              "    <tr>\n",
              "      <th>49992</th>\n",
              "      <td>45330</td>\n",
              "      <td>60</td>\n",
              "      <td>9998</td>\n",
              "      <td>Masculino</td>\n",
              "      <td>Ensino Médio</td>\n",
              "      <td>6367.150</td>\n",
              "      <td>2736.30</td>\n",
              "      <td>12734.30</td>\n",
              "    </tr>\n",
              "    <tr>\n",
              "      <th>49995</th>\n",
              "      <td>41289</td>\n",
              "      <td>61</td>\n",
              "      <td>9999</td>\n",
              "      <td>Masculino</td>\n",
              "      <td>Ensino Fundamental</td>\n",
              "      <td>5680.580</td>\n",
              "      <td>1362.16</td>\n",
              "      <td>11361.16</td>\n",
              "    </tr>\n",
              "    <tr>\n",
              "      <th>49996</th>\n",
              "      <td>8382</td>\n",
              "      <td>68</td>\n",
              "      <td>9999</td>\n",
              "      <td>Feminino</td>\n",
              "      <td>Ensino Médio</td>\n",
              "      <td>6675.700</td>\n",
              "      <td>3352.40</td>\n",
              "      <td>13351.40</td>\n",
              "    </tr>\n",
              "    <tr>\n",
              "      <th>49997</th>\n",
              "      <td>1482</td>\n",
              "      <td>68</td>\n",
              "      <td>9999</td>\n",
              "      <td>Masculino</td>\n",
              "      <td>Ensino Médio</td>\n",
              "      <td>6622.955</td>\n",
              "      <td>3246.91</td>\n",
              "      <td>13245.91</td>\n",
              "    </tr>\n",
              "  </tbody>\n",
              "</table>\n",
              "<p>33322 rows × 8 columns</p>\n",
              "</div>"
            ],
            "text/plain": [
              "          Id  Idade  Renda       Sexo        Escolaridade  renda média  \\\n",
              "0      30445     32   1500   Feminino  Ensino Fundamental     3095.265   \n",
              "1      20936     38   1500  Masculino  Ensino Fundamental     2017.030   \n",
              "2      33317     46   1500   Feminino        Ensino Médio     2266.410   \n",
              "3      36065     22   1500   Feminino        Ensino Médio     2453.760   \n",
              "4      23166     36   1500  Masculino        Ensino Médio     1855.540   \n",
              "...      ...    ...    ...        ...                 ...          ...   \n",
              "49991  27833     49   9998   Feminino        Ensino Médio     6316.275   \n",
              "49992  45330     60   9998  Masculino        Ensino Médio     6367.150   \n",
              "49995  41289     61   9999  Masculino  Ensino Fundamental     5680.580   \n",
              "49996   8382     68   9999   Feminino        Ensino Médio     6675.700   \n",
              "49997   1482     68   9999  Masculino        Ensino Médio     6622.955   \n",
              "\n",
              "         ativo  renda total  \n",
              "0      4690.53      6190.53  \n",
              "1      2534.06      4034.06  \n",
              "2      3032.82      4532.82  \n",
              "3      3407.52      4907.52  \n",
              "4      2211.08      3711.08  \n",
              "...        ...          ...  \n",
              "49991  2634.55     12632.55  \n",
              "49992  2736.30     12734.30  \n",
              "49995  1362.16     11361.16  \n",
              "49996  3352.40     13351.40  \n",
              "49997  3246.91     13245.91  \n",
              "\n",
              "[33322 rows x 8 columns]"
            ]
          },
          "execution_count": 160,
          "metadata": {},
          "output_type": "execute_result"
        }
      ],
      "source": [
        "# outro exemplo de negação\n",
        "# pega todos os clientes cuja a escolaridade não seja Ensino Superior\n",
        "df.loc[~(df.Escolaridade == 'Ensino Superior')]"
      ]
    },
    {
      "cell_type": "code",
      "execution_count": null,
      "metadata": {
        "id": "Ae7jGftFOpmI",
        "outputId": "bbabe020-b515-4c23-820c-224a75ec3ac1"
      },
      "outputs": [
        {
          "data": {
            "text/html": [
              "<div>\n",
              "<style scoped>\n",
              "    .dataframe tbody tr th:only-of-type {\n",
              "        vertical-align: middle;\n",
              "    }\n",
              "\n",
              "    .dataframe tbody tr th {\n",
              "        vertical-align: top;\n",
              "    }\n",
              "\n",
              "    .dataframe thead th {\n",
              "        text-align: right;\n",
              "    }\n",
              "</style>\n",
              "<table border=\"1\" class=\"dataframe\">\n",
              "  <thead>\n",
              "    <tr style=\"text-align: right;\">\n",
              "      <th></th>\n",
              "      <th>Id</th>\n",
              "      <th>Idade</th>\n",
              "      <th>Renda</th>\n",
              "      <th>Sexo</th>\n",
              "      <th>Escolaridade</th>\n",
              "      <th>renda média</th>\n",
              "      <th>ativo</th>\n",
              "      <th>renda total</th>\n",
              "    </tr>\n",
              "  </thead>\n",
              "  <tbody>\n",
              "    <tr>\n",
              "      <th>5</th>\n",
              "      <td>8075</td>\n",
              "      <td>39</td>\n",
              "      <td>1500</td>\n",
              "      <td>Masculino</td>\n",
              "      <td>Ensino Superior</td>\n",
              "      <td>2251.035</td>\n",
              "      <td>3002.07</td>\n",
              "      <td>4502.07</td>\n",
              "    </tr>\n",
              "    <tr>\n",
              "      <th>6</th>\n",
              "      <td>20625</td>\n",
              "      <td>32</td>\n",
              "      <td>1500</td>\n",
              "      <td>Masculino</td>\n",
              "      <td>Ensino Superior</td>\n",
              "      <td>2249.555</td>\n",
              "      <td>2999.11</td>\n",
              "      <td>4499.11</td>\n",
              "    </tr>\n",
              "    <tr>\n",
              "      <th>15</th>\n",
              "      <td>3923</td>\n",
              "      <td>18</td>\n",
              "      <td>1502</td>\n",
              "      <td>Masculino</td>\n",
              "      <td>Ensino Superior</td>\n",
              "      <td>1524.380</td>\n",
              "      <td>1546.76</td>\n",
              "      <td>3048.76</td>\n",
              "    </tr>\n",
              "    <tr>\n",
              "      <th>16</th>\n",
              "      <td>47781</td>\n",
              "      <td>27</td>\n",
              "      <td>1502</td>\n",
              "      <td>Masculino</td>\n",
              "      <td>Ensino Superior</td>\n",
              "      <td>2528.290</td>\n",
              "      <td>3554.58</td>\n",
              "      <td>5056.58</td>\n",
              "    </tr>\n",
              "    <tr>\n",
              "      <th>25</th>\n",
              "      <td>13589</td>\n",
              "      <td>55</td>\n",
              "      <td>1503</td>\n",
              "      <td>Feminino</td>\n",
              "      <td>Ensino Superior</td>\n",
              "      <td>1526.160</td>\n",
              "      <td>1549.32</td>\n",
              "      <td>3052.32</td>\n",
              "    </tr>\n",
              "    <tr>\n",
              "      <th>...</th>\n",
              "      <td>...</td>\n",
              "      <td>...</td>\n",
              "      <td>...</td>\n",
              "      <td>...</td>\n",
              "      <td>...</td>\n",
              "      <td>...</td>\n",
              "      <td>...</td>\n",
              "      <td>...</td>\n",
              "    </tr>\n",
              "    <tr>\n",
              "      <th>49987</th>\n",
              "      <td>49520</td>\n",
              "      <td>28</td>\n",
              "      <td>9997</td>\n",
              "      <td>Feminino</td>\n",
              "      <td>Ensino Superior</td>\n",
              "      <td>7333.765</td>\n",
              "      <td>4670.53</td>\n",
              "      <td>14667.53</td>\n",
              "    </tr>\n",
              "    <tr>\n",
              "      <th>49993</th>\n",
              "      <td>10924</td>\n",
              "      <td>35</td>\n",
              "      <td>9998</td>\n",
              "      <td>Masculino</td>\n",
              "      <td>Ensino Superior</td>\n",
              "      <td>6487.420</td>\n",
              "      <td>2976.84</td>\n",
              "      <td>12974.84</td>\n",
              "    </tr>\n",
              "    <tr>\n",
              "      <th>49994</th>\n",
              "      <td>23061</td>\n",
              "      <td>39</td>\n",
              "      <td>9998</td>\n",
              "      <td>Masculino</td>\n",
              "      <td>Ensino Superior</td>\n",
              "      <td>6531.400</td>\n",
              "      <td>3064.80</td>\n",
              "      <td>13062.80</td>\n",
              "    </tr>\n",
              "    <tr>\n",
              "      <th>49998</th>\n",
              "      <td>21094</td>\n",
              "      <td>65</td>\n",
              "      <td>9999</td>\n",
              "      <td>Masculino</td>\n",
              "      <td>Ensino Superior</td>\n",
              "      <td>6646.110</td>\n",
              "      <td>3293.22</td>\n",
              "      <td>13292.22</td>\n",
              "    </tr>\n",
              "    <tr>\n",
              "      <th>49999</th>\n",
              "      <td>38188</td>\n",
              "      <td>23</td>\n",
              "      <td>9999</td>\n",
              "      <td>Masculino</td>\n",
              "      <td>Ensino Superior</td>\n",
              "      <td>6517.720</td>\n",
              "      <td>3036.44</td>\n",
              "      <td>13035.44</td>\n",
              "    </tr>\n",
              "  </tbody>\n",
              "</table>\n",
              "<p>16678 rows × 8 columns</p>\n",
              "</div>"
            ],
            "text/plain": [
              "          Id  Idade  Renda       Sexo     Escolaridade  renda média    ativo  \\\n",
              "5       8075     39   1500  Masculino  Ensino Superior     2251.035  3002.07   \n",
              "6      20625     32   1500  Masculino  Ensino Superior     2249.555  2999.11   \n",
              "15      3923     18   1502  Masculino  Ensino Superior     1524.380  1546.76   \n",
              "16     47781     27   1502  Masculino  Ensino Superior     2528.290  3554.58   \n",
              "25     13589     55   1503   Feminino  Ensino Superior     1526.160  1549.32   \n",
              "...      ...    ...    ...        ...              ...          ...      ...   \n",
              "49987  49520     28   9997   Feminino  Ensino Superior     7333.765  4670.53   \n",
              "49993  10924     35   9998  Masculino  Ensino Superior     6487.420  2976.84   \n",
              "49994  23061     39   9998  Masculino  Ensino Superior     6531.400  3064.80   \n",
              "49998  21094     65   9999  Masculino  Ensino Superior     6646.110  3293.22   \n",
              "49999  38188     23   9999  Masculino  Ensino Superior     6517.720  3036.44   \n",
              "\n",
              "       renda total  \n",
              "5          4502.07  \n",
              "6          4499.11  \n",
              "15         3048.76  \n",
              "16         5056.58  \n",
              "25         3052.32  \n",
              "...            ...  \n",
              "49987     14667.53  \n",
              "49993     12974.84  \n",
              "49994     13062.80  \n",
              "49998     13292.22  \n",
              "49999     13035.44  \n",
              "\n",
              "[16678 rows x 8 columns]"
            ]
          },
          "execution_count": 161,
          "metadata": {},
          "output_type": "execute_result"
        }
      ],
      "source": [
        "# pega apenas os clientes com escolaridade igual a Ensino Superior\n",
        "df.loc[df.Escolaridade.isin(['Ensino Superior'])]"
      ]
    },
    {
      "cell_type": "code",
      "execution_count": null,
      "metadata": {
        "id": "Yt-qWclMOpmI",
        "outputId": "885ffd18-2ef4-4da3-ce65-d69a8109db8c"
      },
      "outputs": [
        {
          "data": {
            "text/html": [
              "<div>\n",
              "<style scoped>\n",
              "    .dataframe tbody tr th:only-of-type {\n",
              "        vertical-align: middle;\n",
              "    }\n",
              "\n",
              "    .dataframe tbody tr th {\n",
              "        vertical-align: top;\n",
              "    }\n",
              "\n",
              "    .dataframe thead th {\n",
              "        text-align: right;\n",
              "    }\n",
              "</style>\n",
              "<table border=\"1\" class=\"dataframe\">\n",
              "  <thead>\n",
              "    <tr style=\"text-align: right;\">\n",
              "      <th></th>\n",
              "      <th>Id</th>\n",
              "      <th>Idade</th>\n",
              "      <th>Renda</th>\n",
              "      <th>Sexo</th>\n",
              "      <th>Escolaridade</th>\n",
              "      <th>renda média</th>\n",
              "      <th>ativo</th>\n",
              "      <th>renda total</th>\n",
              "    </tr>\n",
              "  </thead>\n",
              "  <tbody>\n",
              "    <tr>\n",
              "      <th>0</th>\n",
              "      <td>30445</td>\n",
              "      <td>32</td>\n",
              "      <td>1500</td>\n",
              "      <td>Feminino</td>\n",
              "      <td>Ensino Fundamental</td>\n",
              "      <td>3095.265</td>\n",
              "      <td>4690.53</td>\n",
              "      <td>6190.53</td>\n",
              "    </tr>\n",
              "    <tr>\n",
              "      <th>1</th>\n",
              "      <td>20936</td>\n",
              "      <td>38</td>\n",
              "      <td>1500</td>\n",
              "      <td>Masculino</td>\n",
              "      <td>Ensino Fundamental</td>\n",
              "      <td>2017.030</td>\n",
              "      <td>2534.06</td>\n",
              "      <td>4034.06</td>\n",
              "    </tr>\n",
              "    <tr>\n",
              "      <th>2</th>\n",
              "      <td>33317</td>\n",
              "      <td>46</td>\n",
              "      <td>1500</td>\n",
              "      <td>Feminino</td>\n",
              "      <td>Ensino Médio</td>\n",
              "      <td>2266.410</td>\n",
              "      <td>3032.82</td>\n",
              "      <td>4532.82</td>\n",
              "    </tr>\n",
              "    <tr>\n",
              "      <th>3</th>\n",
              "      <td>36065</td>\n",
              "      <td>22</td>\n",
              "      <td>1500</td>\n",
              "      <td>Feminino</td>\n",
              "      <td>Ensino Médio</td>\n",
              "      <td>2453.760</td>\n",
              "      <td>3407.52</td>\n",
              "      <td>4907.52</td>\n",
              "    </tr>\n",
              "    <tr>\n",
              "      <th>4</th>\n",
              "      <td>23166</td>\n",
              "      <td>36</td>\n",
              "      <td>1500</td>\n",
              "      <td>Masculino</td>\n",
              "      <td>Ensino Médio</td>\n",
              "      <td>1855.540</td>\n",
              "      <td>2211.08</td>\n",
              "      <td>3711.08</td>\n",
              "    </tr>\n",
              "    <tr>\n",
              "      <th>...</th>\n",
              "      <td>...</td>\n",
              "      <td>...</td>\n",
              "      <td>...</td>\n",
              "      <td>...</td>\n",
              "      <td>...</td>\n",
              "      <td>...</td>\n",
              "      <td>...</td>\n",
              "      <td>...</td>\n",
              "    </tr>\n",
              "    <tr>\n",
              "      <th>49991</th>\n",
              "      <td>27833</td>\n",
              "      <td>49</td>\n",
              "      <td>9998</td>\n",
              "      <td>Feminino</td>\n",
              "      <td>Ensino Médio</td>\n",
              "      <td>6316.275</td>\n",
              "      <td>2634.55</td>\n",
              "      <td>12632.55</td>\n",
              "    </tr>\n",
              "    <tr>\n",
              "      <th>49992</th>\n",
              "      <td>45330</td>\n",
              "      <td>60</td>\n",
              "      <td>9998</td>\n",
              "      <td>Masculino</td>\n",
              "      <td>Ensino Médio</td>\n",
              "      <td>6367.150</td>\n",
              "      <td>2736.30</td>\n",
              "      <td>12734.30</td>\n",
              "    </tr>\n",
              "    <tr>\n",
              "      <th>49995</th>\n",
              "      <td>41289</td>\n",
              "      <td>61</td>\n",
              "      <td>9999</td>\n",
              "      <td>Masculino</td>\n",
              "      <td>Ensino Fundamental</td>\n",
              "      <td>5680.580</td>\n",
              "      <td>1362.16</td>\n",
              "      <td>11361.16</td>\n",
              "    </tr>\n",
              "    <tr>\n",
              "      <th>49996</th>\n",
              "      <td>8382</td>\n",
              "      <td>68</td>\n",
              "      <td>9999</td>\n",
              "      <td>Feminino</td>\n",
              "      <td>Ensino Médio</td>\n",
              "      <td>6675.700</td>\n",
              "      <td>3352.40</td>\n",
              "      <td>13351.40</td>\n",
              "    </tr>\n",
              "    <tr>\n",
              "      <th>49997</th>\n",
              "      <td>1482</td>\n",
              "      <td>68</td>\n",
              "      <td>9999</td>\n",
              "      <td>Masculino</td>\n",
              "      <td>Ensino Médio</td>\n",
              "      <td>6622.955</td>\n",
              "      <td>3246.91</td>\n",
              "      <td>13245.91</td>\n",
              "    </tr>\n",
              "  </tbody>\n",
              "</table>\n",
              "<p>33322 rows × 8 columns</p>\n",
              "</div>"
            ],
            "text/plain": [
              "          Id  Idade  Renda       Sexo        Escolaridade  renda média  \\\n",
              "0      30445     32   1500   Feminino  Ensino Fundamental     3095.265   \n",
              "1      20936     38   1500  Masculino  Ensino Fundamental     2017.030   \n",
              "2      33317     46   1500   Feminino        Ensino Médio     2266.410   \n",
              "3      36065     22   1500   Feminino        Ensino Médio     2453.760   \n",
              "4      23166     36   1500  Masculino        Ensino Médio     1855.540   \n",
              "...      ...    ...    ...        ...                 ...          ...   \n",
              "49991  27833     49   9998   Feminino        Ensino Médio     6316.275   \n",
              "49992  45330     60   9998  Masculino        Ensino Médio     6367.150   \n",
              "49995  41289     61   9999  Masculino  Ensino Fundamental     5680.580   \n",
              "49996   8382     68   9999   Feminino        Ensino Médio     6675.700   \n",
              "49997   1482     68   9999  Masculino        Ensino Médio     6622.955   \n",
              "\n",
              "         ativo  renda total  \n",
              "0      4690.53      6190.53  \n",
              "1      2534.06      4034.06  \n",
              "2      3032.82      4532.82  \n",
              "3      3407.52      4907.52  \n",
              "4      2211.08      3711.08  \n",
              "...        ...          ...  \n",
              "49991  2634.55     12632.55  \n",
              "49992  2736.30     12734.30  \n",
              "49995  1362.16     11361.16  \n",
              "49996  3352.40     13351.40  \n",
              "49997  3246.91     13245.91  \n",
              "\n",
              "[33322 rows x 8 columns]"
            ]
          },
          "execution_count": 162,
          "metadata": {},
          "output_type": "execute_result"
        }
      ],
      "source": [
        "# nega a condição, pega clientes cuja escolaridade não seja Ensino Superior\n",
        "df.loc[~(df.Escolaridade.isin(['Ensino Superior']))]"
      ]
    },
    {
      "cell_type": "code",
      "execution_count": null,
      "metadata": {
        "id": "O5fvGMe0OpmI",
        "outputId": "9e384d36-a343-40ea-8c44-87b619c56f0c"
      },
      "outputs": [
        {
          "data": {
            "text/html": [
              "<div>\n",
              "<style scoped>\n",
              "    .dataframe tbody tr th:only-of-type {\n",
              "        vertical-align: middle;\n",
              "    }\n",
              "\n",
              "    .dataframe tbody tr th {\n",
              "        vertical-align: top;\n",
              "    }\n",
              "\n",
              "    .dataframe thead th {\n",
              "        text-align: right;\n",
              "    }\n",
              "</style>\n",
              "<table border=\"1\" class=\"dataframe\">\n",
              "  <thead>\n",
              "    <tr style=\"text-align: right;\">\n",
              "      <th></th>\n",
              "      <th>Id</th>\n",
              "      <th>Idade</th>\n",
              "      <th>Renda</th>\n",
              "      <th>Sexo</th>\n",
              "      <th>Escolaridade</th>\n",
              "      <th>renda média</th>\n",
              "      <th>ativo</th>\n",
              "      <th>renda total</th>\n",
              "    </tr>\n",
              "  </thead>\n",
              "  <tbody>\n",
              "    <tr>\n",
              "      <th>0</th>\n",
              "      <td>30445</td>\n",
              "      <td>32</td>\n",
              "      <td>1500</td>\n",
              "      <td>Feminino</td>\n",
              "      <td>Ensino Fundamental</td>\n",
              "      <td>3095.265</td>\n",
              "      <td>4690.53</td>\n",
              "      <td>6190.53</td>\n",
              "    </tr>\n",
              "    <tr>\n",
              "      <th>1</th>\n",
              "      <td>20936</td>\n",
              "      <td>38</td>\n",
              "      <td>1500</td>\n",
              "      <td>Masculino</td>\n",
              "      <td>Ensino Fundamental</td>\n",
              "      <td>2017.030</td>\n",
              "      <td>2534.06</td>\n",
              "      <td>4034.06</td>\n",
              "    </tr>\n",
              "    <tr>\n",
              "      <th>2</th>\n",
              "      <td>33317</td>\n",
              "      <td>46</td>\n",
              "      <td>1500</td>\n",
              "      <td>Feminino</td>\n",
              "      <td>Ensino Médio</td>\n",
              "      <td>2266.410</td>\n",
              "      <td>3032.82</td>\n",
              "      <td>4532.82</td>\n",
              "    </tr>\n",
              "    <tr>\n",
              "      <th>3</th>\n",
              "      <td>36065</td>\n",
              "      <td>22</td>\n",
              "      <td>1500</td>\n",
              "      <td>Feminino</td>\n",
              "      <td>Ensino Médio</td>\n",
              "      <td>2453.760</td>\n",
              "      <td>3407.52</td>\n",
              "      <td>4907.52</td>\n",
              "    </tr>\n",
              "    <tr>\n",
              "      <th>4</th>\n",
              "      <td>23166</td>\n",
              "      <td>36</td>\n",
              "      <td>1500</td>\n",
              "      <td>Masculino</td>\n",
              "      <td>Ensino Médio</td>\n",
              "      <td>1855.540</td>\n",
              "      <td>2211.08</td>\n",
              "      <td>3711.08</td>\n",
              "    </tr>\n",
              "  </tbody>\n",
              "</table>\n",
              "</div>"
            ],
            "text/plain": [
              "      Id  Idade  Renda       Sexo        Escolaridade  renda média    ativo  \\\n",
              "0  30445     32   1500   Feminino  Ensino Fundamental     3095.265  4690.53   \n",
              "1  20936     38   1500  Masculino  Ensino Fundamental     2017.030  2534.06   \n",
              "2  33317     46   1500   Feminino        Ensino Médio     2266.410  3032.82   \n",
              "3  36065     22   1500   Feminino        Ensino Médio     2453.760  3407.52   \n",
              "4  23166     36   1500  Masculino        Ensino Médio     1855.540  2211.08   \n",
              "\n",
              "   renda total  \n",
              "0      6190.53  \n",
              "1      4034.06  \n",
              "2      4532.82  \n",
              "3      4907.52  \n",
              "4      3711.08  "
            ]
          },
          "execution_count": 163,
          "metadata": {},
          "output_type": "execute_result"
        }
      ],
      "source": [
        "df.head()"
      ]
    },
    {
      "cell_type": "code",
      "execution_count": null,
      "metadata": {
        "id": "1rd3OJstOpmI",
        "outputId": "2b5c3fc7-a814-44fb-9b84-65826a950f48"
      },
      "outputs": [
        {
          "data": {
            "text/plain": [
              "array(['Ensino Fundamental', 'Ensino Superior'], dtype=object)"
            ]
          },
          "execution_count": 164,
          "metadata": {},
          "output_type": "execute_result"
        }
      ],
      "source": [
        "# pega apenas os clientes cuja a escolaridade seja diferente de Ensino Médio\n",
        "df.query(\"Escolaridade != 'Ensino Médio'\")['Escolaridade'].unique()"
      ]
    },
    {
      "cell_type": "code",
      "execution_count": null,
      "metadata": {
        "id": "OZBiFGobOpmI",
        "outputId": "b115d63f-a6fa-419d-b79b-fcb5ec7400d5"
      },
      "outputs": [
        {
          "data": {
            "text/plain": [
              "False"
            ]
          },
          "execution_count": 165,
          "metadata": {},
          "output_type": "execute_result"
        }
      ],
      "source": [
        "# verifica se Ensino Médio está contido no array com valores únicos da nossa consulta\n",
        "'Ensino Médio' in df.query(\"Escolaridade != 'Ensino Médio'\")['Escolaridade'].unique()"
      ]
    },
    {
      "cell_type": "markdown",
      "metadata": {
        "id": "Z4ZVqEBxOpmJ"
      },
      "source": [
        "### Drop de linhas e colunas"
      ]
    },
    {
      "cell_type": "code",
      "execution_count": null,
      "metadata": {
        "id": "U4pf9MkpOpmJ"
      },
      "outputs": [],
      "source": [
        "# cópia dos dados\n",
        "data = df.copy()"
      ]
    },
    {
      "cell_type": "code",
      "execution_count": null,
      "metadata": {
        "id": "BGq_UhiAOpmJ",
        "outputId": "5f478608-bc69-400e-da0a-5092f00646eb"
      },
      "outputs": [
        {
          "data": {
            "text/html": [
              "<div>\n",
              "<style scoped>\n",
              "    .dataframe tbody tr th:only-of-type {\n",
              "        vertical-align: middle;\n",
              "    }\n",
              "\n",
              "    .dataframe tbody tr th {\n",
              "        vertical-align: top;\n",
              "    }\n",
              "\n",
              "    .dataframe thead th {\n",
              "        text-align: right;\n",
              "    }\n",
              "</style>\n",
              "<table border=\"1\" class=\"dataframe\">\n",
              "  <thead>\n",
              "    <tr style=\"text-align: right;\">\n",
              "      <th></th>\n",
              "      <th>Idade</th>\n",
              "      <th>Renda</th>\n",
              "      <th>Sexo</th>\n",
              "      <th>renda média</th>\n",
              "      <th>ativo</th>\n",
              "      <th>renda total</th>\n",
              "    </tr>\n",
              "  </thead>\n",
              "  <tbody>\n",
              "    <tr>\n",
              "      <th>0</th>\n",
              "      <td>32</td>\n",
              "      <td>1500</td>\n",
              "      <td>Feminino</td>\n",
              "      <td>3095.265</td>\n",
              "      <td>4690.53</td>\n",
              "      <td>6190.53</td>\n",
              "    </tr>\n",
              "    <tr>\n",
              "      <th>1</th>\n",
              "      <td>38</td>\n",
              "      <td>1500</td>\n",
              "      <td>Masculino</td>\n",
              "      <td>2017.030</td>\n",
              "      <td>2534.06</td>\n",
              "      <td>4034.06</td>\n",
              "    </tr>\n",
              "    <tr>\n",
              "      <th>2</th>\n",
              "      <td>46</td>\n",
              "      <td>1500</td>\n",
              "      <td>Feminino</td>\n",
              "      <td>2266.410</td>\n",
              "      <td>3032.82</td>\n",
              "      <td>4532.82</td>\n",
              "    </tr>\n",
              "    <tr>\n",
              "      <th>3</th>\n",
              "      <td>22</td>\n",
              "      <td>1500</td>\n",
              "      <td>Feminino</td>\n",
              "      <td>2453.760</td>\n",
              "      <td>3407.52</td>\n",
              "      <td>4907.52</td>\n",
              "    </tr>\n",
              "    <tr>\n",
              "      <th>4</th>\n",
              "      <td>36</td>\n",
              "      <td>1500</td>\n",
              "      <td>Masculino</td>\n",
              "      <td>1855.540</td>\n",
              "      <td>2211.08</td>\n",
              "      <td>3711.08</td>\n",
              "    </tr>\n",
              "    <tr>\n",
              "      <th>...</th>\n",
              "      <td>...</td>\n",
              "      <td>...</td>\n",
              "      <td>...</td>\n",
              "      <td>...</td>\n",
              "      <td>...</td>\n",
              "      <td>...</td>\n",
              "    </tr>\n",
              "    <tr>\n",
              "      <th>49995</th>\n",
              "      <td>61</td>\n",
              "      <td>9999</td>\n",
              "      <td>Masculino</td>\n",
              "      <td>5680.580</td>\n",
              "      <td>1362.16</td>\n",
              "      <td>11361.16</td>\n",
              "    </tr>\n",
              "    <tr>\n",
              "      <th>49996</th>\n",
              "      <td>68</td>\n",
              "      <td>9999</td>\n",
              "      <td>Feminino</td>\n",
              "      <td>6675.700</td>\n",
              "      <td>3352.40</td>\n",
              "      <td>13351.40</td>\n",
              "    </tr>\n",
              "    <tr>\n",
              "      <th>49997</th>\n",
              "      <td>68</td>\n",
              "      <td>9999</td>\n",
              "      <td>Masculino</td>\n",
              "      <td>6622.955</td>\n",
              "      <td>3246.91</td>\n",
              "      <td>13245.91</td>\n",
              "    </tr>\n",
              "    <tr>\n",
              "      <th>49998</th>\n",
              "      <td>65</td>\n",
              "      <td>9999</td>\n",
              "      <td>Masculino</td>\n",
              "      <td>6646.110</td>\n",
              "      <td>3293.22</td>\n",
              "      <td>13292.22</td>\n",
              "    </tr>\n",
              "    <tr>\n",
              "      <th>49999</th>\n",
              "      <td>23</td>\n",
              "      <td>9999</td>\n",
              "      <td>Masculino</td>\n",
              "      <td>6517.720</td>\n",
              "      <td>3036.44</td>\n",
              "      <td>13035.44</td>\n",
              "    </tr>\n",
              "  </tbody>\n",
              "</table>\n",
              "<p>50000 rows × 6 columns</p>\n",
              "</div>"
            ],
            "text/plain": [
              "       Idade  Renda       Sexo  renda média    ativo  renda total\n",
              "0         32   1500   Feminino     3095.265  4690.53      6190.53\n",
              "1         38   1500  Masculino     2017.030  2534.06      4034.06\n",
              "2         46   1500   Feminino     2266.410  3032.82      4532.82\n",
              "3         22   1500   Feminino     2453.760  3407.52      4907.52\n",
              "4         36   1500  Masculino     1855.540  2211.08      3711.08\n",
              "...      ...    ...        ...          ...      ...          ...\n",
              "49995     61   9999  Masculino     5680.580  1362.16     11361.16\n",
              "49996     68   9999   Feminino     6675.700  3352.40     13351.40\n",
              "49997     68   9999  Masculino     6622.955  3246.91     13245.91\n",
              "49998     65   9999  Masculino     6646.110  3293.22     13292.22\n",
              "49999     23   9999  Masculino     6517.720  3036.44     13035.44\n",
              "\n",
              "[50000 rows x 6 columns]"
            ]
          },
          "execution_count": 167,
          "metadata": {},
          "output_type": "execute_result"
        }
      ],
      "source": [
        "# remove as colunas Id e Escolaridade\n",
        "data.drop(columns = ['Id', 'Escolaridade'])"
      ]
    },
    {
      "cell_type": "code",
      "execution_count": null,
      "metadata": {
        "id": "FHvPyk7yOpmJ"
      },
      "outputs": [],
      "source": [
        "# remove a coluna Id, com inplace = True\n",
        "data.drop(columns = ['Id'], inplace = True)"
      ]
    },
    {
      "cell_type": "code",
      "execution_count": null,
      "metadata": {
        "id": "qdudeX0ROpmJ",
        "outputId": "6fede336-d7b3-4091-e451-f72c567066c7"
      },
      "outputs": [
        {
          "data": {
            "text/html": [
              "<div>\n",
              "<style scoped>\n",
              "    .dataframe tbody tr th:only-of-type {\n",
              "        vertical-align: middle;\n",
              "    }\n",
              "\n",
              "    .dataframe tbody tr th {\n",
              "        vertical-align: top;\n",
              "    }\n",
              "\n",
              "    .dataframe thead th {\n",
              "        text-align: right;\n",
              "    }\n",
              "</style>\n",
              "<table border=\"1\" class=\"dataframe\">\n",
              "  <thead>\n",
              "    <tr style=\"text-align: right;\">\n",
              "      <th></th>\n",
              "      <th>Idade</th>\n",
              "      <th>Renda</th>\n",
              "      <th>Sexo</th>\n",
              "      <th>Escolaridade</th>\n",
              "      <th>renda média</th>\n",
              "      <th>ativo</th>\n",
              "      <th>renda total</th>\n",
              "    </tr>\n",
              "  </thead>\n",
              "  <tbody>\n",
              "    <tr>\n",
              "      <th>0</th>\n",
              "      <td>32</td>\n",
              "      <td>1500</td>\n",
              "      <td>Feminino</td>\n",
              "      <td>Ensino Fundamental</td>\n",
              "      <td>3095.265</td>\n",
              "      <td>4690.53</td>\n",
              "      <td>6190.53</td>\n",
              "    </tr>\n",
              "    <tr>\n",
              "      <th>1</th>\n",
              "      <td>38</td>\n",
              "      <td>1500</td>\n",
              "      <td>Masculino</td>\n",
              "      <td>Ensino Fundamental</td>\n",
              "      <td>2017.030</td>\n",
              "      <td>2534.06</td>\n",
              "      <td>4034.06</td>\n",
              "    </tr>\n",
              "    <tr>\n",
              "      <th>2</th>\n",
              "      <td>46</td>\n",
              "      <td>1500</td>\n",
              "      <td>Feminino</td>\n",
              "      <td>Ensino Médio</td>\n",
              "      <td>2266.410</td>\n",
              "      <td>3032.82</td>\n",
              "      <td>4532.82</td>\n",
              "    </tr>\n",
              "    <tr>\n",
              "      <th>3</th>\n",
              "      <td>22</td>\n",
              "      <td>1500</td>\n",
              "      <td>Feminino</td>\n",
              "      <td>Ensino Médio</td>\n",
              "      <td>2453.760</td>\n",
              "      <td>3407.52</td>\n",
              "      <td>4907.52</td>\n",
              "    </tr>\n",
              "    <tr>\n",
              "      <th>4</th>\n",
              "      <td>36</td>\n",
              "      <td>1500</td>\n",
              "      <td>Masculino</td>\n",
              "      <td>Ensino Médio</td>\n",
              "      <td>1855.540</td>\n",
              "      <td>2211.08</td>\n",
              "      <td>3711.08</td>\n",
              "    </tr>\n",
              "  </tbody>\n",
              "</table>\n",
              "</div>"
            ],
            "text/plain": [
              "   Idade  Renda       Sexo        Escolaridade  renda média    ativo  \\\n",
              "0     32   1500   Feminino  Ensino Fundamental     3095.265  4690.53   \n",
              "1     38   1500  Masculino  Ensino Fundamental     2017.030  2534.06   \n",
              "2     46   1500   Feminino        Ensino Médio     2266.410  3032.82   \n",
              "3     22   1500   Feminino        Ensino Médio     2453.760  3407.52   \n",
              "4     36   1500  Masculino        Ensino Médio     1855.540  2211.08   \n",
              "\n",
              "   renda total  \n",
              "0      6190.53  \n",
              "1      4034.06  \n",
              "2      4532.82  \n",
              "3      4907.52  \n",
              "4      3711.08  "
            ]
          },
          "execution_count": 169,
          "metadata": {},
          "output_type": "execute_result"
        }
      ],
      "source": [
        "data.head()"
      ]
    },
    {
      "cell_type": "code",
      "execution_count": null,
      "metadata": {
        "id": "pzDOPZLPOpmJ",
        "outputId": "073afdb0-e874-4e44-908e-30fe98e8d9fc"
      },
      "outputs": [
        {
          "data": {
            "text/plain": [
              "Int64Index([    0,     1,     7,    11,    12,    17,    18,    19,    20,\n",
              "               21,\n",
              "            ...\n",
              "            49970, 49971, 49972, 49976, 49981, 49982, 49988, 49989, 49990,\n",
              "            49995],\n",
              "           dtype='int64', length=16665)"
            ]
          },
          "execution_count": 170,
          "metadata": {},
          "output_type": "execute_result"
        }
      ],
      "source": [
        "# índice das linhas a partir da condição construída\n",
        "df.query('Escolaridade == \"Ensino Fundamental\"').index"
      ]
    },
    {
      "cell_type": "code",
      "execution_count": null,
      "metadata": {
        "id": "rQuN221sOpmK"
      },
      "outputs": [],
      "source": [
        "# índice das linhas a serem removidas\n",
        "rows_to_drop = df.query('Escolaridade == \"Ensino Fundamental\"').index"
      ]
    },
    {
      "cell_type": "code",
      "execution_count": null,
      "metadata": {
        "id": "27YP9krTOpmK",
        "outputId": "8270b9a8-2e2a-4771-cc5c-f0b92a6327a4"
      },
      "outputs": [
        {
          "data": {
            "text/plain": [
              "Int64Index([    0,     1,     7,    11,    12,    17,    18,    19,    20,\n",
              "               21,\n",
              "            ...\n",
              "            49970, 49971, 49972, 49976, 49981, 49982, 49988, 49989, 49990,\n",
              "            49995],\n",
              "           dtype='int64', length=16665)"
            ]
          },
          "execution_count": 172,
          "metadata": {},
          "output_type": "execute_result"
        }
      ],
      "source": [
        "rows_to_drop"
      ]
    },
    {
      "cell_type": "code",
      "execution_count": null,
      "metadata": {
        "id": "AUHTVDgyOpmK",
        "outputId": "f9398560-deff-4618-d13a-ea6acce339b3"
      },
      "outputs": [
        {
          "data": {
            "text/html": [
              "<div>\n",
              "<style scoped>\n",
              "    .dataframe tbody tr th:only-of-type {\n",
              "        vertical-align: middle;\n",
              "    }\n",
              "\n",
              "    .dataframe tbody tr th {\n",
              "        vertical-align: top;\n",
              "    }\n",
              "\n",
              "    .dataframe thead th {\n",
              "        text-align: right;\n",
              "    }\n",
              "</style>\n",
              "<table border=\"1\" class=\"dataframe\">\n",
              "  <thead>\n",
              "    <tr style=\"text-align: right;\">\n",
              "      <th></th>\n",
              "      <th>Id</th>\n",
              "      <th>Idade</th>\n",
              "      <th>Renda</th>\n",
              "      <th>Sexo</th>\n",
              "      <th>Escolaridade</th>\n",
              "      <th>renda média</th>\n",
              "      <th>ativo</th>\n",
              "      <th>renda total</th>\n",
              "    </tr>\n",
              "  </thead>\n",
              "  <tbody>\n",
              "    <tr>\n",
              "      <th>2</th>\n",
              "      <td>33317</td>\n",
              "      <td>46</td>\n",
              "      <td>1500</td>\n",
              "      <td>Feminino</td>\n",
              "      <td>Ensino Médio</td>\n",
              "      <td>2266.410</td>\n",
              "      <td>3032.82</td>\n",
              "      <td>4532.82</td>\n",
              "    </tr>\n",
              "    <tr>\n",
              "      <th>3</th>\n",
              "      <td>36065</td>\n",
              "      <td>22</td>\n",
              "      <td>1500</td>\n",
              "      <td>Feminino</td>\n",
              "      <td>Ensino Médio</td>\n",
              "      <td>2453.760</td>\n",
              "      <td>3407.52</td>\n",
              "      <td>4907.52</td>\n",
              "    </tr>\n",
              "    <tr>\n",
              "      <th>4</th>\n",
              "      <td>23166</td>\n",
              "      <td>36</td>\n",
              "      <td>1500</td>\n",
              "      <td>Masculino</td>\n",
              "      <td>Ensino Médio</td>\n",
              "      <td>1855.540</td>\n",
              "      <td>2211.08</td>\n",
              "      <td>3711.08</td>\n",
              "    </tr>\n",
              "    <tr>\n",
              "      <th>5</th>\n",
              "      <td>8075</td>\n",
              "      <td>39</td>\n",
              "      <td>1500</td>\n",
              "      <td>Masculino</td>\n",
              "      <td>Ensino Superior</td>\n",
              "      <td>2251.035</td>\n",
              "      <td>3002.07</td>\n",
              "      <td>4502.07</td>\n",
              "    </tr>\n",
              "    <tr>\n",
              "      <th>6</th>\n",
              "      <td>20625</td>\n",
              "      <td>32</td>\n",
              "      <td>1500</td>\n",
              "      <td>Masculino</td>\n",
              "      <td>Ensino Superior</td>\n",
              "      <td>2249.555</td>\n",
              "      <td>2999.11</td>\n",
              "      <td>4499.11</td>\n",
              "    </tr>\n",
              "    <tr>\n",
              "      <th>...</th>\n",
              "      <td>...</td>\n",
              "      <td>...</td>\n",
              "      <td>...</td>\n",
              "      <td>...</td>\n",
              "      <td>...</td>\n",
              "      <td>...</td>\n",
              "      <td>...</td>\n",
              "      <td>...</td>\n",
              "    </tr>\n",
              "    <tr>\n",
              "      <th>49994</th>\n",
              "      <td>23061</td>\n",
              "      <td>39</td>\n",
              "      <td>9998</td>\n",
              "      <td>Masculino</td>\n",
              "      <td>Ensino Superior</td>\n",
              "      <td>6531.400</td>\n",
              "      <td>3064.80</td>\n",
              "      <td>13062.80</td>\n",
              "    </tr>\n",
              "    <tr>\n",
              "      <th>49996</th>\n",
              "      <td>8382</td>\n",
              "      <td>68</td>\n",
              "      <td>9999</td>\n",
              "      <td>Feminino</td>\n",
              "      <td>Ensino Médio</td>\n",
              "      <td>6675.700</td>\n",
              "      <td>3352.40</td>\n",
              "      <td>13351.40</td>\n",
              "    </tr>\n",
              "    <tr>\n",
              "      <th>49997</th>\n",
              "      <td>1482</td>\n",
              "      <td>68</td>\n",
              "      <td>9999</td>\n",
              "      <td>Masculino</td>\n",
              "      <td>Ensino Médio</td>\n",
              "      <td>6622.955</td>\n",
              "      <td>3246.91</td>\n",
              "      <td>13245.91</td>\n",
              "    </tr>\n",
              "    <tr>\n",
              "      <th>49998</th>\n",
              "      <td>21094</td>\n",
              "      <td>65</td>\n",
              "      <td>9999</td>\n",
              "      <td>Masculino</td>\n",
              "      <td>Ensino Superior</td>\n",
              "      <td>6646.110</td>\n",
              "      <td>3293.22</td>\n",
              "      <td>13292.22</td>\n",
              "    </tr>\n",
              "    <tr>\n",
              "      <th>49999</th>\n",
              "      <td>38188</td>\n",
              "      <td>23</td>\n",
              "      <td>9999</td>\n",
              "      <td>Masculino</td>\n",
              "      <td>Ensino Superior</td>\n",
              "      <td>6517.720</td>\n",
              "      <td>3036.44</td>\n",
              "      <td>13035.44</td>\n",
              "    </tr>\n",
              "  </tbody>\n",
              "</table>\n",
              "<p>33335 rows × 8 columns</p>\n",
              "</div>"
            ],
            "text/plain": [
              "          Id  Idade  Renda       Sexo     Escolaridade  renda média    ativo  \\\n",
              "2      33317     46   1500   Feminino     Ensino Médio     2266.410  3032.82   \n",
              "3      36065     22   1500   Feminino     Ensino Médio     2453.760  3407.52   \n",
              "4      23166     36   1500  Masculino     Ensino Médio     1855.540  2211.08   \n",
              "5       8075     39   1500  Masculino  Ensino Superior     2251.035  3002.07   \n",
              "6      20625     32   1500  Masculino  Ensino Superior     2249.555  2999.11   \n",
              "...      ...    ...    ...        ...              ...          ...      ...   \n",
              "49994  23061     39   9998  Masculino  Ensino Superior     6531.400  3064.80   \n",
              "49996   8382     68   9999   Feminino     Ensino Médio     6675.700  3352.40   \n",
              "49997   1482     68   9999  Masculino     Ensino Médio     6622.955  3246.91   \n",
              "49998  21094     65   9999  Masculino  Ensino Superior     6646.110  3293.22   \n",
              "49999  38188     23   9999  Masculino  Ensino Superior     6517.720  3036.44   \n",
              "\n",
              "       renda total  \n",
              "2          4532.82  \n",
              "3          4907.52  \n",
              "4          3711.08  \n",
              "5          4502.07  \n",
              "6          4499.11  \n",
              "...            ...  \n",
              "49994     13062.80  \n",
              "49996     13351.40  \n",
              "49997     13245.91  \n",
              "49998     13292.22  \n",
              "49999     13035.44  \n",
              "\n",
              "[33335 rows x 8 columns]"
            ]
          },
          "execution_count": 173,
          "metadata": {},
          "output_type": "execute_result"
        }
      ],
      "source": [
        "df.drop(rows_to_drop)"
      ]
    },
    {
      "cell_type": "code",
      "execution_count": null,
      "metadata": {
        "id": "TLnHRBQxOpmK",
        "outputId": "96747458-d5f8-4aed-ad18-27baa3b7dd12"
      },
      "outputs": [
        {
          "data": {
            "text/html": [
              "<div>\n",
              "<style scoped>\n",
              "    .dataframe tbody tr th:only-of-type {\n",
              "        vertical-align: middle;\n",
              "    }\n",
              "\n",
              "    .dataframe tbody tr th {\n",
              "        vertical-align: top;\n",
              "    }\n",
              "\n",
              "    .dataframe thead th {\n",
              "        text-align: right;\n",
              "    }\n",
              "</style>\n",
              "<table border=\"1\" class=\"dataframe\">\n",
              "  <thead>\n",
              "    <tr style=\"text-align: right;\">\n",
              "      <th></th>\n",
              "      <th>Id</th>\n",
              "      <th>Idade</th>\n",
              "      <th>Renda</th>\n",
              "      <th>Sexo</th>\n",
              "      <th>Escolaridade</th>\n",
              "      <th>renda média</th>\n",
              "      <th>ativo</th>\n",
              "      <th>renda total</th>\n",
              "    </tr>\n",
              "  </thead>\n",
              "  <tbody>\n",
              "    <tr>\n",
              "      <th>1</th>\n",
              "      <td>20936</td>\n",
              "      <td>38</td>\n",
              "      <td>1500</td>\n",
              "      <td>Masculino</td>\n",
              "      <td>Ensino Fundamental</td>\n",
              "      <td>2017.030</td>\n",
              "      <td>2534.06</td>\n",
              "      <td>4034.06</td>\n",
              "    </tr>\n",
              "    <tr>\n",
              "      <th>2</th>\n",
              "      <td>33317</td>\n",
              "      <td>46</td>\n",
              "      <td>1500</td>\n",
              "      <td>Feminino</td>\n",
              "      <td>Ensino Médio</td>\n",
              "      <td>2266.410</td>\n",
              "      <td>3032.82</td>\n",
              "      <td>4532.82</td>\n",
              "    </tr>\n",
              "    <tr>\n",
              "      <th>3</th>\n",
              "      <td>36065</td>\n",
              "      <td>22</td>\n",
              "      <td>1500</td>\n",
              "      <td>Feminino</td>\n",
              "      <td>Ensino Médio</td>\n",
              "      <td>2453.760</td>\n",
              "      <td>3407.52</td>\n",
              "      <td>4907.52</td>\n",
              "    </tr>\n",
              "    <tr>\n",
              "      <th>4</th>\n",
              "      <td>23166</td>\n",
              "      <td>36</td>\n",
              "      <td>1500</td>\n",
              "      <td>Masculino</td>\n",
              "      <td>Ensino Médio</td>\n",
              "      <td>1855.540</td>\n",
              "      <td>2211.08</td>\n",
              "      <td>3711.08</td>\n",
              "    </tr>\n",
              "    <tr>\n",
              "      <th>5</th>\n",
              "      <td>8075</td>\n",
              "      <td>39</td>\n",
              "      <td>1500</td>\n",
              "      <td>Masculino</td>\n",
              "      <td>Ensino Superior</td>\n",
              "      <td>2251.035</td>\n",
              "      <td>3002.07</td>\n",
              "      <td>4502.07</td>\n",
              "    </tr>\n",
              "    <tr>\n",
              "      <th>...</th>\n",
              "      <td>...</td>\n",
              "      <td>...</td>\n",
              "      <td>...</td>\n",
              "      <td>...</td>\n",
              "      <td>...</td>\n",
              "      <td>...</td>\n",
              "      <td>...</td>\n",
              "      <td>...</td>\n",
              "    </tr>\n",
              "    <tr>\n",
              "      <th>49995</th>\n",
              "      <td>41289</td>\n",
              "      <td>61</td>\n",
              "      <td>9999</td>\n",
              "      <td>Masculino</td>\n",
              "      <td>Ensino Fundamental</td>\n",
              "      <td>5680.580</td>\n",
              "      <td>1362.16</td>\n",
              "      <td>11361.16</td>\n",
              "    </tr>\n",
              "    <tr>\n",
              "      <th>49996</th>\n",
              "      <td>8382</td>\n",
              "      <td>68</td>\n",
              "      <td>9999</td>\n",
              "      <td>Feminino</td>\n",
              "      <td>Ensino Médio</td>\n",
              "      <td>6675.700</td>\n",
              "      <td>3352.40</td>\n",
              "      <td>13351.40</td>\n",
              "    </tr>\n",
              "    <tr>\n",
              "      <th>49997</th>\n",
              "      <td>1482</td>\n",
              "      <td>68</td>\n",
              "      <td>9999</td>\n",
              "      <td>Masculino</td>\n",
              "      <td>Ensino Médio</td>\n",
              "      <td>6622.955</td>\n",
              "      <td>3246.91</td>\n",
              "      <td>13245.91</td>\n",
              "    </tr>\n",
              "    <tr>\n",
              "      <th>49998</th>\n",
              "      <td>21094</td>\n",
              "      <td>65</td>\n",
              "      <td>9999</td>\n",
              "      <td>Masculino</td>\n",
              "      <td>Ensino Superior</td>\n",
              "      <td>6646.110</td>\n",
              "      <td>3293.22</td>\n",
              "      <td>13292.22</td>\n",
              "    </tr>\n",
              "    <tr>\n",
              "      <th>49999</th>\n",
              "      <td>38188</td>\n",
              "      <td>23</td>\n",
              "      <td>9999</td>\n",
              "      <td>Masculino</td>\n",
              "      <td>Ensino Superior</td>\n",
              "      <td>6517.720</td>\n",
              "      <td>3036.44</td>\n",
              "      <td>13035.44</td>\n",
              "    </tr>\n",
              "  </tbody>\n",
              "</table>\n",
              "<p>49999 rows × 8 columns</p>\n",
              "</div>"
            ],
            "text/plain": [
              "          Id  Idade  Renda       Sexo        Escolaridade  renda média  \\\n",
              "1      20936     38   1500  Masculino  Ensino Fundamental     2017.030   \n",
              "2      33317     46   1500   Feminino        Ensino Médio     2266.410   \n",
              "3      36065     22   1500   Feminino        Ensino Médio     2453.760   \n",
              "4      23166     36   1500  Masculino        Ensino Médio     1855.540   \n",
              "5       8075     39   1500  Masculino     Ensino Superior     2251.035   \n",
              "...      ...    ...    ...        ...                 ...          ...   \n",
              "49995  41289     61   9999  Masculino  Ensino Fundamental     5680.580   \n",
              "49996   8382     68   9999   Feminino        Ensino Médio     6675.700   \n",
              "49997   1482     68   9999  Masculino        Ensino Médio     6622.955   \n",
              "49998  21094     65   9999  Masculino     Ensino Superior     6646.110   \n",
              "49999  38188     23   9999  Masculino     Ensino Superior     6517.720   \n",
              "\n",
              "         ativo  renda total  \n",
              "1      2534.06      4034.06  \n",
              "2      3032.82      4532.82  \n",
              "3      3407.52      4907.52  \n",
              "4      2211.08      3711.08  \n",
              "5      3002.07      4502.07  \n",
              "...        ...          ...  \n",
              "49995  1362.16     11361.16  \n",
              "49996  3352.40     13351.40  \n",
              "49997  3246.91     13245.91  \n",
              "49998  3293.22     13292.22  \n",
              "49999  3036.44     13035.44  \n",
              "\n",
              "[49999 rows x 8 columns]"
            ]
          },
          "execution_count": 174,
          "metadata": {},
          "output_type": "execute_result"
        }
      ],
      "source": [
        "# remove a linha 0\n",
        "df.drop(0)"
      ]
    },
    {
      "cell_type": "code",
      "execution_count": null,
      "metadata": {
        "id": "RKQHrcejOpmK",
        "outputId": "88c11d19-5283-40ab-d471-608789cab0fb"
      },
      "outputs": [
        {
          "data": {
            "text/html": [
              "<div>\n",
              "<style scoped>\n",
              "    .dataframe tbody tr th:only-of-type {\n",
              "        vertical-align: middle;\n",
              "    }\n",
              "\n",
              "    .dataframe tbody tr th {\n",
              "        vertical-align: top;\n",
              "    }\n",
              "\n",
              "    .dataframe thead th {\n",
              "        text-align: right;\n",
              "    }\n",
              "</style>\n",
              "<table border=\"1\" class=\"dataframe\">\n",
              "  <thead>\n",
              "    <tr style=\"text-align: right;\">\n",
              "      <th></th>\n",
              "      <th>Id</th>\n",
              "      <th>Idade</th>\n",
              "      <th>Renda</th>\n",
              "      <th>Sexo</th>\n",
              "      <th>Escolaridade</th>\n",
              "      <th>renda média</th>\n",
              "      <th>ativo</th>\n",
              "      <th>renda total</th>\n",
              "    </tr>\n",
              "  </thead>\n",
              "  <tbody>\n",
              "    <tr>\n",
              "      <th>4</th>\n",
              "      <td>23166</td>\n",
              "      <td>36</td>\n",
              "      <td>1500</td>\n",
              "      <td>Masculino</td>\n",
              "      <td>Ensino Médio</td>\n",
              "      <td>1855.540</td>\n",
              "      <td>2211.08</td>\n",
              "      <td>3711.08</td>\n",
              "    </tr>\n",
              "    <tr>\n",
              "      <th>5</th>\n",
              "      <td>8075</td>\n",
              "      <td>39</td>\n",
              "      <td>1500</td>\n",
              "      <td>Masculino</td>\n",
              "      <td>Ensino Superior</td>\n",
              "      <td>2251.035</td>\n",
              "      <td>3002.07</td>\n",
              "      <td>4502.07</td>\n",
              "    </tr>\n",
              "    <tr>\n",
              "      <th>6</th>\n",
              "      <td>20625</td>\n",
              "      <td>32</td>\n",
              "      <td>1500</td>\n",
              "      <td>Masculino</td>\n",
              "      <td>Ensino Superior</td>\n",
              "      <td>2249.555</td>\n",
              "      <td>2999.11</td>\n",
              "      <td>4499.11</td>\n",
              "    </tr>\n",
              "    <tr>\n",
              "      <th>7</th>\n",
              "      <td>34019</td>\n",
              "      <td>18</td>\n",
              "      <td>1501</td>\n",
              "      <td>Feminino</td>\n",
              "      <td>Ensino Fundamental</td>\n",
              "      <td>1373.140</td>\n",
              "      <td>1245.28</td>\n",
              "      <td>2746.28</td>\n",
              "    </tr>\n",
              "    <tr>\n",
              "      <th>8</th>\n",
              "      <td>2903</td>\n",
              "      <td>18</td>\n",
              "      <td>1501</td>\n",
              "      <td>Masculino</td>\n",
              "      <td>Ensino Médio</td>\n",
              "      <td>2759.330</td>\n",
              "      <td>4017.66</td>\n",
              "      <td>5518.66</td>\n",
              "    </tr>\n",
              "    <tr>\n",
              "      <th>...</th>\n",
              "      <td>...</td>\n",
              "      <td>...</td>\n",
              "      <td>...</td>\n",
              "      <td>...</td>\n",
              "      <td>...</td>\n",
              "      <td>...</td>\n",
              "      <td>...</td>\n",
              "      <td>...</td>\n",
              "    </tr>\n",
              "    <tr>\n",
              "      <th>49995</th>\n",
              "      <td>41289</td>\n",
              "      <td>61</td>\n",
              "      <td>9999</td>\n",
              "      <td>Masculino</td>\n",
              "      <td>Ensino Fundamental</td>\n",
              "      <td>5680.580</td>\n",
              "      <td>1362.16</td>\n",
              "      <td>11361.16</td>\n",
              "    </tr>\n",
              "    <tr>\n",
              "      <th>49996</th>\n",
              "      <td>8382</td>\n",
              "      <td>68</td>\n",
              "      <td>9999</td>\n",
              "      <td>Feminino</td>\n",
              "      <td>Ensino Médio</td>\n",
              "      <td>6675.700</td>\n",
              "      <td>3352.40</td>\n",
              "      <td>13351.40</td>\n",
              "    </tr>\n",
              "    <tr>\n",
              "      <th>49997</th>\n",
              "      <td>1482</td>\n",
              "      <td>68</td>\n",
              "      <td>9999</td>\n",
              "      <td>Masculino</td>\n",
              "      <td>Ensino Médio</td>\n",
              "      <td>6622.955</td>\n",
              "      <td>3246.91</td>\n",
              "      <td>13245.91</td>\n",
              "    </tr>\n",
              "    <tr>\n",
              "      <th>49998</th>\n",
              "      <td>21094</td>\n",
              "      <td>65</td>\n",
              "      <td>9999</td>\n",
              "      <td>Masculino</td>\n",
              "      <td>Ensino Superior</td>\n",
              "      <td>6646.110</td>\n",
              "      <td>3293.22</td>\n",
              "      <td>13292.22</td>\n",
              "    </tr>\n",
              "    <tr>\n",
              "      <th>49999</th>\n",
              "      <td>38188</td>\n",
              "      <td>23</td>\n",
              "      <td>9999</td>\n",
              "      <td>Masculino</td>\n",
              "      <td>Ensino Superior</td>\n",
              "      <td>6517.720</td>\n",
              "      <td>3036.44</td>\n",
              "      <td>13035.44</td>\n",
              "    </tr>\n",
              "  </tbody>\n",
              "</table>\n",
              "<p>49996 rows × 8 columns</p>\n",
              "</div>"
            ],
            "text/plain": [
              "          Id  Idade  Renda       Sexo        Escolaridade  renda média  \\\n",
              "4      23166     36   1500  Masculino        Ensino Médio     1855.540   \n",
              "5       8075     39   1500  Masculino     Ensino Superior     2251.035   \n",
              "6      20625     32   1500  Masculino     Ensino Superior     2249.555   \n",
              "7      34019     18   1501   Feminino  Ensino Fundamental     1373.140   \n",
              "8       2903     18   1501  Masculino        Ensino Médio     2759.330   \n",
              "...      ...    ...    ...        ...                 ...          ...   \n",
              "49995  41289     61   9999  Masculino  Ensino Fundamental     5680.580   \n",
              "49996   8382     68   9999   Feminino        Ensino Médio     6675.700   \n",
              "49997   1482     68   9999  Masculino        Ensino Médio     6622.955   \n",
              "49998  21094     65   9999  Masculino     Ensino Superior     6646.110   \n",
              "49999  38188     23   9999  Masculino     Ensino Superior     6517.720   \n",
              "\n",
              "         ativo  renda total  \n",
              "4      2211.08      3711.08  \n",
              "5      3002.07      4502.07  \n",
              "6      2999.11      4499.11  \n",
              "7      1245.28      2746.28  \n",
              "8      4017.66      5518.66  \n",
              "...        ...          ...  \n",
              "49995  1362.16     11361.16  \n",
              "49996  3352.40     13351.40  \n",
              "49997  3246.91     13245.91  \n",
              "49998  3293.22     13292.22  \n",
              "49999  3036.44     13035.44  \n",
              "\n",
              "[49996 rows x 8 columns]"
            ]
          },
          "execution_count": 175,
          "metadata": {},
          "output_type": "execute_result"
        }
      ],
      "source": [
        "# remove as linhas no range [0,,3]\n",
        "df.drop([0, 1, 2, 3])"
      ]
    },
    {
      "cell_type": "code",
      "execution_count": null,
      "metadata": {
        "id": "Cbte29kSOpmK",
        "outputId": "b89c276b-2d3f-449f-84cc-60a6cf388311"
      },
      "outputs": [
        {
          "data": {
            "text/html": [
              "<div>\n",
              "<style scoped>\n",
              "    .dataframe tbody tr th:only-of-type {\n",
              "        vertical-align: middle;\n",
              "    }\n",
              "\n",
              "    .dataframe tbody tr th {\n",
              "        vertical-align: top;\n",
              "    }\n",
              "\n",
              "    .dataframe thead th {\n",
              "        text-align: right;\n",
              "    }\n",
              "</style>\n",
              "<table border=\"1\" class=\"dataframe\">\n",
              "  <thead>\n",
              "    <tr style=\"text-align: right;\">\n",
              "      <th></th>\n",
              "      <th>Sexo</th>\n",
              "      <th>Escolaridade</th>\n",
              "      <th>renda média</th>\n",
              "      <th>ativo</th>\n",
              "      <th>renda total</th>\n",
              "    </tr>\n",
              "  </thead>\n",
              "  <tbody>\n",
              "    <tr>\n",
              "      <th>0</th>\n",
              "      <td>Feminino</td>\n",
              "      <td>Ensino Fundamental</td>\n",
              "      <td>3095.265</td>\n",
              "      <td>4690.53</td>\n",
              "      <td>6190.53</td>\n",
              "    </tr>\n",
              "    <tr>\n",
              "      <th>1</th>\n",
              "      <td>Masculino</td>\n",
              "      <td>Ensino Fundamental</td>\n",
              "      <td>2017.030</td>\n",
              "      <td>2534.06</td>\n",
              "      <td>4034.06</td>\n",
              "    </tr>\n",
              "    <tr>\n",
              "      <th>2</th>\n",
              "      <td>Feminino</td>\n",
              "      <td>Ensino Médio</td>\n",
              "      <td>2266.410</td>\n",
              "      <td>3032.82</td>\n",
              "      <td>4532.82</td>\n",
              "    </tr>\n",
              "    <tr>\n",
              "      <th>3</th>\n",
              "      <td>Feminino</td>\n",
              "      <td>Ensino Médio</td>\n",
              "      <td>2453.760</td>\n",
              "      <td>3407.52</td>\n",
              "      <td>4907.52</td>\n",
              "    </tr>\n",
              "    <tr>\n",
              "      <th>4</th>\n",
              "      <td>Masculino</td>\n",
              "      <td>Ensino Médio</td>\n",
              "      <td>1855.540</td>\n",
              "      <td>2211.08</td>\n",
              "      <td>3711.08</td>\n",
              "    </tr>\n",
              "    <tr>\n",
              "      <th>...</th>\n",
              "      <td>...</td>\n",
              "      <td>...</td>\n",
              "      <td>...</td>\n",
              "      <td>...</td>\n",
              "      <td>...</td>\n",
              "    </tr>\n",
              "    <tr>\n",
              "      <th>49995</th>\n",
              "      <td>Masculino</td>\n",
              "      <td>Ensino Fundamental</td>\n",
              "      <td>5680.580</td>\n",
              "      <td>1362.16</td>\n",
              "      <td>11361.16</td>\n",
              "    </tr>\n",
              "    <tr>\n",
              "      <th>49996</th>\n",
              "      <td>Feminino</td>\n",
              "      <td>Ensino Médio</td>\n",
              "      <td>6675.700</td>\n",
              "      <td>3352.40</td>\n",
              "      <td>13351.40</td>\n",
              "    </tr>\n",
              "    <tr>\n",
              "      <th>49997</th>\n",
              "      <td>Masculino</td>\n",
              "      <td>Ensino Médio</td>\n",
              "      <td>6622.955</td>\n",
              "      <td>3246.91</td>\n",
              "      <td>13245.91</td>\n",
              "    </tr>\n",
              "    <tr>\n",
              "      <th>49998</th>\n",
              "      <td>Masculino</td>\n",
              "      <td>Ensino Superior</td>\n",
              "      <td>6646.110</td>\n",
              "      <td>3293.22</td>\n",
              "      <td>13292.22</td>\n",
              "    </tr>\n",
              "    <tr>\n",
              "      <th>49999</th>\n",
              "      <td>Masculino</td>\n",
              "      <td>Ensino Superior</td>\n",
              "      <td>6517.720</td>\n",
              "      <td>3036.44</td>\n",
              "      <td>13035.44</td>\n",
              "    </tr>\n",
              "  </tbody>\n",
              "</table>\n",
              "<p>50000 rows × 5 columns</p>\n",
              "</div>"
            ],
            "text/plain": [
              "            Sexo        Escolaridade  renda média    ativo  renda total\n",
              "0       Feminino  Ensino Fundamental     3095.265  4690.53      6190.53\n",
              "1      Masculino  Ensino Fundamental     2017.030  2534.06      4034.06\n",
              "2       Feminino        Ensino Médio     2266.410  3032.82      4532.82\n",
              "3       Feminino        Ensino Médio     2453.760  3407.52      4907.52\n",
              "4      Masculino        Ensino Médio     1855.540  2211.08      3711.08\n",
              "...          ...                 ...          ...      ...          ...\n",
              "49995  Masculino  Ensino Fundamental     5680.580  1362.16     11361.16\n",
              "49996   Feminino        Ensino Médio     6675.700  3352.40     13351.40\n",
              "49997  Masculino        Ensino Médio     6622.955  3246.91     13245.91\n",
              "49998  Masculino     Ensino Superior     6646.110  3293.22     13292.22\n",
              "49999  Masculino     Ensino Superior     6517.720  3036.44     13035.44\n",
              "\n",
              "[50000 rows x 5 columns]"
            ]
          },
          "execution_count": 176,
          "metadata": {},
          "output_type": "execute_result"
        }
      ],
      "source": [
        "#drop das colunas Id, Idade e Renda\n",
        "df.drop(columns = ['Id', 'Idade', 'Renda'])"
      ]
    },
    {
      "cell_type": "code",
      "execution_count": null,
      "metadata": {
        "id": "MaJjl-cXOpmK",
        "outputId": "ae4b9c80-5e1e-45cc-b587-879bfc2cbdc4"
      },
      "outputs": [
        {
          "data": {
            "text/plain": [
              "['Id', 'Idade', 'Renda']"
            ]
          },
          "execution_count": 177,
          "metadata": {},
          "output_type": "execute_result"
        }
      ],
      "source": [
        "df.columns.to_list()[:3]"
      ]
    },
    {
      "cell_type": "code",
      "execution_count": null,
      "metadata": {
        "id": "FZ0u2GJROpmL",
        "outputId": "d8282cb0-0f4f-421d-b217-2a449c2ec699"
      },
      "outputs": [
        {
          "data": {
            "text/html": [
              "<div>\n",
              "<style scoped>\n",
              "    .dataframe tbody tr th:only-of-type {\n",
              "        vertical-align: middle;\n",
              "    }\n",
              "\n",
              "    .dataframe tbody tr th {\n",
              "        vertical-align: top;\n",
              "    }\n",
              "\n",
              "    .dataframe thead th {\n",
              "        text-align: right;\n",
              "    }\n",
              "</style>\n",
              "<table border=\"1\" class=\"dataframe\">\n",
              "  <thead>\n",
              "    <tr style=\"text-align: right;\">\n",
              "      <th></th>\n",
              "      <th>Sexo</th>\n",
              "      <th>Escolaridade</th>\n",
              "      <th>renda média</th>\n",
              "      <th>ativo</th>\n",
              "      <th>renda total</th>\n",
              "    </tr>\n",
              "  </thead>\n",
              "  <tbody>\n",
              "    <tr>\n",
              "      <th>0</th>\n",
              "      <td>Feminino</td>\n",
              "      <td>Ensino Fundamental</td>\n",
              "      <td>3095.265</td>\n",
              "      <td>4690.53</td>\n",
              "      <td>6190.53</td>\n",
              "    </tr>\n",
              "    <tr>\n",
              "      <th>1</th>\n",
              "      <td>Masculino</td>\n",
              "      <td>Ensino Fundamental</td>\n",
              "      <td>2017.030</td>\n",
              "      <td>2534.06</td>\n",
              "      <td>4034.06</td>\n",
              "    </tr>\n",
              "    <tr>\n",
              "      <th>2</th>\n",
              "      <td>Feminino</td>\n",
              "      <td>Ensino Médio</td>\n",
              "      <td>2266.410</td>\n",
              "      <td>3032.82</td>\n",
              "      <td>4532.82</td>\n",
              "    </tr>\n",
              "    <tr>\n",
              "      <th>3</th>\n",
              "      <td>Feminino</td>\n",
              "      <td>Ensino Médio</td>\n",
              "      <td>2453.760</td>\n",
              "      <td>3407.52</td>\n",
              "      <td>4907.52</td>\n",
              "    </tr>\n",
              "    <tr>\n",
              "      <th>4</th>\n",
              "      <td>Masculino</td>\n",
              "      <td>Ensino Médio</td>\n",
              "      <td>1855.540</td>\n",
              "      <td>2211.08</td>\n",
              "      <td>3711.08</td>\n",
              "    </tr>\n",
              "  </tbody>\n",
              "</table>\n",
              "</div>"
            ],
            "text/plain": [
              "        Sexo        Escolaridade  renda média    ativo  renda total\n",
              "0   Feminino  Ensino Fundamental     3095.265  4690.53      6190.53\n",
              "1  Masculino  Ensino Fundamental     2017.030  2534.06      4034.06\n",
              "2   Feminino        Ensino Médio     2266.410  3032.82      4532.82\n",
              "3   Feminino        Ensino Médio     2453.760  3407.52      4907.52\n",
              "4  Masculino        Ensino Médio     1855.540  2211.08      3711.08"
            ]
          },
          "execution_count": 178,
          "metadata": {},
          "output_type": "execute_result"
        }
      ],
      "source": [
        "# drop das colunas pela posição \n",
        "df.drop(df.columns.to_list()[:3], axis = 1).head()"
      ]
    },
    {
      "cell_type": "code",
      "execution_count": null,
      "metadata": {
        "id": "G8G-HTruOpmL",
        "outputId": "eff27ec6-d008-411b-bae7-423efc4f9196"
      },
      "outputs": [
        {
          "data": {
            "text/html": [
              "<div>\n",
              "<style scoped>\n",
              "    .dataframe tbody tr th:only-of-type {\n",
              "        vertical-align: middle;\n",
              "    }\n",
              "\n",
              "    .dataframe tbody tr th {\n",
              "        vertical-align: top;\n",
              "    }\n",
              "\n",
              "    .dataframe thead th {\n",
              "        text-align: right;\n",
              "    }\n",
              "</style>\n",
              "<table border=\"1\" class=\"dataframe\">\n",
              "  <thead>\n",
              "    <tr style=\"text-align: right;\">\n",
              "      <th></th>\n",
              "      <th>Sexo</th>\n",
              "      <th>Escolaridade</th>\n",
              "      <th>renda média</th>\n",
              "      <th>ativo</th>\n",
              "      <th>renda total</th>\n",
              "    </tr>\n",
              "  </thead>\n",
              "  <tbody>\n",
              "    <tr>\n",
              "      <th>0</th>\n",
              "      <td>Feminino</td>\n",
              "      <td>Ensino Fundamental</td>\n",
              "      <td>3095.265</td>\n",
              "      <td>4690.53</td>\n",
              "      <td>6190.53</td>\n",
              "    </tr>\n",
              "    <tr>\n",
              "      <th>1</th>\n",
              "      <td>Masculino</td>\n",
              "      <td>Ensino Fundamental</td>\n",
              "      <td>2017.030</td>\n",
              "      <td>2534.06</td>\n",
              "      <td>4034.06</td>\n",
              "    </tr>\n",
              "    <tr>\n",
              "      <th>2</th>\n",
              "      <td>Feminino</td>\n",
              "      <td>Ensino Médio</td>\n",
              "      <td>2266.410</td>\n",
              "      <td>3032.82</td>\n",
              "      <td>4532.82</td>\n",
              "    </tr>\n",
              "    <tr>\n",
              "      <th>3</th>\n",
              "      <td>Feminino</td>\n",
              "      <td>Ensino Médio</td>\n",
              "      <td>2453.760</td>\n",
              "      <td>3407.52</td>\n",
              "      <td>4907.52</td>\n",
              "    </tr>\n",
              "    <tr>\n",
              "      <th>4</th>\n",
              "      <td>Masculino</td>\n",
              "      <td>Ensino Médio</td>\n",
              "      <td>1855.540</td>\n",
              "      <td>2211.08</td>\n",
              "      <td>3711.08</td>\n",
              "    </tr>\n",
              "    <tr>\n",
              "      <th>...</th>\n",
              "      <td>...</td>\n",
              "      <td>...</td>\n",
              "      <td>...</td>\n",
              "      <td>...</td>\n",
              "      <td>...</td>\n",
              "    </tr>\n",
              "    <tr>\n",
              "      <th>49995</th>\n",
              "      <td>Masculino</td>\n",
              "      <td>Ensino Fundamental</td>\n",
              "      <td>5680.580</td>\n",
              "      <td>1362.16</td>\n",
              "      <td>11361.16</td>\n",
              "    </tr>\n",
              "    <tr>\n",
              "      <th>49996</th>\n",
              "      <td>Feminino</td>\n",
              "      <td>Ensino Médio</td>\n",
              "      <td>6675.700</td>\n",
              "      <td>3352.40</td>\n",
              "      <td>13351.40</td>\n",
              "    </tr>\n",
              "    <tr>\n",
              "      <th>49997</th>\n",
              "      <td>Masculino</td>\n",
              "      <td>Ensino Médio</td>\n",
              "      <td>6622.955</td>\n",
              "      <td>3246.91</td>\n",
              "      <td>13245.91</td>\n",
              "    </tr>\n",
              "    <tr>\n",
              "      <th>49998</th>\n",
              "      <td>Masculino</td>\n",
              "      <td>Ensino Superior</td>\n",
              "      <td>6646.110</td>\n",
              "      <td>3293.22</td>\n",
              "      <td>13292.22</td>\n",
              "    </tr>\n",
              "    <tr>\n",
              "      <th>49999</th>\n",
              "      <td>Masculino</td>\n",
              "      <td>Ensino Superior</td>\n",
              "      <td>6517.720</td>\n",
              "      <td>3036.44</td>\n",
              "      <td>13035.44</td>\n",
              "    </tr>\n",
              "  </tbody>\n",
              "</table>\n",
              "<p>50000 rows × 5 columns</p>\n",
              "</div>"
            ],
            "text/plain": [
              "            Sexo        Escolaridade  renda média    ativo  renda total\n",
              "0       Feminino  Ensino Fundamental     3095.265  4690.53      6190.53\n",
              "1      Masculino  Ensino Fundamental     2017.030  2534.06      4034.06\n",
              "2       Feminino        Ensino Médio     2266.410  3032.82      4532.82\n",
              "3       Feminino        Ensino Médio     2453.760  3407.52      4907.52\n",
              "4      Masculino        Ensino Médio     1855.540  2211.08      3711.08\n",
              "...          ...                 ...          ...      ...          ...\n",
              "49995  Masculino  Ensino Fundamental     5680.580  1362.16     11361.16\n",
              "49996   Feminino        Ensino Médio     6675.700  3352.40     13351.40\n",
              "49997  Masculino        Ensino Médio     6622.955  3246.91     13245.91\n",
              "49998  Masculino     Ensino Superior     6646.110  3293.22     13292.22\n",
              "49999  Masculino     Ensino Superior     6517.720  3036.44     13035.44\n",
              "\n",
              "[50000 rows x 5 columns]"
            ]
          },
          "execution_count": 179,
          "metadata": {},
          "output_type": "execute_result"
        }
      ],
      "source": [
        "# drop das colunas via lista\n",
        "df.drop(['Id', 'Idade', 'Renda'], axis = 1)"
      ]
    },
    {
      "cell_type": "markdown",
      "metadata": {
        "id": "stghnQKFOpmL"
      },
      "source": [
        "### Funções úteis"
      ]
    },
    {
      "cell_type": "code",
      "execution_count": null,
      "metadata": {
        "id": "r_kp8JDwOpmL",
        "outputId": "8bbf0c19-e28d-452f-835c-1613da8623b0"
      },
      "outputs": [
        {
          "data": {
            "text/html": [
              "<div>\n",
              "<style scoped>\n",
              "    .dataframe tbody tr th:only-of-type {\n",
              "        vertical-align: middle;\n",
              "    }\n",
              "\n",
              "    .dataframe tbody tr th {\n",
              "        vertical-align: top;\n",
              "    }\n",
              "\n",
              "    .dataframe thead th {\n",
              "        text-align: right;\n",
              "    }\n",
              "</style>\n",
              "<table border=\"1\" class=\"dataframe\">\n",
              "  <thead>\n",
              "    <tr style=\"text-align: right;\">\n",
              "      <th></th>\n",
              "      <th>Id</th>\n",
              "      <th>Idade</th>\n",
              "      <th>Renda</th>\n",
              "      <th>Sexo</th>\n",
              "      <th>Escolaridade</th>\n",
              "      <th>renda média</th>\n",
              "      <th>ativo</th>\n",
              "      <th>renda total</th>\n",
              "    </tr>\n",
              "  </thead>\n",
              "  <tbody>\n",
              "    <tr>\n",
              "      <th>0</th>\n",
              "      <td>30445</td>\n",
              "      <td>32</td>\n",
              "      <td>1500</td>\n",
              "      <td>Feminino</td>\n",
              "      <td>Ensino Fundamental</td>\n",
              "      <td>3095.265</td>\n",
              "      <td>4690.53</td>\n",
              "      <td>6190.53</td>\n",
              "    </tr>\n",
              "    <tr>\n",
              "      <th>1</th>\n",
              "      <td>20936</td>\n",
              "      <td>38</td>\n",
              "      <td>1500</td>\n",
              "      <td>Masculino</td>\n",
              "      <td>Ensino Fundamental</td>\n",
              "      <td>2017.030</td>\n",
              "      <td>2534.06</td>\n",
              "      <td>4034.06</td>\n",
              "    </tr>\n",
              "    <tr>\n",
              "      <th>2</th>\n",
              "      <td>33317</td>\n",
              "      <td>46</td>\n",
              "      <td>1500</td>\n",
              "      <td>Feminino</td>\n",
              "      <td>Ensino Médio</td>\n",
              "      <td>2266.410</td>\n",
              "      <td>3032.82</td>\n",
              "      <td>4532.82</td>\n",
              "    </tr>\n",
              "    <tr>\n",
              "      <th>3</th>\n",
              "      <td>36065</td>\n",
              "      <td>22</td>\n",
              "      <td>1500</td>\n",
              "      <td>Feminino</td>\n",
              "      <td>Ensino Médio</td>\n",
              "      <td>2453.760</td>\n",
              "      <td>3407.52</td>\n",
              "      <td>4907.52</td>\n",
              "    </tr>\n",
              "    <tr>\n",
              "      <th>4</th>\n",
              "      <td>23166</td>\n",
              "      <td>36</td>\n",
              "      <td>1500</td>\n",
              "      <td>Masculino</td>\n",
              "      <td>Ensino Médio</td>\n",
              "      <td>1855.540</td>\n",
              "      <td>2211.08</td>\n",
              "      <td>3711.08</td>\n",
              "    </tr>\n",
              "  </tbody>\n",
              "</table>\n",
              "</div>"
            ],
            "text/plain": [
              "      Id  Idade  Renda       Sexo        Escolaridade  renda média    ativo  \\\n",
              "0  30445     32   1500   Feminino  Ensino Fundamental     3095.265  4690.53   \n",
              "1  20936     38   1500  Masculino  Ensino Fundamental     2017.030  2534.06   \n",
              "2  33317     46   1500   Feminino        Ensino Médio     2266.410  3032.82   \n",
              "3  36065     22   1500   Feminino        Ensino Médio     2453.760  3407.52   \n",
              "4  23166     36   1500  Masculino        Ensino Médio     1855.540  2211.08   \n",
              "\n",
              "   renda total  \n",
              "0      6190.53  \n",
              "1      4034.06  \n",
              "2      4532.82  \n",
              "3      4907.52  \n",
              "4      3711.08  "
            ]
          },
          "execution_count": 180,
          "metadata": {},
          "output_type": "execute_result"
        }
      ],
      "source": [
        "df.head()"
      ]
    },
    {
      "cell_type": "markdown",
      "metadata": {
        "id": "k0NVZ_T_OpmL"
      },
      "source": [
        "sample(): amostra aleatória"
      ]
    },
    {
      "cell_type": "code",
      "execution_count": null,
      "metadata": {
        "id": "x2lzQpktOpmL",
        "outputId": "d9062e43-6010-4bcd-a431-168c8cf874e0"
      },
      "outputs": [
        {
          "data": {
            "text/html": [
              "<div>\n",
              "<style scoped>\n",
              "    .dataframe tbody tr th:only-of-type {\n",
              "        vertical-align: middle;\n",
              "    }\n",
              "\n",
              "    .dataframe tbody tr th {\n",
              "        vertical-align: top;\n",
              "    }\n",
              "\n",
              "    .dataframe thead th {\n",
              "        text-align: right;\n",
              "    }\n",
              "</style>\n",
              "<table border=\"1\" class=\"dataframe\">\n",
              "  <thead>\n",
              "    <tr style=\"text-align: right;\">\n",
              "      <th></th>\n",
              "      <th>Id</th>\n",
              "      <th>Idade</th>\n",
              "      <th>Renda</th>\n",
              "      <th>Sexo</th>\n",
              "      <th>Escolaridade</th>\n",
              "      <th>renda média</th>\n",
              "      <th>ativo</th>\n",
              "      <th>renda total</th>\n",
              "    </tr>\n",
              "  </thead>\n",
              "  <tbody>\n",
              "    <tr>\n",
              "      <th>1661</th>\n",
              "      <td>9152</td>\n",
              "      <td>60</td>\n",
              "      <td>1789</td>\n",
              "      <td>Masculino</td>\n",
              "      <td>Ensino Fundamental</td>\n",
              "      <td>2405.365</td>\n",
              "      <td>3021.73</td>\n",
              "      <td>4810.73</td>\n",
              "    </tr>\n",
              "    <tr>\n",
              "      <th>4590</th>\n",
              "      <td>13176</td>\n",
              "      <td>55</td>\n",
              "      <td>2283</td>\n",
              "      <td>Feminino</td>\n",
              "      <td>Ensino Médio</td>\n",
              "      <td>2017.930</td>\n",
              "      <td>1752.86</td>\n",
              "      <td>4035.86</td>\n",
              "    </tr>\n",
              "    <tr>\n",
              "      <th>38755</th>\n",
              "      <td>33056</td>\n",
              "      <td>43</td>\n",
              "      <td>8067</td>\n",
              "      <td>Masculino</td>\n",
              "      <td>Ensino Médio</td>\n",
              "      <td>5498.855</td>\n",
              "      <td>2930.71</td>\n",
              "      <td>10997.71</td>\n",
              "    </tr>\n",
              "    <tr>\n",
              "      <th>31026</th>\n",
              "      <td>16275</td>\n",
              "      <td>42</td>\n",
              "      <td>6766</td>\n",
              "      <td>Masculino</td>\n",
              "      <td>Ensino Fundamental</td>\n",
              "      <td>4537.330</td>\n",
              "      <td>2308.66</td>\n",
              "      <td>9074.66</td>\n",
              "    </tr>\n",
              "    <tr>\n",
              "      <th>1641</th>\n",
              "      <td>7290</td>\n",
              "      <td>53</td>\n",
              "      <td>1784</td>\n",
              "      <td>Masculino</td>\n",
              "      <td>Ensino Superior</td>\n",
              "      <td>2868.240</td>\n",
              "      <td>3952.48</td>\n",
              "      <td>5736.48</td>\n",
              "    </tr>\n",
              "  </tbody>\n",
              "</table>\n",
              "</div>"
            ],
            "text/plain": [
              "          Id  Idade  Renda       Sexo        Escolaridade  renda média  \\\n",
              "1661    9152     60   1789  Masculino  Ensino Fundamental     2405.365   \n",
              "4590   13176     55   2283   Feminino        Ensino Médio     2017.930   \n",
              "38755  33056     43   8067  Masculino        Ensino Médio     5498.855   \n",
              "31026  16275     42   6766  Masculino  Ensino Fundamental     4537.330   \n",
              "1641    7290     53   1784  Masculino     Ensino Superior     2868.240   \n",
              "\n",
              "         ativo  renda total  \n",
              "1661   3021.73      4810.73  \n",
              "4590   1752.86      4035.86  \n",
              "38755  2930.71     10997.71  \n",
              "31026  2308.66      9074.66  \n",
              "1641   3952.48      5736.48  "
            ]
          },
          "execution_count": 181,
          "metadata": {},
          "output_type": "execute_result"
        }
      ],
      "source": [
        "# amostra aleatória\n",
        "df.sample(5)"
      ]
    },
    {
      "cell_type": "markdown",
      "metadata": {
        "id": "VNpfs7CFOpmL"
      },
      "source": [
        "transpose(): tranposição dos dados"
      ]
    },
    {
      "cell_type": "code",
      "execution_count": null,
      "metadata": {
        "id": "kOpo0mEdOpmL",
        "outputId": "98343d09-64a0-4ce5-cbc6-280d78d10446"
      },
      "outputs": [
        {
          "data": {
            "text/html": [
              "<div>\n",
              "<style scoped>\n",
              "    .dataframe tbody tr th:only-of-type {\n",
              "        vertical-align: middle;\n",
              "    }\n",
              "\n",
              "    .dataframe tbody tr th {\n",
              "        vertical-align: top;\n",
              "    }\n",
              "\n",
              "    .dataframe thead th {\n",
              "        text-align: right;\n",
              "    }\n",
              "</style>\n",
              "<table border=\"1\" class=\"dataframe\">\n",
              "  <thead>\n",
              "    <tr style=\"text-align: right;\">\n",
              "      <th></th>\n",
              "      <th>9924</th>\n",
              "      <th>45050</th>\n",
              "      <th>13658</th>\n",
              "      <th>33288</th>\n",
              "      <th>29541</th>\n",
              "    </tr>\n",
              "  </thead>\n",
              "  <tbody>\n",
              "    <tr>\n",
              "      <th>Id</th>\n",
              "      <td>14484</td>\n",
              "      <td>33645</td>\n",
              "      <td>49767</td>\n",
              "      <td>44734</td>\n",
              "      <td>7076</td>\n",
              "    </tr>\n",
              "    <tr>\n",
              "      <th>Idade</th>\n",
              "      <td>29</td>\n",
              "      <td>38</td>\n",
              "      <td>39</td>\n",
              "      <td>32</td>\n",
              "      <td>53</td>\n",
              "    </tr>\n",
              "    <tr>\n",
              "      <th>Renda</th>\n",
              "      <td>3201</td>\n",
              "      <td>9153</td>\n",
              "      <td>3824</td>\n",
              "      <td>7140</td>\n",
              "      <td>6512</td>\n",
              "    </tr>\n",
              "    <tr>\n",
              "      <th>Sexo</th>\n",
              "      <td>Masculino</td>\n",
              "      <td>Masculino</td>\n",
              "      <td>Feminino</td>\n",
              "      <td>Masculino</td>\n",
              "      <td>Feminino</td>\n",
              "    </tr>\n",
              "    <tr>\n",
              "      <th>Escolaridade</th>\n",
              "      <td>Ensino Fundamental</td>\n",
              "      <td>Ensino Médio</td>\n",
              "      <td>Ensino Superior</td>\n",
              "      <td>Ensino Fundamental</td>\n",
              "      <td>Ensino Médio</td>\n",
              "    </tr>\n",
              "    <tr>\n",
              "      <th>renda média</th>\n",
              "      <td>3577.12</td>\n",
              "      <td>6642.38</td>\n",
              "      <td>3693.78</td>\n",
              "      <td>5224.85</td>\n",
              "      <td>5510.39</td>\n",
              "    </tr>\n",
              "    <tr>\n",
              "      <th>ativo</th>\n",
              "      <td>3953.24</td>\n",
              "      <td>4131.75</td>\n",
              "      <td>3563.55</td>\n",
              "      <td>3309.69</td>\n",
              "      <td>4508.78</td>\n",
              "    </tr>\n",
              "    <tr>\n",
              "      <th>renda total</th>\n",
              "      <td>7154.24</td>\n",
              "      <td>13284.8</td>\n",
              "      <td>7387.55</td>\n",
              "      <td>10449.7</td>\n",
              "      <td>11020.8</td>\n",
              "    </tr>\n",
              "  </tbody>\n",
              "</table>\n",
              "</div>"
            ],
            "text/plain": [
              "                           9924          45050            13658  \\\n",
              "Id                         14484         33645            49767   \n",
              "Idade                         29            38               39   \n",
              "Renda                       3201          9153             3824   \n",
              "Sexo                   Masculino     Masculino         Feminino   \n",
              "Escolaridade  Ensino Fundamental  Ensino Médio  Ensino Superior   \n",
              "renda média              3577.12       6642.38          3693.78   \n",
              "ativo                    3953.24       4131.75          3563.55   \n",
              "renda total              7154.24       13284.8          7387.55   \n",
              "\n",
              "                           33288         29541  \n",
              "Id                         44734          7076  \n",
              "Idade                         32            53  \n",
              "Renda                       7140          6512  \n",
              "Sexo                   Masculino      Feminino  \n",
              "Escolaridade  Ensino Fundamental  Ensino Médio  \n",
              "renda média              5224.85       5510.39  \n",
              "ativo                    3309.69       4508.78  \n",
              "renda total              10449.7       11020.8  "
            ]
          },
          "execution_count": 182,
          "metadata": {},
          "output_type": "execute_result"
        }
      ],
      "source": [
        "df.sample(5).T"
      ]
    },
    {
      "cell_type": "code",
      "execution_count": null,
      "metadata": {
        "id": "jMzLNbOaOpmM",
        "outputId": "fcb2045c-3010-477d-a6d5-0b26ea1ffacb"
      },
      "outputs": [
        {
          "data": {
            "text/html": [
              "<div>\n",
              "<style scoped>\n",
              "    .dataframe tbody tr th:only-of-type {\n",
              "        vertical-align: middle;\n",
              "    }\n",
              "\n",
              "    .dataframe tbody tr th {\n",
              "        vertical-align: top;\n",
              "    }\n",
              "\n",
              "    .dataframe thead th {\n",
              "        text-align: right;\n",
              "    }\n",
              "</style>\n",
              "<table border=\"1\" class=\"dataframe\">\n",
              "  <thead>\n",
              "    <tr style=\"text-align: right;\">\n",
              "      <th></th>\n",
              "      <th>31615</th>\n",
              "      <th>20183</th>\n",
              "      <th>8147</th>\n",
              "      <th>8934</th>\n",
              "      <th>40597</th>\n",
              "    </tr>\n",
              "  </thead>\n",
              "  <tbody>\n",
              "    <tr>\n",
              "      <th>Id</th>\n",
              "      <td>8307</td>\n",
              "      <td>19373</td>\n",
              "      <td>16622</td>\n",
              "      <td>20414</td>\n",
              "      <td>26103</td>\n",
              "    </tr>\n",
              "    <tr>\n",
              "      <th>Idade</th>\n",
              "      <td>33</td>\n",
              "      <td>48</td>\n",
              "      <td>20</td>\n",
              "      <td>29</td>\n",
              "      <td>34</td>\n",
              "    </tr>\n",
              "    <tr>\n",
              "      <th>Renda</th>\n",
              "      <td>6858</td>\n",
              "      <td>4945</td>\n",
              "      <td>2889</td>\n",
              "      <td>3027</td>\n",
              "      <td>8381</td>\n",
              "    </tr>\n",
              "    <tr>\n",
              "      <th>Sexo</th>\n",
              "      <td>Masculino</td>\n",
              "      <td>Masculino</td>\n",
              "      <td>Feminino</td>\n",
              "      <td>Feminino</td>\n",
              "      <td>Feminino</td>\n",
              "    </tr>\n",
              "    <tr>\n",
              "      <th>Escolaridade</th>\n",
              "      <td>Ensino Superior</td>\n",
              "      <td>Ensino Superior</td>\n",
              "      <td>Ensino Fundamental</td>\n",
              "      <td>Ensino Médio</td>\n",
              "      <td>Ensino Fundamental</td>\n",
              "    </tr>\n",
              "    <tr>\n",
              "      <th>renda média</th>\n",
              "      <td>5123.44</td>\n",
              "      <td>5045.82</td>\n",
              "      <td>2686.93</td>\n",
              "      <td>3100.34</td>\n",
              "      <td>6003.99</td>\n",
              "    </tr>\n",
              "    <tr>\n",
              "      <th>ativo</th>\n",
              "      <td>3388.89</td>\n",
              "      <td>5146.65</td>\n",
              "      <td>2484.87</td>\n",
              "      <td>3173.68</td>\n",
              "      <td>3626.98</td>\n",
              "    </tr>\n",
              "    <tr>\n",
              "      <th>renda total</th>\n",
              "      <td>10246.9</td>\n",
              "      <td>10091.6</td>\n",
              "      <td>5373.87</td>\n",
              "      <td>6200.68</td>\n",
              "      <td>12008</td>\n",
              "    </tr>\n",
              "  </tbody>\n",
              "</table>\n",
              "</div>"
            ],
            "text/plain": [
              "                        31615            20183               8147   \\\n",
              "Id                       8307            19373               16622   \n",
              "Idade                      33               48                  20   \n",
              "Renda                    6858             4945                2889   \n",
              "Sexo                Masculino        Masculino            Feminino   \n",
              "Escolaridade  Ensino Superior  Ensino Superior  Ensino Fundamental   \n",
              "renda média           5123.44          5045.82             2686.93   \n",
              "ativo                 3388.89          5146.65             2484.87   \n",
              "renda total           10246.9          10091.6             5373.87   \n",
              "\n",
              "                     8934                40597  \n",
              "Id                   20414               26103  \n",
              "Idade                   29                  34  \n",
              "Renda                 3027                8381  \n",
              "Sexo              Feminino            Feminino  \n",
              "Escolaridade  Ensino Médio  Ensino Fundamental  \n",
              "renda média        3100.34             6003.99  \n",
              "ativo              3173.68             3626.98  \n",
              "renda total        6200.68               12008  "
            ]
          },
          "execution_count": 183,
          "metadata": {},
          "output_type": "execute_result"
        }
      ],
      "source": [
        "df.sample(5).transpose()"
      ]
    },
    {
      "cell_type": "markdown",
      "metadata": {
        "id": "6j4rklReOpmM"
      },
      "source": [
        "select_dtypes(): seleciona colunas a partir do dtype (return a subset of the DataFrame's columns based on the column dtypes)"
      ]
    },
    {
      "cell_type": "code",
      "execution_count": null,
      "metadata": {
        "id": "SaUk8nu-OpmM",
        "outputId": "a79829a5-45a9-43bc-f809-80c7c51afb13"
      },
      "outputs": [
        {
          "data": {
            "text/plain": [
              "Id                int64\n",
              "Idade             int64\n",
              "Renda             int64\n",
              "Sexo             object\n",
              "Escolaridade     object\n",
              "renda média     float64\n",
              "ativo           float64\n",
              "renda total     float64\n",
              "dtype: object"
            ]
          },
          "execution_count": 184,
          "metadata": {},
          "output_type": "execute_result"
        }
      ],
      "source": [
        "df.dtypes"
      ]
    },
    {
      "cell_type": "code",
      "execution_count": null,
      "metadata": {
        "id": "NEyL_Uy0OpmM",
        "outputId": "133d4da3-d7b7-4ba9-a660-494b1c15f2a9"
      },
      "outputs": [
        {
          "data": {
            "text/html": [
              "<div>\n",
              "<style scoped>\n",
              "    .dataframe tbody tr th:only-of-type {\n",
              "        vertical-align: middle;\n",
              "    }\n",
              "\n",
              "    .dataframe tbody tr th {\n",
              "        vertical-align: top;\n",
              "    }\n",
              "\n",
              "    .dataframe thead th {\n",
              "        text-align: right;\n",
              "    }\n",
              "</style>\n",
              "<table border=\"1\" class=\"dataframe\">\n",
              "  <thead>\n",
              "    <tr style=\"text-align: right;\">\n",
              "      <th></th>\n",
              "      <th>Sexo</th>\n",
              "      <th>Escolaridade</th>\n",
              "    </tr>\n",
              "  </thead>\n",
              "  <tbody>\n",
              "    <tr>\n",
              "      <th>0</th>\n",
              "      <td>Feminino</td>\n",
              "      <td>Ensino Fundamental</td>\n",
              "    </tr>\n",
              "    <tr>\n",
              "      <th>1</th>\n",
              "      <td>Masculino</td>\n",
              "      <td>Ensino Fundamental</td>\n",
              "    </tr>\n",
              "    <tr>\n",
              "      <th>2</th>\n",
              "      <td>Feminino</td>\n",
              "      <td>Ensino Médio</td>\n",
              "    </tr>\n",
              "    <tr>\n",
              "      <th>3</th>\n",
              "      <td>Feminino</td>\n",
              "      <td>Ensino Médio</td>\n",
              "    </tr>\n",
              "    <tr>\n",
              "      <th>4</th>\n",
              "      <td>Masculino</td>\n",
              "      <td>Ensino Médio</td>\n",
              "    </tr>\n",
              "    <tr>\n",
              "      <th>...</th>\n",
              "      <td>...</td>\n",
              "      <td>...</td>\n",
              "    </tr>\n",
              "    <tr>\n",
              "      <th>49995</th>\n",
              "      <td>Masculino</td>\n",
              "      <td>Ensino Fundamental</td>\n",
              "    </tr>\n",
              "    <tr>\n",
              "      <th>49996</th>\n",
              "      <td>Feminino</td>\n",
              "      <td>Ensino Médio</td>\n",
              "    </tr>\n",
              "    <tr>\n",
              "      <th>49997</th>\n",
              "      <td>Masculino</td>\n",
              "      <td>Ensino Médio</td>\n",
              "    </tr>\n",
              "    <tr>\n",
              "      <th>49998</th>\n",
              "      <td>Masculino</td>\n",
              "      <td>Ensino Superior</td>\n",
              "    </tr>\n",
              "    <tr>\n",
              "      <th>49999</th>\n",
              "      <td>Masculino</td>\n",
              "      <td>Ensino Superior</td>\n",
              "    </tr>\n",
              "  </tbody>\n",
              "</table>\n",
              "<p>50000 rows × 2 columns</p>\n",
              "</div>"
            ],
            "text/plain": [
              "            Sexo        Escolaridade\n",
              "0       Feminino  Ensino Fundamental\n",
              "1      Masculino  Ensino Fundamental\n",
              "2       Feminino        Ensino Médio\n",
              "3       Feminino        Ensino Médio\n",
              "4      Masculino        Ensino Médio\n",
              "...          ...                 ...\n",
              "49995  Masculino  Ensino Fundamental\n",
              "49996   Feminino        Ensino Médio\n",
              "49997  Masculino        Ensino Médio\n",
              "49998  Masculino     Ensino Superior\n",
              "49999  Masculino     Ensino Superior\n",
              "\n",
              "[50000 rows x 2 columns]"
            ]
          },
          "execution_count": 185,
          "metadata": {},
          "output_type": "execute_result"
        }
      ],
      "source": [
        "df.select_dtypes(object)"
      ]
    },
    {
      "cell_type": "code",
      "execution_count": null,
      "metadata": {
        "id": "TRfxXMLBOpmM",
        "outputId": "cd87baf0-d600-46af-b254-8205864c25f7"
      },
      "outputs": [
        {
          "data": {
            "text/html": [
              "<div>\n",
              "<style scoped>\n",
              "    .dataframe tbody tr th:only-of-type {\n",
              "        vertical-align: middle;\n",
              "    }\n",
              "\n",
              "    .dataframe tbody tr th {\n",
              "        vertical-align: top;\n",
              "    }\n",
              "\n",
              "    .dataframe thead th {\n",
              "        text-align: right;\n",
              "    }\n",
              "</style>\n",
              "<table border=\"1\" class=\"dataframe\">\n",
              "  <thead>\n",
              "    <tr style=\"text-align: right;\">\n",
              "      <th></th>\n",
              "      <th>Id</th>\n",
              "      <th>Idade</th>\n",
              "      <th>Renda</th>\n",
              "    </tr>\n",
              "  </thead>\n",
              "  <tbody>\n",
              "    <tr>\n",
              "      <th>0</th>\n",
              "      <td>30445</td>\n",
              "      <td>32</td>\n",
              "      <td>1500</td>\n",
              "    </tr>\n",
              "    <tr>\n",
              "      <th>1</th>\n",
              "      <td>20936</td>\n",
              "      <td>38</td>\n",
              "      <td>1500</td>\n",
              "    </tr>\n",
              "    <tr>\n",
              "      <th>2</th>\n",
              "      <td>33317</td>\n",
              "      <td>46</td>\n",
              "      <td>1500</td>\n",
              "    </tr>\n",
              "    <tr>\n",
              "      <th>3</th>\n",
              "      <td>36065</td>\n",
              "      <td>22</td>\n",
              "      <td>1500</td>\n",
              "    </tr>\n",
              "    <tr>\n",
              "      <th>4</th>\n",
              "      <td>23166</td>\n",
              "      <td>36</td>\n",
              "      <td>1500</td>\n",
              "    </tr>\n",
              "    <tr>\n",
              "      <th>...</th>\n",
              "      <td>...</td>\n",
              "      <td>...</td>\n",
              "      <td>...</td>\n",
              "    </tr>\n",
              "    <tr>\n",
              "      <th>49995</th>\n",
              "      <td>41289</td>\n",
              "      <td>61</td>\n",
              "      <td>9999</td>\n",
              "    </tr>\n",
              "    <tr>\n",
              "      <th>49996</th>\n",
              "      <td>8382</td>\n",
              "      <td>68</td>\n",
              "      <td>9999</td>\n",
              "    </tr>\n",
              "    <tr>\n",
              "      <th>49997</th>\n",
              "      <td>1482</td>\n",
              "      <td>68</td>\n",
              "      <td>9999</td>\n",
              "    </tr>\n",
              "    <tr>\n",
              "      <th>49998</th>\n",
              "      <td>21094</td>\n",
              "      <td>65</td>\n",
              "      <td>9999</td>\n",
              "    </tr>\n",
              "    <tr>\n",
              "      <th>49999</th>\n",
              "      <td>38188</td>\n",
              "      <td>23</td>\n",
              "      <td>9999</td>\n",
              "    </tr>\n",
              "  </tbody>\n",
              "</table>\n",
              "<p>50000 rows × 3 columns</p>\n",
              "</div>"
            ],
            "text/plain": [
              "          Id  Idade  Renda\n",
              "0      30445     32   1500\n",
              "1      20936     38   1500\n",
              "2      33317     46   1500\n",
              "3      36065     22   1500\n",
              "4      23166     36   1500\n",
              "...      ...    ...    ...\n",
              "49995  41289     61   9999\n",
              "49996   8382     68   9999\n",
              "49997   1482     68   9999\n",
              "49998  21094     65   9999\n",
              "49999  38188     23   9999\n",
              "\n",
              "[50000 rows x 3 columns]"
            ]
          },
          "execution_count": 186,
          "metadata": {},
          "output_type": "execute_result"
        }
      ],
      "source": [
        "df.select_dtypes(int)"
      ]
    },
    {
      "cell_type": "code",
      "execution_count": null,
      "metadata": {
        "id": "TZY8tz42OpmM",
        "outputId": "e4634d1b-0f09-4d89-f19e-1f512accc8df"
      },
      "outputs": [
        {
          "data": {
            "text/html": [
              "<div>\n",
              "<style scoped>\n",
              "    .dataframe tbody tr th:only-of-type {\n",
              "        vertical-align: middle;\n",
              "    }\n",
              "\n",
              "    .dataframe tbody tr th {\n",
              "        vertical-align: top;\n",
              "    }\n",
              "\n",
              "    .dataframe thead th {\n",
              "        text-align: right;\n",
              "    }\n",
              "</style>\n",
              "<table border=\"1\" class=\"dataframe\">\n",
              "  <thead>\n",
              "    <tr style=\"text-align: right;\">\n",
              "      <th></th>\n",
              "      <th>Id</th>\n",
              "      <th>Idade</th>\n",
              "      <th>Renda</th>\n",
              "      <th>Sexo</th>\n",
              "      <th>Escolaridade</th>\n",
              "    </tr>\n",
              "  </thead>\n",
              "  <tbody>\n",
              "    <tr>\n",
              "      <th>0</th>\n",
              "      <td>30445</td>\n",
              "      <td>32</td>\n",
              "      <td>1500</td>\n",
              "      <td>Feminino</td>\n",
              "      <td>Ensino Fundamental</td>\n",
              "    </tr>\n",
              "    <tr>\n",
              "      <th>1</th>\n",
              "      <td>20936</td>\n",
              "      <td>38</td>\n",
              "      <td>1500</td>\n",
              "      <td>Masculino</td>\n",
              "      <td>Ensino Fundamental</td>\n",
              "    </tr>\n",
              "    <tr>\n",
              "      <th>2</th>\n",
              "      <td>33317</td>\n",
              "      <td>46</td>\n",
              "      <td>1500</td>\n",
              "      <td>Feminino</td>\n",
              "      <td>Ensino Médio</td>\n",
              "    </tr>\n",
              "    <tr>\n",
              "      <th>3</th>\n",
              "      <td>36065</td>\n",
              "      <td>22</td>\n",
              "      <td>1500</td>\n",
              "      <td>Feminino</td>\n",
              "      <td>Ensino Médio</td>\n",
              "    </tr>\n",
              "    <tr>\n",
              "      <th>4</th>\n",
              "      <td>23166</td>\n",
              "      <td>36</td>\n",
              "      <td>1500</td>\n",
              "      <td>Masculino</td>\n",
              "      <td>Ensino Médio</td>\n",
              "    </tr>\n",
              "    <tr>\n",
              "      <th>...</th>\n",
              "      <td>...</td>\n",
              "      <td>...</td>\n",
              "      <td>...</td>\n",
              "      <td>...</td>\n",
              "      <td>...</td>\n",
              "    </tr>\n",
              "    <tr>\n",
              "      <th>49995</th>\n",
              "      <td>41289</td>\n",
              "      <td>61</td>\n",
              "      <td>9999</td>\n",
              "      <td>Masculino</td>\n",
              "      <td>Ensino Fundamental</td>\n",
              "    </tr>\n",
              "    <tr>\n",
              "      <th>49996</th>\n",
              "      <td>8382</td>\n",
              "      <td>68</td>\n",
              "      <td>9999</td>\n",
              "      <td>Feminino</td>\n",
              "      <td>Ensino Médio</td>\n",
              "    </tr>\n",
              "    <tr>\n",
              "      <th>49997</th>\n",
              "      <td>1482</td>\n",
              "      <td>68</td>\n",
              "      <td>9999</td>\n",
              "      <td>Masculino</td>\n",
              "      <td>Ensino Médio</td>\n",
              "    </tr>\n",
              "    <tr>\n",
              "      <th>49998</th>\n",
              "      <td>21094</td>\n",
              "      <td>65</td>\n",
              "      <td>9999</td>\n",
              "      <td>Masculino</td>\n",
              "      <td>Ensino Superior</td>\n",
              "    </tr>\n",
              "    <tr>\n",
              "      <th>49999</th>\n",
              "      <td>38188</td>\n",
              "      <td>23</td>\n",
              "      <td>9999</td>\n",
              "      <td>Masculino</td>\n",
              "      <td>Ensino Superior</td>\n",
              "    </tr>\n",
              "  </tbody>\n",
              "</table>\n",
              "<p>50000 rows × 5 columns</p>\n",
              "</div>"
            ],
            "text/plain": [
              "          Id  Idade  Renda       Sexo        Escolaridade\n",
              "0      30445     32   1500   Feminino  Ensino Fundamental\n",
              "1      20936     38   1500  Masculino  Ensino Fundamental\n",
              "2      33317     46   1500   Feminino        Ensino Médio\n",
              "3      36065     22   1500   Feminino        Ensino Médio\n",
              "4      23166     36   1500  Masculino        Ensino Médio\n",
              "...      ...    ...    ...        ...                 ...\n",
              "49995  41289     61   9999  Masculino  Ensino Fundamental\n",
              "49996   8382     68   9999   Feminino        Ensino Médio\n",
              "49997   1482     68   9999  Masculino        Ensino Médio\n",
              "49998  21094     65   9999  Masculino     Ensino Superior\n",
              "49999  38188     23   9999  Masculino     Ensino Superior\n",
              "\n",
              "[50000 rows x 5 columns]"
            ]
          },
          "execution_count": 187,
          "metadata": {},
          "output_type": "execute_result"
        }
      ],
      "source": [
        "df.select_dtypes(include = [int, object])"
      ]
    },
    {
      "cell_type": "code",
      "execution_count": null,
      "metadata": {
        "id": "hCdsAF_cOpmM",
        "outputId": "e99ee5de-5074-4408-e7b0-d4f9e48f3483"
      },
      "outputs": [
        {
          "data": {
            "text/html": [
              "<div>\n",
              "<style scoped>\n",
              "    .dataframe tbody tr th:only-of-type {\n",
              "        vertical-align: middle;\n",
              "    }\n",
              "\n",
              "    .dataframe tbody tr th {\n",
              "        vertical-align: top;\n",
              "    }\n",
              "\n",
              "    .dataframe thead th {\n",
              "        text-align: right;\n",
              "    }\n",
              "</style>\n",
              "<table border=\"1\" class=\"dataframe\">\n",
              "  <thead>\n",
              "    <tr style=\"text-align: right;\">\n",
              "      <th></th>\n",
              "      <th>Id</th>\n",
              "      <th>Idade</th>\n",
              "      <th>Renda</th>\n",
              "      <th>renda média</th>\n",
              "      <th>ativo</th>\n",
              "      <th>renda total</th>\n",
              "    </tr>\n",
              "  </thead>\n",
              "  <tbody>\n",
              "    <tr>\n",
              "      <th>0</th>\n",
              "      <td>30445</td>\n",
              "      <td>32</td>\n",
              "      <td>1500</td>\n",
              "      <td>3095.265</td>\n",
              "      <td>4690.53</td>\n",
              "      <td>6190.53</td>\n",
              "    </tr>\n",
              "    <tr>\n",
              "      <th>1</th>\n",
              "      <td>20936</td>\n",
              "      <td>38</td>\n",
              "      <td>1500</td>\n",
              "      <td>2017.030</td>\n",
              "      <td>2534.06</td>\n",
              "      <td>4034.06</td>\n",
              "    </tr>\n",
              "    <tr>\n",
              "      <th>2</th>\n",
              "      <td>33317</td>\n",
              "      <td>46</td>\n",
              "      <td>1500</td>\n",
              "      <td>2266.410</td>\n",
              "      <td>3032.82</td>\n",
              "      <td>4532.82</td>\n",
              "    </tr>\n",
              "    <tr>\n",
              "      <th>3</th>\n",
              "      <td>36065</td>\n",
              "      <td>22</td>\n",
              "      <td>1500</td>\n",
              "      <td>2453.760</td>\n",
              "      <td>3407.52</td>\n",
              "      <td>4907.52</td>\n",
              "    </tr>\n",
              "    <tr>\n",
              "      <th>4</th>\n",
              "      <td>23166</td>\n",
              "      <td>36</td>\n",
              "      <td>1500</td>\n",
              "      <td>1855.540</td>\n",
              "      <td>2211.08</td>\n",
              "      <td>3711.08</td>\n",
              "    </tr>\n",
              "    <tr>\n",
              "      <th>...</th>\n",
              "      <td>...</td>\n",
              "      <td>...</td>\n",
              "      <td>...</td>\n",
              "      <td>...</td>\n",
              "      <td>...</td>\n",
              "      <td>...</td>\n",
              "    </tr>\n",
              "    <tr>\n",
              "      <th>49995</th>\n",
              "      <td>41289</td>\n",
              "      <td>61</td>\n",
              "      <td>9999</td>\n",
              "      <td>5680.580</td>\n",
              "      <td>1362.16</td>\n",
              "      <td>11361.16</td>\n",
              "    </tr>\n",
              "    <tr>\n",
              "      <th>49996</th>\n",
              "      <td>8382</td>\n",
              "      <td>68</td>\n",
              "      <td>9999</td>\n",
              "      <td>6675.700</td>\n",
              "      <td>3352.40</td>\n",
              "      <td>13351.40</td>\n",
              "    </tr>\n",
              "    <tr>\n",
              "      <th>49997</th>\n",
              "      <td>1482</td>\n",
              "      <td>68</td>\n",
              "      <td>9999</td>\n",
              "      <td>6622.955</td>\n",
              "      <td>3246.91</td>\n",
              "      <td>13245.91</td>\n",
              "    </tr>\n",
              "    <tr>\n",
              "      <th>49998</th>\n",
              "      <td>21094</td>\n",
              "      <td>65</td>\n",
              "      <td>9999</td>\n",
              "      <td>6646.110</td>\n",
              "      <td>3293.22</td>\n",
              "      <td>13292.22</td>\n",
              "    </tr>\n",
              "    <tr>\n",
              "      <th>49999</th>\n",
              "      <td>38188</td>\n",
              "      <td>23</td>\n",
              "      <td>9999</td>\n",
              "      <td>6517.720</td>\n",
              "      <td>3036.44</td>\n",
              "      <td>13035.44</td>\n",
              "    </tr>\n",
              "  </tbody>\n",
              "</table>\n",
              "<p>50000 rows × 6 columns</p>\n",
              "</div>"
            ],
            "text/plain": [
              "          Id  Idade  Renda  renda média    ativo  renda total\n",
              "0      30445     32   1500     3095.265  4690.53      6190.53\n",
              "1      20936     38   1500     2017.030  2534.06      4034.06\n",
              "2      33317     46   1500     2266.410  3032.82      4532.82\n",
              "3      36065     22   1500     2453.760  3407.52      4907.52\n",
              "4      23166     36   1500     1855.540  2211.08      3711.08\n",
              "...      ...    ...    ...          ...      ...          ...\n",
              "49995  41289     61   9999     5680.580  1362.16     11361.16\n",
              "49996   8382     68   9999     6675.700  3352.40     13351.40\n",
              "49997   1482     68   9999     6622.955  3246.91     13245.91\n",
              "49998  21094     65   9999     6646.110  3293.22     13292.22\n",
              "49999  38188     23   9999     6517.720  3036.44     13035.44\n",
              "\n",
              "[50000 rows x 6 columns]"
            ]
          },
          "execution_count": 188,
          "metadata": {},
          "output_type": "execute_result"
        }
      ],
      "source": [
        "df.select_dtypes(exclude = [object])"
      ]
    },
    {
      "cell_type": "code",
      "execution_count": null,
      "metadata": {
        "id": "SUZ28tiDOpmM"
      },
      "outputs": [],
      "source": [
        "df_transformed = df.copy()"
      ]
    },
    {
      "cell_type": "markdown",
      "metadata": {
        "id": "MkkxrHUWOpmN"
      },
      "source": [
        "astype(): cast a pandas object to a specified dtype ``dtype``"
      ]
    },
    {
      "cell_type": "code",
      "execution_count": null,
      "metadata": {
        "id": "RDlkaTgjOpmN"
      },
      "outputs": [],
      "source": [
        "categorical_cols = df.select_dtypes(object).columns"
      ]
    },
    {
      "cell_type": "code",
      "execution_count": null,
      "metadata": {
        "id": "szRxgcraOpmN",
        "outputId": "8f09ec8f-967f-46ce-971f-b7f194384c58"
      },
      "outputs": [
        {
          "data": {
            "text/plain": [
              "0         Feminino\n",
              "1        Masculino\n",
              "2         Feminino\n",
              "3         Feminino\n",
              "4        Masculino\n",
              "           ...    \n",
              "49995    Masculino\n",
              "49996     Feminino\n",
              "49997    Masculino\n",
              "49998    Masculino\n",
              "49999    Masculino\n",
              "Name: Sexo, Length: 50000, dtype: category\n",
              "Categories (2, object): [Feminino, Masculino]"
            ]
          },
          "execution_count": 191,
          "metadata": {},
          "output_type": "execute_result"
        }
      ],
      "source": [
        "df_transformed.Sexo.astype('category')"
      ]
    },
    {
      "cell_type": "code",
      "execution_count": null,
      "metadata": {
        "id": "m8JSVAb-OpmN"
      },
      "outputs": [],
      "source": [
        "df_transformed.Renda = df_transformed.Renda.astype(float)"
      ]
    },
    {
      "cell_type": "code",
      "execution_count": null,
      "metadata": {
        "id": "Zkrz6zumOpmN"
      },
      "outputs": [],
      "source": [
        "# itera nas colunas do tipo object e converte para category\n",
        "for categorical_col in categorical_cols:\n",
        "    df_transformed[categorical_col] = df_transformed[categorical_col].astype('category')"
      ]
    },
    {
      "cell_type": "code",
      "execution_count": null,
      "metadata": {
        "id": "M4TmPbl-OpmN",
        "outputId": "7a486aff-01bf-47ee-b14a-1962b62a14b5"
      },
      "outputs": [
        {
          "data": {
            "text/plain": [
              "Id                 int64\n",
              "Idade              int64\n",
              "Renda            float64\n",
              "Sexo            category\n",
              "Escolaridade    category\n",
              "renda média      float64\n",
              "ativo            float64\n",
              "renda total      float64\n",
              "dtype: object"
            ]
          },
          "execution_count": 194,
          "metadata": {},
          "output_type": "execute_result"
        }
      ],
      "source": [
        "df_transformed.dtypes"
      ]
    },
    {
      "cell_type": "markdown",
      "metadata": {
        "id": "1g2FIyVmOpmN"
      },
      "source": [
        "add_prefix() e add_suffix()"
      ]
    },
    {
      "cell_type": "markdown",
      "metadata": {
        "id": "bz6mvPv4OpmN"
      },
      "source": [
        "add_prefix(): For Series, the row labels are prefixed. For DataFrame, the column labels are prefixed.\n",
        "\n"
      ]
    },
    {
      "cell_type": "code",
      "execution_count": null,
      "metadata": {
        "id": "FOOdv-RFOpmN",
        "outputId": "9c1e460e-e954-4211-b245-290cebd49118"
      },
      "outputs": [
        {
          "data": {
            "text/html": [
              "<div>\n",
              "<style scoped>\n",
              "    .dataframe tbody tr th:only-of-type {\n",
              "        vertical-align: middle;\n",
              "    }\n",
              "\n",
              "    .dataframe tbody tr th {\n",
              "        vertical-align: top;\n",
              "    }\n",
              "\n",
              "    .dataframe thead th {\n",
              "        text-align: right;\n",
              "    }\n",
              "</style>\n",
              "<table border=\"1\" class=\"dataframe\">\n",
              "  <thead>\n",
              "    <tr style=\"text-align: right;\">\n",
              "      <th></th>\n",
              "      <th>cols_Id</th>\n",
              "      <th>cols_Idade</th>\n",
              "      <th>cols_Renda</th>\n",
              "      <th>cols_Sexo</th>\n",
              "      <th>cols_Escolaridade</th>\n",
              "      <th>cols_renda média</th>\n",
              "      <th>cols_ativo</th>\n",
              "      <th>cols_renda total</th>\n",
              "    </tr>\n",
              "  </thead>\n",
              "  <tbody>\n",
              "    <tr>\n",
              "      <th>0</th>\n",
              "      <td>30445</td>\n",
              "      <td>32</td>\n",
              "      <td>1500</td>\n",
              "      <td>Feminino</td>\n",
              "      <td>Ensino Fundamental</td>\n",
              "      <td>3095.265</td>\n",
              "      <td>4690.53</td>\n",
              "      <td>6190.53</td>\n",
              "    </tr>\n",
              "    <tr>\n",
              "      <th>1</th>\n",
              "      <td>20936</td>\n",
              "      <td>38</td>\n",
              "      <td>1500</td>\n",
              "      <td>Masculino</td>\n",
              "      <td>Ensino Fundamental</td>\n",
              "      <td>2017.030</td>\n",
              "      <td>2534.06</td>\n",
              "      <td>4034.06</td>\n",
              "    </tr>\n",
              "    <tr>\n",
              "      <th>2</th>\n",
              "      <td>33317</td>\n",
              "      <td>46</td>\n",
              "      <td>1500</td>\n",
              "      <td>Feminino</td>\n",
              "      <td>Ensino Médio</td>\n",
              "      <td>2266.410</td>\n",
              "      <td>3032.82</td>\n",
              "      <td>4532.82</td>\n",
              "    </tr>\n",
              "    <tr>\n",
              "      <th>3</th>\n",
              "      <td>36065</td>\n",
              "      <td>22</td>\n",
              "      <td>1500</td>\n",
              "      <td>Feminino</td>\n",
              "      <td>Ensino Médio</td>\n",
              "      <td>2453.760</td>\n",
              "      <td>3407.52</td>\n",
              "      <td>4907.52</td>\n",
              "    </tr>\n",
              "    <tr>\n",
              "      <th>4</th>\n",
              "      <td>23166</td>\n",
              "      <td>36</td>\n",
              "      <td>1500</td>\n",
              "      <td>Masculino</td>\n",
              "      <td>Ensino Médio</td>\n",
              "      <td>1855.540</td>\n",
              "      <td>2211.08</td>\n",
              "      <td>3711.08</td>\n",
              "    </tr>\n",
              "  </tbody>\n",
              "</table>\n",
              "</div>"
            ],
            "text/plain": [
              "   cols_Id  cols_Idade  cols_Renda  cols_Sexo   cols_Escolaridade  \\\n",
              "0    30445          32        1500   Feminino  Ensino Fundamental   \n",
              "1    20936          38        1500  Masculino  Ensino Fundamental   \n",
              "2    33317          46        1500   Feminino        Ensino Médio   \n",
              "3    36065          22        1500   Feminino        Ensino Médio   \n",
              "4    23166          36        1500  Masculino        Ensino Médio   \n",
              "\n",
              "   cols_renda média  cols_ativo  cols_renda total  \n",
              "0          3095.265     4690.53           6190.53  \n",
              "1          2017.030     2534.06           4034.06  \n",
              "2          2266.410     3032.82           4532.82  \n",
              "3          2453.760     3407.52           4907.52  \n",
              "4          1855.540     2211.08           3711.08  "
            ]
          },
          "execution_count": 195,
          "metadata": {},
          "output_type": "execute_result"
        }
      ],
      "source": [
        "df.add_prefix('cols_').head()"
      ]
    },
    {
      "cell_type": "code",
      "execution_count": null,
      "metadata": {
        "id": "FTimdfWEOpmN",
        "outputId": "87167865-7e98-43af-bd70-55786d2a486e"
      },
      "outputs": [
        {
          "data": {
            "text/plain": [
              "wage_value_0        1500\n",
              "wage_value_1        1500\n",
              "wage_value_2        1500\n",
              "wage_value_3        1500\n",
              "wage_value_4        1500\n",
              "                    ... \n",
              "wage_value_49995    9999\n",
              "wage_value_49996    9999\n",
              "wage_value_49997    9999\n",
              "wage_value_49998    9999\n",
              "wage_value_49999    9999\n",
              "Name: Renda, Length: 50000, dtype: int64"
            ]
          },
          "execution_count": 196,
          "metadata": {},
          "output_type": "execute_result"
        }
      ],
      "source": [
        "df.Renda.add_prefix('wage_value_')"
      ]
    },
    {
      "cell_type": "markdown",
      "metadata": {
        "id": "C3Zw8Lx9OpmO"
      },
      "source": [
        "add_suffix(): For Series, the row labels are suffixed. For DataFrame, the column labels are suffixed.\n",
        "\n"
      ]
    },
    {
      "cell_type": "code",
      "execution_count": null,
      "metadata": {
        "id": "Me9XQw8pOpmO",
        "outputId": "a2a2cfe1-8f32-4759-be09-da40339cfe7b"
      },
      "outputs": [
        {
          "data": {
            "text/html": [
              "<div>\n",
              "<style scoped>\n",
              "    .dataframe tbody tr th:only-of-type {\n",
              "        vertical-align: middle;\n",
              "    }\n",
              "\n",
              "    .dataframe tbody tr th {\n",
              "        vertical-align: top;\n",
              "    }\n",
              "\n",
              "    .dataframe thead th {\n",
              "        text-align: right;\n",
              "    }\n",
              "</style>\n",
              "<table border=\"1\" class=\"dataframe\">\n",
              "  <thead>\n",
              "    <tr style=\"text-align: right;\">\n",
              "      <th></th>\n",
              "      <th>Id_cols</th>\n",
              "      <th>Idade_cols</th>\n",
              "      <th>Renda_cols</th>\n",
              "      <th>Sexo_cols</th>\n",
              "      <th>Escolaridade_cols</th>\n",
              "      <th>renda média_cols</th>\n",
              "      <th>ativo_cols</th>\n",
              "      <th>renda total_cols</th>\n",
              "    </tr>\n",
              "  </thead>\n",
              "  <tbody>\n",
              "    <tr>\n",
              "      <th>0</th>\n",
              "      <td>30445</td>\n",
              "      <td>32</td>\n",
              "      <td>1500</td>\n",
              "      <td>Feminino</td>\n",
              "      <td>Ensino Fundamental</td>\n",
              "      <td>3095.265</td>\n",
              "      <td>4690.53</td>\n",
              "      <td>6190.53</td>\n",
              "    </tr>\n",
              "    <tr>\n",
              "      <th>1</th>\n",
              "      <td>20936</td>\n",
              "      <td>38</td>\n",
              "      <td>1500</td>\n",
              "      <td>Masculino</td>\n",
              "      <td>Ensino Fundamental</td>\n",
              "      <td>2017.030</td>\n",
              "      <td>2534.06</td>\n",
              "      <td>4034.06</td>\n",
              "    </tr>\n",
              "    <tr>\n",
              "      <th>2</th>\n",
              "      <td>33317</td>\n",
              "      <td>46</td>\n",
              "      <td>1500</td>\n",
              "      <td>Feminino</td>\n",
              "      <td>Ensino Médio</td>\n",
              "      <td>2266.410</td>\n",
              "      <td>3032.82</td>\n",
              "      <td>4532.82</td>\n",
              "    </tr>\n",
              "    <tr>\n",
              "      <th>3</th>\n",
              "      <td>36065</td>\n",
              "      <td>22</td>\n",
              "      <td>1500</td>\n",
              "      <td>Feminino</td>\n",
              "      <td>Ensino Médio</td>\n",
              "      <td>2453.760</td>\n",
              "      <td>3407.52</td>\n",
              "      <td>4907.52</td>\n",
              "    </tr>\n",
              "    <tr>\n",
              "      <th>4</th>\n",
              "      <td>23166</td>\n",
              "      <td>36</td>\n",
              "      <td>1500</td>\n",
              "      <td>Masculino</td>\n",
              "      <td>Ensino Médio</td>\n",
              "      <td>1855.540</td>\n",
              "      <td>2211.08</td>\n",
              "      <td>3711.08</td>\n",
              "    </tr>\n",
              "  </tbody>\n",
              "</table>\n",
              "</div>"
            ],
            "text/plain": [
              "   Id_cols  Idade_cols  Renda_cols  Sexo_cols   Escolaridade_cols  \\\n",
              "0    30445          32        1500   Feminino  Ensino Fundamental   \n",
              "1    20936          38        1500  Masculino  Ensino Fundamental   \n",
              "2    33317          46        1500   Feminino        Ensino Médio   \n",
              "3    36065          22        1500   Feminino        Ensino Médio   \n",
              "4    23166          36        1500  Masculino        Ensino Médio   \n",
              "\n",
              "   renda média_cols  ativo_cols  renda total_cols  \n",
              "0          3095.265     4690.53           6190.53  \n",
              "1          2017.030     2534.06           4034.06  \n",
              "2          2266.410     3032.82           4532.82  \n",
              "3          2453.760     3407.52           4907.52  \n",
              "4          1855.540     2211.08           3711.08  "
            ]
          },
          "execution_count": 197,
          "metadata": {},
          "output_type": "execute_result"
        }
      ],
      "source": [
        "df.add_suffix('_cols').head()"
      ]
    },
    {
      "cell_type": "code",
      "execution_count": null,
      "metadata": {
        "id": "L5_4up0sOpmO",
        "outputId": "9f6599cf-6151-4ea9-e9e6-6878f23b2edb"
      },
      "outputs": [
        {
          "data": {
            "text/plain": [
              "0_wage        1500\n",
              "1_wage        1500\n",
              "2_wage        1500\n",
              "3_wage        1500\n",
              "4_wage        1500\n",
              "              ... \n",
              "49995_wage    9999\n",
              "49996_wage    9999\n",
              "49997_wage    9999\n",
              "49998_wage    9999\n",
              "49999_wage    9999\n",
              "Name: Renda, Length: 50000, dtype: int64"
            ]
          },
          "execution_count": 198,
          "metadata": {},
          "output_type": "execute_result"
        }
      ],
      "source": [
        "df.Renda.add_suffix('_wage')"
      ]
    },
    {
      "cell_type": "markdown",
      "metadata": {
        "id": "X_oE0RmuOpmO"
      },
      "source": [
        "isna() e notna()"
      ]
    },
    {
      "cell_type": "code",
      "execution_count": null,
      "metadata": {
        "id": "gRfOcL80OpmO",
        "outputId": "fc6758d3-9b18-47cc-e0ae-2ed5562c6c07"
      },
      "outputs": [
        {
          "data": {
            "text/plain": [
              "Id              0\n",
              "Idade           0\n",
              "Renda           0\n",
              "Sexo            0\n",
              "Escolaridade    0\n",
              "renda média     0\n",
              "ativo           0\n",
              "renda total     0\n",
              "dtype: int64"
            ]
          },
          "execution_count": 199,
          "metadata": {},
          "output_type": "execute_result"
        }
      ],
      "source": [
        "# missing values por colunas\n",
        "df.isna().sum()"
      ]
    },
    {
      "cell_type": "code",
      "execution_count": null,
      "metadata": {
        "id": "zanZDLXrOpmO",
        "outputId": "27aa178e-58fd-420f-9991-4b436724ec7c"
      },
      "outputs": [
        {
          "data": {
            "text/html": [
              "<div>\n",
              "<style scoped>\n",
              "    .dataframe tbody tr th:only-of-type {\n",
              "        vertical-align: middle;\n",
              "    }\n",
              "\n",
              "    .dataframe tbody tr th {\n",
              "        vertical-align: top;\n",
              "    }\n",
              "\n",
              "    .dataframe thead th {\n",
              "        text-align: right;\n",
              "    }\n",
              "</style>\n",
              "<table border=\"1\" class=\"dataframe\">\n",
              "  <thead>\n",
              "    <tr style=\"text-align: right;\">\n",
              "      <th></th>\n",
              "      <th>Id</th>\n",
              "      <th>Idade</th>\n",
              "      <th>Renda</th>\n",
              "      <th>Sexo</th>\n",
              "      <th>Escolaridade</th>\n",
              "      <th>renda média</th>\n",
              "      <th>ativo</th>\n",
              "      <th>renda total</th>\n",
              "    </tr>\n",
              "  </thead>\n",
              "  <tbody>\n",
              "    <tr>\n",
              "      <th>0</th>\n",
              "      <td>30445</td>\n",
              "      <td>32</td>\n",
              "      <td>1500</td>\n",
              "      <td>Feminino</td>\n",
              "      <td>Ensino Fundamental</td>\n",
              "      <td>3095.265</td>\n",
              "      <td>4690.53</td>\n",
              "      <td>6190.53</td>\n",
              "    </tr>\n",
              "    <tr>\n",
              "      <th>1</th>\n",
              "      <td>20936</td>\n",
              "      <td>38</td>\n",
              "      <td>1500</td>\n",
              "      <td>Masculino</td>\n",
              "      <td>Ensino Fundamental</td>\n",
              "      <td>2017.030</td>\n",
              "      <td>2534.06</td>\n",
              "      <td>4034.06</td>\n",
              "    </tr>\n",
              "    <tr>\n",
              "      <th>2</th>\n",
              "      <td>33317</td>\n",
              "      <td>46</td>\n",
              "      <td>1500</td>\n",
              "      <td>Feminino</td>\n",
              "      <td>Ensino Médio</td>\n",
              "      <td>2266.410</td>\n",
              "      <td>3032.82</td>\n",
              "      <td>4532.82</td>\n",
              "    </tr>\n",
              "    <tr>\n",
              "      <th>3</th>\n",
              "      <td>36065</td>\n",
              "      <td>22</td>\n",
              "      <td>1500</td>\n",
              "      <td>Feminino</td>\n",
              "      <td>Ensino Médio</td>\n",
              "      <td>2453.760</td>\n",
              "      <td>3407.52</td>\n",
              "      <td>4907.52</td>\n",
              "    </tr>\n",
              "    <tr>\n",
              "      <th>4</th>\n",
              "      <td>23166</td>\n",
              "      <td>36</td>\n",
              "      <td>1500</td>\n",
              "      <td>Masculino</td>\n",
              "      <td>Ensino Médio</td>\n",
              "      <td>1855.540</td>\n",
              "      <td>2211.08</td>\n",
              "      <td>3711.08</td>\n",
              "    </tr>\n",
              "    <tr>\n",
              "      <th>...</th>\n",
              "      <td>...</td>\n",
              "      <td>...</td>\n",
              "      <td>...</td>\n",
              "      <td>...</td>\n",
              "      <td>...</td>\n",
              "      <td>...</td>\n",
              "      <td>...</td>\n",
              "      <td>...</td>\n",
              "    </tr>\n",
              "    <tr>\n",
              "      <th>49995</th>\n",
              "      <td>41289</td>\n",
              "      <td>61</td>\n",
              "      <td>9999</td>\n",
              "      <td>Masculino</td>\n",
              "      <td>Ensino Fundamental</td>\n",
              "      <td>5680.580</td>\n",
              "      <td>1362.16</td>\n",
              "      <td>11361.16</td>\n",
              "    </tr>\n",
              "    <tr>\n",
              "      <th>49996</th>\n",
              "      <td>8382</td>\n",
              "      <td>68</td>\n",
              "      <td>9999</td>\n",
              "      <td>Feminino</td>\n",
              "      <td>Ensino Médio</td>\n",
              "      <td>6675.700</td>\n",
              "      <td>3352.40</td>\n",
              "      <td>13351.40</td>\n",
              "    </tr>\n",
              "    <tr>\n",
              "      <th>49997</th>\n",
              "      <td>1482</td>\n",
              "      <td>68</td>\n",
              "      <td>9999</td>\n",
              "      <td>Masculino</td>\n",
              "      <td>Ensino Médio</td>\n",
              "      <td>6622.955</td>\n",
              "      <td>3246.91</td>\n",
              "      <td>13245.91</td>\n",
              "    </tr>\n",
              "    <tr>\n",
              "      <th>49998</th>\n",
              "      <td>21094</td>\n",
              "      <td>65</td>\n",
              "      <td>9999</td>\n",
              "      <td>Masculino</td>\n",
              "      <td>Ensino Superior</td>\n",
              "      <td>6646.110</td>\n",
              "      <td>3293.22</td>\n",
              "      <td>13292.22</td>\n",
              "    </tr>\n",
              "    <tr>\n",
              "      <th>49999</th>\n",
              "      <td>38188</td>\n",
              "      <td>23</td>\n",
              "      <td>9999</td>\n",
              "      <td>Masculino</td>\n",
              "      <td>Ensino Superior</td>\n",
              "      <td>6517.720</td>\n",
              "      <td>3036.44</td>\n",
              "      <td>13035.44</td>\n",
              "    </tr>\n",
              "  </tbody>\n",
              "</table>\n",
              "<p>50000 rows × 8 columns</p>\n",
              "</div>"
            ],
            "text/plain": [
              "          Id  Idade  Renda       Sexo        Escolaridade  renda média  \\\n",
              "0      30445     32   1500   Feminino  Ensino Fundamental     3095.265   \n",
              "1      20936     38   1500  Masculino  Ensino Fundamental     2017.030   \n",
              "2      33317     46   1500   Feminino        Ensino Médio     2266.410   \n",
              "3      36065     22   1500   Feminino        Ensino Médio     2453.760   \n",
              "4      23166     36   1500  Masculino        Ensino Médio     1855.540   \n",
              "...      ...    ...    ...        ...                 ...          ...   \n",
              "49995  41289     61   9999  Masculino  Ensino Fundamental     5680.580   \n",
              "49996   8382     68   9999   Feminino        Ensino Médio     6675.700   \n",
              "49997   1482     68   9999  Masculino        Ensino Médio     6622.955   \n",
              "49998  21094     65   9999  Masculino     Ensino Superior     6646.110   \n",
              "49999  38188     23   9999  Masculino     Ensino Superior     6517.720   \n",
              "\n",
              "         ativo  renda total  \n",
              "0      4690.53      6190.53  \n",
              "1      2534.06      4034.06  \n",
              "2      3032.82      4532.82  \n",
              "3      3407.52      4907.52  \n",
              "4      2211.08      3711.08  \n",
              "...        ...          ...  \n",
              "49995  1362.16     11361.16  \n",
              "49996  3352.40     13351.40  \n",
              "49997  3246.91     13245.91  \n",
              "49998  3293.22     13292.22  \n",
              "49999  3036.44     13035.44  \n",
              "\n",
              "[50000 rows x 8 columns]"
            ]
          },
          "execution_count": 200,
          "metadata": {},
          "output_type": "execute_result"
        }
      ],
      "source": [
        "df[df.notna()]"
      ]
    },
    {
      "cell_type": "code",
      "execution_count": null,
      "metadata": {
        "id": "nnjozViwOpmO",
        "outputId": "7ec1993b-fead-4d4f-9c20-5900882c4d7d"
      },
      "outputs": [
        {
          "data": {
            "text/html": [
              "<div>\n",
              "<style scoped>\n",
              "    .dataframe tbody tr th:only-of-type {\n",
              "        vertical-align: middle;\n",
              "    }\n",
              "\n",
              "    .dataframe tbody tr th {\n",
              "        vertical-align: top;\n",
              "    }\n",
              "\n",
              "    .dataframe thead th {\n",
              "        text-align: right;\n",
              "    }\n",
              "</style>\n",
              "<table border=\"1\" class=\"dataframe\">\n",
              "  <thead>\n",
              "    <tr style=\"text-align: right;\">\n",
              "      <th></th>\n",
              "      <th>Id</th>\n",
              "      <th>Idade</th>\n",
              "      <th>Renda</th>\n",
              "      <th>Sexo</th>\n",
              "      <th>Escolaridade</th>\n",
              "      <th>renda média</th>\n",
              "      <th>ativo</th>\n",
              "      <th>renda total</th>\n",
              "    </tr>\n",
              "  </thead>\n",
              "  <tbody>\n",
              "    <tr>\n",
              "      <th>0</th>\n",
              "      <td>30445</td>\n",
              "      <td>32</td>\n",
              "      <td>1500</td>\n",
              "      <td>Feminino</td>\n",
              "      <td>Ensino Fundamental</td>\n",
              "      <td>3095.265</td>\n",
              "      <td>4690.53</td>\n",
              "      <td>6190.53</td>\n",
              "    </tr>\n",
              "    <tr>\n",
              "      <th>1</th>\n",
              "      <td>20936</td>\n",
              "      <td>38</td>\n",
              "      <td>1500</td>\n",
              "      <td>Masculino</td>\n",
              "      <td>Ensino Fundamental</td>\n",
              "      <td>2017.030</td>\n",
              "      <td>2534.06</td>\n",
              "      <td>4034.06</td>\n",
              "    </tr>\n",
              "    <tr>\n",
              "      <th>2</th>\n",
              "      <td>33317</td>\n",
              "      <td>46</td>\n",
              "      <td>1500</td>\n",
              "      <td>Feminino</td>\n",
              "      <td>Ensino Médio</td>\n",
              "      <td>2266.410</td>\n",
              "      <td>3032.82</td>\n",
              "      <td>4532.82</td>\n",
              "    </tr>\n",
              "    <tr>\n",
              "      <th>3</th>\n",
              "      <td>36065</td>\n",
              "      <td>22</td>\n",
              "      <td>1500</td>\n",
              "      <td>Feminino</td>\n",
              "      <td>Ensino Médio</td>\n",
              "      <td>2453.760</td>\n",
              "      <td>3407.52</td>\n",
              "      <td>4907.52</td>\n",
              "    </tr>\n",
              "    <tr>\n",
              "      <th>4</th>\n",
              "      <td>23166</td>\n",
              "      <td>36</td>\n",
              "      <td>1500</td>\n",
              "      <td>Masculino</td>\n",
              "      <td>Ensino Médio</td>\n",
              "      <td>1855.540</td>\n",
              "      <td>2211.08</td>\n",
              "      <td>3711.08</td>\n",
              "    </tr>\n",
              "  </tbody>\n",
              "</table>\n",
              "</div>"
            ],
            "text/plain": [
              "      Id  Idade  Renda       Sexo        Escolaridade  renda média    ativo  \\\n",
              "0  30445     32   1500   Feminino  Ensino Fundamental     3095.265  4690.53   \n",
              "1  20936     38   1500  Masculino  Ensino Fundamental     2017.030  2534.06   \n",
              "2  33317     46   1500   Feminino        Ensino Médio     2266.410  3032.82   \n",
              "3  36065     22   1500   Feminino        Ensino Médio     2453.760  3407.52   \n",
              "4  23166     36   1500  Masculino        Ensino Médio     1855.540  2211.08   \n",
              "\n",
              "   renda total  \n",
              "0      6190.53  \n",
              "1      4034.06  \n",
              "2      4532.82  \n",
              "3      4907.52  \n",
              "4      3711.08  "
            ]
          },
          "execution_count": 201,
          "metadata": {},
          "output_type": "execute_result"
        }
      ],
      "source": [
        "# drop de missing values\n",
        "# veremos mais adiante uma aplicação desta função, que possui vários parâmetros\n",
        "df.dropna().head()"
      ]
    },
    {
      "cell_type": "code",
      "execution_count": null,
      "metadata": {
        "id": "k6PKj_1MOpmO",
        "outputId": "72c91c30-01a5-4b04-eae4-c2a78f35a359"
      },
      "outputs": [
        {
          "data": {
            "text/plain": [
              "0        False\n",
              "1        False\n",
              "2        False\n",
              "3        False\n",
              "4        False\n",
              "         ...  \n",
              "49995    False\n",
              "49996    False\n",
              "49997    False\n",
              "49998    False\n",
              "49999    False\n",
              "Length: 50000, dtype: bool"
            ]
          },
          "execution_count": 202,
          "metadata": {},
          "output_type": "execute_result"
        }
      ],
      "source": [
        "# verifica se uma linha é duplicada\n",
        "df.duplicated()"
      ]
    },
    {
      "cell_type": "code",
      "execution_count": null,
      "metadata": {
        "id": "B9Hzs6_MOpmP",
        "outputId": "6b3fdd89-4dd0-48a5-f91d-5e72ac3d8586"
      },
      "outputs": [
        {
          "data": {
            "text/plain": [
              "0"
            ]
          },
          "execution_count": 203,
          "metadata": {},
          "output_type": "execute_result"
        }
      ],
      "source": [
        "# soma das linhas duplicadas\n",
        "df.duplicated().sum()"
      ]
    },
    {
      "cell_type": "code",
      "execution_count": null,
      "metadata": {
        "id": "mZBmfLZyOpmP",
        "outputId": "3b84958d-5115-49a0-d12e-546d70800b90"
      },
      "outputs": [
        {
          "data": {
            "text/plain": [
              "(50000, 8)"
            ]
          },
          "execution_count": 204,
          "metadata": {},
          "output_type": "execute_result"
        }
      ],
      "source": [
        "df.shape"
      ]
    },
    {
      "cell_type": "code",
      "execution_count": null,
      "metadata": {
        "id": "ljUZTqedOpmP",
        "outputId": "5c7f4592-6af3-4b2e-9daa-e1a1f2a650e3"
      },
      "outputs": [
        {
          "data": {
            "text/plain": [
              "array(['Feminino', 'Masculino'], dtype=object)"
            ]
          },
          "execution_count": 205,
          "metadata": {},
          "output_type": "execute_result"
        }
      ],
      "source": [
        "# valos únicos\n",
        "df.Sexo.unique()"
      ]
    },
    {
      "cell_type": "code",
      "execution_count": null,
      "metadata": {
        "id": "l70M1jllOpmP",
        "outputId": "36da2dd6-146c-4db5-bfe5-ac5201cc2a8b"
      },
      "outputs": [
        {
          "data": {
            "text/plain": [
              "2"
            ]
          },
          "execution_count": 206,
          "metadata": {},
          "output_type": "execute_result"
        }
      ],
      "source": [
        "# conta os valores únicos\n",
        "df.Sexo.nunique()"
      ]
    },
    {
      "cell_type": "code",
      "execution_count": null,
      "metadata": {
        "id": "VRfkrmhVOpmP",
        "outputId": "52a6e529-d926-4c2c-c766-a2f07025ca6a"
      },
      "outputs": [
        {
          "data": {
            "text/plain": [
              "Id              50000\n",
              "Idade              52\n",
              "Renda            8475\n",
              "Sexo                2\n",
              "Escolaridade        3\n",
              "renda média     48841\n",
              "ativo           46653\n",
              "renda total     48841\n",
              "dtype: int64"
            ]
          },
          "execution_count": 207,
          "metadata": {},
          "output_type": "execute_result"
        }
      ],
      "source": [
        "# conta os valores únicos em cada coluna\n",
        "df.nunique()"
      ]
    },
    {
      "cell_type": "code",
      "execution_count": null,
      "metadata": {
        "id": "daErXCEuOpmP",
        "outputId": "5b45314f-28fe-474f-ee6f-74df63f2fb86"
      },
      "outputs": [
        {
          "data": {
            "text/plain": [
              "0    Feminino\n",
              "Name: Sexo, dtype: object"
            ]
          },
          "execution_count": 208,
          "metadata": {},
          "output_type": "execute_result"
        }
      ],
      "source": [
        "df.Sexo.head(1)"
      ]
    },
    {
      "cell_type": "code",
      "execution_count": null,
      "metadata": {
        "id": "VsB7ifkJOpmP",
        "outputId": "396ea023-f348-49ea-cf27-18ecc4b31ef9"
      },
      "outputs": [
        {
          "data": {
            "text/plain": [
              "0        F\n",
              "1        M\n",
              "2        F\n",
              "3        F\n",
              "4        M\n",
              "        ..\n",
              "49995    M\n",
              "49996    F\n",
              "49997    M\n",
              "49998    M\n",
              "49999    M\n",
              "Name: Sexo, Length: 50000, dtype: object"
            ]
          },
          "execution_count": 209,
          "metadata": {},
          "output_type": "execute_result"
        }
      ],
      "source": [
        "df.Sexo.replace({\n",
        "    'Feminino': 'F',\n",
        "    'Masculino': 'M'\n",
        "})"
      ]
    },
    {
      "cell_type": "code",
      "execution_count": null,
      "metadata": {
        "id": "tSffvp6rOpmP"
      },
      "outputs": [],
      "source": [
        "# altera a configuração dos valores da coluna Sexo\n",
        "df['Sexo modificado'] = df.Sexo.replace({\n",
        "    'Feminino': 'F',\n",
        "    'Masculino': 'M'\n",
        "})"
      ]
    },
    {
      "cell_type": "code",
      "execution_count": null,
      "metadata": {
        "id": "s5D3y6u9OpmQ",
        "outputId": "5970b8f5-8d46-494c-eee4-bfacb32681c3"
      },
      "outputs": [
        {
          "data": {
            "text/plain": [
              "0        1\n",
              "1        0\n",
              "2        1\n",
              "3        1\n",
              "4        0\n",
              "        ..\n",
              "49995    0\n",
              "49996    1\n",
              "49997    0\n",
              "49998    0\n",
              "49999    0\n",
              "Name: Sexo, Length: 50000, dtype: int64"
            ]
          },
          "execution_count": 211,
          "metadata": {},
          "output_type": "execute_result"
        }
      ],
      "source": [
        "# poderíamos usar para criar uma coluna dummy\n",
        "df.Sexo.replace({\n",
        "    'Masculino': 0,\n",
        "    'Feminino': 1\n",
        "})"
      ]
    },
    {
      "cell_type": "markdown",
      "metadata": {
        "id": "TN_E-swqOpmQ"
      },
      "source": [
        "O Pandas possui uma função específica para criar variáveis dummies. Antes de aplicar algum modelo estatístico ou de Machine Learning precisamos transformar as variáveis categóricas em número."
      ]
    },
    {
      "cell_type": "code",
      "execution_count": null,
      "metadata": {
        "id": "iUTktybaOpmQ",
        "outputId": "9d627e15-3233-4b1c-dec0-eb97c1107722"
      },
      "outputs": [
        {
          "data": {
            "text/html": [
              "<div>\n",
              "<style scoped>\n",
              "    .dataframe tbody tr th:only-of-type {\n",
              "        vertical-align: middle;\n",
              "    }\n",
              "\n",
              "    .dataframe tbody tr th {\n",
              "        vertical-align: top;\n",
              "    }\n",
              "\n",
              "    .dataframe thead th {\n",
              "        text-align: right;\n",
              "    }\n",
              "</style>\n",
              "<table border=\"1\" class=\"dataframe\">\n",
              "  <thead>\n",
              "    <tr style=\"text-align: right;\">\n",
              "      <th></th>\n",
              "      <th>Feminino</th>\n",
              "      <th>Masculino</th>\n",
              "    </tr>\n",
              "  </thead>\n",
              "  <tbody>\n",
              "    <tr>\n",
              "      <th>0</th>\n",
              "      <td>1</td>\n",
              "      <td>0</td>\n",
              "    </tr>\n",
              "    <tr>\n",
              "      <th>1</th>\n",
              "      <td>0</td>\n",
              "      <td>1</td>\n",
              "    </tr>\n",
              "    <tr>\n",
              "      <th>2</th>\n",
              "      <td>1</td>\n",
              "      <td>0</td>\n",
              "    </tr>\n",
              "    <tr>\n",
              "      <th>3</th>\n",
              "      <td>1</td>\n",
              "      <td>0</td>\n",
              "    </tr>\n",
              "    <tr>\n",
              "      <th>4</th>\n",
              "      <td>0</td>\n",
              "      <td>1</td>\n",
              "    </tr>\n",
              "    <tr>\n",
              "      <th>...</th>\n",
              "      <td>...</td>\n",
              "      <td>...</td>\n",
              "    </tr>\n",
              "    <tr>\n",
              "      <th>49995</th>\n",
              "      <td>0</td>\n",
              "      <td>1</td>\n",
              "    </tr>\n",
              "    <tr>\n",
              "      <th>49996</th>\n",
              "      <td>1</td>\n",
              "      <td>0</td>\n",
              "    </tr>\n",
              "    <tr>\n",
              "      <th>49997</th>\n",
              "      <td>0</td>\n",
              "      <td>1</td>\n",
              "    </tr>\n",
              "    <tr>\n",
              "      <th>49998</th>\n",
              "      <td>0</td>\n",
              "      <td>1</td>\n",
              "    </tr>\n",
              "    <tr>\n",
              "      <th>49999</th>\n",
              "      <td>0</td>\n",
              "      <td>1</td>\n",
              "    </tr>\n",
              "  </tbody>\n",
              "</table>\n",
              "<p>50000 rows × 2 columns</p>\n",
              "</div>"
            ],
            "text/plain": [
              "       Feminino  Masculino\n",
              "0             1          0\n",
              "1             0          1\n",
              "2             1          0\n",
              "3             1          0\n",
              "4             0          1\n",
              "...         ...        ...\n",
              "49995         0          1\n",
              "49996         1          0\n",
              "49997         0          1\n",
              "49998         0          1\n",
              "49999         0          1\n",
              "\n",
              "[50000 rows x 2 columns]"
            ]
          },
          "execution_count": 212,
          "metadata": {},
          "output_type": "execute_result"
        }
      ],
      "source": [
        "pd.get_dummies(df.Sexo)"
      ]
    },
    {
      "cell_type": "code",
      "execution_count": null,
      "metadata": {
        "id": "W9gH2C2cOpmQ",
        "outputId": "7ceafb75-c1cd-4863-8de3-ee0be08e2315"
      },
      "outputs": [
        {
          "data": {
            "text/html": [
              "<div>\n",
              "<style scoped>\n",
              "    .dataframe tbody tr th:only-of-type {\n",
              "        vertical-align: middle;\n",
              "    }\n",
              "\n",
              "    .dataframe tbody tr th {\n",
              "        vertical-align: top;\n",
              "    }\n",
              "\n",
              "    .dataframe thead th {\n",
              "        text-align: right;\n",
              "    }\n",
              "</style>\n",
              "<table border=\"1\" class=\"dataframe\">\n",
              "  <thead>\n",
              "    <tr style=\"text-align: right;\">\n",
              "      <th></th>\n",
              "      <th>sexo_Masculino</th>\n",
              "    </tr>\n",
              "  </thead>\n",
              "  <tbody>\n",
              "    <tr>\n",
              "      <th>0</th>\n",
              "      <td>0</td>\n",
              "    </tr>\n",
              "    <tr>\n",
              "      <th>1</th>\n",
              "      <td>1</td>\n",
              "    </tr>\n",
              "    <tr>\n",
              "      <th>2</th>\n",
              "      <td>0</td>\n",
              "    </tr>\n",
              "    <tr>\n",
              "      <th>3</th>\n",
              "      <td>0</td>\n",
              "    </tr>\n",
              "    <tr>\n",
              "      <th>4</th>\n",
              "      <td>1</td>\n",
              "    </tr>\n",
              "    <tr>\n",
              "      <th>...</th>\n",
              "      <td>...</td>\n",
              "    </tr>\n",
              "    <tr>\n",
              "      <th>49995</th>\n",
              "      <td>1</td>\n",
              "    </tr>\n",
              "    <tr>\n",
              "      <th>49996</th>\n",
              "      <td>0</td>\n",
              "    </tr>\n",
              "    <tr>\n",
              "      <th>49997</th>\n",
              "      <td>1</td>\n",
              "    </tr>\n",
              "    <tr>\n",
              "      <th>49998</th>\n",
              "      <td>1</td>\n",
              "    </tr>\n",
              "    <tr>\n",
              "      <th>49999</th>\n",
              "      <td>1</td>\n",
              "    </tr>\n",
              "  </tbody>\n",
              "</table>\n",
              "<p>50000 rows × 1 columns</p>\n",
              "</div>"
            ],
            "text/plain": [
              "       sexo_Masculino\n",
              "0                   0\n",
              "1                   1\n",
              "2                   0\n",
              "3                   0\n",
              "4                   1\n",
              "...               ...\n",
              "49995               1\n",
              "49996               0\n",
              "49997               1\n",
              "49998               1\n",
              "49999               1\n",
              "\n",
              "[50000 rows x 1 columns]"
            ]
          },
          "execution_count": 213,
          "metadata": {},
          "output_type": "execute_result"
        }
      ],
      "source": [
        "pd.get_dummies(df.Sexo, drop_first = True, prefix = 'sexo')"
      ]
    },
    {
      "cell_type": "code",
      "execution_count": null,
      "metadata": {
        "id": "-mJfV2gWOpmQ",
        "outputId": "bb59a8ee-e1d9-4bf3-99df-42d8f7093933"
      },
      "outputs": [
        {
          "data": {
            "text/html": [
              "<div>\n",
              "<style scoped>\n",
              "    .dataframe tbody tr th:only-of-type {\n",
              "        vertical-align: middle;\n",
              "    }\n",
              "\n",
              "    .dataframe tbody tr th {\n",
              "        vertical-align: top;\n",
              "    }\n",
              "\n",
              "    .dataframe thead th {\n",
              "        text-align: right;\n",
              "    }\n",
              "</style>\n",
              "<table border=\"1\" class=\"dataframe\">\n",
              "  <thead>\n",
              "    <tr style=\"text-align: right;\">\n",
              "      <th></th>\n",
              "      <th>Id</th>\n",
              "      <th>Idade</th>\n",
              "      <th>Renda</th>\n",
              "      <th>renda média</th>\n",
              "      <th>ativo</th>\n",
              "      <th>renda total</th>\n",
              "      <th>Sexo_Feminino</th>\n",
              "      <th>Sexo_Masculino</th>\n",
              "      <th>Escolaridade_Ensino Fundamental</th>\n",
              "      <th>Escolaridade_Ensino Médio</th>\n",
              "      <th>Escolaridade_Ensino Superior</th>\n",
              "      <th>Sexo modificado_F</th>\n",
              "      <th>Sexo modificado_M</th>\n",
              "    </tr>\n",
              "  </thead>\n",
              "  <tbody>\n",
              "    <tr>\n",
              "      <th>0</th>\n",
              "      <td>30445</td>\n",
              "      <td>32</td>\n",
              "      <td>1500</td>\n",
              "      <td>3095.265</td>\n",
              "      <td>4690.53</td>\n",
              "      <td>6190.53</td>\n",
              "      <td>1</td>\n",
              "      <td>0</td>\n",
              "      <td>1</td>\n",
              "      <td>0</td>\n",
              "      <td>0</td>\n",
              "      <td>1</td>\n",
              "      <td>0</td>\n",
              "    </tr>\n",
              "    <tr>\n",
              "      <th>1</th>\n",
              "      <td>20936</td>\n",
              "      <td>38</td>\n",
              "      <td>1500</td>\n",
              "      <td>2017.030</td>\n",
              "      <td>2534.06</td>\n",
              "      <td>4034.06</td>\n",
              "      <td>0</td>\n",
              "      <td>1</td>\n",
              "      <td>1</td>\n",
              "      <td>0</td>\n",
              "      <td>0</td>\n",
              "      <td>0</td>\n",
              "      <td>1</td>\n",
              "    </tr>\n",
              "    <tr>\n",
              "      <th>2</th>\n",
              "      <td>33317</td>\n",
              "      <td>46</td>\n",
              "      <td>1500</td>\n",
              "      <td>2266.410</td>\n",
              "      <td>3032.82</td>\n",
              "      <td>4532.82</td>\n",
              "      <td>1</td>\n",
              "      <td>0</td>\n",
              "      <td>0</td>\n",
              "      <td>1</td>\n",
              "      <td>0</td>\n",
              "      <td>1</td>\n",
              "      <td>0</td>\n",
              "    </tr>\n",
              "    <tr>\n",
              "      <th>3</th>\n",
              "      <td>36065</td>\n",
              "      <td>22</td>\n",
              "      <td>1500</td>\n",
              "      <td>2453.760</td>\n",
              "      <td>3407.52</td>\n",
              "      <td>4907.52</td>\n",
              "      <td>1</td>\n",
              "      <td>0</td>\n",
              "      <td>0</td>\n",
              "      <td>1</td>\n",
              "      <td>0</td>\n",
              "      <td>1</td>\n",
              "      <td>0</td>\n",
              "    </tr>\n",
              "    <tr>\n",
              "      <th>4</th>\n",
              "      <td>23166</td>\n",
              "      <td>36</td>\n",
              "      <td>1500</td>\n",
              "      <td>1855.540</td>\n",
              "      <td>2211.08</td>\n",
              "      <td>3711.08</td>\n",
              "      <td>0</td>\n",
              "      <td>1</td>\n",
              "      <td>0</td>\n",
              "      <td>1</td>\n",
              "      <td>0</td>\n",
              "      <td>0</td>\n",
              "      <td>1</td>\n",
              "    </tr>\n",
              "    <tr>\n",
              "      <th>...</th>\n",
              "      <td>...</td>\n",
              "      <td>...</td>\n",
              "      <td>...</td>\n",
              "      <td>...</td>\n",
              "      <td>...</td>\n",
              "      <td>...</td>\n",
              "      <td>...</td>\n",
              "      <td>...</td>\n",
              "      <td>...</td>\n",
              "      <td>...</td>\n",
              "      <td>...</td>\n",
              "      <td>...</td>\n",
              "      <td>...</td>\n",
              "    </tr>\n",
              "    <tr>\n",
              "      <th>49995</th>\n",
              "      <td>41289</td>\n",
              "      <td>61</td>\n",
              "      <td>9999</td>\n",
              "      <td>5680.580</td>\n",
              "      <td>1362.16</td>\n",
              "      <td>11361.16</td>\n",
              "      <td>0</td>\n",
              "      <td>1</td>\n",
              "      <td>1</td>\n",
              "      <td>0</td>\n",
              "      <td>0</td>\n",
              "      <td>0</td>\n",
              "      <td>1</td>\n",
              "    </tr>\n",
              "    <tr>\n",
              "      <th>49996</th>\n",
              "      <td>8382</td>\n",
              "      <td>68</td>\n",
              "      <td>9999</td>\n",
              "      <td>6675.700</td>\n",
              "      <td>3352.40</td>\n",
              "      <td>13351.40</td>\n",
              "      <td>1</td>\n",
              "      <td>0</td>\n",
              "      <td>0</td>\n",
              "      <td>1</td>\n",
              "      <td>0</td>\n",
              "      <td>1</td>\n",
              "      <td>0</td>\n",
              "    </tr>\n",
              "    <tr>\n",
              "      <th>49997</th>\n",
              "      <td>1482</td>\n",
              "      <td>68</td>\n",
              "      <td>9999</td>\n",
              "      <td>6622.955</td>\n",
              "      <td>3246.91</td>\n",
              "      <td>13245.91</td>\n",
              "      <td>0</td>\n",
              "      <td>1</td>\n",
              "      <td>0</td>\n",
              "      <td>1</td>\n",
              "      <td>0</td>\n",
              "      <td>0</td>\n",
              "      <td>1</td>\n",
              "    </tr>\n",
              "    <tr>\n",
              "      <th>49998</th>\n",
              "      <td>21094</td>\n",
              "      <td>65</td>\n",
              "      <td>9999</td>\n",
              "      <td>6646.110</td>\n",
              "      <td>3293.22</td>\n",
              "      <td>13292.22</td>\n",
              "      <td>0</td>\n",
              "      <td>1</td>\n",
              "      <td>0</td>\n",
              "      <td>0</td>\n",
              "      <td>1</td>\n",
              "      <td>0</td>\n",
              "      <td>1</td>\n",
              "    </tr>\n",
              "    <tr>\n",
              "      <th>49999</th>\n",
              "      <td>38188</td>\n",
              "      <td>23</td>\n",
              "      <td>9999</td>\n",
              "      <td>6517.720</td>\n",
              "      <td>3036.44</td>\n",
              "      <td>13035.44</td>\n",
              "      <td>0</td>\n",
              "      <td>1</td>\n",
              "      <td>0</td>\n",
              "      <td>0</td>\n",
              "      <td>1</td>\n",
              "      <td>0</td>\n",
              "      <td>1</td>\n",
              "    </tr>\n",
              "  </tbody>\n",
              "</table>\n",
              "<p>50000 rows × 13 columns</p>\n",
              "</div>"
            ],
            "text/plain": [
              "          Id  Idade  Renda  renda média    ativo  renda total  Sexo_Feminino  \\\n",
              "0      30445     32   1500     3095.265  4690.53      6190.53              1   \n",
              "1      20936     38   1500     2017.030  2534.06      4034.06              0   \n",
              "2      33317     46   1500     2266.410  3032.82      4532.82              1   \n",
              "3      36065     22   1500     2453.760  3407.52      4907.52              1   \n",
              "4      23166     36   1500     1855.540  2211.08      3711.08              0   \n",
              "...      ...    ...    ...          ...      ...          ...            ...   \n",
              "49995  41289     61   9999     5680.580  1362.16     11361.16              0   \n",
              "49996   8382     68   9999     6675.700  3352.40     13351.40              1   \n",
              "49997   1482     68   9999     6622.955  3246.91     13245.91              0   \n",
              "49998  21094     65   9999     6646.110  3293.22     13292.22              0   \n",
              "49999  38188     23   9999     6517.720  3036.44     13035.44              0   \n",
              "\n",
              "       Sexo_Masculino  Escolaridade_Ensino Fundamental  \\\n",
              "0                   0                                1   \n",
              "1                   1                                1   \n",
              "2                   0                                0   \n",
              "3                   0                                0   \n",
              "4                   1                                0   \n",
              "...               ...                              ...   \n",
              "49995               1                                1   \n",
              "49996               0                                0   \n",
              "49997               1                                0   \n",
              "49998               1                                0   \n",
              "49999               1                                0   \n",
              "\n",
              "       Escolaridade_Ensino Médio  Escolaridade_Ensino Superior  \\\n",
              "0                              0                             0   \n",
              "1                              0                             0   \n",
              "2                              1                             0   \n",
              "3                              1                             0   \n",
              "4                              1                             0   \n",
              "...                          ...                           ...   \n",
              "49995                          0                             0   \n",
              "49996                          1                             0   \n",
              "49997                          1                             0   \n",
              "49998                          0                             1   \n",
              "49999                          0                             1   \n",
              "\n",
              "       Sexo modificado_F  Sexo modificado_M  \n",
              "0                      1                  0  \n",
              "1                      0                  1  \n",
              "2                      1                  0  \n",
              "3                      1                  0  \n",
              "4                      0                  1  \n",
              "...                  ...                ...  \n",
              "49995                  0                  1  \n",
              "49996                  1                  0  \n",
              "49997                  0                  1  \n",
              "49998                  0                  1  \n",
              "49999                  0                  1  \n",
              "\n",
              "[50000 rows x 13 columns]"
            ]
          },
          "execution_count": 214,
          "metadata": {},
          "output_type": "execute_result"
        }
      ],
      "source": [
        "# podemos fazer dummies para todas as colunas categóricas de uma única vez\n",
        "pd.get_dummies(df)"
      ]
    },
    {
      "cell_type": "markdown",
      "metadata": {
        "id": "XnoKUwrmOpmQ"
      },
      "source": [
        "Vejamos agora algumas opções para tratar strings:"
      ]
    },
    {
      "cell_type": "code",
      "execution_count": null,
      "metadata": {
        "id": "aMWM-LHOOpmQ",
        "outputId": "e914cf41-b3dc-49ab-8da2-525f1f451d88"
      },
      "outputs": [
        {
          "data": {
            "text/plain": [
              "0        Feminino\n",
              "1               M\n",
              "2        Feminino\n",
              "3        Feminino\n",
              "4               M\n",
              "           ...   \n",
              "49995           M\n",
              "49996    Feminino\n",
              "49997           M\n",
              "49998           M\n",
              "49999           M\n",
              "Name: Sexo modificado, Length: 50000, dtype: object"
            ]
          },
          "execution_count": 215,
          "metadata": {},
          "output_type": "execute_result"
        }
      ],
      "source": [
        "df['Sexo modificado'].str.replace('F', 'Feminino')"
      ]
    },
    {
      "cell_type": "code",
      "execution_count": null,
      "metadata": {
        "id": "GNvVWM1ROpmQ",
        "outputId": "11c6ecee-ed85-4232-cb22-72194ab9ba42"
      },
      "outputs": [
        {
          "data": {
            "text/plain": [
              "0         feminino\n",
              "1        masculino\n",
              "2         feminino\n",
              "3         feminino\n",
              "4        masculino\n",
              "           ...    \n",
              "49995    masculino\n",
              "49996     feminino\n",
              "49997    masculino\n",
              "49998    masculino\n",
              "49999    masculino\n",
              "Name: Sexo, Length: 50000, dtype: object"
            ]
          },
          "execution_count": 216,
          "metadata": {},
          "output_type": "execute_result"
        }
      ],
      "source": [
        "df['Sexo'].str.lower()"
      ]
    },
    {
      "cell_type": "code",
      "execution_count": null,
      "metadata": {
        "id": "RLuveINZOpmR",
        "outputId": "38714220-acdf-4596-da40-29718ed9d44c"
      },
      "outputs": [
        {
          "data": {
            "text/plain": [
              "0         FEMININO\n",
              "1        MASCULINO\n",
              "2         FEMININO\n",
              "3         FEMININO\n",
              "4        MASCULINO\n",
              "           ...    \n",
              "49995    MASCULINO\n",
              "49996     FEMININO\n",
              "49997    MASCULINO\n",
              "49998    MASCULINO\n",
              "49999    MASCULINO\n",
              "Name: Sexo, Length: 50000, dtype: object"
            ]
          },
          "execution_count": 217,
          "metadata": {},
          "output_type": "execute_result"
        }
      ],
      "source": [
        "df['Sexo'].str.upper()"
      ]
    },
    {
      "cell_type": "code",
      "execution_count": null,
      "metadata": {
        "id": "7KT8djWVOpmR",
        "outputId": "25cea714-d421-4dbe-db0f-f00c2a1c50a3"
      },
      "outputs": [
        {
          "data": {
            "text/plain": [
              "(50000, 9)"
            ]
          },
          "execution_count": 218,
          "metadata": {},
          "output_type": "execute_result"
        }
      ],
      "source": [
        "df.drop_duplicates(keep = 'first').shape"
      ]
    },
    {
      "cell_type": "markdown",
      "metadata": {
        "id": "c02nNZsTOpmR"
      },
      "source": [
        "### Apply, Apply map e map"
      ]
    },
    {
      "cell_type": "code",
      "execution_count": null,
      "metadata": {
        "id": "bri4prNlOpmR",
        "outputId": "0cc6e4c6-061c-4db9-bec0-2fc2b45c230c"
      },
      "outputs": [
        {
          "data": {
            "text/html": [
              "<div>\n",
              "<style scoped>\n",
              "    .dataframe tbody tr th:only-of-type {\n",
              "        vertical-align: middle;\n",
              "    }\n",
              "\n",
              "    .dataframe tbody tr th {\n",
              "        vertical-align: top;\n",
              "    }\n",
              "\n",
              "    .dataframe thead th {\n",
              "        text-align: right;\n",
              "    }\n",
              "</style>\n",
              "<table border=\"1\" class=\"dataframe\">\n",
              "  <thead>\n",
              "    <tr style=\"text-align: right;\">\n",
              "      <th></th>\n",
              "      <th>Id</th>\n",
              "      <th>Idade</th>\n",
              "      <th>Renda</th>\n",
              "      <th>Sexo</th>\n",
              "      <th>Escolaridade</th>\n",
              "      <th>renda média</th>\n",
              "      <th>ativo</th>\n",
              "      <th>renda total</th>\n",
              "      <th>Sexo modificado</th>\n",
              "    </tr>\n",
              "  </thead>\n",
              "  <tbody>\n",
              "    <tr>\n",
              "      <th>0</th>\n",
              "      <td>30445</td>\n",
              "      <td>32</td>\n",
              "      <td>1500</td>\n",
              "      <td>Feminino</td>\n",
              "      <td>Ensino Fundamental</td>\n",
              "      <td>3095.265</td>\n",
              "      <td>4690.53</td>\n",
              "      <td>6190.53</td>\n",
              "      <td>F</td>\n",
              "    </tr>\n",
              "    <tr>\n",
              "      <th>1</th>\n",
              "      <td>20936</td>\n",
              "      <td>38</td>\n",
              "      <td>1500</td>\n",
              "      <td>Masculino</td>\n",
              "      <td>Ensino Fundamental</td>\n",
              "      <td>2017.030</td>\n",
              "      <td>2534.06</td>\n",
              "      <td>4034.06</td>\n",
              "      <td>M</td>\n",
              "    </tr>\n",
              "    <tr>\n",
              "      <th>2</th>\n",
              "      <td>33317</td>\n",
              "      <td>46</td>\n",
              "      <td>1500</td>\n",
              "      <td>Feminino</td>\n",
              "      <td>Ensino Médio</td>\n",
              "      <td>2266.410</td>\n",
              "      <td>3032.82</td>\n",
              "      <td>4532.82</td>\n",
              "      <td>F</td>\n",
              "    </tr>\n",
              "    <tr>\n",
              "      <th>3</th>\n",
              "      <td>36065</td>\n",
              "      <td>22</td>\n",
              "      <td>1500</td>\n",
              "      <td>Feminino</td>\n",
              "      <td>Ensino Médio</td>\n",
              "      <td>2453.760</td>\n",
              "      <td>3407.52</td>\n",
              "      <td>4907.52</td>\n",
              "      <td>F</td>\n",
              "    </tr>\n",
              "    <tr>\n",
              "      <th>4</th>\n",
              "      <td>23166</td>\n",
              "      <td>36</td>\n",
              "      <td>1500</td>\n",
              "      <td>Masculino</td>\n",
              "      <td>Ensino Médio</td>\n",
              "      <td>1855.540</td>\n",
              "      <td>2211.08</td>\n",
              "      <td>3711.08</td>\n",
              "      <td>M</td>\n",
              "    </tr>\n",
              "  </tbody>\n",
              "</table>\n",
              "</div>"
            ],
            "text/plain": [
              "      Id  Idade  Renda       Sexo        Escolaridade  renda média    ativo  \\\n",
              "0  30445     32   1500   Feminino  Ensino Fundamental     3095.265  4690.53   \n",
              "1  20936     38   1500  Masculino  Ensino Fundamental     2017.030  2534.06   \n",
              "2  33317     46   1500   Feminino        Ensino Médio     2266.410  3032.82   \n",
              "3  36065     22   1500   Feminino        Ensino Médio     2453.760  3407.52   \n",
              "4  23166     36   1500  Masculino        Ensino Médio     1855.540  2211.08   \n",
              "\n",
              "   renda total Sexo modificado  \n",
              "0      6190.53               F  \n",
              "1      4034.06               M  \n",
              "2      4532.82               F  \n",
              "3      4907.52               F  \n",
              "4      3711.08               M  "
            ]
          },
          "execution_count": 219,
          "metadata": {},
          "output_type": "execute_result"
        }
      ],
      "source": [
        "df.head()"
      ]
    },
    {
      "cell_type": "markdown",
      "metadata": {
        "id": "km5NmufFOpmR"
      },
      "source": [
        "**map()**\n",
        "* percorre item por item e aplica uma função desejada.\n",
        "\n",
        "Neste exemplo, vamos percorrer cada valor de renda e aplicar a função np.log().\n"
      ]
    },
    {
      "cell_type": "code",
      "execution_count": null,
      "metadata": {
        "id": "DHhdv3fMOpmR",
        "outputId": "3889851b-7b2f-4cec-b727-23ecd842942a"
      },
      "outputs": [
        {
          "data": {
            "text/plain": [
              "0        7.31322\n",
              "1        7.31322\n",
              "2        7.31322\n",
              "3        7.31322\n",
              "4        7.31322\n",
              "          ...   \n",
              "49995    9.21024\n",
              "49996    9.21024\n",
              "49997    9.21024\n",
              "49998    9.21024\n",
              "49999    9.21024\n",
              "Name: Renda, Length: 50000, dtype: float64"
            ]
          },
          "execution_count": 220,
          "metadata": {},
          "output_type": "execute_result"
        }
      ],
      "source": [
        "df.Renda.map(np.log)"
      ]
    },
    {
      "cell_type": "code",
      "execution_count": null,
      "metadata": {
        "id": "yohvfU-1OpmR",
        "outputId": "aaf7a1f7-d813-46d2-89c8-0781170752e0"
      },
      "outputs": [
        {
          "data": {
            "text/plain": [
              "0        0\n",
              "1        1\n",
              "2        0\n",
              "3        0\n",
              "4        1\n",
              "        ..\n",
              "49995    1\n",
              "49996    0\n",
              "49997    1\n",
              "49998    1\n",
              "49999    1\n",
              "Name: Sexo, Length: 50000, dtype: int64"
            ]
          },
          "execution_count": 221,
          "metadata": {},
          "output_type": "execute_result"
        }
      ],
      "source": [
        "df.Sexo.map({\n",
        "    'Feminino':0,\n",
        "    'Masculino':1\n",
        "})"
      ]
    },
    {
      "cell_type": "code",
      "execution_count": null,
      "metadata": {
        "id": "dtLvVeqxOpmR"
      },
      "outputs": [],
      "source": [
        "def mapear_sexo(sexo):\n",
        "    if sexo == 'Masculino':\n",
        "        return 'M'\n",
        "    return 'F'"
      ]
    },
    {
      "cell_type": "code",
      "execution_count": null,
      "metadata": {
        "id": "dulUgw20OpmR",
        "outputId": "0d17cb9e-641b-4017-f418-00892236e2ad"
      },
      "outputs": [
        {
          "data": {
            "text/plain": [
              "0        F\n",
              "1        M\n",
              "2        F\n",
              "3        F\n",
              "4        M\n",
              "        ..\n",
              "49995    M\n",
              "49996    F\n",
              "49997    M\n",
              "49998    M\n",
              "49999    M\n",
              "Name: Sexo, Length: 50000, dtype: object"
            ]
          },
          "execution_count": 223,
          "metadata": {},
          "output_type": "execute_result"
        }
      ],
      "source": [
        "# mapeia os valores da coluna Sexo a partir da função construída\n",
        "df.Sexo.map(mapear_sexo)"
      ]
    },
    {
      "cell_type": "markdown",
      "metadata": {
        "id": "Q0zSU_VsOpmS"
      },
      "source": [
        "**apply()**\n",
        "* podemos aplicar uma função em todas as linhas ou em todas as colunas (ou seja, aplica uma função em um determinado eixo)."
      ]
    },
    {
      "cell_type": "code",
      "execution_count": null,
      "metadata": {
        "id": "SmtF3QykOpmS"
      },
      "outputs": [],
      "source": [
        "def classifica_cliente(renda):\n",
        "    if renda<=5_000:\n",
        "        return 'Low'\n",
        "    else:\n",
        "        return 'High'"
      ]
    },
    {
      "cell_type": "code",
      "execution_count": null,
      "metadata": {
        "id": "7xN4WTPROpmS",
        "outputId": "7c8e049a-676e-4b32-9ccf-4b15828e831d"
      },
      "outputs": [
        {
          "data": {
            "text/plain": [
              "0         Low\n",
              "1         Low\n",
              "2         Low\n",
              "3         Low\n",
              "4         Low\n",
              "         ... \n",
              "49995    High\n",
              "49996    High\n",
              "49997    High\n",
              "49998    High\n",
              "49999    High\n",
              "Name: Renda, Length: 50000, dtype: object"
            ]
          },
          "execution_count": 225,
          "metadata": {},
          "output_type": "execute_result"
        }
      ],
      "source": [
        "# mapeia os valores da coluna Renda\n",
        "df.Renda.apply(classifica_cliente)"
      ]
    },
    {
      "cell_type": "markdown",
      "metadata": {
        "id": "qYu1nzJiOpmS"
      },
      "source": [
        "***"
      ]
    },
    {
      "cell_type": "markdown",
      "metadata": {
        "id": "skm7TYroOpmS"
      },
      "source": [
        "### IO (Leitura de dados)"
      ]
    },
    {
      "cell_type": "markdown",
      "metadata": {
        "id": "aulkeSz1OpmS"
      },
      "source": [
        "O podemos permite que trabalhemos com distintos tipos de dados."
      ]
    },
    {
      "cell_type": "code",
      "execution_count": null,
      "metadata": {
        "id": "ORynL1rWOpmS"
      },
      "outputs": [],
      "source": [
        "# salva o DataFrame criado no formato .csv\n",
        "df.to_csv('data.csv', index = False)"
      ]
    },
    {
      "cell_type": "code",
      "execution_count": null,
      "metadata": {
        "id": "Z3rhoPEzOpmS"
      },
      "outputs": [],
      "source": [
        "# salva o DataFrame criado no formato xlsx\n",
        "df.to_excel('data.xlsx', index = False)"
      ]
    },
    {
      "cell_type": "code",
      "execution_count": null,
      "metadata": {
        "id": "PAJXBWafOpmS"
      },
      "outputs": [],
      "source": [
        "# lê o arquivo em csv\n",
        "df_csv = pd.read_csv('data.csv')"
      ]
    },
    {
      "cell_type": "code",
      "execution_count": null,
      "metadata": {
        "id": "6hY4AkAROpmT",
        "outputId": "80f83da1-377d-4da4-8463-fc5a7913cea8"
      },
      "outputs": [
        {
          "data": {
            "text/html": [
              "<div>\n",
              "<style scoped>\n",
              "    .dataframe tbody tr th:only-of-type {\n",
              "        vertical-align: middle;\n",
              "    }\n",
              "\n",
              "    .dataframe tbody tr th {\n",
              "        vertical-align: top;\n",
              "    }\n",
              "\n",
              "    .dataframe thead th {\n",
              "        text-align: right;\n",
              "    }\n",
              "</style>\n",
              "<table border=\"1\" class=\"dataframe\">\n",
              "  <thead>\n",
              "    <tr style=\"text-align: right;\">\n",
              "      <th></th>\n",
              "      <th>Id</th>\n",
              "      <th>Idade</th>\n",
              "      <th>Renda</th>\n",
              "      <th>Sexo</th>\n",
              "      <th>Escolaridade</th>\n",
              "      <th>renda média</th>\n",
              "      <th>ativo</th>\n",
              "      <th>renda total</th>\n",
              "      <th>Sexo modificado</th>\n",
              "    </tr>\n",
              "  </thead>\n",
              "  <tbody>\n",
              "    <tr>\n",
              "      <th>0</th>\n",
              "      <td>30445</td>\n",
              "      <td>32</td>\n",
              "      <td>1500</td>\n",
              "      <td>Feminino</td>\n",
              "      <td>Ensino Fundamental</td>\n",
              "      <td>3095.265</td>\n",
              "      <td>4690.53</td>\n",
              "      <td>6190.53</td>\n",
              "      <td>F</td>\n",
              "    </tr>\n",
              "    <tr>\n",
              "      <th>1</th>\n",
              "      <td>20936</td>\n",
              "      <td>38</td>\n",
              "      <td>1500</td>\n",
              "      <td>Masculino</td>\n",
              "      <td>Ensino Fundamental</td>\n",
              "      <td>2017.030</td>\n",
              "      <td>2534.06</td>\n",
              "      <td>4034.06</td>\n",
              "      <td>M</td>\n",
              "    </tr>\n",
              "    <tr>\n",
              "      <th>2</th>\n",
              "      <td>33317</td>\n",
              "      <td>46</td>\n",
              "      <td>1500</td>\n",
              "      <td>Feminino</td>\n",
              "      <td>Ensino Médio</td>\n",
              "      <td>2266.410</td>\n",
              "      <td>3032.82</td>\n",
              "      <td>4532.82</td>\n",
              "      <td>F</td>\n",
              "    </tr>\n",
              "    <tr>\n",
              "      <th>3</th>\n",
              "      <td>36065</td>\n",
              "      <td>22</td>\n",
              "      <td>1500</td>\n",
              "      <td>Feminino</td>\n",
              "      <td>Ensino Médio</td>\n",
              "      <td>2453.760</td>\n",
              "      <td>3407.52</td>\n",
              "      <td>4907.52</td>\n",
              "      <td>F</td>\n",
              "    </tr>\n",
              "    <tr>\n",
              "      <th>4</th>\n",
              "      <td>23166</td>\n",
              "      <td>36</td>\n",
              "      <td>1500</td>\n",
              "      <td>Masculino</td>\n",
              "      <td>Ensino Médio</td>\n",
              "      <td>1855.540</td>\n",
              "      <td>2211.08</td>\n",
              "      <td>3711.08</td>\n",
              "      <td>M</td>\n",
              "    </tr>\n",
              "  </tbody>\n",
              "</table>\n",
              "</div>"
            ],
            "text/plain": [
              "      Id  Idade  Renda       Sexo        Escolaridade  renda média    ativo  \\\n",
              "0  30445     32   1500   Feminino  Ensino Fundamental     3095.265  4690.53   \n",
              "1  20936     38   1500  Masculino  Ensino Fundamental     2017.030  2534.06   \n",
              "2  33317     46   1500   Feminino        Ensino Médio     2266.410  3032.82   \n",
              "3  36065     22   1500   Feminino        Ensino Médio     2453.760  3407.52   \n",
              "4  23166     36   1500  Masculino        Ensino Médio     1855.540  2211.08   \n",
              "\n",
              "   renda total Sexo modificado  \n",
              "0      6190.53               F  \n",
              "1      4034.06               M  \n",
              "2      4532.82               F  \n",
              "3      4907.52               F  \n",
              "4      3711.08               M  "
            ]
          },
          "execution_count": 229,
          "metadata": {},
          "output_type": "execute_result"
        }
      ],
      "source": [
        "df_csv.head()"
      ]
    },
    {
      "cell_type": "code",
      "execution_count": null,
      "metadata": {
        "id": "DJapS04zOpmT"
      },
      "outputs": [],
      "source": [
        "# lê o arquivo em Excel\n",
        "df_excel = pd.read_excel('data.xlsx')"
      ]
    },
    {
      "cell_type": "code",
      "execution_count": null,
      "metadata": {
        "id": "KEIBqzImOpmT",
        "outputId": "6e17978c-99b4-4ac4-86b6-c01ca4e10b58"
      },
      "outputs": [
        {
          "data": {
            "text/html": [
              "<div>\n",
              "<style scoped>\n",
              "    .dataframe tbody tr th:only-of-type {\n",
              "        vertical-align: middle;\n",
              "    }\n",
              "\n",
              "    .dataframe tbody tr th {\n",
              "        vertical-align: top;\n",
              "    }\n",
              "\n",
              "    .dataframe thead th {\n",
              "        text-align: right;\n",
              "    }\n",
              "</style>\n",
              "<table border=\"1\" class=\"dataframe\">\n",
              "  <thead>\n",
              "    <tr style=\"text-align: right;\">\n",
              "      <th></th>\n",
              "      <th>Id</th>\n",
              "      <th>Idade</th>\n",
              "      <th>Renda</th>\n",
              "      <th>Sexo</th>\n",
              "      <th>Escolaridade</th>\n",
              "      <th>renda média</th>\n",
              "      <th>ativo</th>\n",
              "      <th>renda total</th>\n",
              "      <th>Sexo modificado</th>\n",
              "    </tr>\n",
              "  </thead>\n",
              "  <tbody>\n",
              "    <tr>\n",
              "      <th>0</th>\n",
              "      <td>30445</td>\n",
              "      <td>32</td>\n",
              "      <td>1500</td>\n",
              "      <td>Feminino</td>\n",
              "      <td>Ensino Fundamental</td>\n",
              "      <td>3095.265</td>\n",
              "      <td>4690.53</td>\n",
              "      <td>6190.53</td>\n",
              "      <td>F</td>\n",
              "    </tr>\n",
              "    <tr>\n",
              "      <th>1</th>\n",
              "      <td>20936</td>\n",
              "      <td>38</td>\n",
              "      <td>1500</td>\n",
              "      <td>Masculino</td>\n",
              "      <td>Ensino Fundamental</td>\n",
              "      <td>2017.030</td>\n",
              "      <td>2534.06</td>\n",
              "      <td>4034.06</td>\n",
              "      <td>M</td>\n",
              "    </tr>\n",
              "    <tr>\n",
              "      <th>2</th>\n",
              "      <td>33317</td>\n",
              "      <td>46</td>\n",
              "      <td>1500</td>\n",
              "      <td>Feminino</td>\n",
              "      <td>Ensino Médio</td>\n",
              "      <td>2266.410</td>\n",
              "      <td>3032.82</td>\n",
              "      <td>4532.82</td>\n",
              "      <td>F</td>\n",
              "    </tr>\n",
              "    <tr>\n",
              "      <th>3</th>\n",
              "      <td>36065</td>\n",
              "      <td>22</td>\n",
              "      <td>1500</td>\n",
              "      <td>Feminino</td>\n",
              "      <td>Ensino Médio</td>\n",
              "      <td>2453.760</td>\n",
              "      <td>3407.52</td>\n",
              "      <td>4907.52</td>\n",
              "      <td>F</td>\n",
              "    </tr>\n",
              "    <tr>\n",
              "      <th>4</th>\n",
              "      <td>23166</td>\n",
              "      <td>36</td>\n",
              "      <td>1500</td>\n",
              "      <td>Masculino</td>\n",
              "      <td>Ensino Médio</td>\n",
              "      <td>1855.540</td>\n",
              "      <td>2211.08</td>\n",
              "      <td>3711.08</td>\n",
              "      <td>M</td>\n",
              "    </tr>\n",
              "  </tbody>\n",
              "</table>\n",
              "</div>"
            ],
            "text/plain": [
              "      Id  Idade  Renda       Sexo        Escolaridade  renda média    ativo  \\\n",
              "0  30445     32   1500   Feminino  Ensino Fundamental     3095.265  4690.53   \n",
              "1  20936     38   1500  Masculino  Ensino Fundamental     2017.030  2534.06   \n",
              "2  33317     46   1500   Feminino        Ensino Médio     2266.410  3032.82   \n",
              "3  36065     22   1500   Feminino        Ensino Médio     2453.760  3407.52   \n",
              "4  23166     36   1500  Masculino        Ensino Médio     1855.540  2211.08   \n",
              "\n",
              "   renda total Sexo modificado  \n",
              "0      6190.53               F  \n",
              "1      4034.06               M  \n",
              "2      4532.82               F  \n",
              "3      4907.52               F  \n",
              "4      3711.08               M  "
            ]
          },
          "execution_count": 231,
          "metadata": {},
          "output_type": "execute_result"
        }
      ],
      "source": [
        "df_excel.head()"
      ]
    },
    {
      "cell_type": "markdown",
      "metadata": {
        "id": "rU6HIHIWOpmT"
      },
      "source": [
        "### GroupBy"
      ]
    },
    {
      "cell_type": "code",
      "execution_count": null,
      "metadata": {
        "id": "LjWy4TKSOpmT"
      },
      "outputs": [],
      "source": [
        "students = pd.read_csv('StudentsPerformance.csv')"
      ]
    },
    {
      "cell_type": "code",
      "execution_count": null,
      "metadata": {
        "id": "e8TOHy4QOpmT"
      },
      "outputs": [],
      "source": [
        "# colunas referentes as provadas\n",
        "provas = students.columns.to_list()[-3:]"
      ]
    },
    {
      "cell_type": "code",
      "execution_count": null,
      "metadata": {
        "id": "bCiz-3sTOpmT"
      },
      "outputs": [],
      "source": [
        "# média das provas\n",
        "students['mean'] = students[provas].mean(axis = 1).round(2)"
      ]
    },
    {
      "cell_type": "code",
      "execution_count": null,
      "metadata": {
        "id": "rzyv-ttXOpmT",
        "outputId": "f47cc244-ba8a-4353-b8bc-c1ada793541b"
      },
      "outputs": [
        {
          "data": {
            "text/plain": [
              "gender                           2\n",
              "race/ethnicity                   5\n",
              "parental level of education      6\n",
              "lunch                            2\n",
              "test preparation course          2\n",
              "math score                      81\n",
              "reading score                   72\n",
              "writing score                   77\n",
              "mean                           194\n",
              "dtype: int64"
            ]
          },
          "execution_count": 235,
          "metadata": {},
          "output_type": "execute_result"
        }
      ],
      "source": [
        "# quantidade de valores únicos em cada coluna\n",
        "students.nunique()"
      ]
    },
    {
      "cell_type": "code",
      "execution_count": null,
      "metadata": {
        "id": "yZNIiufrOpmT",
        "outputId": "5c713464-8e91-4a5f-d502-45dee266ec09"
      },
      "outputs": [
        {
          "data": {
            "text/plain": [
              "female    518\n",
              "male      482\n",
              "Name: gender, dtype: int64"
            ]
          },
          "execution_count": 236,
          "metadata": {},
          "output_type": "execute_result"
        }
      ],
      "source": [
        "# proporção entre os gêneros (absoluto)\n",
        "students.gender.value_counts()"
      ]
    },
    {
      "cell_type": "code",
      "execution_count": null,
      "metadata": {
        "id": "s37oQWOrOpmU",
        "outputId": "14e1a7fa-e9bd-4a59-cbf8-0308035bcc59"
      },
      "outputs": [
        {
          "data": {
            "text/plain": [
              "female    0.518\n",
              "male      0.482\n",
              "Name: gender, dtype: float64"
            ]
          },
          "execution_count": 237,
          "metadata": {},
          "output_type": "execute_result"
        }
      ],
      "source": [
        "# proporção entre os gêneros (percentual)\n",
        "students.gender.value_counts(normalize = True)"
      ]
    },
    {
      "cell_type": "code",
      "execution_count": null,
      "metadata": {
        "id": "CNOADe6qOpmU",
        "outputId": "14d73ec9-9c46-4f87-ab50-d2686b527ff7"
      },
      "outputs": [
        {
          "data": {
            "text/plain": [
              "['Female', 'Male']"
            ]
          },
          "execution_count": 238,
          "metadata": {},
          "output_type": "execute_result"
        }
      ],
      "source": [
        "students.gender.value_counts().index.str.title().to_list()"
      ]
    },
    {
      "cell_type": "code",
      "execution_count": null,
      "metadata": {
        "id": "b3kSAPa-OpmU",
        "outputId": "150418cb-a64d-47f0-f164-4f01ea1741e8"
      },
      "outputs": [
        {
          "data": {
            "image/png": "[encoded data removed]",
            "text/plain": [
              "<Figure size 576x360 with 1 Axes>"
            ]
          },
          "metadata": {
            "needs_background": "light"
          },
          "output_type": "display_data"
        }
      ],
      "source": [
        "col = 'gender'\n",
        "ratio = students[col].value_counts()\n",
        "xticks = ratio.index.str.title().to_list()\n",
        "xticks_list = [index for index, value in enumerate(students[col].value_counts().index)]\n",
        "ratio.plot(kind = 'bar', figsize = (8, 5))\n",
        "plt.title(f'{col.title()} ratio', fontsize = 12)\n",
        "plt.xlabel(col)\n",
        "plt.ylabel('Quantity')\n",
        "plt.xticks(xticks_list, xticks, rotation = 0)\n",
        "plt.show()"
      ]
    },
    {
      "cell_type": "markdown",
      "metadata": {
        "id": "4qE633JxOpmU"
      },
      "source": [
        "Agora podemos criar uma funçao para encapsular o código anterior, de forma que apliquemos este plot para outras colunas."
      ]
    },
    {
      "cell_type": "code",
      "execution_count": null,
      "metadata": {
        "id": "A6UCB6DuOpmU"
      },
      "outputs": [],
      "source": [
        "def show_proportion(col, rotation = 0):\n",
        "    ratio = students[col].value_counts()\n",
        "    xticks = ratio.index.str.title().to_list()\n",
        "    xticks_list = [index for index, value in enumerate(students[col].value_counts().index)]\n",
        "    ratio.plot(kind = 'bar', figsize = (8, 5))\n",
        "    plt.title(f'{col.title()} ratio', fontsize = 12)\n",
        "    plt.xlabel(col)\n",
        "    plt.ylabel('Quantity')\n",
        "    plt.xticks(xticks_list, xticks, rotation = rotation)\n",
        "    plt.show()\n",
        "    "
      ]
    },
    {
      "cell_type": "code",
      "execution_count": null,
      "metadata": {
        "id": "0O_BeCQGOpmU",
        "outputId": "e4cd8f6e-0c93-4dd5-ae73-544106fe925a"
      },
      "outputs": [
        {
          "data": {
            "image/png": "[encoded data removed]",
            "text/plain": [
              "<Figure size 576x360 with 1 Axes>"
            ]
          },
          "metadata": {
            "needs_background": "light"
          },
          "output_type": "display_data"
        }
      ],
      "source": [
        "# executa a função\n",
        "show_proportion('gender')"
      ]
    },
    {
      "cell_type": "code",
      "execution_count": null,
      "metadata": {
        "id": "B7ss9cjhOpmU",
        "outputId": "ce240017-5af6-456d-d5c0-e36d5f7e9931"
      },
      "outputs": [
        {
          "data": {
            "text/plain": [
              "some college          22.6\n",
              "associate's degree    22.2\n",
              "high school           19.6\n",
              "some high school      17.9\n",
              "bachelor's degree     11.8\n",
              "master's degree        5.9\n",
              "Name: parental level of education, dtype: float64"
            ]
          },
          "execution_count": 242,
          "metadata": {},
          "output_type": "execute_result"
        }
      ],
      "source": [
        "(students['parental level of education'].value_counts(normalize = True)\\\n",
        ".sort_values(ascending = False)*100).round(2)"
      ]
    },
    {
      "cell_type": "code",
      "execution_count": null,
      "metadata": {
        "id": "nExflJk2OpmU",
        "outputId": "9c81d9ce-9ea6-4345-85c6-04f0ec654e64"
      },
      "outputs": [
        {
          "data": {
            "image/png": "[encoded data removed]",
            "text/plain": [
              "<Figure size 576x360 with 1 Axes>"
            ]
          },
          "metadata": {
            "needs_background": "light"
          },
          "output_type": "display_data"
        }
      ],
      "source": [
        "show_proportion('parental level of education', rotation = 45)"
      ]
    },
    {
      "cell_type": "markdown",
      "metadata": {
        "id": "3j_iHCqqOpmV"
      },
      "source": [
        "Podemos mapear as informações por gênero:"
      ]
    },
    {
      "cell_type": "code",
      "execution_count": null,
      "metadata": {
        "id": "dwNDVXNpOpmV",
        "outputId": "b03580ec-09de-47d8-b9b3-8b24ee13cd9d"
      },
      "outputs": [
        {
          "data": {
            "text/html": [
              "<div>\n",
              "<style scoped>\n",
              "    .dataframe tbody tr th:only-of-type {\n",
              "        vertical-align: middle;\n",
              "    }\n",
              "\n",
              "    .dataframe tbody tr th {\n",
              "        vertical-align: top;\n",
              "    }\n",
              "\n",
              "    .dataframe thead th {\n",
              "        text-align: right;\n",
              "    }\n",
              "</style>\n",
              "<table border=\"1\" class=\"dataframe\">\n",
              "  <thead>\n",
              "    <tr style=\"text-align: right;\">\n",
              "      <th></th>\n",
              "      <th>gender</th>\n",
              "      <th>race/ethnicity</th>\n",
              "      <th>parental level of education</th>\n",
              "      <th>lunch</th>\n",
              "      <th>test preparation course</th>\n",
              "      <th>math score</th>\n",
              "      <th>reading score</th>\n",
              "      <th>writing score</th>\n",
              "      <th>mean</th>\n",
              "    </tr>\n",
              "  </thead>\n",
              "  <tbody>\n",
              "    <tr>\n",
              "      <th>0</th>\n",
              "      <td>female</td>\n",
              "      <td>group B</td>\n",
              "      <td>bachelor's degree</td>\n",
              "      <td>standard</td>\n",
              "      <td>none</td>\n",
              "      <td>72</td>\n",
              "      <td>72</td>\n",
              "      <td>74</td>\n",
              "      <td>72.67</td>\n",
              "    </tr>\n",
              "    <tr>\n",
              "      <th>1</th>\n",
              "      <td>female</td>\n",
              "      <td>group C</td>\n",
              "      <td>some college</td>\n",
              "      <td>standard</td>\n",
              "      <td>completed</td>\n",
              "      <td>69</td>\n",
              "      <td>90</td>\n",
              "      <td>88</td>\n",
              "      <td>82.33</td>\n",
              "    </tr>\n",
              "    <tr>\n",
              "      <th>2</th>\n",
              "      <td>female</td>\n",
              "      <td>group B</td>\n",
              "      <td>master's degree</td>\n",
              "      <td>standard</td>\n",
              "      <td>none</td>\n",
              "      <td>90</td>\n",
              "      <td>95</td>\n",
              "      <td>93</td>\n",
              "      <td>92.67</td>\n",
              "    </tr>\n",
              "    <tr>\n",
              "      <th>3</th>\n",
              "      <td>male</td>\n",
              "      <td>group A</td>\n",
              "      <td>associate's degree</td>\n",
              "      <td>free/reduced</td>\n",
              "      <td>none</td>\n",
              "      <td>47</td>\n",
              "      <td>57</td>\n",
              "      <td>44</td>\n",
              "      <td>49.33</td>\n",
              "    </tr>\n",
              "    <tr>\n",
              "      <th>4</th>\n",
              "      <td>male</td>\n",
              "      <td>group C</td>\n",
              "      <td>some college</td>\n",
              "      <td>standard</td>\n",
              "      <td>none</td>\n",
              "      <td>76</td>\n",
              "      <td>78</td>\n",
              "      <td>75</td>\n",
              "      <td>76.33</td>\n",
              "    </tr>\n",
              "  </tbody>\n",
              "</table>\n",
              "</div>"
            ],
            "text/plain": [
              "   gender race/ethnicity parental level of education         lunch  \\\n",
              "0  female        group B           bachelor's degree      standard   \n",
              "1  female        group C                some college      standard   \n",
              "2  female        group B             master's degree      standard   \n",
              "3    male        group A          associate's degree  free/reduced   \n",
              "4    male        group C                some college      standard   \n",
              "\n",
              "  test preparation course  math score  reading score  writing score   mean  \n",
              "0                    none          72             72             74  72.67  \n",
              "1               completed          69             90             88  82.33  \n",
              "2                    none          90             95             93  92.67  \n",
              "3                    none          47             57             44  49.33  \n",
              "4                    none          76             78             75  76.33  "
            ]
          },
          "execution_count": 244,
          "metadata": {},
          "output_type": "execute_result"
        }
      ],
      "source": [
        "students.head()"
      ]
    },
    {
      "cell_type": "code",
      "execution_count": null,
      "metadata": {
        "id": "j8NZEvNoOpmV",
        "outputId": "e9050d46-8cc8-4cd0-8b31-ed247ef62bfc"
      },
      "outputs": [
        {
          "data": {
            "image/png": "[encoded data removed]",
            "text/plain": [
              "<Figure size 720x360 with 1 Axes>"
            ]
          },
          "metadata": {
            "needs_background": "light"
          },
          "output_type": "display_data"
        }
      ],
      "source": [
        "plt.figure(figsize = (10, 5))\n",
        "sns.countplot(\n",
        "    data = students, \n",
        "    x = 'parental level of education',\n",
        "    hue = 'gender'\n",
        ")\n",
        "plt.title('Parents level of education by gender', pad = 20);"
      ]
    },
    {
      "cell_type": "code",
      "execution_count": null,
      "metadata": {
        "id": "wYTTlFVhOpmV",
        "outputId": "1c653dc7-a410-42b4-97cf-cc009404dd30"
      },
      "outputs": [
        {
          "data": {
            "text/html": [
              "<div>\n",
              "<style scoped>\n",
              "    .dataframe tbody tr th:only-of-type {\n",
              "        vertical-align: middle;\n",
              "    }\n",
              "\n",
              "    .dataframe tbody tr th {\n",
              "        vertical-align: top;\n",
              "    }\n",
              "\n",
              "    .dataframe thead th {\n",
              "        text-align: right;\n",
              "    }\n",
              "</style>\n",
              "<table border=\"1\" class=\"dataframe\">\n",
              "  <thead>\n",
              "    <tr style=\"text-align: right;\">\n",
              "      <th></th>\n",
              "      <th>math score</th>\n",
              "      <th>reading score</th>\n",
              "      <th>writing score</th>\n",
              "      <th>mean</th>\n",
              "    </tr>\n",
              "  </thead>\n",
              "  <tbody>\n",
              "    <tr>\n",
              "      <th>count</th>\n",
              "      <td>1000.00000</td>\n",
              "      <td>1000.000000</td>\n",
              "      <td>1000.000000</td>\n",
              "      <td>1000.000000</td>\n",
              "    </tr>\n",
              "    <tr>\n",
              "      <th>mean</th>\n",
              "      <td>66.08900</td>\n",
              "      <td>69.169000</td>\n",
              "      <td>68.054000</td>\n",
              "      <td>67.770580</td>\n",
              "    </tr>\n",
              "    <tr>\n",
              "      <th>std</th>\n",
              "      <td>15.16308</td>\n",
              "      <td>14.600192</td>\n",
              "      <td>15.195657</td>\n",
              "      <td>14.257311</td>\n",
              "    </tr>\n",
              "    <tr>\n",
              "      <th>min</th>\n",
              "      <td>0.00000</td>\n",
              "      <td>17.000000</td>\n",
              "      <td>10.000000</td>\n",
              "      <td>9.000000</td>\n",
              "    </tr>\n",
              "    <tr>\n",
              "      <th>25%</th>\n",
              "      <td>57.00000</td>\n",
              "      <td>59.000000</td>\n",
              "      <td>57.750000</td>\n",
              "      <td>58.330000</td>\n",
              "    </tr>\n",
              "    <tr>\n",
              "      <th>50%</th>\n",
              "      <td>66.00000</td>\n",
              "      <td>70.000000</td>\n",
              "      <td>69.000000</td>\n",
              "      <td>68.330000</td>\n",
              "    </tr>\n",
              "    <tr>\n",
              "      <th>75%</th>\n",
              "      <td>77.00000</td>\n",
              "      <td>79.000000</td>\n",
              "      <td>79.000000</td>\n",
              "      <td>77.670000</td>\n",
              "    </tr>\n",
              "    <tr>\n",
              "      <th>max</th>\n",
              "      <td>100.00000</td>\n",
              "      <td>100.000000</td>\n",
              "      <td>100.000000</td>\n",
              "      <td>100.000000</td>\n",
              "    </tr>\n",
              "  </tbody>\n",
              "</table>\n",
              "</div>"
            ],
            "text/plain": [
              "       math score  reading score  writing score         mean\n",
              "count  1000.00000    1000.000000    1000.000000  1000.000000\n",
              "mean     66.08900      69.169000      68.054000    67.770580\n",
              "std      15.16308      14.600192      15.195657    14.257311\n",
              "min       0.00000      17.000000      10.000000     9.000000\n",
              "25%      57.00000      59.000000      57.750000    58.330000\n",
              "50%      66.00000      70.000000      69.000000    68.330000\n",
              "75%      77.00000      79.000000      79.000000    77.670000\n",
              "max     100.00000     100.000000     100.000000   100.000000"
            ]
          },
          "execution_count": 246,
          "metadata": {},
          "output_type": "execute_result"
        }
      ],
      "source": [
        "students.describe()"
      ]
    },
    {
      "cell_type": "code",
      "execution_count": null,
      "metadata": {
        "id": "q2Uc52w7OpmV",
        "outputId": "3b07e3ea-2553-441a-fdee-901ae0ff2702"
      },
      "outputs": [
        {
          "data": {
            "image/png": "[encoded data removed]",
            "text/plain": [
              "<Figure size 720x360 with 1 Axes>"
            ]
          },
          "metadata": {
            "needs_background": "light"
          },
          "output_type": "display_data"
        }
      ],
      "source": [
        "students[provas].plot(kind = 'box', figsize = (10,5))\n",
        "plt.title('Boxplot score');"
      ]
    },
    {
      "cell_type": "code",
      "execution_count": null,
      "metadata": {
        "id": "iul_LwJMOpmV",
        "outputId": "0c47e863-cdb5-475b-a3ad-6ff8cf7c4de6"
      },
      "outputs": [
        {
          "data": {
            "text/plain": [
              "gender\n",
              "female    63.633205\n",
              "male      68.728216\n",
              "Name: math score, dtype: float64"
            ]
          },
          "execution_count": 248,
          "metadata": {},
          "output_type": "execute_result"
        }
      ],
      "source": [
        "# média em matemática por gênero\n",
        "students.groupby(by = 'gender')['math score'].mean()"
      ]
    },
    {
      "cell_type": "markdown",
      "metadata": {
        "id": "u3uD39x3OpmV"
      },
      "source": [
        "Vamos supor que, caso o aluno tenha pontuado acima de 70 pontos, tenha sido aprovado. Assim, vamos mapear os possíveis casos de forma agregada."
      ]
    },
    {
      "cell_type": "code",
      "execution_count": null,
      "metadata": {
        "id": "9MUezaaFOpmV",
        "outputId": "3bae13b5-ea99-468b-b82b-44c1f3d277cc"
      },
      "outputs": [
        {
          "data": {
            "text/html": [
              "<div>\n",
              "<style scoped>\n",
              "    .dataframe tbody tr th:only-of-type {\n",
              "        vertical-align: middle;\n",
              "    }\n",
              "\n",
              "    .dataframe tbody tr th {\n",
              "        vertical-align: top;\n",
              "    }\n",
              "\n",
              "    .dataframe thead th {\n",
              "        text-align: right;\n",
              "    }\n",
              "</style>\n",
              "<table border=\"1\" class=\"dataframe\">\n",
              "  <thead>\n",
              "    <tr style=\"text-align: right;\">\n",
              "      <th></th>\n",
              "      <th>min</th>\n",
              "      <th>mean</th>\n",
              "      <th>std</th>\n",
              "      <th>median</th>\n",
              "      <th>max</th>\n",
              "    </tr>\n",
              "    <tr>\n",
              "      <th>gender</th>\n",
              "      <th></th>\n",
              "      <th></th>\n",
              "      <th></th>\n",
              "      <th></th>\n",
              "      <th></th>\n",
              "    </tr>\n",
              "  </thead>\n",
              "  <tbody>\n",
              "    <tr>\n",
              "      <th>female</th>\n",
              "      <td>0</td>\n",
              "      <td>63.633205</td>\n",
              "      <td>15.491453</td>\n",
              "      <td>65</td>\n",
              "      <td>100</td>\n",
              "    </tr>\n",
              "    <tr>\n",
              "      <th>male</th>\n",
              "      <td>27</td>\n",
              "      <td>68.728216</td>\n",
              "      <td>14.356277</td>\n",
              "      <td>69</td>\n",
              "      <td>100</td>\n",
              "    </tr>\n",
              "  </tbody>\n",
              "</table>\n",
              "</div>"
            ],
            "text/plain": [
              "        min       mean        std  median  max\n",
              "gender                                        \n",
              "female    0  63.633205  15.491453      65  100\n",
              "male     27  68.728216  14.356277      69  100"
            ]
          },
          "execution_count": 249,
          "metadata": {},
          "output_type": "execute_result"
        }
      ],
      "source": [
        "# estatísticas descritivas de matemática por gênero\n",
        "students.groupby(by = 'gender')['math score'].agg([min, np.mean, np.std, np.median, max])"
      ]
    },
    {
      "cell_type": "code",
      "execution_count": null,
      "metadata": {
        "id": "jFqsasopOpmW",
        "outputId": "9d48d3ce-4afc-460d-e6ea-2d9a39e68b65"
      },
      "outputs": [
        {
          "data": {
            "text/html": [
              "<div>\n",
              "<style scoped>\n",
              "    .dataframe tbody tr th:only-of-type {\n",
              "        vertical-align: middle;\n",
              "    }\n",
              "\n",
              "    .dataframe tbody tr th {\n",
              "        vertical-align: top;\n",
              "    }\n",
              "\n",
              "    .dataframe thead th {\n",
              "        text-align: right;\n",
              "    }\n",
              "</style>\n",
              "<table border=\"1\" class=\"dataframe\">\n",
              "  <thead>\n",
              "    <tr style=\"text-align: right;\">\n",
              "      <th></th>\n",
              "      <th>math score</th>\n",
              "      <th>reading score</th>\n",
              "      <th>writing score</th>\n",
              "    </tr>\n",
              "    <tr>\n",
              "      <th>gender</th>\n",
              "      <th></th>\n",
              "      <th></th>\n",
              "      <th></th>\n",
              "    </tr>\n",
              "  </thead>\n",
              "  <tbody>\n",
              "    <tr>\n",
              "      <th>female</th>\n",
              "      <td>63.633205</td>\n",
              "      <td>72.608108</td>\n",
              "      <td>72.467181</td>\n",
              "    </tr>\n",
              "    <tr>\n",
              "      <th>male</th>\n",
              "      <td>68.728216</td>\n",
              "      <td>65.473029</td>\n",
              "      <td>63.311203</td>\n",
              "    </tr>\n",
              "  </tbody>\n",
              "</table>\n",
              "</div>"
            ],
            "text/plain": [
              "        math score  reading score  writing score\n",
              "gender                                          \n",
              "female   63.633205      72.608108      72.467181\n",
              "male     68.728216      65.473029      63.311203"
            ]
          },
          "execution_count": 250,
          "metadata": {},
          "output_type": "execute_result"
        }
      ],
      "source": [
        "students.groupby('gender')[provas].agg(np.mean)"
      ]
    },
    {
      "cell_type": "markdown",
      "metadata": {
        "id": "JLErDg4sOpmW"
      },
      "source": [
        "Agora vamos agrupar por gênero e lunch (tipo de refeição do aluno)."
      ]
    },
    {
      "cell_type": "code",
      "execution_count": null,
      "metadata": {
        "id": "aczhE4W2OpmW"
      },
      "outputs": [],
      "source": [
        "metrics = [np.mean, np.std, np.median, min, max]"
      ]
    },
    {
      "cell_type": "code",
      "execution_count": null,
      "metadata": {
        "id": "EflMkK0VOpmW",
        "outputId": "b04746bd-bb4c-4acb-ec6e-5468e0591bd4"
      },
      "outputs": [
        {
          "data": {
            "text/html": [
              "<div>\n",
              "<style scoped>\n",
              "    .dataframe tbody tr th:only-of-type {\n",
              "        vertical-align: middle;\n",
              "    }\n",
              "\n",
              "    .dataframe tbody tr th {\n",
              "        vertical-align: top;\n",
              "    }\n",
              "\n",
              "    .dataframe thead tr th {\n",
              "        text-align: left;\n",
              "    }\n",
              "</style>\n",
              "<table border=\"1\" class=\"dataframe\">\n",
              "  <thead>\n",
              "    <tr>\n",
              "      <th></th>\n",
              "      <th>gender</th>\n",
              "      <th colspan=\"2\" halign=\"left\">female</th>\n",
              "      <th colspan=\"2\" halign=\"left\">male</th>\n",
              "    </tr>\n",
              "    <tr>\n",
              "      <th></th>\n",
              "      <th>lunch</th>\n",
              "      <th>free/reduced</th>\n",
              "      <th>standard</th>\n",
              "      <th>free/reduced</th>\n",
              "      <th>standard</th>\n",
              "    </tr>\n",
              "  </thead>\n",
              "  <tbody>\n",
              "    <tr>\n",
              "      <th rowspan=\"5\" valign=\"top\">math score</th>\n",
              "      <th>mean</th>\n",
              "      <td>55.814815</td>\n",
              "      <td>68.124620</td>\n",
              "      <td>62.457831</td>\n",
              "      <td>72.022152</td>\n",
              "    </tr>\n",
              "    <tr>\n",
              "      <th>std</th>\n",
              "      <td>15.481375</td>\n",
              "      <td>13.617588</td>\n",
              "      <td>14.012809</td>\n",
              "      <td>13.425969</td>\n",
              "    </tr>\n",
              "    <tr>\n",
              "      <th>median</th>\n",
              "      <td>57.000000</td>\n",
              "      <td>67.000000</td>\n",
              "      <td>62.000000</td>\n",
              "      <td>72.000000</td>\n",
              "    </tr>\n",
              "    <tr>\n",
              "      <th>min</th>\n",
              "      <td>0.000000</td>\n",
              "      <td>19.000000</td>\n",
              "      <td>27.000000</td>\n",
              "      <td>30.000000</td>\n",
              "    </tr>\n",
              "    <tr>\n",
              "      <th>max</th>\n",
              "      <td>93.000000</td>\n",
              "      <td>100.000000</td>\n",
              "      <td>100.000000</td>\n",
              "      <td>100.000000</td>\n",
              "    </tr>\n",
              "    <tr>\n",
              "      <th rowspan=\"5\" valign=\"top\">reading score</th>\n",
              "      <th>mean</th>\n",
              "      <td>67.386243</td>\n",
              "      <td>75.607903</td>\n",
              "      <td>61.542169</td>\n",
              "      <td>67.537975</td>\n",
              "    </tr>\n",
              "    <tr>\n",
              "      <th>std</th>\n",
              "      <td>15.333666</td>\n",
              "      <td>12.897866</td>\n",
              "      <td>13.777717</td>\n",
              "      <td>13.584135</td>\n",
              "    </tr>\n",
              "    <tr>\n",
              "      <th>median</th>\n",
              "      <td>67.000000</td>\n",
              "      <td>75.000000</td>\n",
              "      <td>61.000000</td>\n",
              "      <td>67.500000</td>\n",
              "    </tr>\n",
              "    <tr>\n",
              "      <th>min</th>\n",
              "      <td>17.000000</td>\n",
              "      <td>29.000000</td>\n",
              "      <td>23.000000</td>\n",
              "      <td>26.000000</td>\n",
              "    </tr>\n",
              "    <tr>\n",
              "      <th>max</th>\n",
              "      <td>100.000000</td>\n",
              "      <td>100.000000</td>\n",
              "      <td>100.000000</td>\n",
              "      <td>100.000000</td>\n",
              "    </tr>\n",
              "    <tr>\n",
              "      <th rowspan=\"5\" valign=\"top\">writing score</th>\n",
              "      <th>mean</th>\n",
              "      <td>66.444444</td>\n",
              "      <td>75.927052</td>\n",
              "      <td>59.126506</td>\n",
              "      <td>65.509494</td>\n",
              "    </tr>\n",
              "    <tr>\n",
              "      <th>std</th>\n",
              "      <td>16.041281</td>\n",
              "      <td>12.920990</td>\n",
              "      <td>13.754193</td>\n",
              "      <td>13.820501</td>\n",
              "    </tr>\n",
              "    <tr>\n",
              "      <th>median</th>\n",
              "      <td>68.000000</td>\n",
              "      <td>76.000000</td>\n",
              "      <td>59.000000</td>\n",
              "      <td>67.000000</td>\n",
              "    </tr>\n",
              "    <tr>\n",
              "      <th>min</th>\n",
              "      <td>10.000000</td>\n",
              "      <td>30.000000</td>\n",
              "      <td>15.000000</td>\n",
              "      <td>22.000000</td>\n",
              "    </tr>\n",
              "    <tr>\n",
              "      <th>max</th>\n",
              "      <td>100.000000</td>\n",
              "      <td>100.000000</td>\n",
              "      <td>93.000000</td>\n",
              "      <td>100.000000</td>\n",
              "    </tr>\n",
              "  </tbody>\n",
              "</table>\n",
              "</div>"
            ],
            "text/plain": [
              "gender                     female                     male            \n",
              "lunch                free/reduced    standard free/reduced    standard\n",
              "math score    mean      55.814815   68.124620    62.457831   72.022152\n",
              "              std       15.481375   13.617588    14.012809   13.425969\n",
              "              median    57.000000   67.000000    62.000000   72.000000\n",
              "              min        0.000000   19.000000    27.000000   30.000000\n",
              "              max       93.000000  100.000000   100.000000  100.000000\n",
              "reading score mean      67.386243   75.607903    61.542169   67.537975\n",
              "              std       15.333666   12.897866    13.777717   13.584135\n",
              "              median    67.000000   75.000000    61.000000   67.500000\n",
              "              min       17.000000   29.000000    23.000000   26.000000\n",
              "              max      100.000000  100.000000   100.000000  100.000000\n",
              "writing score mean      66.444444   75.927052    59.126506   65.509494\n",
              "              std       16.041281   12.920990    13.754193   13.820501\n",
              "              median    68.000000   76.000000    59.000000   67.000000\n",
              "              min       10.000000   30.000000    15.000000   22.000000\n",
              "              max      100.000000  100.000000    93.000000  100.000000"
            ]
          },
          "execution_count": 252,
          "metadata": {},
          "output_type": "execute_result"
        }
      ],
      "source": [
        "students.groupby(by = ['gender', 'lunch'])[provas].agg(metrics).T"
      ]
    },
    {
      "cell_type": "code",
      "execution_count": null,
      "metadata": {
        "id": "_t6kFZcsOpmW",
        "outputId": "28fd5184-1212-4551-ec14-5429609502de"
      },
      "outputs": [
        {
          "data": {
            "text/html": [
              "<div>\n",
              "<style scoped>\n",
              "    .dataframe tbody tr th:only-of-type {\n",
              "        vertical-align: middle;\n",
              "    }\n",
              "\n",
              "    .dataframe tbody tr th {\n",
              "        vertical-align: top;\n",
              "    }\n",
              "\n",
              "    .dataframe thead th {\n",
              "        text-align: right;\n",
              "    }\n",
              "</style>\n",
              "<table border=\"1\" class=\"dataframe\">\n",
              "  <thead>\n",
              "    <tr style=\"text-align: right;\">\n",
              "      <th></th>\n",
              "      <th>math score</th>\n",
              "      <th>reading score</th>\n",
              "      <th>writing score</th>\n",
              "    </tr>\n",
              "    <tr>\n",
              "      <th>parental level of education</th>\n",
              "      <th></th>\n",
              "      <th></th>\n",
              "      <th></th>\n",
              "    </tr>\n",
              "  </thead>\n",
              "  <tbody>\n",
              "    <tr>\n",
              "      <th>associate's degree</th>\n",
              "      <td>67.882883</td>\n",
              "      <td>70.927928</td>\n",
              "      <td>69.896396</td>\n",
              "    </tr>\n",
              "    <tr>\n",
              "      <th>bachelor's degree</th>\n",
              "      <td>69.389831</td>\n",
              "      <td>73.000000</td>\n",
              "      <td>73.381356</td>\n",
              "    </tr>\n",
              "    <tr>\n",
              "      <th>high school</th>\n",
              "      <td>62.137755</td>\n",
              "      <td>64.704082</td>\n",
              "      <td>62.448980</td>\n",
              "    </tr>\n",
              "    <tr>\n",
              "      <th>master's degree</th>\n",
              "      <td>69.745763</td>\n",
              "      <td>75.372881</td>\n",
              "      <td>75.677966</td>\n",
              "    </tr>\n",
              "    <tr>\n",
              "      <th>some college</th>\n",
              "      <td>67.128319</td>\n",
              "      <td>69.460177</td>\n",
              "      <td>68.840708</td>\n",
              "    </tr>\n",
              "    <tr>\n",
              "      <th>some high school</th>\n",
              "      <td>63.497207</td>\n",
              "      <td>66.938547</td>\n",
              "      <td>64.888268</td>\n",
              "    </tr>\n",
              "  </tbody>\n",
              "</table>\n",
              "</div>"
            ],
            "text/plain": [
              "                             math score  reading score  writing score\n",
              "parental level of education                                          \n",
              "associate's degree            67.882883      70.927928      69.896396\n",
              "bachelor's degree             69.389831      73.000000      73.381356\n",
              "high school                   62.137755      64.704082      62.448980\n",
              "master's degree               69.745763      75.372881      75.677966\n",
              "some college                  67.128319      69.460177      68.840708\n",
              "some high school              63.497207      66.938547      64.888268"
            ]
          },
          "execution_count": 253,
          "metadata": {},
          "output_type": "execute_result"
        }
      ],
      "source": [
        "students.groupby('parental level of education')[provas].mean()"
      ]
    },
    {
      "cell_type": "markdown",
      "metadata": {
        "id": "xw0dWwk-OpmW"
      },
      "source": [
        "Façamos um agrupamento por raça/etnia e grau de instrução familiar:"
      ]
    },
    {
      "cell_type": "code",
      "execution_count": null,
      "metadata": {
        "id": "ZG1AzidNOpmW",
        "outputId": "8b01edc3-8e0c-4d1e-a250-52ca20771d30"
      },
      "outputs": [
        {
          "data": {
            "text/html": [
              "<div>\n",
              "<style scoped>\n",
              "    .dataframe tbody tr th:only-of-type {\n",
              "        vertical-align: middle;\n",
              "    }\n",
              "\n",
              "    .dataframe tbody tr th {\n",
              "        vertical-align: top;\n",
              "    }\n",
              "\n",
              "    .dataframe thead tr th {\n",
              "        text-align: left;\n",
              "    }\n",
              "</style>\n",
              "<table border=\"1\" class=\"dataframe\">\n",
              "  <thead>\n",
              "    <tr>\n",
              "      <th>race/ethnicity</th>\n",
              "      <th colspan=\"6\" halign=\"left\">group A</th>\n",
              "      <th colspan=\"4\" halign=\"left\">group B</th>\n",
              "      <th>...</th>\n",
              "      <th colspan=\"4\" halign=\"left\">group D</th>\n",
              "      <th colspan=\"6\" halign=\"left\">group E</th>\n",
              "    </tr>\n",
              "    <tr>\n",
              "      <th>parental level of education</th>\n",
              "      <th>associate's degree</th>\n",
              "      <th>bachelor's degree</th>\n",
              "      <th>high school</th>\n",
              "      <th>master's degree</th>\n",
              "      <th>some college</th>\n",
              "      <th>some high school</th>\n",
              "      <th>associate's degree</th>\n",
              "      <th>bachelor's degree</th>\n",
              "      <th>high school</th>\n",
              "      <th>master's degree</th>\n",
              "      <th>...</th>\n",
              "      <th>high school</th>\n",
              "      <th>master's degree</th>\n",
              "      <th>some college</th>\n",
              "      <th>some high school</th>\n",
              "      <th>associate's degree</th>\n",
              "      <th>bachelor's degree</th>\n",
              "      <th>high school</th>\n",
              "      <th>master's degree</th>\n",
              "      <th>some college</th>\n",
              "      <th>some high school</th>\n",
              "    </tr>\n",
              "  </thead>\n",
              "  <tbody>\n",
              "    <tr>\n",
              "      <th>math score</th>\n",
              "      <td>61.000000</td>\n",
              "      <td>67.166667</td>\n",
              "      <td>60.444444</td>\n",
              "      <td>57.666667</td>\n",
              "      <td>63.888889</td>\n",
              "      <td>58.916667</td>\n",
              "      <td>66.097561</td>\n",
              "      <td>69.30</td>\n",
              "      <td>59.791667</td>\n",
              "      <td>67.166667</td>\n",
              "      <td>...</td>\n",
              "      <td>62.863636</td>\n",
              "      <td>72.521739</td>\n",
              "      <td>68.731343</td>\n",
              "      <td>66.76</td>\n",
              "      <td>74.897436</td>\n",
              "      <td>76.555556</td>\n",
              "      <td>70.772727</td>\n",
              "      <td>74.625</td>\n",
              "      <td>73.828571</td>\n",
              "      <td>72.111111</td>\n",
              "    </tr>\n",
              "    <tr>\n",
              "      <th>reading score</th>\n",
              "      <td>67.071429</td>\n",
              "      <td>68.083333</td>\n",
              "      <td>62.888889</td>\n",
              "      <td>64.666667</td>\n",
              "      <td>65.777778</td>\n",
              "      <td>62.083333</td>\n",
              "      <td>69.585366</td>\n",
              "      <td>72.95</td>\n",
              "      <td>63.458333</td>\n",
              "      <td>80.166667</td>\n",
              "      <td>...</td>\n",
              "      <td>64.409091</td>\n",
              "      <td>77.173913</td>\n",
              "      <td>70.880597</td>\n",
              "      <td>69.98</td>\n",
              "      <td>73.820513</td>\n",
              "      <td>74.833333</td>\n",
              "      <td>70.318182</td>\n",
              "      <td>82.125</td>\n",
              "      <td>72.628571</td>\n",
              "      <td>69.555556</td>\n",
              "    </tr>\n",
              "    <tr>\n",
              "      <th>writing score</th>\n",
              "      <td>63.571429</td>\n",
              "      <td>68.333333</td>\n",
              "      <td>60.500000</td>\n",
              "      <td>67.666667</td>\n",
              "      <td>65.000000</td>\n",
              "      <td>58.583333</td>\n",
              "      <td>68.243902</td>\n",
              "      <td>71.65</td>\n",
              "      <td>61.250000</td>\n",
              "      <td>77.166667</td>\n",
              "      <td>...</td>\n",
              "      <td>63.159091</td>\n",
              "      <td>79.739130</td>\n",
              "      <td>71.701493</td>\n",
              "      <td>69.10</td>\n",
              "      <td>73.205128</td>\n",
              "      <td>75.388889</td>\n",
              "      <td>67.545455</td>\n",
              "      <td>80.500</td>\n",
              "      <td>70.200000</td>\n",
              "      <td>66.555556</td>\n",
              "    </tr>\n",
              "  </tbody>\n",
              "</table>\n",
              "<p>3 rows × 30 columns</p>\n",
              "</div>"
            ],
            "text/plain": [
              "race/ethnicity                         group A                                \\\n",
              "parental level of education associate's degree bachelor's degree high school   \n",
              "math score                           61.000000         67.166667   60.444444   \n",
              "reading score                        67.071429         68.083333   62.888889   \n",
              "writing score                        63.571429         68.333333   60.500000   \n",
              "\n",
              "race/ethnicity                                                             \\\n",
              "parental level of education master's degree some college some high school   \n",
              "math score                        57.666667    63.888889        58.916667   \n",
              "reading score                     64.666667    65.777778        62.083333   \n",
              "writing score                     67.666667    65.000000        58.583333   \n",
              "\n",
              "race/ethnicity                         group B                                \\\n",
              "parental level of education associate's degree bachelor's degree high school   \n",
              "math score                           66.097561             69.30   59.791667   \n",
              "reading score                        69.585366             72.95   63.458333   \n",
              "writing score                        68.243902             71.65   61.250000   \n",
              "\n",
              "race/ethnicity                               ...     group D                  \\\n",
              "parental level of education master's degree  ... high school master's degree   \n",
              "math score                        67.166667  ...   62.863636       72.521739   \n",
              "reading score                     80.166667  ...   64.409091       77.173913   \n",
              "writing score                     77.166667  ...   63.159091       79.739130   \n",
              "\n",
              "race/ethnicity                                                       group E  \\\n",
              "parental level of education some college some high school associate's degree   \n",
              "math score                     68.731343            66.76          74.897436   \n",
              "reading score                  70.880597            69.98          73.820513   \n",
              "writing score                  71.701493            69.10          73.205128   \n",
              "\n",
              "race/ethnicity                                                             \\\n",
              "parental level of education bachelor's degree high school master's degree   \n",
              "math score                          76.555556   70.772727          74.625   \n",
              "reading score                       74.833333   70.318182          82.125   \n",
              "writing score                       75.388889   67.545455          80.500   \n",
              "\n",
              "race/ethnicity                                             \n",
              "parental level of education some college some high school  \n",
              "math score                     73.828571        72.111111  \n",
              "reading score                  72.628571        69.555556  \n",
              "writing score                  70.200000        66.555556  \n",
              "\n",
              "[3 rows x 30 columns]"
            ]
          },
          "execution_count": 254,
          "metadata": {},
          "output_type": "execute_result"
        }
      ],
      "source": [
        "(students.groupby(['race/ethnicity', 'parental level of education'])\n",
        " [provas]).agg(np.mean).T"
      ]
    },
    {
      "cell_type": "markdown",
      "metadata": {
        "id": "QbxEMA0yOpmW"
      },
      "source": [
        "### Materiais adicionais e referências\n",
        "* https://datascience.quantecon.org/pandas/index.html\n",
        "* https://www.kaggle.com/abdullahsahin/step-by-step-pandas-tutorial-for-beginner\n",
        "* https://www.kaggle.com/kralmachine/pandas-tutorial-for-beginners\n",
        "* https://www.kaggle.com/prashant111/comprehensive-data-analysis-with-pandas\n",
        "* https://www.w3schools.com/python/pandas/default.asp\n",
        "* https://www.geeksforgeeks.org/pandas-tutorial/\n",
        "* https://jakevdp.github.io/PythonDataScienceHandbook/"
      ]
    }
  ],
  "metadata": {
    "kernelspec": {
      "display_name": "Python 3",
      "language": "python",
      "name": "python3"
    },
    "language_info": {
      "codemirror_mode": {
        "name": "ipython",
        "version": 3
      },
      "file_extension": ".py",
      "mimetype": "text/x-python",
      "name": "python",
      "nbconvert_exporter": "python",
      "pygments_lexer": "ipython3",
      "version": "3.8.10"
    },
    "colab": {
      "name": "Dia4_Bootcamp_DataVikings.ipynb",
      "provenance": [],
      "include_colab_link": true
    }
  },
  "nbformat": 4,
  "nbformat_minor": 0
}