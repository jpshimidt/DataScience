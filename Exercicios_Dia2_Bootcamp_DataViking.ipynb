{
  "nbformat": 4,
  "nbformat_minor": 0,
  "metadata": {
    "colab": {
      "name": "Exercicios_Dia2_Bootcamp_DataViking.ipynb",
      "provenance": [],
      "include_colab_link": true
    },
    "kernelspec": {
      "name": "python3",
      "display_name": "Python 3"
    },
    "language_info": {
      "name": "python"
    }
  },
  "cells": [
    {
      "cell_type": "markdown",
      "metadata": {
        "id": "view-in-github",
        "colab_type": "text"
      },
      "source": [
        "<a href=\"https://colab.research.google.com/github/jpshimidt/DataScience/blob/main/Exercicios_Dia2_Bootcamp_DataViking.ipynb\" target=\"_parent\"><img src=\"https://colab.research.google.com/assets/colab-badge.svg\" alt=\"Open In Colab\"/></a>"
      ]
    },
    {
      "cell_type": "markdown",
      "source": [
        "#Exercicios propostos - Dia 2 - Bootcamp Data Vikings"
      ],
      "metadata": {
        "id": "089Xbo_SSXQq"
      }
    },
    {
      "cell_type": "markdown",
      "source": [
        "##Exercicio 1 - Maior de idade"
      ],
      "metadata": {
        "id": "-c2ZO7NHSf3R"
      }
    },
    {
      "cell_type": "code",
      "execution_count": 6,
      "metadata": {
        "colab": {
          "base_uri": "https://localhost:8080/"
        },
        "id": "8CW-uzoGSVvv",
        "outputId": "0c87ec6a-ccf0-401a-d110-80b84a355f56"
      },
      "outputs": [
        {
          "output_type": "stream",
          "name": "stdout",
          "text": [
            "Qual a sua idade? 17\n",
            "Ops! Você é menor de idade!\n"
          ]
        }
      ],
      "source": [
        "# input da idade\n",
        "Idade = int(input('Qual a sua idade? '))\n",
        "\n",
        "# Verificacao se Maior de Idade e impressao da mensagem de retorno\n",
        "if(Idade >= 18) :\n",
        "  print(\"Você é maior de idade!!!\")\n",
        "\n",
        "else :\n",
        "  print(\"Ops! Você é menor de idade!\")\n"
      ]
    },
    {
      "cell_type": "markdown",
      "source": [
        "##Exercicio 2 - Imposto no salário"
      ],
      "metadata": {
        "id": "aS8pKIt9T0aH"
      }
    },
    {
      "cell_type": "code",
      "source": [
        "# input do salario\n",
        "Salario = float(input('Qual o seu salário: '))\n",
        "\n",
        "#Condicoes do imposto a partir do salario\n",
        "if(Salario >= 3751.06):\n",
        "  SalarioLiquido = Salario - (Salario * 0.225) #22,5%\n",
        "  print(\"Salário liquido: \", SalarioLiquido)\n",
        "\n",
        "elif(Salario >= 2826.66):\n",
        "  SalarioLiquido = Salario - (Salario * 0.15) #15%\n",
        "  print(\"Salário liquido: \", SalarioLiquido)\n",
        "\n",
        "elif(Salario >= 1903.99):\n",
        "  SalarioLiquido = Salario - (Salario * 0.075) #7,5%\n",
        "  print(\"Salário liquido: \", SalarioLiquido)\n",
        "\n",
        "else:\n",
        "    print(\"Salário liquido: \", Salario) #0%"
      ],
      "metadata": {
        "colab": {
          "base_uri": "https://localhost:8080/"
        },
        "id": "b32IsoEVTjv0",
        "outputId": "cea8943d-1ca8-4f4b-cceb-43202c50ec86"
      },
      "execution_count": 7,
      "outputs": [
        {
          "output_type": "stream",
          "name": "stdout",
          "text": [
            "Qual o seu salário: 2000\n",
            "Salário liquido:  1850.0\n"
          ]
        }
      ]
    },
    {
      "cell_type": "markdown",
      "source": [
        "##Exercicio 3 - Dois numeros"
      ],
      "metadata": {
        "id": "K0suNe0hW38n"
      }
    },
    {
      "cell_type": "code",
      "source": [
        "# input do nome e sobrenome\n",
        "PrimeiroNumero = float(input('Digite algum valor: '))\n",
        "SegundoNumero = float(input('Digite outro valor: '))\n",
        "\n",
        "#Impressao da mensagem de retorno\n",
        "if(PrimeiroNumero > SegundoNumero):\n",
        "  print(\"*** O primeiro número é maior que o segundo número ***\")\n",
        "else :\n",
        "  print(\"*** O segundo número é maior que o primeiro número ***\")"
      ],
      "metadata": {
        "colab": {
          "base_uri": "https://localhost:8080/"
        },
        "id": "1RbPkyiiUvJ3",
        "outputId": "89c633cc-4948-4652-c07d-2da86caface6"
      },
      "execution_count": 8,
      "outputs": [
        {
          "output_type": "stream",
          "name": "stdout",
          "text": [
            "Digite algum valor: 5\n",
            "Digite outro valor: 10\n",
            "*** O segundo número é maior que o primeiro número ***\n"
          ]
        }
      ]
    },
    {
      "cell_type": "markdown",
      "source": [
        "##Exercicio 4 - Valor positivo ou negativo"
      ],
      "metadata": {
        "id": "oWLYxJRap9WS"
      }
    },
    {
      "cell_type": "code",
      "source": [
        "# input do nome e sobrenome\n",
        "numero = float(input('Passe um valor positivo ou negativo: '))\n",
        "\n",
        "#Impressao da mensagem de retorno\n",
        "if(numero >= 0):\n",
        "  print(\"*** Número é positivo ***\")\n",
        "else :\n",
        "  print(\"*** Número é negativo ***\")"
      ],
      "metadata": {
        "id": "mshZzExOnb9L",
        "colab": {
          "base_uri": "https://localhost:8080/"
        },
        "outputId": "8d2bf9b5-f4bb-43d1-f1b6-bfe74531f24d"
      },
      "execution_count": 9,
      "outputs": [
        {
          "output_type": "stream",
          "name": "stdout",
          "text": [
            "Passe um valor positivo ou negativo: 52\n",
            "*** Número é positivo ***\n"
          ]
        }
      ]
    },
    {
      "cell_type": "markdown",
      "source": [
        "##Exercicio 5 - Prova de matemática"
      ],
      "metadata": {
        "id": "JgNY7NGVrbIi"
      }
    },
    {
      "cell_type": "code",
      "source": [
        "5# input do nome e sobrenome\n",
        "primeiraNota = float(input('Qual a nota da 1 prova: '))\n",
        "segundaNota = float(input('Qual a nota da 2 prova: '))\n",
        "terceiraNota = float(input('Qual a nota da 3 prova: '))\n",
        "\n",
        "media = (primeiraNota+segundaNota+terceiraNota) / 3\n",
        "\n",
        "#Impressao da mensagem de retorno\n",
        "if(media < 7):\n",
        "  print(\"*** Reprovado ***\")\n",
        "elif(media < 10 ):\n",
        "  print(\"*** Aprovado ***\")\n",
        "else :\n",
        "  print(\"*** Aprovado Diferencial ***\")"
      ],
      "metadata": {
        "id": "mcgIF2kxrUJn",
        "colab": {
          "base_uri": "https://localhost:8080/"
        },
        "outputId": "61b4bf83-18f5-4d8f-ea79-d5deee0198d7"
      },
      "execution_count": 10,
      "outputs": [
        {
          "output_type": "stream",
          "name": "stdout",
          "text": [
            "Qual a nota da 1 prova: 10\n",
            "Qual a nota da 2 prova: 9\n",
            "Qual a nota da 3 prova: 3\n",
            "*** Aprovado ***\n"
          ]
        }
      ]
    },
    {
      "cell_type": "markdown",
      "source": [
        "##Exercicio 6 - Loop Simples"
      ],
      "metadata": {
        "id": "w2hyL6mYu6iX"
      }
    },
    {
      "cell_type": "code",
      "source": [
        "# loop for\n",
        "i = 0\n",
        "for i in range(10) :\n",
        "  print(i)"
      ],
      "metadata": {
        "id": "K_pyvSZhupNm",
        "colab": {
          "base_uri": "https://localhost:8080/"
        },
        "outputId": "20cf485c-f5d9-474a-fe15-bea80799d6cb"
      },
      "execution_count": 11,
      "outputs": [
        {
          "output_type": "stream",
          "name": "stdout",
          "text": [
            "0\n",
            "1\n",
            "2\n",
            "3\n",
            "4\n",
            "5\n",
            "6\n",
            "7\n",
            "8\n",
            "9\n"
          ]
        }
      ]
    },
    {
      "cell_type": "markdown",
      "source": [
        "##Exercicio 7 - Loop Simples (Parte 2)"
      ],
      "metadata": {
        "id": "yrkOMGPswv43"
      }
    },
    {
      "cell_type": "code",
      "source": [
        "#lista de apoio\n",
        "lista = [2,4,6,8,10]\n",
        "\n",
        "for loop in lista:\n",
        "  print(loop ** 2)"
      ],
      "metadata": {
        "id": "iXa756dFwD5t",
        "colab": {
          "base_uri": "https://localhost:8080/"
        },
        "outputId": "5958c43e-b8d0-40e2-ec9b-b8b9fc523fb0"
      },
      "execution_count": 12,
      "outputs": [
        {
          "output_type": "stream",
          "name": "stdout",
          "text": [
            "4\n",
            "16\n",
            "36\n",
            "64\n",
            "100\n"
          ]
        }
      ]
    },
    {
      "cell_type": "markdown",
      "source": [
        "##Exercicio 8 - Tabuada"
      ],
      "metadata": {
        "id": "coSn-xb_0Gre"
      }
    },
    {
      "cell_type": "code",
      "source": [
        "# input valor\n",
        "valor = float(input('Insira um valor para a Tabuada: '))\n",
        "\n",
        "# output resultados\n",
        "print(\"*** Tabuada do \", valor, \" ***\")\n",
        "\n",
        "for resultado in range(1,11) :\n",
        "  print(f\"{resultado} X {valor} = {resultado * valor}\")\n"
      ],
      "metadata": {
        "id": "t_UIQmCgyy3W",
        "colab": {
          "base_uri": "https://localhost:8080/"
        },
        "outputId": "0c584aea-0e50-4fe5-dd9f-5637aa7fad6d"
      },
      "execution_count": 13,
      "outputs": [
        {
          "output_type": "stream",
          "name": "stdout",
          "text": [
            "Insira um valor para a Tabuada: 5\n",
            "*** Tabuada do  5.0  ***\n",
            "1 X 5.0 = 5.0\n",
            "2 X 5.0 = 10.0\n",
            "3 X 5.0 = 15.0\n",
            "4 X 5.0 = 20.0\n",
            "5 X 5.0 = 25.0\n",
            "6 X 5.0 = 30.0\n",
            "7 X 5.0 = 35.0\n",
            "8 X 5.0 = 40.0\n",
            "9 X 5.0 = 45.0\n",
            "10 X 5.0 = 50.0\n"
          ]
        }
      ]
    },
    {
      "cell_type": "markdown",
      "source": [
        "##Exercicio 9 - Loop simples com 'enumerate'"
      ],
      "metadata": {
        "id": "E19jcZwyCKXe"
      }
    },
    {
      "cell_type": "code",
      "source": [
        "# lista base\n",
        "lista = [2, 4, 6, 8, 10]\n",
        "\n",
        "for contador, loop in enumerate(lista):\n",
        "  print( contador, loop )"
      ],
      "metadata": {
        "id": "8PjZu3FQ1ov3",
        "colab": {
          "base_uri": "https://localhost:8080/"
        },
        "outputId": "7af563a2-6a49-4783-fc08-f857c639511a"
      },
      "execution_count": 14,
      "outputs": [
        {
          "output_type": "stream",
          "name": "stdout",
          "text": [
            "0 2\n",
            "1 4\n",
            "2 6\n",
            "3 8\n",
            "4 10\n"
          ]
        }
      ]
    },
    {
      "cell_type": "markdown",
      "source": [
        "## Exercício 10 - Loop com condição"
      ],
      "metadata": {
        "id": "WWe-yI4IJLi0"
      }
    },
    {
      "cell_type": "code",
      "source": [
        "#lista\n",
        "lista = [1,2,3,4,5,6,7,8,9,10]\n",
        "\n",
        "for divisao in lista :\n",
        "  if (divisao % 2) != 0 :\n",
        "    print(f\"Dividi {divisao} por 2 e o resto foi {divisao % 2}\")\n",
        "  else:\n",
        "    print(f\"Dividi {divisao} por 2 e não houve resto\")"
      ],
      "metadata": {
        "id": "VSPIcF4yFDC_",
        "colab": {
          "base_uri": "https://localhost:8080/"
        },
        "outputId": "237a4db6-e00e-40ec-f9ee-52d2cc8a1696"
      },
      "execution_count": 15,
      "outputs": [
        {
          "output_type": "stream",
          "name": "stdout",
          "text": [
            "Dividi 1 por 2 e o resto foi 1\n",
            "Dividi 2 por 2 e não houve resto\n",
            "Dividi 3 por 2 e o resto foi 1\n",
            "Dividi 4 por 2 e não houve resto\n",
            "Dividi 5 por 2 e o resto foi 1\n",
            "Dividi 6 por 2 e não houve resto\n",
            "Dividi 7 por 2 e o resto foi 1\n",
            "Dividi 8 por 2 e não houve resto\n",
            "Dividi 9 por 2 e o resto foi 1\n",
            "Dividi 10 por 2 e não houve resto\n"
          ]
        }
      ]
    },
    {
      "cell_type": "markdown",
      "source": [
        "## Exercício 11 - While simples"
      ],
      "metadata": {
        "id": "x4gmnG0zPn8z"
      }
    },
    {
      "cell_type": "code",
      "source": [
        "#Variavel de apoio\n",
        "Loop = 0\n",
        "\n",
        "#Laço While\n",
        "while Loop <=6 :\n",
        "  print(Loop)\n",
        "  Loop = Loop + 1\n"
      ],
      "metadata": {
        "id": "XWtWeWyXQHrk",
        "outputId": "0675c083-d2b0-4c6e-c63a-452a978bd519",
        "colab": {
          "base_uri": "https://localhost:8080/"
        }
      },
      "execution_count": 16,
      "outputs": [
        {
          "output_type": "stream",
          "name": "stdout",
          "text": [
            "0\n",
            "1\n",
            "2\n",
            "3\n",
            "4\n",
            "5\n",
            "6\n"
          ]
        }
      ]
    },
    {
      "cell_type": "markdown",
      "source": [
        "## Exercício 12 - While com finalizador"
      ],
      "metadata": {
        "id": "JuxcaIMnPyzC"
      }
    },
    {
      "cell_type": "code",
      "source": [
        "#Variavel de apoio\n",
        "Loop = 0\n",
        "\n",
        "#Laço While com condicional\n",
        "while Loop <=6:\n",
        "  if Loop <6 :\n",
        "    print(Loop)\n",
        "    Loop = Loop + 1\n",
        "  else :\n",
        "    print('Finalizado')\n",
        "    break  "
      ],
      "metadata": {
        "id": "Fj0jB_CFPyzC",
        "outputId": "cd1938ed-0d34-47cd-e83d-ddc37986f066",
        "colab": {
          "base_uri": "https://localhost:8080/"
        }
      },
      "execution_count": 20,
      "outputs": [
        {
          "output_type": "stream",
          "name": "stdout",
          "text": [
            "0\n",
            "1\n",
            "2\n",
            "3\n",
            "4\n",
            "5\n",
            "Finalizado\n"
          ]
        }
      ]
    },
    {
      "cell_type": "markdown",
      "source": [
        "## Exercício 13 - Função Soma"
      ],
      "metadata": {
        "id": "CAhTRQFXP3hI"
      }
    },
    {
      "cell_type": "code",
      "source": [
        "#Definição da função\n",
        "def Soma(PrimeiroValor, SegundoValor,TerceiroValor,QuartoValor) :\n",
        "  Soma = PrimeiroValor + SegundoValor + TerceiroValor + QuartoValor\n",
        "  print(\"A soma dos valores é: \", Soma)"
      ],
      "metadata": {
        "id": "s9xf0IIfP3hJ"
      },
      "execution_count": 22,
      "outputs": []
    },
    {
      "cell_type": "code",
      "source": [
        "#Input valores\n",
        "print(\"Por favor, digite 4 valores:  \")\n",
        "Valor1 = float(input('Primeiro Valor: '))\n",
        "Valor2 = float(input('Segundo Valor: '))\n",
        "Valor3 = float(input('Terceiro Valor: '))\n",
        "Valor4 = float(input('Quarto Valor: '))\n",
        "\n",
        "Soma(Valor1,Valor2,Valor3,Valor4)"
      ],
      "metadata": {
        "id": "ZlUD366UiNxU",
        "outputId": "5eb8163f-3266-47d2-9554-1886048060ef",
        "colab": {
          "base_uri": "https://localhost:8080/"
        }
      },
      "execution_count": 23,
      "outputs": [
        {
          "output_type": "stream",
          "name": "stdout",
          "text": [
            "Por favor, digite 4 valores:  \n",
            "Primeiro Valor: 10\n",
            "Segundo Valor: 5\n",
            "Terceiro Valor: 3\n",
            "Quarto Valor: 4\n",
            "A soma dos valores é:  22.0\n"
          ]
        }
      ]
    },
    {
      "cell_type": "markdown",
      "source": [
        "## Exercício 14 - Função ajustando texto"
      ],
      "metadata": {
        "id": "xFcwbp8QP9yS"
      }
    },
    {
      "cell_type": "code",
      "source": [
        "#Definição da função\n",
        "def Minusculo(Texto) :\n",
        "  TextoMinusculo = Texto.lower()\n",
        "  print(TextoMinusculo)"
      ],
      "metadata": {
        "id": "K0jfu7IjP9yT"
      },
      "execution_count": 30,
      "outputs": []
    },
    {
      "cell_type": "code",
      "source": [
        "#Input texto\n",
        "TextoUsuario = str(input('Por favor, digite qualquer coisa: '))\n",
        "\n",
        "Minusculo(TextoUsuario)"
      ],
      "metadata": {
        "id": "OmOkx5slkPJC",
        "outputId": "c8b2e1a4-61dc-44ce-cae8-9283584b83d0",
        "colab": {
          "base_uri": "https://localhost:8080/"
        }
      },
      "execution_count": 32,
      "outputs": [
        {
          "output_type": "stream",
          "name": "stdout",
          "text": [
            "Por favor, digite qualquer coisa: Olá, meu nome é JOAO PEDRO\n",
            "olá, meu nome é joao pedro\n"
          ]
        }
      ]
    },
    {
      "cell_type": "markdown",
      "source": [
        "## Exercício 15 - Função cadastro"
      ],
      "metadata": {
        "id": "UCSwMCIyQY0U"
      }
    },
    {
      "cell_type": "code",
      "source": [
        ""
      ],
      "metadata": {
        "id": "D2MjHzo4QY0V"
      },
      "execution_count": 16,
      "outputs": []
    }
  ]
}