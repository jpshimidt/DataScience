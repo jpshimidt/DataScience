{
  "nbformat": 4,
  "nbformat_minor": 0,
  "metadata": {
    "colab": {
      "name": "Exercicios_Dia2_Bootcamp_DataViking.ipynb",
      "provenance": [],
      "authorship_tag": "ABX9TyPjUN3IoCldC1oODpLzHgnD",
      "include_colab_link": true
    },
    "kernelspec": {
      "name": "python3",
      "display_name": "Python 3"
    },
    "language_info": {
      "name": "python"
    }
  },
  "cells": [
    {
      "cell_type": "markdown",
      "metadata": {
        "id": "view-in-github",
        "colab_type": "text"
      },
      "source": [
        "<a href=\"https://colab.research.google.com/github/jpshimidt/DataScience/blob/main/Exercicios_Dia2_Bootcamp_DataViking.ipynb\" target=\"_parent\"><img src=\"https://colab.research.google.com/assets/colab-badge.svg\" alt=\"Open In Colab\"/></a>"
      ]
    },
    {
      "cell_type": "markdown",
      "source": [
        "#Exercicios propostos - Dia 2 - Bootcamp Data Vikings"
      ],
      "metadata": {
        "id": "089Xbo_SSXQq"
      }
    },
    {
      "cell_type": "markdown",
      "source": [
        "##Exercicio 1 - Maior de idade"
      ],
      "metadata": {
        "id": "-c2ZO7NHSf3R"
      }
    },
    {
      "cell_type": "code",
      "execution_count": null,
      "metadata": {
        "colab": {
          "base_uri": "https://localhost:8080/"
        },
        "id": "8CW-uzoGSVvv",
        "outputId": "9a9b63ae-4711-4f81-928e-31beb0d15af8"
      },
      "outputs": [
        {
          "output_type": "stream",
          "name": "stdout",
          "text": [
            "Qual a sua idade? 13\n",
            "Ops! Você é menor de idade!\n"
          ]
        }
      ],
      "source": [
        "# input da idade\n",
        "Idade = int(input('Qual a sua idade? '))\n",
        "\n",
        "# Verificacao se Maior de Idade e impressao da mensagem de retorno\n",
        "if(Idade >= 18) :\n",
        "  print(\"Você é maior de idade!!!\")\n",
        "\n",
        "else :\n",
        "  print(\"Ops! Você é menor de idade!\")\n"
      ]
    },
    {
      "cell_type": "markdown",
      "source": [
        "##Exercicio 2 - Imposto no salário"
      ],
      "metadata": {
        "id": "aS8pKIt9T0aH"
      }
    },
    {
      "cell_type": "code",
      "source": [
        "# input do salario\n",
        "Salario = float(input('Qual o seu salário: '))\n",
        "\n",
        "#Condicoes do imposto a partir do salario\n",
        "if(Salario >= 3751.06):\n",
        "  SalarioLiquido = Salario - (Salario * 0.225) #22,5%\n",
        "  print(\"Salário liquido: \", SalarioLiquido)\n",
        "\n",
        "elif(Salario >= 2826.66):\n",
        "  SalarioLiquido = Salario - (Salario * 0.15) #15%\n",
        "  print(\"Salário liquido: \", SalarioLiquido)\n",
        "\n",
        "elif(Salario >= 1903.99):\n",
        "  SalarioLiquido = Salario - (Salario * 0.075) #7,5%\n",
        "  print(\"Salário liquido: \", SalarioLiquido)\n",
        "\n",
        "else:\n",
        "    print(\"Salário liquido: \", Salario) #0%"
      ],
      "metadata": {
        "colab": {
          "base_uri": "https://localhost:8080/"
        },
        "id": "b32IsoEVTjv0",
        "outputId": "223130c4-3797-4bd7-e16e-b6086d74de21"
      },
      "execution_count": null,
      "outputs": [
        {
          "output_type": "stream",
          "name": "stdout",
          "text": [
            "Qual o seu salário: 2800\n",
            "Salário liquido:  2590.0\n"
          ]
        }
      ]
    },
    {
      "cell_type": "markdown",
      "source": [
        "##Exercicio 3 - Dois numeros"
      ],
      "metadata": {
        "id": "K0suNe0hW38n"
      }
    },
    {
      "cell_type": "code",
      "source": [
        "# input do nome e sobrenome\n",
        "PrimeiroNumero = float(input('Digite algum valor: '))\n",
        "SegundoNumero = float(input('Digite outro valor: '))\n",
        "\n",
        "#Impressao da mensagem de retorno\n",
        "if(PrimeiroNumero > SegundoNumero):\n",
        "  print(\"*** O primeiro número é maior que o segundo número ***\")\n",
        "else :\n",
        "  print(\"*** O segundo número é maior que o primeiro número ***\")"
      ],
      "metadata": {
        "colab": {
          "base_uri": "https://localhost:8080/"
        },
        "id": "1RbPkyiiUvJ3",
        "outputId": "63c4f2d7-c018-431a-c7a9-13b83b4deb27"
      },
      "execution_count": null,
      "outputs": [
        {
          "output_type": "stream",
          "name": "stdout",
          "text": [
            "Digite algum valor: 3\n",
            "Digite outro valor: 4\n",
            "*** O segundo número é maior que o primeiro número ***\n"
          ]
        }
      ]
    },
    {
      "cell_type": "markdown",
      "source": [
        "##Exercicio 4 - Valor positivo ou negativo"
      ],
      "metadata": {
        "id": "oWLYxJRap9WS"
      }
    },
    {
      "cell_type": "code",
      "source": [
        "# input do nome e sobrenome\n",
        "numero = float(input('Passe um valor positivo ou negativo: '))\n",
        "\n",
        "#Impressao da mensagem de retorno\n",
        "if(numero >= 0):\n",
        "  print(\"*** Número é positivo ***\")\n",
        "else :\n",
        "  print(\"*** Número é negativo ***\")"
      ],
      "metadata": {
        "id": "mshZzExOnb9L",
        "colab": {
          "base_uri": "https://localhost:8080/"
        },
        "outputId": "383a5d51-f7f9-4db3-fdea-d09dfdcfb8fb"
      },
      "execution_count": 1,
      "outputs": [
        {
          "output_type": "stream",
          "name": "stdout",
          "text": [
            "Passe um valor positivo ou negativo: -10\n",
            "*** Número é negativo ***\n"
          ]
        }
      ]
    },
    {
      "cell_type": "markdown",
      "source": [
        "##Exercicio 5 - Prova de matemática"
      ],
      "metadata": {
        "id": "JgNY7NGVrbIi"
      }
    },
    {
      "cell_type": "code",
      "source": [
        "# input do nome e sobrenome\n",
        "primeiraNota = float(input('Qual a nota da 1 prova: '))\n",
        "segundaNota = float(input('Qual a nota da 2 prova: '))\n",
        "terceiraNota = float(input('Qual a nota da 3 prova: '))\n",
        "\n",
        "media = (primeiraNota+segundaNota+terceiraNota) / 3\n",
        "\n",
        "#Impressao da mensagem de retorno\n",
        "if(media < 7):\n",
        "  print(\"*** Reprovado ***\")\n",
        "elif(media < 10 ):\n",
        "  print(\"*** Aprovado ***\")\n",
        "else :\n",
        "  print(\"*** Aprovado Diferencial ***\")"
      ],
      "metadata": {
        "id": "mcgIF2kxrUJn",
        "colab": {
          "base_uri": "https://localhost:8080/"
        },
        "outputId": "20af7451-aece-4098-b49c-9307cffe0d46"
      },
      "execution_count": 2,
      "outputs": [
        {
          "output_type": "stream",
          "name": "stdout",
          "text": [
            "Qual a nota da 1 prova: 10\n",
            "Qual a nota da 2 prova: 9\n",
            "Qual a nota da 3 prova: 10\n",
            "*** Aprovado ***\n"
          ]
        }
      ]
    },
    {
      "cell_type": "markdown",
      "source": [
        "##Exercicio 6 - Loop Simples"
      ],
      "metadata": {
        "id": "w2hyL6mYu6iX"
      }
    },
    {
      "cell_type": "code",
      "source": [
        "# loop for\n",
        "i = 0\n",
        "for i in range(10) :\n",
        "  print(i)"
      ],
      "metadata": {
        "id": "K_pyvSZhupNm",
        "colab": {
          "base_uri": "https://localhost:8080/"
        },
        "outputId": "0e15a5d1-7a8f-4924-f2fa-5ed0cfbe5074"
      },
      "execution_count": 3,
      "outputs": [
        {
          "output_type": "stream",
          "name": "stdout",
          "text": [
            "0\n",
            "1\n",
            "2\n",
            "3\n",
            "4\n",
            "5\n",
            "6\n",
            "7\n",
            "8\n",
            "9\n"
          ]
        }
      ]
    },
    {
      "cell_type": "markdown",
      "source": [
        "##Exercicio 7 - Loop Simples (Parte 2)"
      ],
      "metadata": {
        "id": "yrkOMGPswv43"
      }
    },
    {
      "cell_type": "code",
      "source": [
        "#lista de apoio\n",
        "lista = [2,4,6,8,10]\n",
        "\n",
        "for loop in lista:\n",
        "  print(loop ** 2)"
      ],
      "metadata": {
        "id": "iXa756dFwD5t",
        "colab": {
          "base_uri": "https://localhost:8080/"
        },
        "outputId": "6d5169b8-d166-4db7-d9d5-05f9d9d2d806"
      },
      "execution_count": 10,
      "outputs": [
        {
          "output_type": "stream",
          "name": "stdout",
          "text": [
            "4\n",
            "16\n",
            "36\n",
            "64\n",
            "100\n"
          ]
        }
      ]
    },
    {
      "cell_type": "markdown",
      "source": [
        "##Exercicio 8 - Tabuada"
      ],
      "metadata": {
        "id": "coSn-xb_0Gre"
      }
    },
    {
      "cell_type": "code",
      "source": [
        "# input valor\n",
        "valor = float(input('Insira um valor para a Tabuada: '))\n",
        "\n",
        "# output resultados\n",
        "print(\"*** Tabuada do \", valor, \" ***\")\n",
        "\n",
        "for resultado in range(1,11) :\n",
        "  print(f\"{resultado} X {valor} = {resultado * valor}\")\n"
      ],
      "metadata": {
        "id": "t_UIQmCgyy3W",
        "colab": {
          "base_uri": "https://localhost:8080/"
        },
        "outputId": "0a3001de-3b8a-4914-debd-63b63332b107"
      },
      "execution_count": 11,
      "outputs": [
        {
          "output_type": "stream",
          "name": "stdout",
          "text": [
            "Insira um valor para a Tabuada: 4\n",
            "*** Tabuada do  4.0  ***\n",
            "1 X 4.0 = 4.0\n",
            "2 X 4.0 = 8.0\n",
            "3 X 4.0 = 12.0\n",
            "4 X 4.0 = 16.0\n",
            "5 X 4.0 = 20.0\n",
            "6 X 4.0 = 24.0\n",
            "7 X 4.0 = 28.0\n",
            "8 X 4.0 = 32.0\n",
            "9 X 4.0 = 36.0\n",
            "10 X 4.0 = 40.0\n"
          ]
        }
      ]
    },
    {
      "cell_type": "markdown",
      "source": [
        "##Exercicio 9 - Loop simples com 'enumerate'"
      ],
      "metadata": {
        "id": "E19jcZwyCKXe"
      }
    },
    {
      "cell_type": "code",
      "source": [
        "# lista base\n",
        "lista = [2, 4, 6, 8, 10]\n",
        "\n",
        "for contador, loop in enumerate(lista):\n",
        "  print( contador, loop )"
      ],
      "metadata": {
        "id": "8PjZu3FQ1ov3",
        "colab": {
          "base_uri": "https://localhost:8080/"
        },
        "outputId": "fb5ac67e-2577-4312-aecb-826dd7033bf7"
      },
      "execution_count": 12,
      "outputs": [
        {
          "output_type": "stream",
          "name": "stdout",
          "text": [
            "0 2\n",
            "1 4\n",
            "2 6\n",
            "3 8\n",
            "4 10\n"
          ]
        }
      ]
    },
    {
      "cell_type": "markdown",
      "source": [
        "## Exercício 10 - Loop com condição"
      ],
      "metadata": {
        "id": "WWe-yI4IJLi0"
      }
    },
    {
      "cell_type": "code",
      "source": [
        "#lista\n",
        "lista = [1,2,3,4,5,6,7,8,9,10]\n",
        "\n",
        "for divisao in lista :\n",
        "  if (divisao % 2) != 0 :\n",
        "    print(f\"Dividi {divisao} por 2 e o resto foi {divisao % 2}\")\n",
        "  else:\n",
        "    print(f\"Dividi {divisao} por 2 e não houve resto\")"
      ],
      "metadata": {
        "id": "VSPIcF4yFDC_",
        "colab": {
          "base_uri": "https://localhost:8080/"
        },
        "outputId": "ce75d6f9-bf56-40e0-f32c-92ae818c485e"
      },
      "execution_count": 19,
      "outputs": [
        {
          "output_type": "stream",
          "name": "stdout",
          "text": [
            "Dividi 1 por 2 e o resto foi 1\n",
            "Dividi 2 por 2 e não houve resto\n",
            "Dividi 3 por 2 e o resto foi 1\n",
            "Dividi 4 por 2 e não houve resto\n",
            "Dividi 5 por 2 e o resto foi 1\n",
            "Dividi 6 por 2 e não houve resto\n",
            "Dividi 7 por 2 e o resto foi 1\n",
            "Dividi 8 por 2 e não houve resto\n",
            "Dividi 9 por 2 e o resto foi 1\n",
            "Dividi 10 por 2 e não houve resto\n"
          ]
        }
      ]
    },
    {
      "cell_type": "markdown",
      "source": [
        "## Exercício 11 - While simples"
      ],
      "metadata": {
        "id": "x4gmnG0zPn8z"
      }
    },
    {
      "cell_type": "code",
      "source": [
        ""
      ],
      "metadata": {
        "id": "XWtWeWyXQHrk"
      },
      "execution_count": null,
      "outputs": []
    },
    {
      "cell_type": "markdown",
      "source": [
        "## Exercício 12 - While com finalizador"
      ],
      "metadata": {
        "id": "JuxcaIMnPyzC"
      }
    },
    {
      "cell_type": "code",
      "source": [
        ""
      ],
      "metadata": {
        "id": "Fj0jB_CFPyzC"
      },
      "execution_count": null,
      "outputs": []
    },
    {
      "cell_type": "markdown",
      "source": [
        "## Exercício 13 - Função Soma"
      ],
      "metadata": {
        "id": "CAhTRQFXP3hI"
      }
    },
    {
      "cell_type": "code",
      "source": [
        ""
      ],
      "metadata": {
        "id": "s9xf0IIfP3hJ"
      },
      "execution_count": null,
      "outputs": []
    },
    {
      "cell_type": "markdown",
      "source": [
        "## Exercício 14 - Função ajustando texto"
      ],
      "metadata": {
        "id": "xFcwbp8QP9yS"
      }
    },
    {
      "cell_type": "code",
      "source": [
        ""
      ],
      "metadata": {
        "id": "K0jfu7IjP9yT"
      },
      "execution_count": null,
      "outputs": []
    },
    {
      "cell_type": "markdown",
      "source": [
        "## Exercício 15 - Função cadastro"
      ],
      "metadata": {
        "id": "UCSwMCIyQY0U"
      }
    },
    {
      "cell_type": "code",
      "source": [
        ""
      ],
      "metadata": {
        "id": "D2MjHzo4QY0V"
      },
      "execution_count": null,
      "outputs": []
    }
  ]
}