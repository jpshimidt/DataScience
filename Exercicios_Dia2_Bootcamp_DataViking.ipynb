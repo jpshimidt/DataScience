{
  "nbformat": 4,
  "nbformat_minor": 0,
  "metadata": {
    "colab": {
      "name": "Exercicios_Dia2_Bootcamp_DataViking.ipynb",
      "provenance": [],
      "authorship_tag": "ABX9TyN+ru9oD0u5y6LODwO+7mzQ",
      "include_colab_link": true
    },
    "kernelspec": {
      "name": "python3",
      "display_name": "Python 3"
    },
    "language_info": {
      "name": "python"
    }
  },
  "cells": [
    {
      "cell_type": "markdown",
      "metadata": {
        "id": "view-in-github",
        "colab_type": "text"
      },
      "source": [
        "<a href=\"https://colab.research.google.com/github/jpshimidt/DataScience/blob/main/Exercicios_Dia2_Bootcamp_DataViking.ipynb\" target=\"_parent\"><img src=\"https://colab.research.google.com/assets/colab-badge.svg\" alt=\"Open In Colab\"/></a>"
      ]
    },
    {
      "cell_type": "markdown",
      "source": [
        "#Exercicios propostos - Dia 2 - Bootcamp Data Vikings"
      ],
      "metadata": {
        "id": "089Xbo_SSXQq"
      }
    },
    {
      "cell_type": "markdown",
      "source": [
        "##Exercicio 1 - Maior de idade"
      ],
      "metadata": {
        "id": "-c2ZO7NHSf3R"
      }
    },
    {
      "cell_type": "code",
      "execution_count": 4,
      "metadata": {
        "colab": {
          "base_uri": "https://localhost:8080/"
        },
        "id": "8CW-uzoGSVvv",
        "outputId": "9a9b63ae-4711-4f81-928e-31beb0d15af8"
      },
      "outputs": [
        {
          "output_type": "stream",
          "name": "stdout",
          "text": [
            "Qual a sua idade? 13\n",
            "Ops! Você é menor de idade!\n"
          ]
        }
      ],
      "source": [
        "# input da idade\n",
        "Idade = int(input('Qual a sua idade? '))\n",
        "\n",
        "# Verificacao se Maior de Idade e impressao da mensagem de retorno\n",
        "if(Idade >= 18) :\n",
        "  print(\"Você é maior de idade!!!\")\n",
        "\n",
        "else :\n",
        "  print(\"Ops! Você é menor de idade!\")\n"
      ]
    },
    {
      "cell_type": "markdown",
      "source": [
        "##Exercicio 2 - Imposto no salário"
      ],
      "metadata": {
        "id": "aS8pKIt9T0aH"
      }
    },
    {
      "cell_type": "code",
      "source": [
        "# input do salario\n",
        "Salario = float(input('Qual o seu salário: '))\n",
        "\n",
        "#Condicoes do imposto a partir do salario\n",
        "if(Salario >= 3751.06):\n",
        "  SalarioLiquido = Salario - (Salario * 0.225) #22,5%\n",
        "  print(\"Salário liquido: \", SalarioLiquido)\n",
        "\n",
        "elif(Salario >= 2826.66):\n",
        "  SalarioLiquido = Salario - (Salario * 0.15) #15%\n",
        "  print(\"Salário liquido: \", SalarioLiquido)\n",
        "\n",
        "elif(Salario >= 1903.99):\n",
        "  SalarioLiquido = Salario - (Salario * 0.075) #7,5%\n",
        "  print(\"Salário liquido: \", SalarioLiquido)\n",
        "\n",
        "else:\n",
        "    print(\"Salário liquido: \", Salario) #0%"
      ],
      "metadata": {
        "colab": {
          "base_uri": "https://localhost:8080/"
        },
        "id": "b32IsoEVTjv0",
        "outputId": "223130c4-3797-4bd7-e16e-b6086d74de21"
      },
      "execution_count": 8,
      "outputs": [
        {
          "output_type": "stream",
          "name": "stdout",
          "text": [
            "Qual o seu salário: 2800\n",
            "Salário liquido:  2590.0\n"
          ]
        }
      ]
    },
    {
      "cell_type": "markdown",
      "source": [
        "##Exercicio 3 - Dois numeros"
      ],
      "metadata": {
        "id": "K0suNe0hW38n"
      }
    },
    {
      "cell_type": "code",
      "source": [
        "# input do nome e sobrenome\n",
        "PrimeiroNumero = float(input('Digite algum valor: '))\n",
        "SegundoNumero = float(input('Digite outro valor: '))\n",
        "\n",
        "#Impressao da mensagem de retorno\n",
        "if(PrimeiroNumero > SegundoNumero):\n",
        "  print(\"*** O primeiro número é maior que o segundo número ***\")\n",
        "else :\n",
        "  print(\"*** O segundo número é maior que o primeiro número ***\")"
      ],
      "metadata": {
        "colab": {
          "base_uri": "https://localhost:8080/"
        },
        "id": "1RbPkyiiUvJ3",
        "outputId": "63c4f2d7-c018-431a-c7a9-13b83b4deb27"
      },
      "execution_count": 10,
      "outputs": [
        {
          "output_type": "stream",
          "name": "stdout",
          "text": [
            "Digite algum valor: 3\n",
            "Digite outro valor: 4\n",
            "*** O segundo número é maior que o primeiro número ***\n"
          ]
        }
      ]
    },
    {
      "cell_type": "markdown",
      "source": [
        "##Exercicio 4 - Valor positivo ou negativo"
      ],
      "metadata": {
        "id": "oWLYxJRap9WS"
      }
    },
    {
      "cell_type": "code",
      "source": [
        ""
      ],
      "metadata": {
        "id": "mshZzExOnb9L"
      },
      "execution_count": 10,
      "outputs": []
    },
    {
      "cell_type": "markdown",
      "source": [
        "##Exercicio 5 - Prova de matemática"
      ],
      "metadata": {
        "id": "JgNY7NGVrbIi"
      }
    },
    {
      "cell_type": "code",
      "source": [
        ""
      ],
      "metadata": {
        "id": "mcgIF2kxrUJn"
      },
      "execution_count": 10,
      "outputs": []
    },
    {
      "cell_type": "markdown",
      "source": [
        "##Exercicio 6 - Loop Simples"
      ],
      "metadata": {
        "id": "w2hyL6mYu6iX"
      }
    },
    {
      "cell_type": "code",
      "source": [
        ""
      ],
      "metadata": {
        "id": "K_pyvSZhupNm"
      },
      "execution_count": 10,
      "outputs": []
    },
    {
      "cell_type": "markdown",
      "source": [
        "##Exercicio 7 - Loop Simples (Parte 2)"
      ],
      "metadata": {
        "id": "yrkOMGPswv43"
      }
    },
    {
      "cell_type": "code",
      "source": [
        ""
      ],
      "metadata": {
        "id": "iXa756dFwD5t"
      },
      "execution_count": 10,
      "outputs": []
    },
    {
      "cell_type": "markdown",
      "source": [
        "##Exercicio 8 - Tabuada"
      ],
      "metadata": {
        "id": "coSn-xb_0Gre"
      }
    },
    {
      "cell_type": "code",
      "source": [
        "\n"
      ],
      "metadata": {
        "id": "t_UIQmCgyy3W"
      },
      "execution_count": 10,
      "outputs": []
    },
    {
      "cell_type": "markdown",
      "source": [
        "##Exercicio 9 - Loop simples com 'enumerate'"
      ],
      "metadata": {
        "id": "E19jcZwyCKXe"
      }
    },
    {
      "cell_type": "code",
      "source": [
        ""
      ],
      "metadata": {
        "id": "8PjZu3FQ1ov3"
      },
      "execution_count": 10,
      "outputs": []
    },
    {
      "cell_type": "markdown",
      "source": [
        "## Exercício 10 - Loop com condição"
      ],
      "metadata": {
        "id": "WWe-yI4IJLi0"
      }
    },
    {
      "cell_type": "code",
      "source": [
        ""
      ],
      "metadata": {
        "id": "VSPIcF4yFDC_"
      },
      "execution_count": 10,
      "outputs": []
    },
    {
      "cell_type": "markdown",
      "source": [
        "## Exercício 11 - While simples"
      ],
      "metadata": {
        "id": "x4gmnG0zPn8z"
      }
    },
    {
      "cell_type": "code",
      "source": [
        ""
      ],
      "metadata": {
        "id": "XWtWeWyXQHrk"
      },
      "execution_count": null,
      "outputs": []
    },
    {
      "cell_type": "markdown",
      "source": [
        "## Exercício 12 - While com finalizador"
      ],
      "metadata": {
        "id": "JuxcaIMnPyzC"
      }
    },
    {
      "cell_type": "code",
      "source": [
        ""
      ],
      "metadata": {
        "id": "Fj0jB_CFPyzC"
      },
      "execution_count": null,
      "outputs": []
    },
    {
      "cell_type": "markdown",
      "source": [
        "## Exercício 13 - Função Soma"
      ],
      "metadata": {
        "id": "CAhTRQFXP3hI"
      }
    },
    {
      "cell_type": "code",
      "source": [
        ""
      ],
      "metadata": {
        "id": "s9xf0IIfP3hJ"
      },
      "execution_count": null,
      "outputs": []
    },
    {
      "cell_type": "markdown",
      "source": [
        "## Exercício 14 - Função ajustando texto"
      ],
      "metadata": {
        "id": "xFcwbp8QP9yS"
      }
    },
    {
      "cell_type": "code",
      "source": [
        ""
      ],
      "metadata": {
        "id": "K0jfu7IjP9yT"
      },
      "execution_count": null,
      "outputs": []
    },
    {
      "cell_type": "markdown",
      "source": [
        "## Exercício 15 - Função cadastro"
      ],
      "metadata": {
        "id": "UCSwMCIyQY0U"
      }
    },
    {
      "cell_type": "code",
      "source": [
        ""
      ],
      "metadata": {
        "id": "D2MjHzo4QY0V"
      },
      "execution_count": null,
      "outputs": []
    }
  ]
}