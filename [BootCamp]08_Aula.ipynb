{
  "nbformat": 4,
  "nbformat_minor": 0,
  "metadata": {
    "colab": {
      "name": "[BootCamp]08_Aula.ipynb",
      "provenance": [],
      "authorship_tag": "ABX9TyOlBO6EhiH3olckCy97HYSZ",
      "include_colab_link": true
    },
    "kernelspec": {
      "name": "python3",
      "display_name": "Python 3"
    },
    "language_info": {
      "name": "python"
    }
  },
  "cells": [
    {
      "cell_type": "markdown",
      "metadata": {
        "id": "view-in-github",
        "colab_type": "text"
      },
      "source": [
        "<a href=\"https://colab.research.google.com/github/jpshimidt/DataScience/blob/main/%5BBootCamp%5D08_Aula.ipynb\" target=\"_parent\"><img src=\"https://colab.research.google.com/assets/colab-badge.svg\" alt=\"Open In Colab\"/></a>"
      ]
    },
    {
      "cell_type": "code",
      "execution_count": 18,
      "metadata": {
        "id": "Xkw1P2H0BH-2"
      },
      "outputs": [],
      "source": [
        "# Libs Necessarias\n",
        "import pandas as pd\n",
        "import numpy as np\n",
        "\n",
        "# Libs gráficas\n",
        "import matplotlib.pyplot as plt\n",
        "import seaborn as sns\n",
        "\n",
        "# Avisos\n",
        "import warnings\n",
        "warnings.filterwarnings('ignore')"
      ]
    },
    {
      "cell_type": "code",
      "source": [
        "#Ler Dados\n",
        "Base_Dados = pd.read_csv('diabetes.csv')\n",
        "\n",
        "# Dimensao\n",
        "Base_Dados.shape"
      ],
      "metadata": {
        "colab": {
          "base_uri": "https://localhost:8080/"
        },
        "id": "DsQGBD0iBRZr",
        "outputId": "5051ceee-0ead-4912-f3a8-a8596115f063"
      },
      "execution_count": 19,
      "outputs": [
        {
          "output_type": "execute_result",
          "data": {
            "text/plain": [
              "(768, 9)"
            ]
          },
          "metadata": {},
          "execution_count": 19
        }
      ]
    },
    {
      "cell_type": "code",
      "source": [
        "#Verificar as infos\n",
        "Base_Dados.head()"
      ],
      "metadata": {
        "colab": {
          "base_uri": "https://localhost:8080/",
          "height": 206
        },
        "id": "gDYQ6YpaBatg",
        "outputId": "745af6b6-764f-4d86-ca7f-ddebd625baf3"
      },
      "execution_count": 20,
      "outputs": [
        {
          "output_type": "execute_result",
          "data": {
            "text/html": [
              "\n",
              "  <div id=\"df-9c7d782c-fe1c-4fe2-b5dc-5979710a6e5a\">\n",
              "    <div class=\"colab-df-container\">\n",
              "      <div>\n",
              "<style scoped>\n",
              "    .dataframe tbody tr th:only-of-type {\n",
              "        vertical-align: middle;\n",
              "    }\n",
              "\n",
              "    .dataframe tbody tr th {\n",
              "        vertical-align: top;\n",
              "    }\n",
              "\n",
              "    .dataframe thead th {\n",
              "        text-align: right;\n",
              "    }\n",
              "</style>\n",
              "<table border=\"1\" class=\"dataframe\">\n",
              "  <thead>\n",
              "    <tr style=\"text-align: right;\">\n",
              "      <th></th>\n",
              "      <th>Pregnancies</th>\n",
              "      <th>Glucose</th>\n",
              "      <th>BloodPressure</th>\n",
              "      <th>SkinThickness</th>\n",
              "      <th>Insulin</th>\n",
              "      <th>BMI</th>\n",
              "      <th>DiabetesPedigreeFunction</th>\n",
              "      <th>Age</th>\n",
              "      <th>Outcome</th>\n",
              "    </tr>\n",
              "  </thead>\n",
              "  <tbody>\n",
              "    <tr>\n",
              "      <th>0</th>\n",
              "      <td>6</td>\n",
              "      <td>148</td>\n",
              "      <td>72</td>\n",
              "      <td>35</td>\n",
              "      <td>0</td>\n",
              "      <td>33.6</td>\n",
              "      <td>0.627</td>\n",
              "      <td>50</td>\n",
              "      <td>1</td>\n",
              "    </tr>\n",
              "    <tr>\n",
              "      <th>1</th>\n",
              "      <td>1</td>\n",
              "      <td>85</td>\n",
              "      <td>66</td>\n",
              "      <td>29</td>\n",
              "      <td>0</td>\n",
              "      <td>26.6</td>\n",
              "      <td>0.351</td>\n",
              "      <td>31</td>\n",
              "      <td>0</td>\n",
              "    </tr>\n",
              "    <tr>\n",
              "      <th>2</th>\n",
              "      <td>8</td>\n",
              "      <td>183</td>\n",
              "      <td>64</td>\n",
              "      <td>0</td>\n",
              "      <td>0</td>\n",
              "      <td>23.3</td>\n",
              "      <td>0.672</td>\n",
              "      <td>32</td>\n",
              "      <td>1</td>\n",
              "    </tr>\n",
              "    <tr>\n",
              "      <th>3</th>\n",
              "      <td>1</td>\n",
              "      <td>89</td>\n",
              "      <td>66</td>\n",
              "      <td>23</td>\n",
              "      <td>94</td>\n",
              "      <td>28.1</td>\n",
              "      <td>0.167</td>\n",
              "      <td>21</td>\n",
              "      <td>0</td>\n",
              "    </tr>\n",
              "    <tr>\n",
              "      <th>4</th>\n",
              "      <td>0</td>\n",
              "      <td>137</td>\n",
              "      <td>40</td>\n",
              "      <td>35</td>\n",
              "      <td>168</td>\n",
              "      <td>43.1</td>\n",
              "      <td>2.288</td>\n",
              "      <td>33</td>\n",
              "      <td>1</td>\n",
              "    </tr>\n",
              "  </tbody>\n",
              "</table>\n",
              "</div>\n",
              "      <button class=\"colab-df-convert\" onclick=\"convertToInteractive('df-9c7d782c-fe1c-4fe2-b5dc-5979710a6e5a')\"\n",
              "              title=\"Convert this dataframe to an interactive table.\"\n",
              "              style=\"display:none;\">\n",
              "        \n",
              "  <svg xmlns=\"http://www.w3.org/2000/svg\" height=\"24px\"viewBox=\"0 0 24 24\"\n",
              "       width=\"24px\">\n",
              "    <path d=\"M0 0h24v24H0V0z\" fill=\"none\"/>\n",
              "    <path d=\"M18.56 5.44l.94 2.06.94-2.06 2.06-.94-2.06-.94-.94-2.06-.94 2.06-2.06.94zm-11 1L8.5 8.5l.94-2.06 2.06-.94-2.06-.94L8.5 2.5l-.94 2.06-2.06.94zm10 10l.94 2.06.94-2.06 2.06-.94-2.06-.94-.94-2.06-.94 2.06-2.06.94z\"/><path d=\"M17.41 7.96l-1.37-1.37c-.4-.4-.92-.59-1.43-.59-.52 0-1.04.2-1.43.59L10.3 9.45l-7.72 7.72c-.78.78-.78 2.05 0 2.83L4 21.41c.39.39.9.59 1.41.59.51 0 1.02-.2 1.41-.59l7.78-7.78 2.81-2.81c.8-.78.8-2.07 0-2.86zM5.41 20L4 18.59l7.72-7.72 1.47 1.35L5.41 20z\"/>\n",
              "  </svg>\n",
              "      </button>\n",
              "      \n",
              "  <style>\n",
              "    .colab-df-container {\n",
              "      display:flex;\n",
              "      flex-wrap:wrap;\n",
              "      gap: 12px;\n",
              "    }\n",
              "\n",
              "    .colab-df-convert {\n",
              "      background-color: #E8F0FE;\n",
              "      border: none;\n",
              "      border-radius: 50%;\n",
              "      cursor: pointer;\n",
              "      display: none;\n",
              "      fill: #1967D2;\n",
              "      height: 32px;\n",
              "      padding: 0 0 0 0;\n",
              "      width: 32px;\n",
              "    }\n",
              "\n",
              "    .colab-df-convert:hover {\n",
              "      background-color: #E2EBFA;\n",
              "      box-shadow: 0px 1px 2px rgba(60, 64, 67, 0.3), 0px 1px 3px 1px rgba(60, 64, 67, 0.15);\n",
              "      fill: #174EA6;\n",
              "    }\n",
              "\n",
              "    [theme=dark] .colab-df-convert {\n",
              "      background-color: #3B4455;\n",
              "      fill: #D2E3FC;\n",
              "    }\n",
              "\n",
              "    [theme=dark] .colab-df-convert:hover {\n",
              "      background-color: #434B5C;\n",
              "      box-shadow: 0px 1px 3px 1px rgba(0, 0, 0, 0.15);\n",
              "      filter: drop-shadow(0px 1px 2px rgba(0, 0, 0, 0.3));\n",
              "      fill: #FFFFFF;\n",
              "    }\n",
              "  </style>\n",
              "\n",
              "      <script>\n",
              "        const buttonEl =\n",
              "          document.querySelector('#df-9c7d782c-fe1c-4fe2-b5dc-5979710a6e5a button.colab-df-convert');\n",
              "        buttonEl.style.display =\n",
              "          google.colab.kernel.accessAllowed ? 'block' : 'none';\n",
              "\n",
              "        async function convertToInteractive(key) {\n",
              "          const element = document.querySelector('#df-9c7d782c-fe1c-4fe2-b5dc-5979710a6e5a');\n",
              "          const dataTable =\n",
              "            await google.colab.kernel.invokeFunction('convertToInteractive',\n",
              "                                                     [key], {});\n",
              "          if (!dataTable) return;\n",
              "\n",
              "          const docLinkHtml = 'Like what you see? Visit the ' +\n",
              "            '<a target=\"_blank\" href=https://colab.research.google.com/notebooks/data_table.ipynb>data table notebook</a>'\n",
              "            + ' to learn more about interactive tables.';\n",
              "          element.innerHTML = '';\n",
              "          dataTable['output_type'] = 'display_data';\n",
              "          await google.colab.output.renderOutput(dataTable, element);\n",
              "          const docLink = document.createElement('div');\n",
              "          docLink.innerHTML = docLinkHtml;\n",
              "          element.appendChild(docLink);\n",
              "        }\n",
              "      </script>\n",
              "    </div>\n",
              "  </div>\n",
              "  "
            ],
            "text/plain": [
              "   Pregnancies  Glucose  BloodPressure  ...  DiabetesPedigreeFunction  Age  Outcome\n",
              "0            6      148             72  ...                     0.627   50        1\n",
              "1            1       85             66  ...                     0.351   31        0\n",
              "2            8      183             64  ...                     0.672   32        1\n",
              "3            1       89             66  ...                     0.167   21        0\n",
              "4            0      137             40  ...                     2.288   33        1\n",
              "\n",
              "[5 rows x 9 columns]"
            ]
          },
          "metadata": {},
          "execution_count": 20
        }
      ]
    },
    {
      "cell_type": "code",
      "source": [
        "# Renomenado as Colunas\n",
        "Base_Dados.rename( columns={\n",
        "    'Pregnancies' : 'Gravidezes',\n",
        "    'Glucose' : 'Glicose',\n",
        "    'BloodPressure' : 'Pressão sanguínea',\n",
        "    'SkinThickness' : 'Espessura da Pele',\n",
        "    'Insulin' : 'Insulina',\n",
        "    'BMI' : 'IMC',\n",
        "    'Diabetes Pedigree Function' : 'Função de linhagem de diabetes',\n",
        "    'Age' : 'Idade',\n",
        "    'Outcome' : 'Resultado',\n",
        "}, inplace=True )"
      ],
      "metadata": {
        "id": "Mfykp3AXBgfU"
      },
      "execution_count": 21,
      "outputs": []
    },
    {
      "cell_type": "code",
      "source": [
        "# Verificando as colunas\n",
        "Base_Dados.info()"
      ],
      "metadata": {
        "colab": {
          "base_uri": "https://localhost:8080/"
        },
        "id": "uxYlQR-vB7Oa",
        "outputId": "1d2ec462-4116-4847-eb27-00042f345883"
      },
      "execution_count": 22,
      "outputs": [
        {
          "output_type": "stream",
          "name": "stdout",
          "text": [
            "<class 'pandas.core.frame.DataFrame'>\n",
            "RangeIndex: 768 entries, 0 to 767\n",
            "Data columns (total 9 columns):\n",
            " #   Column                    Non-Null Count  Dtype  \n",
            "---  ------                    --------------  -----  \n",
            " 0   Gravidezes                768 non-null    int64  \n",
            " 1   Glicose                   768 non-null    int64  \n",
            " 2   Pressão sanguínea         768 non-null    int64  \n",
            " 3   Espessura da Pele         768 non-null    int64  \n",
            " 4   Insulina                  768 non-null    int64  \n",
            " 5   IMC                       768 non-null    float64\n",
            " 6   DiabetesPedigreeFunction  768 non-null    float64\n",
            " 7   Idade                     768 non-null    int64  \n",
            " 8   Resultado                 768 non-null    int64  \n",
            "dtypes: float64(2), int64(7)\n",
            "memory usage: 54.1 KB\n"
          ]
        }
      ]
    },
    {
      "cell_type": "code",
      "source": [
        "#Analisar o classificar/ Previsao\n",
        "Base_Dados['Resultado'].value_counts(normalize=True)* 100"
      ],
      "metadata": {
        "colab": {
          "base_uri": "https://localhost:8080/"
        },
        "id": "viJxcwFaCIT0",
        "outputId": "aaf99d82-a5f1-4004-ec58-1e13bbe3af4b"
      },
      "execution_count": 23,
      "outputs": [
        {
          "output_type": "execute_result",
          "data": {
            "text/plain": [
              "0    65.104167\n",
              "1    34.895833\n",
              "Name: Resultado, dtype: float64"
            ]
          },
          "metadata": {},
          "execution_count": 23
        }
      ]
    },
    {
      "cell_type": "code",
      "source": [
        "#Separação dos Dados\n",
        "\n",
        "#Caracteristicas\n",
        "Var_Caracteristicas = Base_Dados.drop(columns=['Resultado'])\n",
        "Var_Previsao = Base_Dados['Resultado']\n",
        "\n",
        "#Separacao dos treinos e Teste\n",
        "from sklearn.model_selection import train_test_split\n",
        "\n",
        "#Separacao\n",
        "x_treino,x_teste,y_treino,y_teste = train_test_split(\n",
        "    Var_Caracteristicas,Var_Previsao,\n",
        "    test_size=0.2, random_state=10\n",
        ")\n",
        "\n",
        "print(f'Dados de treino {len(x_treino)}')\n",
        "print(f'Dados de treino {len(x_teste)}')\n"
      ],
      "metadata": {
        "colab": {
          "base_uri": "https://localhost:8080/"
        },
        "id": "_YK5n4pJCHa8",
        "outputId": "7a62ccaf-fc1a-4f7c-d52e-b19d19fc8ae1"
      },
      "execution_count": 24,
      "outputs": [
        {
          "output_type": "stream",
          "name": "stdout",
          "text": [
            "Dados de treino 614\n",
            "Dados de treino 154\n"
          ]
        }
      ]
    },
    {
      "cell_type": "code",
      "source": [
        "#Criar modelo de regressão logistica\n",
        "from sklearn.linear_model import LogisticRegression\n",
        "\n",
        "#Aplicando a funcao\n",
        "Funcao_Logistica = LogisticRegression()\n",
        "\n",
        "#Fitando o modelo\n",
        "Funcao_Logistica.fit(x_treino,y_treino)"
      ],
      "metadata": {
        "colab": {
          "base_uri": "https://localhost:8080/"
        },
        "id": "jNA9d1amD75A",
        "outputId": "fa64b36b-a6c8-4e09-a271-ea948ad823d7"
      },
      "execution_count": 25,
      "outputs": [
        {
          "output_type": "execute_result",
          "data": {
            "text/plain": [
              "LogisticRegression()"
            ]
          },
          "metadata": {},
          "execution_count": 25
        }
      ]
    },
    {
      "cell_type": "code",
      "source": [
        "# Fazendo um teste da Probabi\n",
        "print('Verificar a probabilidade:', Funcao_Logistica.predict_proba( [[4, 90, 72, 29, 100, 32, 0.3, 29 ]] ) )\n",
        "print('Classificar:', Funcao_Logistica.predict( [[4, 90, 72, 29, 100, 32, 0.3, 29 ]] ) )"
      ],
      "metadata": {
        "colab": {
          "base_uri": "https://localhost:8080/"
        },
        "id": "7nSTpNGcGfro",
        "outputId": "b7ad949c-af06-4a56-d6ef-0e2972b65022"
      },
      "execution_count": 26,
      "outputs": [
        {
          "output_type": "stream",
          "name": "stdout",
          "text": [
            "Verificar a probabilidade: [[0.90050853 0.09949147]]\n",
            "Classificar: [0]\n"
          ]
        }
      ]
    },
    {
      "cell_type": "code",
      "source": [
        "# Avaliar o modelo\n",
        "Previsao = Funcao_Logistica.predict( x_teste )\n",
        "\n",
        "from sklearn.metrics import confusion_matrix\n",
        "\n",
        "print( 'Matriz de confusão: \\n', confusion_matrix( y_teste, Previsao ) )\n"
      ],
      "metadata": {
        "colab": {
          "base_uri": "https://localhost:8080/"
        },
        "id": "45T1zL_3Hz3w",
        "outputId": "1fca80ea-79c0-4153-c605-f9c6a59f2cea"
      },
      "execution_count": 27,
      "outputs": [
        {
          "output_type": "stream",
          "name": "stdout",
          "text": [
            "Matriz de confusão: \n",
            " [[88  7]\n",
            " [29 30]]\n"
          ]
        }
      ]
    },
    {
      "cell_type": "code",
      "source": [
        "88 / (88 + 7 ) "
      ],
      "metadata": {
        "colab": {
          "base_uri": "https://localhost:8080/"
        },
        "id": "0fwcPkp9Is9n",
        "outputId": "eb5e3e42-61de-4da8-a383-fc53443574e2"
      },
      "execution_count": 28,
      "outputs": [
        {
          "output_type": "execute_result",
          "data": {
            "text/plain": [
              "0.9263157894736842"
            ]
          },
          "metadata": {},
          "execution_count": 28
        }
      ]
    },
    {
      "cell_type": "code",
      "source": [
        "30 / ( 29 + 30 )"
      ],
      "metadata": {
        "colab": {
          "base_uri": "https://localhost:8080/"
        },
        "id": "rZyTL6OydP7M",
        "outputId": "ea0f4826-0e4f-487b-b376-b4873132b8ad"
      },
      "execution_count": 29,
      "outputs": [
        {
          "output_type": "execute_result",
          "data": {
            "text/plain": [
              "0.5084745762711864"
            ]
          },
          "metadata": {},
          "execution_count": 29
        }
      ]
    },
    {
      "cell_type": "code",
      "source": [
        "from sklearn.metrics import classification_report\n",
        "\n",
        "print( classification_report( y_teste, Previsao ) )"
      ],
      "metadata": {
        "colab": {
          "base_uri": "https://localhost:8080/"
        },
        "id": "3vrOFibHdSSJ",
        "outputId": "328bbba9-fb50-449f-8917-a1df5dcc610f"
      },
      "execution_count": 30,
      "outputs": [
        {
          "output_type": "stream",
          "name": "stdout",
          "text": [
            "              precision    recall  f1-score   support\n",
            "\n",
            "           0       0.75      0.93      0.83        95\n",
            "           1       0.81      0.51      0.62        59\n",
            "\n",
            "    accuracy                           0.77       154\n",
            "   macro avg       0.78      0.72      0.73       154\n",
            "weighted avg       0.77      0.77      0.75       154\n",
            "\n"
          ]
        }
      ]
    },
    {
      "cell_type": "code",
      "source": [
        "# oVERTIING\n",
        "Funcao_Logistica.score( x_teste, y_teste ), Funcao_Logistica.score( x_treino, y_treino )"
      ],
      "metadata": {
        "colab": {
          "base_uri": "https://localhost:8080/"
        },
        "id": "fQ3ZwFvodVCS",
        "outputId": "8b8c9a69-6d7a-44e4-ae3d-8341a0342584"
      },
      "execution_count": 31,
      "outputs": [
        {
          "output_type": "execute_result",
          "data": {
            "text/plain": [
              "(0.7662337662337663, 0.7719869706840391)"
            ]
          },
          "metadata": {},
          "execution_count": 31
        }
      ]
    },
    {
      "cell_type": "code",
      "source": [
        "# Validação Cruzada\n",
        "from sklearn.model_selection import cross_val_score\n",
        "\n",
        "# Aplicando a função\n",
        "Funcao_Logistica = LogisticRegression()\n",
        "\n",
        "Val_Cruzada = cross_val_score(Funcao_Logistica, Var_Caracteristicas, Var_Previsao, cv=100)\n",
        "\n",
        "Val_Cruzada"
      ],
      "metadata": {
        "colab": {
          "base_uri": "https://localhost:8080/"
        },
        "id": "3ft_aMirdX9i",
        "outputId": "31786c80-2970-4bc9-aabe-c73a9cba9ba5"
      },
      "execution_count": 32,
      "outputs": [
        {
          "output_type": "execute_result",
          "data": {
            "text/plain": [
              "array([0.875     , 0.625     , 0.875     , 0.25      , 0.625     ,\n",
              "       0.75      , 0.625     , 1.        , 0.875     , 0.75      ,\n",
              "       0.875     , 0.75      , 0.75      , 1.        , 0.875     ,\n",
              "       0.75      , 0.875     , 0.875     , 1.        , 0.375     ,\n",
              "       1.        , 1.        , 0.625     , 0.875     , 0.5       ,\n",
              "       1.        , 0.625     , 0.5       , 0.875     , 1.        ,\n",
              "       0.875     , 0.75      , 0.5       , 0.75      , 0.75      ,\n",
              "       0.5       , 0.625     , 0.625     , 0.875     , 0.625     ,\n",
              "       0.75      , 0.5       , 0.625     , 0.875     , 0.75      ,\n",
              "       0.875     , 0.875     , 0.875     , 0.75      , 0.75      ,\n",
              "       0.5       , 0.75      , 0.875     , 0.625     , 1.        ,\n",
              "       0.875     , 0.625     , 0.75      , 0.625     , 0.875     ,\n",
              "       0.75      , 0.625     , 0.875     , 0.5       , 0.875     ,\n",
              "       0.75      , 0.75      , 0.875     , 0.85714286, 1.        ,\n",
              "       0.71428571, 1.        , 0.85714286, 0.85714286, 0.57142857,\n",
              "       0.85714286, 0.85714286, 0.71428571, 0.85714286, 1.        ,\n",
              "       0.71428571, 0.71428571, 0.85714286, 0.85714286, 1.        ,\n",
              "       0.85714286, 0.71428571, 0.42857143, 0.71428571, 1.        ,\n",
              "       0.85714286, 0.57142857, 0.71428571, 0.85714286, 1.        ,\n",
              "       1.        , 1.        , 0.71428571, 0.71428571, 0.85714286])"
            ]
          },
          "metadata": {},
          "execution_count": 32
        }
      ]
    },
    {
      "cell_type": "code",
      "source": [
        "sum(Val_Cruzada) / 100"
      ],
      "metadata": {
        "colab": {
          "base_uri": "https://localhost:8080/"
        },
        "id": "KDHsfkBtdauq",
        "outputId": "72dbc274-a15c-49f6-bbeb-a929e2d93991"
      },
      "execution_count": 33,
      "outputs": [
        {
          "output_type": "execute_result",
          "data": {
            "text/plain": [
              "0.7766071428571425"
            ]
          },
          "metadata": {},
          "execution_count": 33
        }
      ]
    },
    {
      "cell_type": "code",
      "source": [
        "len(Var_Caracteristicas) / 100"
      ],
      "metadata": {
        "colab": {
          "base_uri": "https://localhost:8080/"
        },
        "id": "yfpjg4cqdef7",
        "outputId": "575fb9b8-e995-4cbc-c0dc-1c8a1864374b"
      },
      "execution_count": 34,
      "outputs": [
        {
          "output_type": "execute_result",
          "data": {
            "text/plain": [
              "7.68"
            ]
          },
          "metadata": {},
          "execution_count": 34
        }
      ]
    },
    {
      "cell_type": "code",
      "source": [
        "# Arvore Decisão \n",
        "from sklearn.ensemble import RandomForestClassifier\n",
        "\n",
        "Modelo_Floresta = RandomForestClassifier( max_depth=3 )\n",
        "\n",
        "Modelo_Floresta.fit( x_treino, y_treino )"
      ],
      "metadata": {
        "colab": {
          "base_uri": "https://localhost:8080/"
        },
        "id": "hVNhtj7kdhMd",
        "outputId": "7f9b1d88-8c0e-4d31-844d-b0a32e110410"
      },
      "execution_count": 35,
      "outputs": [
        {
          "output_type": "execute_result",
          "data": {
            "text/plain": [
              "RandomForestClassifier(max_depth=3)"
            ]
          },
          "metadata": {},
          "execution_count": 35
        }
      ]
    },
    {
      "cell_type": "code",
      "source": [
        "Previsoes_Arvore = Modelo_Floresta.predict( x_teste )\n",
        "\n",
        "print( classification_report(y_teste, Previsoes_Arvore ) )"
      ],
      "metadata": {
        "colab": {
          "base_uri": "https://localhost:8080/"
        },
        "id": "LP1yDDHndjQ5",
        "outputId": "c924f597-a3ba-4de6-83db-5fed70956d8c"
      },
      "execution_count": 36,
      "outputs": [
        {
          "output_type": "stream",
          "name": "stdout",
          "text": [
            "              precision    recall  f1-score   support\n",
            "\n",
            "           0       0.72      0.96      0.82        95\n",
            "           1       0.86      0.41      0.55        59\n",
            "\n",
            "    accuracy                           0.75       154\n",
            "   macro avg       0.79      0.68      0.69       154\n",
            "weighted avg       0.77      0.75      0.72       154\n",
            "\n"
          ]
        }
      ]
    },
    {
      "cell_type": "code",
      "source": [
        "# SCM\n",
        "from sklearn import svm\n",
        "\n",
        "Modelo_SVM = svm.SVC()\n",
        "\n",
        "Modelo_SVM.fit( x_teste, y_teste )"
      ],
      "metadata": {
        "colab": {
          "base_uri": "https://localhost:8080/"
        },
        "id": "6swcWAB2dlko",
        "outputId": "90ecf5fa-11b9-4021-d3e9-96eff9fcf506"
      },
      "execution_count": 37,
      "outputs": [
        {
          "output_type": "execute_result",
          "data": {
            "text/plain": [
              "SVC()"
            ]
          },
          "metadata": {},
          "execution_count": 37
        }
      ]
    },
    {
      "cell_type": "code",
      "source": [
        "Previsoes_SVM = Modelo_SVM.predict( x_teste )\n",
        "\n",
        "print( classification_report(y_teste, Previsoes_SVM ) )"
      ],
      "metadata": {
        "colab": {
          "base_uri": "https://localhost:8080/"
        },
        "id": "4RKVSspZdoQX",
        "outputId": "5bd8431f-8626-494a-934f-bf0b7cd7e975"
      },
      "execution_count": 38,
      "outputs": [
        {
          "output_type": "stream",
          "name": "stdout",
          "text": [
            "              precision    recall  f1-score   support\n",
            "\n",
            "           0       0.75      0.93      0.83        95\n",
            "           1       0.81      0.49      0.61        59\n",
            "\n",
            "    accuracy                           0.76       154\n",
            "   macro avg       0.78      0.71      0.72       154\n",
            "weighted avg       0.77      0.76      0.74       154\n",
            "\n"
          ]
        }
      ]
    },
    {
      "cell_type": "markdown",
      "source": [
        "Balanço\n",
        "\n",
        "Regressão: 0.77 (gol)\n",
        "\n",
        "Floresta: 0.76\n",
        "\n",
        "SVM: 0.76"
      ],
      "metadata": {
        "id": "Asxj036EdvCf"
      }
    },
    {
      "cell_type": "code",
      "source": [
        "# Rede Neural\n",
        "from sklearn.neural_network import MLPClassifier"
      ],
      "metadata": {
        "id": "EGDlbx4adtLC"
      },
      "execution_count": 40,
      "outputs": []
    },
    {
      "cell_type": "code",
      "source": [
        "clf = MLPClassifier()\n",
        "clf.fit(x_treino, y_treino)"
      ],
      "metadata": {
        "colab": {
          "base_uri": "https://localhost:8080/"
        },
        "id": "TTnBZ8HRd3pb",
        "outputId": "a0c4dc9f-d199-4a84-d9b6-5e8b9a0ff3c9"
      },
      "execution_count": 41,
      "outputs": [
        {
          "output_type": "execute_result",
          "data": {
            "text/plain": [
              "MLPClassifier()"
            ]
          },
          "metadata": {},
          "execution_count": 41
        }
      ]
    },
    {
      "cell_type": "code",
      "source": [
        "Previoes_Rede_Neural = clf.predict( x_teste )\n",
        "\n",
        "print( classification_report(y_teste, Previoes_Rede_Neural ) )"
      ],
      "metadata": {
        "id": "Eu15wQfYd5qW",
        "outputId": "8cec3f08-9180-42fc-c419-99e9bea9ba85",
        "colab": {
          "base_uri": "https://localhost:8080/"
        }
      },
      "execution_count": 42,
      "outputs": [
        {
          "output_type": "stream",
          "name": "stdout",
          "text": [
            "              precision    recall  f1-score   support\n",
            "\n",
            "           0       0.70      0.79      0.74        95\n",
            "           1       0.57      0.46      0.51        59\n",
            "\n",
            "    accuracy                           0.66       154\n",
            "   macro avg       0.64      0.62      0.63       154\n",
            "weighted avg       0.65      0.66      0.65       154\n",
            "\n"
          ]
        }
      ]
    }
  ]
}