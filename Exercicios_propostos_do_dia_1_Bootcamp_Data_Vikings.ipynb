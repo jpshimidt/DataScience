{
  "nbformat": 4,
  "nbformat_minor": 0,
  "metadata": {
    "colab": {
      "name": "Exercicios propostos do dia 1 - Bootcamp Data Vikings.ipynb",
      "provenance": [],
      "authorship_tag": "ABX9TyOBWTklCyf/mOt3cpV+TMJR",
      "include_colab_link": true
    },
    "kernelspec": {
      "name": "python3",
      "display_name": "Python 3"
    },
    "language_info": {
      "name": "python"
    }
  },
  "cells": [
    {
      "cell_type": "markdown",
      "metadata": {
        "id": "view-in-github",
        "colab_type": "text"
      },
      "source": [
        "<a href=\"https://colab.research.google.com/github/jpshimidt/DataScience/blob/main/Exercicios_propostos_do_dia_1_Bootcamp_Data_Vikings.ipynb\" target=\"_parent\"><img src=\"https://colab.research.google.com/assets/colab-badge.svg\" alt=\"Open In Colab\"/></a>"
      ]
    },
    {
      "cell_type": "markdown",
      "source": [
        "#Exercicios propostos do dia 1 - Bootcamp Data Vikings"
      ],
      "metadata": {
        "id": "089Xbo_SSXQq"
      }
    },
    {
      "cell_type": "markdown",
      "source": [
        "##Exercicio 1 - Bem vindo ao usuário"
      ],
      "metadata": {
        "id": "-c2ZO7NHSf3R"
      }
    },
    {
      "cell_type": "code",
      "execution_count": 2,
      "metadata": {
        "colab": {
          "base_uri": "https://localhost:8080/"
        },
        "id": "8CW-uzoGSVvv",
        "outputId": "077538d3-3f06-40db-e382-1df610f0570e"
      },
      "outputs": [
        {
          "output_type": "stream",
          "name": "stdout",
          "text": [
            "Olá, qual é o seu nome? Joao\n",
            "E seu sobrenome? Pedro\n",
            "Bem-vindo Joao Pedro!\n"
          ]
        }
      ],
      "source": [
        "# input do nome e sobrenome\n",
        "Nome = input('Olá, qual é o seu nome? ')\n",
        "Sobrenome = input('E seu sobrenome? ')\n",
        "\n",
        "#Impressao da mensagem de retorno\n",
        "print('Bem-vindo, ' + Nome + ' ' + Sobrenome + '!')"
      ]
    },
    {
      "cell_type": "markdown",
      "source": [
        "##Exercicio 2 - Dividindo valores"
      ],
      "metadata": {
        "id": "aS8pKIt9T0aH"
      }
    },
    {
      "cell_type": "code",
      "source": [
        "# input dos valores\n",
        "PrimeiroNumero= float(input('Olá, me diga um número: '))\n",
        "SegundoNumero = float(input('E um outro número: '))\n",
        "\n",
        "#Divisao dos números\n",
        "ResultadoDivisao = PrimeiroNumero/SegundoNumero\n",
        "\n",
        "#Impressao da mensagem de retorno\n",
        "print('O resultado da divisão de ' , PrimeiroNumero , ' por ' , SegundoNumero , ' é ' , round(ResultadoDivisao,2))"
      ],
      "metadata": {
        "colab": {
          "base_uri": "https://localhost:8080/"
        },
        "id": "b32IsoEVTjv0",
        "outputId": "cd7adddd-bedb-4efd-81c7-4a91fef162c4"
      },
      "execution_count": 9,
      "outputs": [
        {
          "output_type": "stream",
          "name": "stdout",
          "text": [
            "Olá, me diga um número: 79\n",
            "E um outro número: 9\n",
            "O resultado da divisão de  79.0  por  9.0  é  8.78\n"
          ]
        }
      ]
    },
    {
      "cell_type": "markdown",
      "source": [
        "##Exercicio 3 - Concatenar informacoes"
      ],
      "metadata": {
        "id": "K0suNe0hW38n"
      }
    },
    {
      "cell_type": "code",
      "source": [
        "# input do nome e sobrenome\n",
        "PrimeiroValor = str(input('Digite algum valor: '))\n",
        "SegundoValor = str(input('Digite outro valor: '))\n",
        "\n",
        "#Impressao da mensagem de retorno\n",
        "print('Tipo da informacao é ' + PrimeiroValor + SegundoValor)"
      ],
      "metadata": {
        "colab": {
          "base_uri": "https://localhost:8080/"
        },
        "id": "1RbPkyiiUvJ3",
        "outputId": "15730fa6-f543-4d54-d5c4-67fb356420b7"
      },
      "execution_count": 10,
      "outputs": [
        {
          "output_type": "stream",
          "name": "stdout",
          "text": [
            "Digite algum valor: 789\n",
            "Digite outro valor: hihi\n",
            "Tipo da informacao é 789hihi\n"
          ]
        }
      ]
    },
    {
      "cell_type": "markdown",
      "source": [
        "##Exercicio 4 - Sistema educacional"
      ],
      "metadata": {
        "id": "oWLYxJRap9WS"
      }
    },
    {
      "cell_type": "code",
      "source": [
        "# input das notas\n",
        "PrimeiraNota = float(input('Olá, sua nota da primeira prova: '))\n",
        "SegundaNota = float(input('E na segunda prova: '))\n",
        "TerceiraNota = float(input('Terceira prova: '))\n",
        "QuartaNota = float(input('E na quarta prova: '))\n",
        "\n",
        "#Calculo da média\n",
        "MediaDasNotas = (PrimeiraNota + SegundaNota + TerceiraNota + QuartaNota) / 4\n",
        "\n",
        "#Impressao da mensagem de retorno\n",
        "print('A média das notas é: ', round(MediaDasNotas,2))"
      ],
      "metadata": {
        "colab": {
          "base_uri": "https://localhost:8080/"
        },
        "id": "mshZzExOnb9L",
        "outputId": "fa8c5c8d-ad5f-4b70-a76f-4e7b2ce101ab"
      },
      "execution_count": 11,
      "outputs": [
        {
          "output_type": "stream",
          "name": "stdout",
          "text": [
            "Olá, sua nota da primeira prova: 5\n",
            "E na segunda prova: 6\n",
            "Terceira prova: 7\n",
            "E na quarta prova: 5\n",
            "A média das notas é:  5.75\n"
          ]
        }
      ]
    },
    {
      "cell_type": "markdown",
      "source": [
        "##Exercicio 5 - Conversor de medidas"
      ],
      "metadata": {
        "id": "JgNY7NGVrbIi"
      }
    },
    {
      "cell_type": "code",
      "source": [
        "# input do valor\n",
        "DistanciaMetros = float(input('Digite uma distância em metros: '))\n",
        "\n",
        "#Conversao em cm\n",
        "DistanciaCentimetros = DistanciaMetros * 100\n",
        "\n",
        "#Conversao em mm\n",
        "DistanciaMilimetros = DistanciaMetros * 1000\n",
        "\n",
        "#Impressao da mensagem de retorno\n",
        "print('A distância em cm: ', DistanciaCentimetros, 'cm')\n",
        "print('A distância em mm: ', DistanciaMilimetros, 'mm')"
      ],
      "metadata": {
        "colab": {
          "base_uri": "https://localhost:8080/"
        },
        "id": "mcgIF2kxrUJn",
        "outputId": "7e761e06-54a0-4145-f1fd-8578f961729a"
      },
      "execution_count": 12,
      "outputs": [
        {
          "output_type": "stream",
          "name": "stdout",
          "text": [
            "Digite uma distância em metros: 50\n",
            "A distância em cm:  5000.0 cm\n",
            "A distância em mm:  50000.0 mm\n"
          ]
        }
      ]
    },
    {
      "cell_type": "markdown",
      "source": [
        "##Exercicio 6 - Tabuada"
      ],
      "metadata": {
        "id": "w2hyL6mYu6iX"
      }
    },
    {
      "cell_type": "code",
      "source": [
        "# input do valor\n",
        "NumeroTabuada = float(input('Digite um valor ser calculado a tabuada: '))\n",
        "\n",
        "for i in range(11) :\n",
        "  print( NumeroTabuada, ' X ', i, ' = ', (NumeroTabuada*i) )"
      ],
      "metadata": {
        "colab": {
          "base_uri": "https://localhost:8080/"
        },
        "id": "K_pyvSZhupNm",
        "outputId": "feba79be-751f-4d7f-a7c1-2714bd89e0db"
      },
      "execution_count": 14,
      "outputs": [
        {
          "output_type": "stream",
          "name": "stdout",
          "text": [
            "Digite um valor ser calculado a tabuada: 13\n",
            "13.0  X  0  =  0.0\n",
            "13.0  X  1  =  13.0\n",
            "13.0  X  2  =  26.0\n",
            "13.0  X  3  =  39.0\n",
            "13.0  X  4  =  52.0\n",
            "13.0  X  5  =  65.0\n",
            "13.0  X  6  =  78.0\n",
            "13.0  X  7  =  91.0\n",
            "13.0  X  8  =  104.0\n",
            "13.0  X  9  =  117.0\n",
            "13.0  X  10  =  130.0\n"
          ]
        }
      ]
    },
    {
      "cell_type": "markdown",
      "source": [
        "##Exercicio 7 - Conversor de moeda"
      ],
      "metadata": {
        "id": "yrkOMGPswv43"
      }
    },
    {
      "cell_type": "code",
      "source": [
        "# input do valor\n",
        "Reais = float(input('Quantos Reais você deseja converter: '))\n",
        "\n",
        "#Conversao Reais em Dolar\n",
        "Dolar = Reais / 5.6\n",
        "\n",
        "#Conversao Reias em Euro\n",
        "Euro = Reais / 6.2\n",
        "\n",
        "#Impressao da mensagem de retorno\n",
        "print('Em Dolares daria: $', round(Dolar,2))\n",
        "print('Em Euros daria: €', round(Euro,2))"
      ],
      "metadata": {
        "colab": {
          "base_uri": "https://localhost:8080/"
        },
        "id": "iXa756dFwD5t",
        "outputId": "15c01b30-ba16-4d21-ba47-f34b423b67c8"
      },
      "execution_count": 17,
      "outputs": [
        {
          "output_type": "stream",
          "name": "stdout",
          "text": [
            "Quantos Reais você deseja converter: 100\n",
            "Em Dolares daria: $ 17.86\n",
            "Em Euros daria: € 16.13\n"
          ]
        }
      ]
    },
    {
      "cell_type": "markdown",
      "source": [
        "##Exercicio 8 - Sorteando um valor"
      ],
      "metadata": {
        "id": "coSn-xb_0Gre"
      }
    },
    {
      "cell_type": "code",
      "source": [
        "# Declaracao da lista\n",
        "Participantes = []\n",
        "\n",
        "# Laco de repeticao para popular a lista\n",
        "for i in range(4) :\n",
        " lista = input('Participante: ')\n",
        " Participantes.append(lista)\n",
        "\n",
        "# Importar Lib random\n",
        "import random \n",
        "\n",
        "# Sorteio de um partipante na lista\n",
        "print('Sorteado foi: ', random.choice(Participantes))\n"
      ],
      "metadata": {
        "colab": {
          "base_uri": "https://localhost:8080/"
        },
        "id": "t_UIQmCgyy3W",
        "outputId": "afbdf288-ce08-4a2b-9990-ec37a9085018"
      },
      "execution_count": 42,
      "outputs": [
        {
          "output_type": "stream",
          "name": "stdout",
          "text": [
            "Participante: Joao\n",
            "Participante: Pedro\n",
            "Participante: Katia\n",
            "Participante: Valeria\n",
            "Sorteado foi:  Pedro\n"
          ]
        }
      ]
    },
    {
      "cell_type": "markdown",
      "source": [
        "##Exercicio 9 - Ordenando de forma aleatória uma lista"
      ],
      "metadata": {
        "id": "E19jcZwyCKXe"
      }
    },
    {
      "cell_type": "code",
      "source": [
        "# Declaracao da lista\n",
        "Pessoas = []\n",
        "\n",
        "# Laco de repeticao para popular a lista\n",
        "for i in range(4) :\n",
        " lista = input('Participante: ')\n",
        " Pessoas.append(lista)\n",
        "\n",
        "# Importar Lib random\n",
        "import random \n",
        "\n",
        "# Ordenacao aleatória da lista\n",
        "random.shuffle(Pessoas)\n",
        "\n",
        "# Sorteio de um partipante na lista\n",
        "print('A lista ordenada de forma aleatória é: ', Pessoas)"
      ],
      "metadata": {
        "colab": {
          "base_uri": "https://localhost:8080/"
        },
        "id": "8PjZu3FQ1ov3",
        "outputId": "04a8bb5f-5ad2-4db7-cc62-c353caba8692"
      },
      "execution_count": 45,
      "outputs": [
        {
          "output_type": "stream",
          "name": "stdout",
          "text": [
            "Participante: Ana\n",
            "Participante: Luis\n",
            "Participante: Pedro\n",
            "Participante: Mariana\n",
            "A lista ordenada de forma aleatória é:  ['Ana', 'Luis', 'Mariana', 'Pedro']\n"
          ]
        }
      ]
    },
    {
      "cell_type": "markdown",
      "source": [
        "## Exercício 10 - Formulário de cadastro"
      ],
      "metadata": {
        "id": "WWe-yI4IJLi0"
      }
    },
    {
      "cell_type": "code",
      "source": [
        "# input dos dados\n",
        "PrimeiroNome = input('Primeiro nome: ')\n",
        "Sobrenome = input('Sobrenome: ')\n",
        "Sexo = input('Sexo (F/M): ')\n",
        "Idade = input('Idade: ')\n",
        "Endereco = input('Endereco: ')\n",
        "Numero = input('Numero: ')\n",
        "Bairro = input('Bairro: ')\n",
        "Cidade = input('Cidade: ')\n",
        "Estado = input('Estado: ')\n",
        "CEP = input('CEP: ')\n",
        "\n",
        "#Dicionario\n",
        "DadosCadastrais = {\n",
        "    'Nome' : PrimeiroNome,\n",
        "    'Sobrenome' : Sobrenome,\n",
        "    'Sexo' : Sexo,\n",
        "    'Idade' : Idade,\n",
        "    'Endereço' : Endereco,\n",
        "    'Número': Numero,\n",
        "    'Bairro' : Bairro,\n",
        "    'Cidade' : Cidade,\n",
        "    'Estado' : Estado,\n",
        "    'CEP' : CEP\n",
        "}\n",
        "\n",
        "#Impressao da mensagem de retorno\n",
        "print('Dados informados: ', DadosCadastrais)"
      ],
      "metadata": {
        "colab": {
          "base_uri": "https://localhost:8080/"
        },
        "id": "VSPIcF4yFDC_",
        "outputId": "a22857bb-f70f-4508-9dd0-59754170be5d"
      },
      "execution_count": 47,
      "outputs": [
        {
          "output_type": "stream",
          "name": "stdout",
          "text": [
            "Primeiro nome: Joao\n",
            "Sobrenome: Pedro\n",
            "Sexo (F/M): M\n",
            "Idade: 25\n",
            "Endereco: Rua Borges\n",
            "Numero: 509\n",
            "Bairro: Parada Inglesa\n",
            "Cidade: Sao Paulo\n",
            "Estado: SP\n",
            "CEP: 02247010\n",
            "Dados informados:  {'Nome': 'Joao', 'Sobrenome': 'Pedro', 'Sexo': 'M', 'Idade': '25', 'Endereço': 'Rua Borges', 'Número': '509', 'Bairro': 'Parada Inglesa', 'Cidade': 'Sao Paulo', 'Estado': 'SP', 'CEP': '02247010'}\n"
          ]
        }
      ]
    },
    {
      "cell_type": "code",
      "source": [
        ""
      ],
      "metadata": {
        "id": "XWtWeWyXQHrk"
      },
      "execution_count": null,
      "outputs": []
    }
  ]
}